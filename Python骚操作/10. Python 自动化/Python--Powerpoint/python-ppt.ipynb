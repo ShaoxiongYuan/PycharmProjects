{
 "cells": [
  {
   "cell_type": "code",
   "execution_count": 2,
   "metadata": {},
   "outputs": [
    {
     "name": "stdout",
     "output_type": "stream",
     "text": [
      "<pptx.slide.Slide object at 0x00000196CC29D408>\n",
      "<pptx.slide.Slide object at 0x00000196CC29D318>\n",
      "<pptx.slide.Slide object at 0x00000196CC29D3B8>\n",
      "<pptx.slide.Slide object at 0x00000196CC29D458>\n",
      "<pptx.slide.Slide object at 0x00000196CC29D4A8>\n",
      "<pptx.slide.Slide object at 0x00000196CC29D4F8>\n",
      "<pptx.slide.Slide object at 0x00000196CC29D548>\n",
      "<pptx.slide.Slide object at 0x00000196CC29D598>\n",
      "<pptx.slide.Slide object at 0x00000196CC29D5E8>\n",
      "<pptx.slide.Slide object at 0x00000196CC29D638>\n",
      "<pptx.slide.Slide object at 0x00000196CC29D688>\n",
      "<pptx.slide.Slide object at 0x00000196CC29D6D8>\n",
      "<pptx.slide.Slide object at 0x00000196CC29D728>\n",
      "<pptx.slide.Slide object at 0x00000196CC29D778>\n",
      "<pptx.slide.Slide object at 0x00000196CC29D7C8>\n",
      "<pptx.slide.Slide object at 0x00000196CC29D818>\n",
      "<pptx.slide.Slide object at 0x00000196CC29D868>\n"
     ]
    }
   ],
   "source": [
    "from pptx import Presentation\n",
    "\n",
    "prs = Presentation(\"Product Name].pptx\")\n",
    "for slide in prs.slides:\n",
    "    print(slide)"
   ]
  },
  {
   "cell_type": "code",
   "execution_count": 4,
   "metadata": {},
   "outputs": [
    {
     "name": "stdout",
     "output_type": "stream",
     "text": [
      "<pptx.shapes.placeholder.SlidePlaceholder object at 0x00000196C889B5C8>\n",
      "<pptx.shapes.placeholder.SlidePlaceholder object at 0x00000196CC29E548>\n",
      "<pptx.shapes.placeholder.SlidePlaceholder object at 0x00000196C889B5C8>\n",
      "<pptx.shapes.placeholder.SlidePlaceholder object at 0x00000196CC29E5C8>\n",
      "<pptx.shapes.autoshape.Shape object at 0x00000196C889B5C8>\n",
      "<pptx.shapes.autoshape.Shape object at 0x00000196CC2A4DC8>\n",
      "<pptx.shapes.autoshape.Shape object at 0x00000196C889B5C8>\n",
      "<pptx.shapes.autoshape.Shape object at 0x00000196CC2A4DC8>\n",
      "<pptx.shapes.autoshape.Shape object at 0x00000196C889B5C8>\n",
      "<pptx.shapes.autoshape.Shape object at 0x00000196CC2A4DC8>\n",
      "<pptx.shapes.autoshape.Shape object at 0x00000196C889B5C8>\n",
      "<pptx.shapes.autoshape.Shape object at 0x00000196CC2A4DC8>\n",
      "<pptx.shapes.autoshape.Shape object at 0x00000196C889B5C8>\n",
      "<pptx.shapes.autoshape.Shape object at 0x00000196CC2A4DC8>\n",
      "<pptx.shapes.autoshape.Shape object at 0x00000196C889B5C8>\n",
      "<pptx.shapes.placeholder.SlidePlaceholder object at 0x00000196CC2A4DC8>\n",
      "<pptx.shapes.placeholder.SlidePlaceholder object at 0x00000196C889B5C8>\n",
      "<pptx.shapes.placeholder.SlidePlaceholder object at 0x00000196CC2A4DC8>\n",
      "<pptx.shapes.placeholder.SlidePlaceholder object at 0x00000196C889B5C8>\n",
      "<pptx.shapes.group.GroupShape object at 0x00000196CC2A4DC8>\n",
      "<pptx.shapes.placeholder.SlidePlaceholder object at 0x00000196C889B5C8>\n",
      "<pptx.shapes.placeholder.SlidePlaceholder object at 0x00000196CC2A4DC8>\n",
      "<pptx.shapes.placeholder.SlidePlaceholder object at 0x00000196C889B5C8>\n",
      "<pptx.shapes.placeholder.SlidePlaceholder object at 0x00000196CC2A4DC8>\n",
      "<pptx.shapes.placeholder.SlidePlaceholder object at 0x00000196C889B5C8>\n",
      "<pptx.shapes.placeholder.SlidePlaceholder object at 0x00000196CC2A4DC8>\n",
      "<pptx.shapes.placeholder.SlidePlaceholder object at 0x00000196C889B5C8>\n",
      "<pptx.shapes.placeholder.SlidePlaceholder object at 0x00000196CC2A4DC8>\n",
      "<pptx.shapes.group.GroupShape object at 0x00000196C889B5C8>\n",
      "<pptx.shapes.placeholder.SlidePlaceholder object at 0x00000196CC2A4DC8>\n",
      "<pptx.shapes.placeholder.SlidePlaceholder object at 0x00000196C889B5C8>\n",
      "<pptx.shapes.placeholder.SlidePlaceholder object at 0x00000196CC2A4DC8>\n",
      "<pptx.shapes.placeholder.SlidePlaceholder object at 0x00000196C889B5C8>\n",
      "<pptx.shapes.placeholder.SlidePlaceholder object at 0x00000196CC2A4DC8>\n",
      "<pptx.shapes.placeholder.SlidePlaceholder object at 0x00000196C889B5C8>\n",
      "<pptx.shapes.placeholder.SlidePlaceholder object at 0x00000196CC2A4DC8>\n",
      "<pptx.shapes.placeholder.SlidePlaceholder object at 0x00000196C889B5C8>\n",
      "<pptx.shapes.placeholder.SlidePlaceholder object at 0x00000196CC2A4DC8>\n",
      "<pptx.shapes.placeholder.SlidePlaceholder object at 0x00000196C889B5C8>\n",
      "<pptx.shapes.placeholder.SlidePlaceholder object at 0x00000196CC2A4DC8>\n",
      "<pptx.shapes.placeholder.SlidePlaceholder object at 0x00000196C889B5C8>\n",
      "<pptx.shapes.placeholder.SlidePlaceholder object at 0x00000196CC2A4DC8>\n",
      "<pptx.shapes.placeholder.SlidePlaceholder object at 0x00000196C889B5C8>\n",
      "<pptx.shapes.placeholder.SlidePlaceholder object at 0x00000196CC2A4DC8>\n",
      "<pptx.shapes.placeholder.SlidePlaceholder object at 0x00000196C889B5C8>\n",
      "<pptx.shapes.placeholder.SlidePlaceholder object at 0x00000196CC2A4DC8>\n",
      "<pptx.shapes.placeholder.SlidePlaceholder object at 0x00000196C889B5C8>\n",
      "<pptx.shapes.group.GroupShape object at 0x00000196CC2A4DC8>\n"
     ]
    }
   ],
   "source": [
    "import pptx\n",
    "from pptx import Presentation\n",
    "\n",
    "prs = Presentation(\"Product Name].pptx\")\n",
    "for slide in prs.slides:\n",
    "    for shape in slide.shapes:\n",
    "        print(shape)"
   ]
  },
  {
   "cell_type": "code",
   "execution_count": 5,
   "metadata": {
    "scrolled": true
   },
   "outputs": [
    {
     "name": "stdout",
     "output_type": "stream",
     "text": [
      "[Product Name]\u000b",
      "Marketing Plan\n",
      "[Name]\n",
      "\n",
      "Market Summary\n",
      "Market: past, present, & future\n",
      "Review changes in market share, leadership, players, market shifts, costs, pricing, competition\n",
      "\n",
      "\n",
      "\n",
      "\n",
      "\n",
      "\n",
      "Early Adopters/\n",
      "Pioneers\n",
      "Mass Market/\u000b",
      "Followers\n",
      "End of Life\n",
      "Time\n",
      "Number \n",
      "of\u000b",
      "customers\n",
      "Product Definition\n",
      "Describe product/service being marketed\n",
      "Competition\n",
      "The competitive landscape\n",
      "Provide an overview of product competitors, their strengths and weaknesses\n",
      "Position each competitor’s product against new product\n",
      "Positioning\n",
      "Positioning of product or service\n",
      "Statement that distinctly defines the product in its market and against its competition over time\n",
      "Consumer promise\n",
      "Statement summarizing the benefit of the product or service to the consumer\n",
      "Communication Strategies\n",
      "Messaging by audience\n",
      "Target consumer demographics\n",
      "Packaging & Fulfillment\n",
      "Product packaging\n",
      "Discuss form-factor, pricing, look, strategy\n",
      "Discuss fulfillment issues for items not shipped directly with product\n",
      "COGs\n",
      "Summarize Cost of Goods and high-level Bill of Materials\n",
      "Launch Strategies\n",
      "Launch plan\n",
      "If product is being announced\n",
      "Promotion budget\n",
      "Supply back-up material with detailed budget information for review\n",
      "Public Relations\n",
      "Strategy & execution\n",
      "PR strategies\n",
      "PR plan highlights\n",
      "Have back-up PR plan, including editorial calendars, speaking engagements, conference schedules, etc.\n",
      "Advertising\n",
      "Strategy & execution\n",
      "Overview of strategy\n",
      "Overview of media & timing\n",
      "Overview of ad spending\n",
      "Other Promotion\n",
      "Direct marketing\n",
      "Overview of strategy, vehicles & timing\n",
      "Overview of response targets, goals & budget\n",
      "Third-party marketing\n",
      "Co-marketing arrangements with other companies\n",
      "Marketing programs\n",
      "Other promotional programs\n",
      "Pricing\n",
      "Pricing\n",
      "Summarize specific pricing or pricing strategies\n",
      "Compare to similar products\n",
      "Policies\n",
      "Summarize policy relevant to understanding key pricing issues\n",
      "Distribution\n",
      "Distribution strategy\n",
      "Channels of distribution\n",
      "Summarize channels of distribution\n",
      "Distribution by channel\n",
      "Show plan of what percent share of distribution will be contributed by each channel -- a pie chart might be helpful\n",
      "Vertical Markets/Segments\n",
      "Vertical market opportunities\n",
      "Discuss specific market segment opportunities\n",
      "Address distribution strategies for those markets or segments\n",
      "Address use of third-party partner role in distribution to vertical markets\n",
      "International\n",
      "International distribution\n",
      "Address distribution strategies\n",
      "Discuss issues specific to international distribution\n",
      "International pricing strategy\n",
      "Localization issues\n",
      "Highlight requirements for local product variations\n",
      "Success Metrics\n",
      "First year goals\n",
      "Additional year goals\n",
      "Measures of success/failure\n",
      "Requirements for success\n",
      "Schedule\n",
      "18-month schedule highlights\n",
      "Timing\n",
      "Isolate timing dependencies critical to success\n"
     ]
    }
   ],
   "source": [
    "import pptx\n",
    "from pptx import Presentation\n",
    "\n",
    "prs = Presentation(\"Product Name].pptx\")\n",
    "for slide in prs.slides:\n",
    "    for shape in slide.shapes:\n",
    "        if shape.has_text_frame:\n",
    "            text_frame = shape.text_frame\n",
    "            print(text_frame.text)"
   ]
  },
  {
   "cell_type": "code",
   "execution_count": 6,
   "metadata": {},
   "outputs": [
    {
     "name": "stdout",
     "output_type": "stream",
     "text": [
      "Communication Strategies\n",
      "Messaging by audience\n",
      "Target consumer demographics\n"
     ]
    }
   ],
   "source": [
    "for i,slide in enumerate(prs.slides):\n",
    "    if i == 5:\n",
    "        for shape in slide.shapes:\n",
    "            if shape.has_text_frame:\n",
    "                text_frame = shape.text_frame\n",
    "                print(text_frame.text)"
   ]
  },
  {
   "cell_type": "code",
   "execution_count": 7,
   "metadata": {},
   "outputs": [
    {
     "name": "stdout",
     "output_type": "stream",
     "text": [
      "Communication Strategies\n",
      "Messaging by audience\n",
      "Target consumer demographics\n"
     ]
    }
   ],
   "source": [
    "for i,slide in enumerate(prs.slides):\n",
    "    if i == 5:\n",
    "        for shape in slide.shapes:\n",
    "            if shape.has_text_frame:\n",
    "                text_frame = shape.text_frame\n",
    "                for paragraph in text_frame.paragraphs:\n",
    "                    print(paragraph.text)"
   ]
  },
  {
   "cell_type": "code",
   "execution_count": 9,
   "metadata": {},
   "outputs": [
    {
     "name": "stdout",
     "output_type": "stream",
     "text": [
      "0--Title 1--CENTER_TITLE (3)\n",
      "1--Subtitle 2--SUBTITLE (4)\n"
     ]
    }
   ],
   "source": [
    "prs = Presentation(\"Product Name].pptx\")\n",
    "# prs.slide_layouts[]表示的是ppt中不同的版式\n",
    "slide = prs.slides.add_slide(prs.slide_layouts[0])\n",
    "for shape in slide.placeholders:\n",
    "    phf = shape.placeholder_format\n",
    "    print(f\"{phf.idx}--{shape.name}--{phf.type}\")\n",
    "    shape.text = f\"{phf.idx}--{shape.name}--{phf.type}\"\n",
    "# 注意：做完这个操作，一定要记得保存一下！\n",
    "prs.save(\"电子奖状模板.pptx\")"
   ]
  },
  {
   "cell_type": "code",
   "execution_count": null,
   "metadata": {},
   "outputs": [],
   "source": []
  }
 ],
 "metadata": {
  "kernelspec": {
   "display_name": "Python 3",
   "language": "python",
   "name": "python3"
  },
  "language_info": {
   "codemirror_mode": {
    "name": "ipython",
    "version": 3
   },
   "file_extension": ".py",
   "mimetype": "text/x-python",
   "name": "python",
   "nbconvert_exporter": "python",
   "pygments_lexer": "ipython3",
   "version": "3.7.7"
  }
 },
 "nbformat": 4,
 "nbformat_minor": 4
}
