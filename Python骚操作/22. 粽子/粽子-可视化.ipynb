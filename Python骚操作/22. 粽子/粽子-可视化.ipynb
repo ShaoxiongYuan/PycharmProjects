{
 "cells": [
  {
   "cell_type": "markdown",
   "metadata": {},
   "source": [
    "## 数据整理"
   ]
  },
  {
   "cell_type": "code",
   "execution_count": 1,
   "metadata": {},
   "outputs": [],
   "source": [
    "# 导包\n",
    "import pandas as pd\n",
    "import numpy as np\n",
    "import re"
   ]
  },
  {
   "cell_type": "code",
   "execution_count": 2,
   "metadata": {},
   "outputs": [
    {
     "data": {
      "text/html": [
       "<div>\n",
       "<style scoped>\n",
       "    .dataframe tbody tr th:only-of-type {\n",
       "        vertical-align: middle;\n",
       "    }\n",
       "\n",
       "    .dataframe tbody tr th {\n",
       "        vertical-align: top;\n",
       "    }\n",
       "\n",
       "    .dataframe thead th {\n",
       "        text-align: right;\n",
       "    }\n",
       "</style>\n",
       "<table border=\"1\" class=\"dataframe\">\n",
       "  <thead>\n",
       "    <tr style=\"text-align: right;\">\n",
       "      <th></th>\n",
       "      <th>商品名</th>\n",
       "      <th>价格</th>\n",
       "      <th>付款人数</th>\n",
       "      <th>店铺</th>\n",
       "      <th>发货地址</th>\n",
       "    </tr>\n",
       "  </thead>\n",
       "  <tbody>\n",
       "    <tr>\n",
       "      <th>0</th>\n",
       "      <td>五芳斋粽子礼盒 心悦+18只装咸鸭蛋组合端午节礼品团购嘉兴肉粽子</td>\n",
       "      <td>129.0</td>\n",
       "      <td>6人付款</td>\n",
       "      <td>五芳斋官方旗舰店</td>\n",
       "      <td>浙江 嘉兴</td>\n",
       "    </tr>\n",
       "    <tr>\n",
       "      <th>1</th>\n",
       "      <td>北京稻香村端午粽子手工豆沙粽220g*2袋散装豆沙粽香甜软糯豆沙粽</td>\n",
       "      <td>44.0</td>\n",
       "      <td>8人付款</td>\n",
       "      <td>天猫超市</td>\n",
       "      <td>上海</td>\n",
       "    </tr>\n",
       "    <tr>\n",
       "      <th>2</th>\n",
       "      <td>五芳斋粽子礼盒装鲜肉咸蛋黄大肉粽嘉兴豆沙甜粽端午团购散装礼品</td>\n",
       "      <td>89.9</td>\n",
       "      <td>100万+人付款</td>\n",
       "      <td>五芳斋官方旗舰店</td>\n",
       "      <td>浙江 嘉兴</td>\n",
       "    </tr>\n",
       "    <tr>\n",
       "      <th>3</th>\n",
       "      <td>稻香私房鲜肉粽蛋黄肉粽嘉兴粽子咸鸭蛋礼盒装端午节送礼特产团购</td>\n",
       "      <td>138.0</td>\n",
       "      <td>1936人付款</td>\n",
       "      <td>稻香村食品旗舰店</td>\n",
       "      <td>北京</td>\n",
       "    </tr>\n",
       "    <tr>\n",
       "      <th>4</th>\n",
       "      <td>嘉兴粽子 蛋黄鲜肉粽新鲜大肉粽早餐散装团购浙江特产蜜枣多口味</td>\n",
       "      <td>3.8</td>\n",
       "      <td>9500+人付款</td>\n",
       "      <td>城城喂食猫</td>\n",
       "      <td>浙江 嘉兴</td>\n",
       "    </tr>\n",
       "    <tr>\n",
       "      <th>5</th>\n",
       "      <td>嘉兴特产粽子礼盒装甜咸粽8粽4味真空手工农家粽端午节团购</td>\n",
       "      <td>58.8</td>\n",
       "      <td>17人付款</td>\n",
       "      <td>chenyan30151467</td>\n",
       "      <td>浙江 嘉兴</td>\n",
       "    </tr>\n",
       "    <tr>\n",
       "      <th>6</th>\n",
       "      <td>五芳斋华礼竹篮礼盒1360g蛋粽组合端午礼品嘉兴粽子礼盒</td>\n",
       "      <td>159.0</td>\n",
       "      <td>1028人付款</td>\n",
       "      <td>天猫超市</td>\n",
       "      <td>上海</td>\n",
       "    </tr>\n",
       "    <tr>\n",
       "      <th>7</th>\n",
       "      <td>五芳斋 140g*8只大粽子 福韵端午豆沙蜜枣蛋黄粽新包装送礼礼盒</td>\n",
       "      <td>79.9</td>\n",
       "      <td>9000+人付款</td>\n",
       "      <td>天猫超市</td>\n",
       "      <td>上海</td>\n",
       "    </tr>\n",
       "    <tr>\n",
       "      <th>8</th>\n",
       "      <td>真真老老嘉情礼盒10粽6蛋1.52kg/盒嘉兴粽子端午节粽子礼盒装</td>\n",
       "      <td>109.0</td>\n",
       "      <td>2117人付款</td>\n",
       "      <td>天猫超市</td>\n",
       "      <td>上海</td>\n",
       "    </tr>\n",
       "    <tr>\n",
       "      <th>9</th>\n",
       "      <td>五芳斋嘉兴粽子新鲜量贩蛋黄肉粽豆沙粽悦喜散装端午特产600g*2袋</td>\n",
       "      <td>59.9</td>\n",
       "      <td>1349人付款</td>\n",
       "      <td>天猫超市</td>\n",
       "      <td>上海</td>\n",
       "    </tr>\n",
       "  </tbody>\n",
       "</table>\n",
       "</div>"
      ],
      "text/plain": [
       "                                 商品名     价格      付款人数               店铺   发货地址\n",
       "0   五芳斋粽子礼盒 心悦+18只装咸鸭蛋组合端午节礼品团购嘉兴肉粽子  129.0      6人付款         五芳斋官方旗舰店  浙江 嘉兴\n",
       "1  北京稻香村端午粽子手工豆沙粽220g*2袋散装豆沙粽香甜软糯豆沙粽   44.0      8人付款             天猫超市     上海\n",
       "2     五芳斋粽子礼盒装鲜肉咸蛋黄大肉粽嘉兴豆沙甜粽端午团购散装礼品   89.9  100万+人付款         五芳斋官方旗舰店  浙江 嘉兴\n",
       "3     稻香私房鲜肉粽蛋黄肉粽嘉兴粽子咸鸭蛋礼盒装端午节送礼特产团购  138.0   1936人付款         稻香村食品旗舰店     北京\n",
       "4     嘉兴粽子 蛋黄鲜肉粽新鲜大肉粽早餐散装团购浙江特产蜜枣多口味    3.8  9500+人付款            城城喂食猫  浙江 嘉兴\n",
       "5       嘉兴特产粽子礼盒装甜咸粽8粽4味真空手工农家粽端午节团购   58.8     17人付款  chenyan30151467  浙江 嘉兴\n",
       "6       五芳斋华礼竹篮礼盒1360g蛋粽组合端午礼品嘉兴粽子礼盒  159.0   1028人付款             天猫超市     上海\n",
       "7  五芳斋 140g*8只大粽子 福韵端午豆沙蜜枣蛋黄粽新包装送礼礼盒   79.9  9000+人付款             天猫超市     上海\n",
       "8  真真老老嘉情礼盒10粽6蛋1.52kg/盒嘉兴粽子端午节粽子礼盒装  109.0   2117人付款             天猫超市     上海\n",
       "9  五芳斋嘉兴粽子新鲜量贩蛋黄肉粽豆沙粽悦喜散装端午特产600g*2袋   59.9   1349人付款             天猫超市     上海"
      ]
     },
     "execution_count": 2,
     "metadata": {},
     "output_type": "execute_result"
    }
   ],
   "source": [
    "# 导入爬取得到的数据\n",
    "df = pd.read_csv(\"粽子.csv\", engine='python', encoding='utf-8-sig', header=None)\n",
    "df.columns = [\"商品名\", \"价格\", \"付款人数\", \"店铺\", \"发货地址\"]\n",
    "df.head(10)"
   ]
  },
  {
   "cell_type": "code",
   "execution_count": 3,
   "metadata": {},
   "outputs": [],
   "source": [
    "# 去除重复值\n",
    "df.drop_duplicates(inplace=True)"
   ]
  },
  {
   "cell_type": "code",
   "execution_count": 4,
   "metadata": {},
   "outputs": [],
   "source": [
    "# 处理购买人数为空的记录\n",
    "df['付款人数']=df['付款人数'].replace(np.nan,'0人付款')"
   ]
  },
  {
   "cell_type": "code",
   "execution_count": 5,
   "metadata": {},
   "outputs": [],
   "source": [
    "# 提取数值\n",
    "df['num'] = [re.findall(r'(\\d+\\.{0,1}\\d*)', i)[0] for i in df['付款人数']]  # 提取数值\n",
    "df['num'] = df['num'].astype('float')  # 转化数值型\n",
    "# 提取单位（万）\n",
    "df['unit'] = [''.join(re.findall(r'(万)', i)) for i in df['付款人数']]  # 提取单位（万）\n",
    "df['unit'] = df['unit'].apply(lambda x:10000 if x=='万' else 1)\n",
    "# 计算销量\n",
    "df['销量'] = df['num'] * df['unit']"
   ]
  },
  {
   "cell_type": "code",
   "execution_count": 6,
   "metadata": {},
   "outputs": [],
   "source": [
    "# 删除无发货地址的商品，并提取省份\n",
    "df = df[df['发货地址'].notna()]\n",
    "df['省份'] = df['发货地址'].str.split(' ').apply(lambda x:x[0])"
   ]
  },
  {
   "cell_type": "code",
   "execution_count": 7,
   "metadata": {},
   "outputs": [
    {
     "data": {
      "text/html": [
       "<div>\n",
       "<style scoped>\n",
       "    .dataframe tbody tr th:only-of-type {\n",
       "        vertical-align: middle;\n",
       "    }\n",
       "\n",
       "    .dataframe tbody tr th {\n",
       "        vertical-align: top;\n",
       "    }\n",
       "\n",
       "    .dataframe thead th {\n",
       "        text-align: right;\n",
       "    }\n",
       "</style>\n",
       "<table border=\"1\" class=\"dataframe\">\n",
       "  <thead>\n",
       "    <tr style=\"text-align: right;\">\n",
       "      <th></th>\n",
       "      <th>商品名</th>\n",
       "      <th>价格</th>\n",
       "      <th>店铺</th>\n",
       "      <th>销量</th>\n",
       "      <th>省份</th>\n",
       "    </tr>\n",
       "  </thead>\n",
       "  <tbody>\n",
       "    <tr>\n",
       "      <th>0</th>\n",
       "      <td>五芳斋粽子礼盒 心悦+18只装咸鸭蛋组合端午节礼品团购嘉兴肉粽子</td>\n",
       "      <td>129.0</td>\n",
       "      <td>五芳斋官方旗舰店</td>\n",
       "      <td>6.0</td>\n",
       "      <td>浙江</td>\n",
       "    </tr>\n",
       "    <tr>\n",
       "      <th>1</th>\n",
       "      <td>北京稻香村端午粽子手工豆沙粽220g*2袋散装豆沙粽香甜软糯豆沙粽</td>\n",
       "      <td>44.0</td>\n",
       "      <td>天猫超市</td>\n",
       "      <td>8.0</td>\n",
       "      <td>上海</td>\n",
       "    </tr>\n",
       "    <tr>\n",
       "      <th>2</th>\n",
       "      <td>五芳斋粽子礼盒装鲜肉咸蛋黄大肉粽嘉兴豆沙甜粽端午团购散装礼品</td>\n",
       "      <td>89.9</td>\n",
       "      <td>五芳斋官方旗舰店</td>\n",
       "      <td>1000000.0</td>\n",
       "      <td>浙江</td>\n",
       "    </tr>\n",
       "    <tr>\n",
       "      <th>3</th>\n",
       "      <td>稻香私房鲜肉粽蛋黄肉粽嘉兴粽子咸鸭蛋礼盒装端午节送礼特产团购</td>\n",
       "      <td>138.0</td>\n",
       "      <td>稻香村食品旗舰店</td>\n",
       "      <td>1936.0</td>\n",
       "      <td>北京</td>\n",
       "    </tr>\n",
       "    <tr>\n",
       "      <th>4</th>\n",
       "      <td>嘉兴粽子 蛋黄鲜肉粽新鲜大肉粽早餐散装团购浙江特产蜜枣多口味</td>\n",
       "      <td>3.8</td>\n",
       "      <td>城城喂食猫</td>\n",
       "      <td>9500.0</td>\n",
       "      <td>浙江</td>\n",
       "    </tr>\n",
       "    <tr>\n",
       "      <th>5</th>\n",
       "      <td>嘉兴特产粽子礼盒装甜咸粽8粽4味真空手工农家粽端午节团购</td>\n",
       "      <td>58.8</td>\n",
       "      <td>chenyan30151467</td>\n",
       "      <td>17.0</td>\n",
       "      <td>浙江</td>\n",
       "    </tr>\n",
       "    <tr>\n",
       "      <th>6</th>\n",
       "      <td>五芳斋华礼竹篮礼盒1360g蛋粽组合端午礼品嘉兴粽子礼盒</td>\n",
       "      <td>159.0</td>\n",
       "      <td>天猫超市</td>\n",
       "      <td>1028.0</td>\n",
       "      <td>上海</td>\n",
       "    </tr>\n",
       "    <tr>\n",
       "      <th>7</th>\n",
       "      <td>五芳斋 140g*8只大粽子 福韵端午豆沙蜜枣蛋黄粽新包装送礼礼盒</td>\n",
       "      <td>79.9</td>\n",
       "      <td>天猫超市</td>\n",
       "      <td>9000.0</td>\n",
       "      <td>上海</td>\n",
       "    </tr>\n",
       "    <tr>\n",
       "      <th>8</th>\n",
       "      <td>真真老老嘉情礼盒10粽6蛋1.52kg/盒嘉兴粽子端午节粽子礼盒装</td>\n",
       "      <td>109.0</td>\n",
       "      <td>天猫超市</td>\n",
       "      <td>2117.0</td>\n",
       "      <td>上海</td>\n",
       "    </tr>\n",
       "    <tr>\n",
       "      <th>9</th>\n",
       "      <td>五芳斋嘉兴粽子新鲜量贩蛋黄肉粽豆沙粽悦喜散装端午特产600g*2袋</td>\n",
       "      <td>59.9</td>\n",
       "      <td>天猫超市</td>\n",
       "      <td>1349.0</td>\n",
       "      <td>上海</td>\n",
       "    </tr>\n",
       "  </tbody>\n",
       "</table>\n",
       "</div>"
      ],
      "text/plain": [
       "                                 商品名     价格               店铺         销量  省份\n",
       "0   五芳斋粽子礼盒 心悦+18只装咸鸭蛋组合端午节礼品团购嘉兴肉粽子  129.0         五芳斋官方旗舰店        6.0  浙江\n",
       "1  北京稻香村端午粽子手工豆沙粽220g*2袋散装豆沙粽香甜软糯豆沙粽   44.0             天猫超市        8.0  上海\n",
       "2     五芳斋粽子礼盒装鲜肉咸蛋黄大肉粽嘉兴豆沙甜粽端午团购散装礼品   89.9         五芳斋官方旗舰店  1000000.0  浙江\n",
       "3     稻香私房鲜肉粽蛋黄肉粽嘉兴粽子咸鸭蛋礼盒装端午节送礼特产团购  138.0         稻香村食品旗舰店     1936.0  北京\n",
       "4     嘉兴粽子 蛋黄鲜肉粽新鲜大肉粽早餐散装团购浙江特产蜜枣多口味    3.8            城城喂食猫     9500.0  浙江\n",
       "5       嘉兴特产粽子礼盒装甜咸粽8粽4味真空手工农家粽端午节团购   58.8  chenyan30151467       17.0  浙江\n",
       "6       五芳斋华礼竹篮礼盒1360g蛋粽组合端午礼品嘉兴粽子礼盒  159.0             天猫超市     1028.0  上海\n",
       "7  五芳斋 140g*8只大粽子 福韵端午豆沙蜜枣蛋黄粽新包装送礼礼盒   79.9             天猫超市     9000.0  上海\n",
       "8  真真老老嘉情礼盒10粽6蛋1.52kg/盒嘉兴粽子端午节粽子礼盒装  109.0             天猫超市     2117.0  上海\n",
       "9  五芳斋嘉兴粽子新鲜量贩蛋黄肉粽豆沙粽悦喜散装端午特产600g*2袋   59.9             天猫超市     1349.0  上海"
      ]
     },
     "execution_count": 7,
     "metadata": {},
     "output_type": "execute_result"
    }
   ],
   "source": [
    "# 删除多余的列\n",
    "df.drop(['付款人数', '发货地址', 'num', 'unit'], axis=1, inplace=True)\n",
    "\n",
    "# 重置索引\n",
    "df = df.reset_index(drop=True)\n",
    "df.head(10) \n",
    "#df.to_csv('清洗完成数据.csv')"
   ]
  },
  {
   "cell_type": "code",
   "execution_count": 8,
   "metadata": {},
   "outputs": [
    {
     "data": {
      "text/html": [
       "<div>\n",
       "<style scoped>\n",
       "    .dataframe tbody tr th:only-of-type {\n",
       "        vertical-align: middle;\n",
       "    }\n",
       "\n",
       "    .dataframe tbody tr th {\n",
       "        vertical-align: top;\n",
       "    }\n",
       "\n",
       "    .dataframe thead th {\n",
       "        text-align: right;\n",
       "    }\n",
       "</style>\n",
       "<table border=\"1\" class=\"dataframe\">\n",
       "  <thead>\n",
       "    <tr style=\"text-align: right;\">\n",
       "      <th></th>\n",
       "      <th>商品名</th>\n",
       "      <th>价格</th>\n",
       "      <th>店铺</th>\n",
       "      <th>销量</th>\n",
       "      <th>省份</th>\n",
       "    </tr>\n",
       "  </thead>\n",
       "  <tbody>\n",
       "    <tr>\n",
       "      <th>2779</th>\n",
       "      <td>御茶膳房端午节礼品黄酒有机粽子咸鸭蛋手提竹篮礼盒装高端大礼包</td>\n",
       "      <td>1780.0</td>\n",
       "      <td>御茶膳房旗舰店</td>\n",
       "      <td>12.0</td>\n",
       "      <td>北京</td>\n",
       "    </tr>\n",
       "    <tr>\n",
       "      <th>2491</th>\n",
       "      <td>御茶膳房端午节礼品有机粽子咸鸭蛋手提竹篮礼盒装高端大礼包</td>\n",
       "      <td>1088.0</td>\n",
       "      <td>御茶膳房旗舰店</td>\n",
       "      <td>9.0</td>\n",
       "      <td>北京</td>\n",
       "    </tr>\n",
       "    <tr>\n",
       "      <th>152</th>\n",
       "      <td>端午节礼品礼盒装组合高档有机粽子咸鸭蛋送领导高端送礼大礼包</td>\n",
       "      <td>858.0</td>\n",
       "      <td>御茶膳房旗舰店</td>\n",
       "      <td>45.0</td>\n",
       "      <td>北京</td>\n",
       "    </tr>\n",
       "    <tr>\n",
       "      <th>784</th>\n",
       "      <td>嘉兴粽子新鲜大肉粽蛋黄肉粽甜粽竹篮粽子礼盒装组合端午送礼团购</td>\n",
       "      <td>857.9</td>\n",
       "      <td>千味食代i</td>\n",
       "      <td>2491.0</td>\n",
       "      <td>浙江</td>\n",
       "    </tr>\n",
       "    <tr>\n",
       "      <th>2710</th>\n",
       "      <td>米旗端午节粽子礼盒壹品私房多口味肉粽素棕海鲜粽高档礼盒送礼</td>\n",
       "      <td>678.0</td>\n",
       "      <td>壹品优店</td>\n",
       "      <td>5.0</td>\n",
       "      <td>北京</td>\n",
       "    </tr>\n",
       "  </tbody>\n",
       "</table>\n",
       "</div>"
      ],
      "text/plain": [
       "                                 商品名      价格       店铺      销量  省份\n",
       "2779  御茶膳房端午节礼品黄酒有机粽子咸鸭蛋手提竹篮礼盒装高端大礼包  1780.0  御茶膳房旗舰店    12.0  北京\n",
       "2491    御茶膳房端午节礼品有机粽子咸鸭蛋手提竹篮礼盒装高端大礼包  1088.0  御茶膳房旗舰店     9.0  北京\n",
       "152    端午节礼品礼盒装组合高档有机粽子咸鸭蛋送领导高端送礼大礼包   858.0  御茶膳房旗舰店    45.0  北京\n",
       "784   嘉兴粽子新鲜大肉粽蛋黄肉粽甜粽竹篮粽子礼盒装组合端午送礼团购   857.9    千味食代i  2491.0  浙江\n",
       "2710   米旗端午节粽子礼盒壹品私房多口味肉粽素棕海鲜粽高档礼盒送礼   678.0     壹品优店     5.0  北京"
      ]
     },
     "execution_count": 8,
     "metadata": {},
     "output_type": "execute_result"
    }
   ],
   "source": [
    "df1 = df.sort_values(by=\"价格\", axis=0, ascending=False)\n",
    "df1.iloc[:5,:]"
   ]
  },
  {
   "cell_type": "markdown",
   "metadata": {},
   "source": [
    "## 数据可视化"
   ]
  },
  {
   "cell_type": "markdown",
   "metadata": {},
   "source": [
    "### 分词"
   ]
  },
  {
   "cell_type": "code",
   "execution_count": 9,
   "metadata": {},
   "outputs": [
    {
     "name": "stderr",
     "output_type": "stream",
     "text": [
      "Building prefix dict from the default dictionary ...\n",
      "Loading model from cache C:\\Users\\admin\\AppData\\Local\\Temp\\jieba.cache\n",
      "Loading model cost 0.782 seconds.\n",
      "Prefix dict has been built successfully.\n"
     ]
    }
   ],
   "source": [
    "import jieba\n",
    "import jieba.analyse\n",
    "\n",
    "txt = df['商品名'].str.cat(sep='。')\n",
    "\n",
    "# 添加关键词\n",
    "jieba.add_word('粽子', 999, '五芳斋')\n",
    "\n",
    "# 读入停用词表\n",
    "stop_words = []\n",
    "with open('stop_words.txt', 'r', encoding='utf-8') as f:\n",
    "    lines = f.readlines()\n",
    "    for line in lines:\n",
    "        stop_words.append(line.strip())\n",
    "\n",
    "# 添加停用词\n",
    "stop_words.extend(['logo', '10', '100', '200g', '100g', '140g', '130g'])  \n",
    "\n",
    "# 评论字段分词处理\n",
    "word_num = jieba.analyse.extract_tags(txt,\n",
    "                                      topK=100,\n",
    "                                      withWeight=True,\n",
    "                                      allowPOS=())\n",
    "\n",
    "# 去停用词\n",
    "word_num_selected = []\n",
    "\n",
    "for i in word_num:\n",
    "    if i[0] not in stop_words:\n",
    "        word_num_selected.append(i)\n",
    "\n",
    "key_words = pd.DataFrame(word_num_selected, columns=['words','num'])"
   ]
  },
  {
   "cell_type": "markdown",
   "metadata": {},
   "source": [
    "### 查询你的pyecharts版本"
   ]
  },
  {
   "cell_type": "code",
   "execution_count": 10,
   "metadata": {},
   "outputs": [
    {
     "name": "stdout",
     "output_type": "stream",
     "text": [
      "1.7.1\n"
     ]
    }
   ],
   "source": [
    "import pyecharts\n",
    "\n",
    "print(pyecharts.__version__)"
   ]
  },
  {
   "cell_type": "markdown",
   "metadata": {},
   "source": [
    "### 商品销量排名top10 - 柱形图"
   ]
  },
  {
   "cell_type": "code",
   "execution_count": 11,
   "metadata": {},
   "outputs": [
    {
     "data": {
      "text/plain": [
       "'C:\\\\Users\\\\admin\\\\粽子-凹凸数据\\\\粽子商品销量Top10.html'"
      ]
     },
     "execution_count": 11,
     "metadata": {},
     "output_type": "execute_result"
    }
   ],
   "source": [
    "# 导入包\n",
    "from pyecharts.charts import Bar\n",
    "from pyecharts import options as opts \n",
    "\n",
    "# 计算top10店铺\n",
    "shop_top10 = df.groupby('商品名')['销量'].sum().sort_values(ascending=False).head(10)\n",
    "\n",
    "# 绘制柱形图\n",
    "bar0 = Bar(init_opts=opts.InitOpts(width='1350px', height='750px')) \n",
    "bar0.add_xaxis(shop_top10.index.tolist())\n",
    "bar0.add_yaxis('sales_num', shop_top10.values.tolist()) \n",
    "bar0.set_global_opts(title_opts=opts.TitleOpts(title='粽子商品销量Top10'),\n",
    "                     xaxis_opts=opts.AxisOpts(axislabel_opts=opts.LabelOpts(rotate=-15)),\n",
    "                     visualmap_opts=opts.VisualMapOpts(max_=shop_top10.values.max())) \n",
    "bar0.render(\"粽子商品销量Top10.html\")"
   ]
  },
  {
   "cell_type": "markdown",
   "metadata": {},
   "source": [
    "### 店铺销量排名top10 - 柱形图"
   ]
  },
  {
   "cell_type": "code",
   "execution_count": 12,
   "metadata": {},
   "outputs": [
    {
     "data": {
      "text/plain": [
       "'C:\\\\Users\\\\admin\\\\粽子-凹凸数据\\\\粽子店铺销量Top10.html'"
      ]
     },
     "execution_count": 12,
     "metadata": {},
     "output_type": "execute_result"
    }
   ],
   "source": [
    "# 导入包\n",
    "from pyecharts.charts import Bar\n",
    "from pyecharts import options as opts \n",
    "\n",
    "# 计算top10店铺\n",
    "shop_top10 = df.groupby('店铺')['销量'].sum().sort_values(ascending=False).head(10)\n",
    "\n",
    "# 绘制柱形图\n",
    "bar1 = Bar(init_opts=opts.InitOpts(width='1350px', height='750px')) \n",
    "bar1.add_xaxis(shop_top10.index.tolist())\n",
    "bar1.add_yaxis('sales_num', shop_top10.values.tolist()) \n",
    "bar1.set_global_opts(title_opts=opts.TitleOpts(title='粽子店铺销量Top10'),\n",
    "                     xaxis_opts=opts.AxisOpts(axislabel_opts=opts.LabelOpts(rotate=-15)),\n",
    "                     visualmap_opts=opts.VisualMapOpts(max_=shop_top10.values.max())) \n",
    "bar1.render(\"粽子店铺销量Top10.html\")"
   ]
  },
  {
   "cell_type": "markdown",
   "metadata": {},
   "source": [
    "### 全国省份销量地区分布-地图"
   ]
  },
  {
   "cell_type": "code",
   "execution_count": 13,
   "metadata": {},
   "outputs": [
    {
     "data": {
      "text/plain": [
       "'C:\\\\Users\\\\admin\\\\粽子-凹凸数据\\\\各省份粽子销量分布.html'"
      ]
     },
     "execution_count": 13,
     "metadata": {},
     "output_type": "execute_result"
    }
   ],
   "source": [
    "from pyecharts.charts import Map \n",
    "\n",
    "# 计算销量\n",
    "province_num = df.groupby('省份')['销量'].sum().sort_values(ascending=False) \n",
    "\n",
    "# 绘制地图\n",
    "map1 = Map(init_opts=opts.InitOpts(width='1350px', height='750px'))\n",
    "map1.add(\"\", [list(z) for z in zip(province_num.index.tolist(), province_num.values.tolist())],\n",
    "         maptype='china'\n",
    "        ) \n",
    "map1.set_global_opts(title_opts=opts.TitleOpts(title='各省份粽子销量分布'),\n",
    "                     visualmap_opts=opts.VisualMapOpts(max_=300000),\n",
    "                     toolbox_opts=opts.ToolboxOpts()\n",
    "                    )\n",
    "map1.render(\"各省份粽子销量分布.html\")"
   ]
  },
  {
   "cell_type": "markdown",
   "metadata": {},
   "source": [
    "### 不同价格区间的销量占比"
   ]
  },
  {
   "cell_type": "code",
   "execution_count": 14,
   "metadata": {},
   "outputs": [
    {
     "name": "stdout",
     "output_type": "stream",
     "text": [
      "[['115-633元', 150371.0], ['22-115元', 4297601.0], ['22元以下', 1080993.0], ['633元以上', 2562.0]]\n"
     ]
    },
    {
     "data": {
      "text/plain": [
       "'C:\\\\Users\\\\admin\\\\粽子-凹凸数据\\\\不同价格区间的粽子销量占比.html'"
      ]
     },
     "execution_count": 14,
     "metadata": {},
     "output_type": "execute_result"
    }
   ],
   "source": [
    "from pyecharts.charts import Pie\n",
    "\n",
    "def price_range(x): #按照淘宝推荐划分价格区间\n",
    "    if x <= 22:\n",
    "        return '22元以下'\n",
    "    elif x <= 115:\n",
    "        return '22-115元'\n",
    "    elif x <= 633:\n",
    "        return '115-633元'\n",
    "    else:\n",
    "        return '633元以上'\n",
    "\n",
    "df['price_range'] = df['价格'].apply(lambda x: price_range(x)) \n",
    "price_cut_num = df.groupby('price_range')['销量'].sum() \n",
    "data_pair = [list(z) for z in zip(price_cut_num.index, price_cut_num.values)]\n",
    "print(data_pair)\n",
    "\n",
    "\n",
    "# 饼图\n",
    "pie1 = Pie(init_opts=opts.InitOpts(width='1350px', height='750px'))\n",
    "# 内置富文本\n",
    "pie1.add( \n",
    "        series_name=\"销量\",\n",
    "        radius=[\"35%\", \"55%\"],\n",
    "        data_pair=data_pair,\n",
    "        label_opts=opts.LabelOpts(formatter='{{b}—占比{d}%}'),\n",
    ")\n",
    "\n",
    "pie1.set_global_opts(legend_opts=opts.LegendOpts(pos_left=\"left\", pos_top='30%', orient=\"vertical\"), \n",
    "                     toolbox_opts=opts.ToolboxOpts(),\n",
    "                     title_opts=opts.TitleOpts(title='不同价格区间的粽子销量占比'))\n",
    "\n",
    "pie1.render(\"不同价格区间的粽子销量占比.html\")"
   ]
  },
  {
   "cell_type": "markdown",
   "metadata": {},
   "source": [
    "### 商品标题文本分析 - 词云图"
   ]
  },
  {
   "cell_type": "code",
   "execution_count": 15,
   "metadata": {},
   "outputs": [
    {
     "data": {
      "text/plain": [
       "'C:\\\\Users\\\\admin\\\\粽子-凹凸数据\\\\粽子商品名称词云图.html'"
      ]
     },
     "execution_count": 15,
     "metadata": {},
     "output_type": "execute_result"
    }
   ],
   "source": [
    "from pyecharts.charts import WordCloud\n",
    "from pyecharts.globals import SymbolType\n",
    "\n",
    "# 词云图\n",
    "word1 = WordCloud(init_opts=opts.InitOpts(width='1350px', height='750px'))\n",
    "word1.add(\"\", [*zip(key_words.words, key_words.num)],\n",
    "          word_size_range=[20, 200],\n",
    "          shape=SymbolType.DIAMOND)\n",
    "word1.set_global_opts(title_opts=opts.TitleOpts('粽子商品名称词云图'),\n",
    "                      toolbox_opts=opts.ToolboxOpts())\n",
    "word1.render(\"粽子商品名称词云图.html\")"
   ]
  },
  {
   "cell_type": "markdown",
   "metadata": {},
   "source": [
    "## 关注公众号"
   ]
  },
  {
   "cell_type": "code",
   "execution_count": 17,
   "metadata": {},
   "outputs": [
    {
     "data": {
      "image/png": "[encoded data removed]",
      "text/plain": [
       "<Figure size 432x288 with 1 Axes>"
      ]
     },
     "metadata": {
      "needs_background": "light"
     },
     "output_type": "display_data"
    }
   ],
   "source": [
    "img_src = 'http://note.youdao.com/yws/public/resource/8171065fb7d978eb589a16c6a64d70f4/xmlnote/WEBRESOURCEf000a60369f9467f8e4eff640b2159ff/3904'\n",
    "from skimage import io\n",
    "image = io.imread(img_src)\n",
    "io.imshow(image)\n",
    "io.show()"
   ]
  },
  {
   "cell_type": "code",
   "execution_count": null,
   "metadata": {},
   "outputs": [],
   "source": []
  }
 ],
 "metadata": {
  "kernelspec": {
   "display_name": "Python 3",
   "language": "python",
   "name": "python3"
  },
  "language_info": {
   "codemirror_mode": {
    "name": "ipython",
    "version": 3
   },
   "file_extension": ".py",
   "mimetype": "text/x-python",
   "name": "python",
   "nbconvert_exporter": "python",
   "pygments_lexer": "ipython3",
   "version": "3.7.3"
  },
  "toc": {
   "base_numbering": 1,
   "nav_menu": {},
   "number_sections": true,
   "sideBar": true,
   "skip_h1_title": false,
   "title_cell": "Table of Contents",
   "title_sidebar": "Contents",
   "toc_cell": false,
   "toc_position": {},
   "toc_section_display": true,
   "toc_window_display": false
  },
  "varInspector": {
   "cols": {
    "lenName": 16,
    "lenType": 16,
    "lenVar": 40
   },
   "kernels_config": {
    "python": {
     "delete_cmd_postfix": "",
     "delete_cmd_prefix": "del ",
     "library": "var_list.py",
     "varRefreshCmd": "print(var_dic_list())"
    },
    "r": {
     "delete_cmd_postfix": ") ",
     "delete_cmd_prefix": "rm(",
     "library": "var_list.r",
     "varRefreshCmd": "cat(var_dic_list()) "
    }
   },
   "types_to_exclude": [
    "module",
    "function",
    "builtin_function_or_method",
    "instance",
    "_Feature"
   ],
   "window_display": false
  }
 },
 "nbformat": 4,
 "nbformat_minor": 2
}
