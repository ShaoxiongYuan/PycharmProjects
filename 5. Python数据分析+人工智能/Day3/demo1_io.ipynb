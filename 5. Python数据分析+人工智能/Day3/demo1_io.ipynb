{
 "cells": [
  {
   "cell_type": "markdown",
   "metadata": {},
   "source": [
    "## read_csv read_json"
   ]
  },
  {
   "cell_type": "code",
   "execution_count": 2,
   "metadata": {},
   "outputs": [],
   "source": [
    "import pandas as pd\n",
    "import numpy as np"
   ]
  },
  {
   "cell_type": "code",
   "execution_count": 3,
   "metadata": {},
   "outputs": [
    {
     "data": {
      "text/html": [
       "<div>\n",
       "<style scoped>\n",
       "    .dataframe tbody tr th:only-of-type {\n",
       "        vertical-align: middle;\n",
       "    }\n",
       "\n",
       "    .dataframe tbody tr th {\n",
       "        vertical-align: top;\n",
       "    }\n",
       "\n",
       "    .dataframe thead th {\n",
       "        text-align: right;\n",
       "    }\n",
       "</style>\n",
       "<table border=\"1\" class=\"dataframe\">\n",
       "  <thead>\n",
       "    <tr style=\"text-align: right;\">\n",
       "      <th></th>\n",
       "      <th>pack_type</th>\n",
       "      <th>extra_time</th>\n",
       "      <th>extra_flow</th>\n",
       "      <th>pack_change</th>\n",
       "      <th>contract</th>\n",
       "      <th>asso_pur</th>\n",
       "      <th>group_user</th>\n",
       "      <th>use_month</th>\n",
       "      <th>loss</th>\n",
       "    </tr>\n",
       "    <tr>\n",
       "      <th>index</th>\n",
       "      <th></th>\n",
       "      <th></th>\n",
       "      <th></th>\n",
       "      <th></th>\n",
       "      <th></th>\n",
       "      <th></th>\n",
       "      <th></th>\n",
       "      <th></th>\n",
       "      <th></th>\n",
       "    </tr>\n",
       "  </thead>\n",
       "  <tbody>\n",
       "    <tr>\n",
       "      <th>1</th>\n",
       "      <td>1</td>\n",
       "      <td>792.83</td>\n",
       "      <td>-10.45</td>\n",
       "      <td>0</td>\n",
       "      <td>0</td>\n",
       "      <td>0</td>\n",
       "      <td>0</td>\n",
       "      <td>25</td>\n",
       "      <td>0</td>\n",
       "    </tr>\n",
       "    <tr>\n",
       "      <th>2</th>\n",
       "      <td>1</td>\n",
       "      <td>121.67</td>\n",
       "      <td>-21.14</td>\n",
       "      <td>0</td>\n",
       "      <td>0</td>\n",
       "      <td>0</td>\n",
       "      <td>0</td>\n",
       "      <td>25</td>\n",
       "      <td>0</td>\n",
       "    </tr>\n",
       "    <tr>\n",
       "      <th>3</th>\n",
       "      <td>1</td>\n",
       "      <td>-30.00</td>\n",
       "      <td>-25.66</td>\n",
       "      <td>0</td>\n",
       "      <td>0</td>\n",
       "      <td>0</td>\n",
       "      <td>0</td>\n",
       "      <td>2</td>\n",
       "      <td>1</td>\n",
       "    </tr>\n",
       "    <tr>\n",
       "      <th>4</th>\n",
       "      <td>1</td>\n",
       "      <td>241.50</td>\n",
       "      <td>-288.34</td>\n",
       "      <td>0</td>\n",
       "      <td>1</td>\n",
       "      <td>0</td>\n",
       "      <td>1</td>\n",
       "      <td>25</td>\n",
       "      <td>0</td>\n",
       "    </tr>\n",
       "    <tr>\n",
       "      <th>5</th>\n",
       "      <td>1</td>\n",
       "      <td>1629.67</td>\n",
       "      <td>-23.66</td>\n",
       "      <td>0</td>\n",
       "      <td>0</td>\n",
       "      <td>0</td>\n",
       "      <td>1</td>\n",
       "      <td>25</td>\n",
       "      <td>0</td>\n",
       "    </tr>\n",
       "    <tr>\n",
       "      <th>...</th>\n",
       "      <td>...</td>\n",
       "      <td>...</td>\n",
       "      <td>...</td>\n",
       "      <td>...</td>\n",
       "      <td>...</td>\n",
       "      <td>...</td>\n",
       "      <td>...</td>\n",
       "      <td>...</td>\n",
       "      <td>...</td>\n",
       "    </tr>\n",
       "    <tr>\n",
       "      <th>4971</th>\n",
       "      <td>1</td>\n",
       "      <td>1109.33</td>\n",
       "      <td>49.84</td>\n",
       "      <td>0</td>\n",
       "      <td>1</td>\n",
       "      <td>0</td>\n",
       "      <td>1</td>\n",
       "      <td>25</td>\n",
       "      <td>0</td>\n",
       "    </tr>\n",
       "    <tr>\n",
       "      <th>4972</th>\n",
       "      <td>1</td>\n",
       "      <td>197.83</td>\n",
       "      <td>-34.99</td>\n",
       "      <td>0</td>\n",
       "      <td>1</td>\n",
       "      <td>0</td>\n",
       "      <td>0</td>\n",
       "      <td>21</td>\n",
       "      <td>1</td>\n",
       "    </tr>\n",
       "    <tr>\n",
       "      <th>4973</th>\n",
       "      <td>1</td>\n",
       "      <td>162.83</td>\n",
       "      <td>71.37</td>\n",
       "      <td>0</td>\n",
       "      <td>1</td>\n",
       "      <td>0</td>\n",
       "      <td>0</td>\n",
       "      <td>25</td>\n",
       "      <td>0</td>\n",
       "    </tr>\n",
       "    <tr>\n",
       "      <th>4974</th>\n",
       "      <td>1</td>\n",
       "      <td>358.17</td>\n",
       "      <td>26.32</td>\n",
       "      <td>0</td>\n",
       "      <td>1</td>\n",
       "      <td>0</td>\n",
       "      <td>0</td>\n",
       "      <td>21</td>\n",
       "      <td>1</td>\n",
       "    </tr>\n",
       "    <tr>\n",
       "      <th>4975</th>\n",
       "      <td>3</td>\n",
       "      <td>-655.67</td>\n",
       "      <td>-96.44</td>\n",
       "      <td>0</td>\n",
       "      <td>1</td>\n",
       "      <td>0</td>\n",
       "      <td>1</td>\n",
       "      <td>25</td>\n",
       "      <td>0</td>\n",
       "    </tr>\n",
       "  </tbody>\n",
       "</table>\n",
       "<p>4975 rows × 9 columns</p>\n",
       "</div>"
      ],
      "text/plain": [
       "       pack_type  extra_time  extra_flow  pack_change  contract  asso_pur  \\\n",
       "index                                                                       \n",
       "1              1      792.83      -10.45            0         0         0   \n",
       "2              1      121.67      -21.14            0         0         0   \n",
       "3              1      -30.00      -25.66            0         0         0   \n",
       "4              1      241.50     -288.34            0         1         0   \n",
       "5              1     1629.67      -23.66            0         0         0   \n",
       "...          ...         ...         ...          ...       ...       ...   \n",
       "4971           1     1109.33       49.84            0         1         0   \n",
       "4972           1      197.83      -34.99            0         1         0   \n",
       "4973           1      162.83       71.37            0         1         0   \n",
       "4974           1      358.17       26.32            0         1         0   \n",
       "4975           3     -655.67      -96.44            0         1         0   \n",
       "\n",
       "       group_user  use_month  loss  \n",
       "index                               \n",
       "1               0         25     0  \n",
       "2               0         25     0  \n",
       "3               0          2     1  \n",
       "4               1         25     0  \n",
       "5               1         25     0  \n",
       "...           ...        ...   ...  \n",
       "4971            1         25     0  \n",
       "4972            0         21     1  \n",
       "4973            0         25     0  \n",
       "4974            0         21     1  \n",
       "4975            1         25     0  \n",
       "\n",
       "[4975 rows x 9 columns]"
      ]
     },
     "execution_count": 3,
     "metadata": {},
     "output_type": "execute_result"
    }
   ],
   "source": [
    "data=pd.read_csv('CustomerSurvival.csv',header=None,names=['index','pack_type','extra_time','extra_flow','pack_change',\n",
    "             'contract','asso_pur','group_user','use_month','loss'],index_col=0)\n",
    "data"
   ]
  },
  {
   "cell_type": "code",
   "execution_count": 4,
   "metadata": {},
   "outputs": [],
   "source": [
    "data.to_csv('test.csv')"
   ]
  },
  {
   "cell_type": "code",
   "execution_count": 5,
   "metadata": {},
   "outputs": [],
   "source": [
    "ratings=pd.read_json('ratings.json')"
   ]
  },
  {
   "cell_type": "code",
   "execution_count": 6,
   "metadata": {},
   "outputs": [
    {
     "data": {
      "text/html": [
       "<div>\n",
       "<style scoped>\n",
       "    .dataframe tbody tr th:only-of-type {\n",
       "        vertical-align: middle;\n",
       "    }\n",
       "\n",
       "    .dataframe tbody tr th {\n",
       "        vertical-align: top;\n",
       "    }\n",
       "\n",
       "    .dataframe thead th {\n",
       "        text-align: right;\n",
       "    }\n",
       "</style>\n",
       "<table border=\"1\" class=\"dataframe\">\n",
       "  <thead>\n",
       "    <tr style=\"text-align: right;\">\n",
       "      <th></th>\n",
       "      <th>John Carson</th>\n",
       "      <th>Michelle Peterson</th>\n",
       "      <th>William Reynolds</th>\n",
       "      <th>Jillian Hobart</th>\n",
       "      <th>Melissa Jones</th>\n",
       "      <th>Alex Roberts</th>\n",
       "      <th>Michael Henry</th>\n",
       "    </tr>\n",
       "  </thead>\n",
       "  <tbody>\n",
       "    <tr>\n",
       "      <th>Inception</th>\n",
       "      <td>2.5</td>\n",
       "      <td>3.0</td>\n",
       "      <td>2.5</td>\n",
       "      <td>NaN</td>\n",
       "      <td>3</td>\n",
       "      <td>3.0</td>\n",
       "      <td>NaN</td>\n",
       "    </tr>\n",
       "    <tr>\n",
       "      <th>Pulp Fiction</th>\n",
       "      <td>3.5</td>\n",
       "      <td>3.5</td>\n",
       "      <td>3.0</td>\n",
       "      <td>3.5</td>\n",
       "      <td>4</td>\n",
       "      <td>4.0</td>\n",
       "      <td>4.5</td>\n",
       "    </tr>\n",
       "    <tr>\n",
       "      <th>Anger Management</th>\n",
       "      <td>3.0</td>\n",
       "      <td>1.5</td>\n",
       "      <td>NaN</td>\n",
       "      <td>3.0</td>\n",
       "      <td>2</td>\n",
       "      <td>NaN</td>\n",
       "      <td>NaN</td>\n",
       "    </tr>\n",
       "    <tr>\n",
       "      <th>Fracture</th>\n",
       "      <td>3.5</td>\n",
       "      <td>5.0</td>\n",
       "      <td>3.5</td>\n",
       "      <td>4.0</td>\n",
       "      <td>3</td>\n",
       "      <td>5.0</td>\n",
       "      <td>4.0</td>\n",
       "    </tr>\n",
       "    <tr>\n",
       "      <th>Serendipity</th>\n",
       "      <td>2.5</td>\n",
       "      <td>3.5</td>\n",
       "      <td>NaN</td>\n",
       "      <td>2.5</td>\n",
       "      <td>2</td>\n",
       "      <td>3.5</td>\n",
       "      <td>1.0</td>\n",
       "    </tr>\n",
       "    <tr>\n",
       "      <th>Jerry Maguire</th>\n",
       "      <td>3.0</td>\n",
       "      <td>3.0</td>\n",
       "      <td>4.0</td>\n",
       "      <td>4.5</td>\n",
       "      <td>3</td>\n",
       "      <td>3.0</td>\n",
       "      <td>NaN</td>\n",
       "    </tr>\n",
       "  </tbody>\n",
       "</table>\n",
       "</div>"
      ],
      "text/plain": [
       "                  John Carson  Michelle Peterson  William Reynolds  \\\n",
       "Inception                 2.5                3.0               2.5   \n",
       "Pulp Fiction              3.5                3.5               3.0   \n",
       "Anger Management          3.0                1.5               NaN   \n",
       "Fracture                  3.5                5.0               3.5   \n",
       "Serendipity               2.5                3.5               NaN   \n",
       "Jerry Maguire             3.0                3.0               4.0   \n",
       "\n",
       "                  Jillian Hobart  Melissa Jones  Alex Roberts  Michael Henry  \n",
       "Inception                    NaN              3           3.0            NaN  \n",
       "Pulp Fiction                 3.5              4           4.0            4.5  \n",
       "Anger Management             3.0              2           NaN            NaN  \n",
       "Fracture                     4.0              3           5.0            4.0  \n",
       "Serendipity                  2.5              2           3.5            1.0  \n",
       "Jerry Maguire                4.5              3           3.0            NaN  "
      ]
     },
     "execution_count": 6,
     "metadata": {},
     "output_type": "execute_result"
    }
   ],
   "source": [
    "ratings"
   ]
  },
  {
   "cell_type": "code",
   "execution_count": 7,
   "metadata": {},
   "outputs": [
    {
     "data": {
      "text/plain": [
       "John Carson          2.5\n",
       "Michelle Peterson    3.0\n",
       "William Reynolds     2.5\n",
       "Jillian Hobart       NaN\n",
       "Melissa Jones        3.0\n",
       "Alex Roberts         3.0\n",
       "Michael Henry        NaN\n",
       "Name: Inception, dtype: float64"
      ]
     },
     "execution_count": 7,
     "metadata": {},
     "output_type": "execute_result"
    }
   ],
   "source": [
    "ratings.loc['Inception']"
   ]
  },
  {
   "cell_type": "code",
   "execution_count": 8,
   "metadata": {},
   "outputs": [
    {
     "data": {
      "text/plain": [
       "Inception           2.5\n",
       "Pulp Fiction        3.5\n",
       "Anger Management    3.0\n",
       "Fracture            3.5\n",
       "Serendipity         2.5\n",
       "Jerry Maguire       3.0\n",
       "Name: John Carson, dtype: float64"
      ]
     },
     "execution_count": 8,
     "metadata": {},
     "output_type": "execute_result"
    }
   ],
   "source": [
    "ratings['John Carson']"
   ]
  },
  {
   "cell_type": "code",
   "execution_count": 9,
   "metadata": {},
   "outputs": [],
   "source": [
    "ratings.to_json('test.json')"
   ]
  },
  {
   "cell_type": "code",
   "execution_count": 10,
   "metadata": {},
   "outputs": [
    {
     "data": {
      "text/plain": [
       "'[{\"John Carson\":2.5,\"Michelle Peterson\":3.0,\"William Reynolds\":2.5,\"Jillian Hobart\":null,\"Melissa Jones\":3,\"Alex Roberts\":3.0,\"Michael Henry\":null},{\"John Carson\":3.5,\"Michelle Peterson\":3.5,\"William Reynolds\":3.0,\"Jillian Hobart\":3.5,\"Melissa Jones\":4,\"Alex Roberts\":4.0,\"Michael Henry\":4.5},{\"John Carson\":3.0,\"Michelle Peterson\":1.5,\"William Reynolds\":null,\"Jillian Hobart\":3.0,\"Melissa Jones\":2,\"Alex Roberts\":null,\"Michael Henry\":null},{\"John Carson\":3.5,\"Michelle Peterson\":5.0,\"William Reynolds\":3.5,\"Jillian Hobart\":4.0,\"Melissa Jones\":3,\"Alex Roberts\":5.0,\"Michael Henry\":4.0},{\"John Carson\":2.5,\"Michelle Peterson\":3.5,\"William Reynolds\":null,\"Jillian Hobart\":2.5,\"Melissa Jones\":2,\"Alex Roberts\":3.5,\"Michael Henry\":1.0},{\"John Carson\":3.0,\"Michelle Peterson\":3.0,\"William Reynolds\":4.0,\"Jillian Hobart\":4.5,\"Melissa Jones\":3,\"Alex Roberts\":3.0,\"Michael Henry\":null}]'"
      ]
     },
     "execution_count": 10,
     "metadata": {},
     "output_type": "execute_result"
    }
   ],
   "source": [
    "ratings.to_json(orient='records')"
   ]
  },
  {
   "cell_type": "code",
   "execution_count": 11,
   "metadata": {},
   "outputs": [
    {
     "data": {
      "text/plain": [
       "'{\"Inception\":{\"John Carson\":2.5,\"Michelle Peterson\":3.0,\"William Reynolds\":2.5,\"Jillian Hobart\":null,\"Melissa Jones\":3,\"Alex Roberts\":3.0,\"Michael Henry\":null},\"Pulp Fiction\":{\"John Carson\":3.5,\"Michelle Peterson\":3.5,\"William Reynolds\":3.0,\"Jillian Hobart\":3.5,\"Melissa Jones\":4,\"Alex Roberts\":4.0,\"Michael Henry\":4.5},\"Anger Management\":{\"John Carson\":3.0,\"Michelle Peterson\":1.5,\"William Reynolds\":null,\"Jillian Hobart\":3.0,\"Melissa Jones\":2,\"Alex Roberts\":null,\"Michael Henry\":null},\"Fracture\":{\"John Carson\":3.5,\"Michelle Peterson\":5.0,\"William Reynolds\":3.5,\"Jillian Hobart\":4.0,\"Melissa Jones\":3,\"Alex Roberts\":5.0,\"Michael Henry\":4.0},\"Serendipity\":{\"John Carson\":2.5,\"Michelle Peterson\":3.5,\"William Reynolds\":null,\"Jillian Hobart\":2.5,\"Melissa Jones\":2,\"Alex Roberts\":3.5,\"Michael Henry\":1.0},\"Jerry Maguire\":{\"John Carson\":3.0,\"Michelle Peterson\":3.0,\"William Reynolds\":4.0,\"Jillian Hobart\":4.5,\"Melissa Jones\":3,\"Alex Roberts\":3.0,\"Michael Henry\":null}}'"
      ]
     },
     "execution_count": 11,
     "metadata": {},
     "output_type": "execute_result"
    }
   ],
   "source": [
    "ratings.to_json(orient='index')"
   ]
  },
  {
   "cell_type": "code",
   "execution_count": 12,
   "metadata": {},
   "outputs": [
    {
     "data": {
      "text/plain": [
       "'{\"John Carson\":{\"Inception\":2.5,\"Pulp Fiction\":3.5,\"Anger Management\":3.0,\"Fracture\":3.5,\"Serendipity\":2.5,\"Jerry Maguire\":3.0},\"Michelle Peterson\":{\"Inception\":3.0,\"Pulp Fiction\":3.5,\"Anger Management\":1.5,\"Fracture\":5.0,\"Serendipity\":3.5,\"Jerry Maguire\":3.0},\"William Reynolds\":{\"Inception\":2.5,\"Pulp Fiction\":3.0,\"Anger Management\":null,\"Fracture\":3.5,\"Serendipity\":null,\"Jerry Maguire\":4.0},\"Jillian Hobart\":{\"Inception\":null,\"Pulp Fiction\":3.5,\"Anger Management\":3.0,\"Fracture\":4.0,\"Serendipity\":2.5,\"Jerry Maguire\":4.5},\"Melissa Jones\":{\"Inception\":3,\"Pulp Fiction\":4,\"Anger Management\":2,\"Fracture\":3,\"Serendipity\":2,\"Jerry Maguire\":3},\"Alex Roberts\":{\"Inception\":3.0,\"Pulp Fiction\":4.0,\"Anger Management\":null,\"Fracture\":5.0,\"Serendipity\":3.5,\"Jerry Maguire\":3.0},\"Michael Henry\":{\"Inception\":null,\"Pulp Fiction\":4.5,\"Anger Management\":null,\"Fracture\":4.0,\"Serendipity\":1.0,\"Jerry Maguire\":null}}'"
      ]
     },
     "execution_count": 12,
     "metadata": {},
     "output_type": "execute_result"
    }
   ],
   "source": [
    "ratings.to_json(orient='columns')"
   ]
  },
  {
   "cell_type": "code",
   "execution_count": 13,
   "metadata": {},
   "outputs": [
    {
     "data": {
      "text/plain": [
       "'[[2.5,3.0,2.5,null,3,3.0,null],[3.5,3.5,3.0,3.5,4,4.0,4.5],[3.0,1.5,null,3.0,2,null,null],[3.5,5.0,3.5,4.0,3,5.0,4.0],[2.5,3.5,null,2.5,2,3.5,1.0],[3.0,3.0,4.0,4.5,3,3.0,null]]'"
      ]
     },
     "execution_count": 13,
     "metadata": {},
     "output_type": "execute_result"
    }
   ],
   "source": [
    "ratings.to_json(orient='values')"
   ]
  },
  {
   "cell_type": "code",
   "execution_count": 14,
   "metadata": {},
   "outputs": [
    {
     "data": {
      "text/plain": [
       "array([[2.5, 3. , 2.5, nan, 3. , 3. , nan],\n",
       "       [3.5, 3.5, 3. , 3.5, 4. , 4. , 4.5],\n",
       "       [3. , 1.5, nan, 3. , 2. , nan, nan],\n",
       "       [3.5, 5. , 3.5, 4. , 3. , 5. , 4. ],\n",
       "       [2.5, 3.5, nan, 2.5, 2. , 3.5, 1. ],\n",
       "       [3. , 3. , 4. , 4.5, 3. , 3. , nan]])"
      ]
     },
     "execution_count": 14,
     "metadata": {},
     "output_type": "execute_result"
    }
   ],
   "source": [
    "ratings.values"
   ]
  },
  {
   "cell_type": "code",
   "execution_count": null,
   "metadata": {},
   "outputs": [],
   "source": []
  }
 ],
 "metadata": {
  "kernelspec": {
   "display_name": "Python 3",
   "language": "python",
   "name": "python3"
  },
  "language_info": {
   "codemirror_mode": {
    "name": "ipython",
    "version": 3
   },
   "file_extension": ".py",
   "mimetype": "text/x-python",
   "name": "python",
   "nbconvert_exporter": "python",
   "pygments_lexer": "ipython3",
   "version": "3.7.7"
  }
 },
 "nbformat": 4,
 "nbformat_minor": 4
}
