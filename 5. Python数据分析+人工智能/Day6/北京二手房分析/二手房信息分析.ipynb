{
 "cells": [
  {
   "cell_type": "code",
   "execution_count": 1,
   "metadata": {},
   "outputs": [],
   "source": [
    "import numpy as np\n",
    "import pandas as pd\n",
    "import matplotlib.pyplot as plt"
   ]
  },
  {
   "cell_type": "code",
   "execution_count": 2,
   "metadata": {},
   "outputs": [],
   "source": [
    "data = pd.read_csv('house.csv')"
   ]
  },
  {
   "cell_type": "code",
   "execution_count": 4,
   "metadata": {},
   "outputs": [
    {
     "data": {
      "text/html": [
       "<div>\n",
       "<style scoped>\n",
       "    .dataframe tbody tr th:only-of-type {\n",
       "        vertical-align: middle;\n",
       "    }\n",
       "\n",
       "    .dataframe tbody tr th {\n",
       "        vertical-align: top;\n",
       "    }\n",
       "\n",
       "    .dataframe thead th {\n",
       "        text-align: right;\n",
       "    }\n",
       "</style>\n",
       "<table border=\"1\" class=\"dataframe\">\n",
       "  <thead>\n",
       "    <tr style=\"text-align: right;\">\n",
       "      <th></th>\n",
       "      <th>index</th>\n",
       "      <th>title</th>\n",
       "      <th>community</th>\n",
       "      <th>years</th>\n",
       "      <th>housetype</th>\n",
       "      <th>square</th>\n",
       "      <th>floor</th>\n",
       "      <th>taxtype</th>\n",
       "      <th>totalPrice</th>\n",
       "      <th>unitPrice</th>\n",
       "      <th>followInfo</th>\n",
       "    </tr>\n",
       "  </thead>\n",
       "  <tbody>\n",
       "    <tr>\n",
       "      <th>0</th>\n",
       "      <td>0</td>\n",
       "      <td>宝星华庭一层带花园，客厅挑高，通透四居室。房主自荐</td>\n",
       "      <td>宝星国际三期</td>\n",
       "      <td>底层(共22层)2010年建板塔结合</td>\n",
       "      <td>4室1厅</td>\n",
       "      <td>298.79平米</td>\n",
       "      <td>底层(共22层)2010年建板塔结合</td>\n",
       "      <td>距离15号线望京东站680米房本满五年</td>\n",
       "      <td>2598</td>\n",
       "      <td>86951</td>\n",
       "      <td>53人关注 / 共44次带看 / 一年前发布</td>\n",
       "    </tr>\n",
       "    <tr>\n",
       "      <th>1</th>\n",
       "      <td>1</td>\n",
       "      <td>三面采光全明南北朝向 正对小区绿地花园</td>\n",
       "      <td>顶秀青溪</td>\n",
       "      <td>中楼层(共11层)2008年建板塔结合</td>\n",
       "      <td>3室2厅</td>\n",
       "      <td>154.62平米</td>\n",
       "      <td>中楼层(共11层)2008年建板塔结合</td>\n",
       "      <td>距离5号线立水桥站1170米房本满两年随时看房</td>\n",
       "      <td>1000</td>\n",
       "      <td>64675</td>\n",
       "      <td>323人关注 / 共579次带看 / 一年前发布</td>\n",
       "    </tr>\n",
       "    <tr>\n",
       "      <th>2</th>\n",
       "      <td>2</td>\n",
       "      <td>沁园公寓 三居室 距离苏州街地铁站383米</td>\n",
       "      <td>沁园公寓</td>\n",
       "      <td>低楼层(共24层)1999年建塔楼</td>\n",
       "      <td>3室2厅</td>\n",
       "      <td>177.36平米</td>\n",
       "      <td>低楼层(共24层)1999年建塔楼</td>\n",
       "      <td>距离10号线苏州街站383米房本满五年</td>\n",
       "      <td>1200</td>\n",
       "      <td>67659</td>\n",
       "      <td>185人关注 / 共108次带看 / 一年前发布</td>\n",
       "    </tr>\n",
       "    <tr>\n",
       "      <th>3</th>\n",
       "      <td>3</td>\n",
       "      <td>金星园东南向户型，四居室设计，中间楼层</td>\n",
       "      <td>金星园</td>\n",
       "      <td>中楼层(共28层)2007年建塔楼</td>\n",
       "      <td>4室2厅</td>\n",
       "      <td>245.52平米</td>\n",
       "      <td>中楼层(共28层)2007年建塔楼</td>\n",
       "      <td>距离机场线三元桥站1153米房本满五年</td>\n",
       "      <td>1650</td>\n",
       "      <td>67205</td>\n",
       "      <td>157人关注 / 共35次带看 / 一年前发布</td>\n",
       "    </tr>\n",
       "    <tr>\n",
       "      <th>4</th>\n",
       "      <td>4</td>\n",
       "      <td>龙湾别墅 一期独栋 满五年 带下沉式庭院，精装</td>\n",
       "      <td>龙湾别墅</td>\n",
       "      <td>地下室(共3层)2006年建</td>\n",
       "      <td>3室3厅</td>\n",
       "      <td>351.48平米</td>\n",
       "      <td>地下室(共3层)2006年建</td>\n",
       "      <td>房本满五年</td>\n",
       "      <td>2400</td>\n",
       "      <td>68283</td>\n",
       "      <td>120人关注 / 共42次带看 / 一年前发布</td>\n",
       "    </tr>\n",
       "  </tbody>\n",
       "</table>\n",
       "</div>"
      ],
      "text/plain": [
       "   index                      title community                years housetype  \\\n",
       "0      0  宝星华庭一层带花园，客厅挑高，通透四居室。房主自荐    宝星国际三期   底层(共22层)2010年建板塔结合      4室1厅   \n",
       "1      1        三面采光全明南北朝向 正对小区绿地花园      顶秀青溪  中楼层(共11层)2008年建板塔结合      3室2厅   \n",
       "2      2      沁园公寓 三居室 距离苏州街地铁站383米      沁园公寓    低楼层(共24层)1999年建塔楼      3室2厅   \n",
       "3      3        金星园东南向户型，四居室设计，中间楼层       金星园    中楼层(共28层)2007年建塔楼      4室2厅   \n",
       "4      4    龙湾别墅 一期独栋 满五年 带下沉式庭院，精装      龙湾别墅       地下室(共3层)2006年建      3室3厅   \n",
       "\n",
       "     square                floor                  taxtype  totalPrice  \\\n",
       "0  298.79平米   底层(共22层)2010年建板塔结合      距离15号线望京东站680米房本满五年        2598   \n",
       "1  154.62平米  中楼层(共11层)2008年建板塔结合  距离5号线立水桥站1170米房本满两年随时看房        1000   \n",
       "2  177.36平米    低楼层(共24层)1999年建塔楼      距离10号线苏州街站383米房本满五年        1200   \n",
       "3  245.52平米    中楼层(共28层)2007年建塔楼      距离机场线三元桥站1153米房本满五年        1650   \n",
       "4  351.48平米       地下室(共3层)2006年建                    房本满五年        2400   \n",
       "\n",
       "   unitPrice                followInfo  \n",
       "0      86951    53人关注 / 共44次带看 / 一年前发布  \n",
       "1      64675  323人关注 / 共579次带看 / 一年前发布  \n",
       "2      67659  185人关注 / 共108次带看 / 一年前发布  \n",
       "3      67205   157人关注 / 共35次带看 / 一年前发布  \n",
       "4      68283   120人关注 / 共42次带看 / 一年前发布  "
      ]
     },
     "execution_count": 4,
     "metadata": {},
     "output_type": "execute_result"
    }
   ],
   "source": [
    "data.head()"
   ]
  },
  {
   "cell_type": "code",
   "execution_count": 5,
   "metadata": {},
   "outputs": [
    {
     "data": {
      "text/plain": [
       "2室1厅     6582\n",
       "3室1厅     2534\n",
       "1室1厅     2472\n",
       "3室2厅     1424\n",
       "2室2厅     1018\n",
       "1室0厅      620\n",
       "4室2厅      496\n",
       "4室1厅      181\n",
       "2房间1卫     100\n",
       "5室2厅       92\n",
       "1房间1卫      87\n",
       "1室2厅       64\n",
       "4室3厅       55\n",
       "3房间1卫      44\n",
       "3室0厅       35\n",
       "2室0厅       34\n",
       "车位         32\n",
       "6室2厅       29\n",
       "5室3厅       22\n",
       "联排别墅       19\n",
       "1房间0卫      16\n",
       "5室1厅       15\n",
       "6室3厅       13\n",
       "独栋别墅       12\n",
       "3室3厅       11\n",
       "叠拼别墅       10\n",
       "4室0厅       10\n",
       "4房间2卫       9\n",
       "双拼别墅        9\n",
       "4房间1卫       6\n",
       "2房间2卫       6\n",
       "6室1厅        5\n",
       "5室4厅        4\n",
       "6室4厅        3\n",
       "5室5厅        3\n",
       "7室3厅        3\n",
       "3房间2卫       3\n",
       "6房间2卫       2\n",
       "9室4厅        2\n",
       "2室3厅        2\n",
       "3房间3卫       2\n",
       "4房间3卫       2\n",
       "7室2厅        2\n",
       "5房间3卫       2\n",
       "2房间0卫       2\n",
       "6房间4卫       2\n",
       "3室4厅        1\n",
       "7室0厅        1\n",
       "2房间3卫       1\n",
       "8室4厅        1\n",
       "5室0厅        1\n",
       "6室0厅        1\n",
       "8房间5卫       1\n",
       "5房间2卫       1\n",
       "6房间3卫       1\n",
       "8室2厅        1\n",
       "7室1厅        1\n",
       "4室4厅        1\n",
       "Name: housetype, dtype: int64"
      ]
     },
     "execution_count": 5,
     "metadata": {},
     "output_type": "execute_result"
    }
   ],
   "source": [
    "data[data['unitPrice'] == data['unitPrice'].min()]\n",
    "data['housetype'].value_counts()\n",
    "\n",
    "# Beijing_unitPrice = data['unitPrice'].min()\n",
    "# print(Beijing_unitPrice)"
   ]
  },
  {
   "cell_type": "code",
   "execution_count": 10,
   "metadata": {},
   "outputs": [
    {
     "data": {
      "text/plain": [
       "(0.0, 7000.0)"
      ]
     },
     "execution_count": 10,
     "metadata": {},
     "output_type": "execute_result"
    },
    {
     "data": {
      "image/png": "[encoded data removed]",
      "text/plain": [
       "<Figure size 720x504 with 1 Axes>"
      ]
     },
     "metadata": {
      "needs_background": "light"
     },
     "output_type": "display_data"
    }
   ],
   "source": [
    "plt.figure(figsize=(10, 7))\n",
    "total_type = data['housetype'].value_counts().sort_values(\n",
    "    ascending=False).head(10)\n",
    "total_type.plot(kind='bar')\n",
    "for x, y in enumerate(total_type.values):\n",
    "    plt.text(x - 0.15, y + 100, \"%s\" % y)\n",
    "plt.ylim((0, 7000))"
   ]
  },
  {
   "cell_type": "code",
   "execution_count": 4,
   "metadata": {},
   "outputs": [],
   "source": [
    "plt.rcParams['font.sans-serif'] = ['SimHei']\n",
    "plt.rcParams['axes.unicode_minus'] = False\n",
    "# df.plot.pie(figsize=(10, 10))"
   ]
  },
  {
   "cell_type": "code",
   "execution_count": null,
   "metadata": {},
   "outputs": [],
   "source": [
    "plt.rcParams['font.sans-serif'] = ['SimHei']\n",
    "plt.rcParams['axes.unicode_minus'] = False\n",
    "df[0]\n",
    "df[1]\n",
    "# plt.figure('Bar', facecolor='lightgray')\n",
    "# plt.bar(\n",
    "#     x=df[0],  # 水平坐标数组\n",
    "#     y=df[1],  # 柱状图高度数组'\n",
    "#     label='',  #\n",
    "#     alpha=0.2  #\n",
    "# )"
   ]
  },
  {
   "cell_type": "code",
   "execution_count": null,
   "metadata": {},
   "outputs": [],
   "source": []
  }
 ],
 "metadata": {
  "kernelspec": {
   "display_name": "Python 3",
   "language": "python",
   "name": "python3"
  },
  "language_info": {
   "codemirror_mode": {
    "name": "ipython",
    "version": 3
   },
   "file_extension": ".py",
   "mimetype": "text/x-python",
   "name": "python",
   "nbconvert_exporter": "python",
   "pygments_lexer": "ipython3",
   "version": "3.7.7"
  }
 },
 "nbformat": 4,
 "nbformat_minor": 4
}
