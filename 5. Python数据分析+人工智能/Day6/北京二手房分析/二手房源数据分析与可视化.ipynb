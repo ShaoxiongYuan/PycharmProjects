{
 "cells": [
  {
   "cell_type": "markdown",
   "metadata": {},
   "source": [
    "# 二手房源信息数据分析与可视化"
   ]
  },
  {
   "cell_type": "code",
   "execution_count": 1,
   "metadata": {},
   "outputs": [],
   "source": [
    "import numpy as np\n",
    "import pandas as pd\n",
    "import matplotlib.pyplot as plt\n",
    "from pylab import mpl\n",
    "import seaborn as sns"
   ]
  },
  {
   "cell_type": "code",
   "execution_count": 2,
   "metadata": {},
   "outputs": [],
   "source": [
    "mpl.rcParams['font.sans-serif'] = ['Simhei']\n",
    "mpl.rcParams['axes.unicode_minus'] = False"
   ]
  },
  {
   "cell_type": "code",
   "execution_count": 3,
   "metadata": {},
   "outputs": [
    {
     "data": {
      "text/html": [
       "<div>\n",
       "<style scoped>\n",
       "    .dataframe tbody tr th:only-of-type {\n",
       "        vertical-align: middle;\n",
       "    }\n",
       "\n",
       "    .dataframe tbody tr th {\n",
       "        vertical-align: top;\n",
       "    }\n",
       "\n",
       "    .dataframe thead th {\n",
       "        text-align: right;\n",
       "    }\n",
       "</style>\n",
       "<table border=\"1\" class=\"dataframe\">\n",
       "  <thead>\n",
       "    <tr style=\"text-align: right;\">\n",
       "      <th></th>\n",
       "      <th>index</th>\n",
       "      <th>title</th>\n",
       "      <th>community</th>\n",
       "      <th>years</th>\n",
       "      <th>housetype</th>\n",
       "      <th>square</th>\n",
       "      <th>floor</th>\n",
       "      <th>taxtype</th>\n",
       "      <th>totalPrice</th>\n",
       "      <th>unitPrice</th>\n",
       "      <th>followInfo</th>\n",
       "    </tr>\n",
       "  </thead>\n",
       "  <tbody>\n",
       "    <tr>\n",
       "      <th>0</th>\n",
       "      <td>0</td>\n",
       "      <td>宝星华庭一层带花园，客厅挑高，通透四居室。房主自荐</td>\n",
       "      <td>宝星国际三期</td>\n",
       "      <td>底层(共22层)2010年建板塔结合</td>\n",
       "      <td>4室1厅</td>\n",
       "      <td>298.79平米</td>\n",
       "      <td>底层(共22层)2010年建板塔结合</td>\n",
       "      <td>距离15号线望京东站680米房本满五年</td>\n",
       "      <td>2598</td>\n",
       "      <td>86951</td>\n",
       "      <td>53人关注 / 共44次带看 / 一年前发布</td>\n",
       "    </tr>\n",
       "    <tr>\n",
       "      <th>1</th>\n",
       "      <td>1</td>\n",
       "      <td>三面采光全明南北朝向 正对小区绿地花园</td>\n",
       "      <td>顶秀青溪</td>\n",
       "      <td>中楼层(共11层)2008年建板塔结合</td>\n",
       "      <td>3室2厅</td>\n",
       "      <td>154.62平米</td>\n",
       "      <td>中楼层(共11层)2008年建板塔结合</td>\n",
       "      <td>距离5号线立水桥站1170米房本满两年随时看房</td>\n",
       "      <td>1000</td>\n",
       "      <td>64675</td>\n",
       "      <td>323人关注 / 共579次带看 / 一年前发布</td>\n",
       "    </tr>\n",
       "    <tr>\n",
       "      <th>2</th>\n",
       "      <td>2</td>\n",
       "      <td>沁园公寓 三居室 距离苏州街地铁站383米</td>\n",
       "      <td>沁园公寓</td>\n",
       "      <td>低楼层(共24层)1999年建塔楼</td>\n",
       "      <td>3室2厅</td>\n",
       "      <td>177.36平米</td>\n",
       "      <td>低楼层(共24层)1999年建塔楼</td>\n",
       "      <td>距离10号线苏州街站383米房本满五年</td>\n",
       "      <td>1200</td>\n",
       "      <td>67659</td>\n",
       "      <td>185人关注 / 共108次带看 / 一年前发布</td>\n",
       "    </tr>\n",
       "    <tr>\n",
       "      <th>3</th>\n",
       "      <td>3</td>\n",
       "      <td>金星园东南向户型，四居室设计，中间楼层</td>\n",
       "      <td>金星园</td>\n",
       "      <td>中楼层(共28层)2007年建塔楼</td>\n",
       "      <td>4室2厅</td>\n",
       "      <td>245.52平米</td>\n",
       "      <td>中楼层(共28层)2007年建塔楼</td>\n",
       "      <td>距离机场线三元桥站1153米房本满五年</td>\n",
       "      <td>1650</td>\n",
       "      <td>67205</td>\n",
       "      <td>157人关注 / 共35次带看 / 一年前发布</td>\n",
       "    </tr>\n",
       "    <tr>\n",
       "      <th>4</th>\n",
       "      <td>4</td>\n",
       "      <td>龙湾别墅 一期独栋 满五年 带下沉式庭院，精装</td>\n",
       "      <td>龙湾别墅</td>\n",
       "      <td>地下室(共3层)2006年建</td>\n",
       "      <td>3室3厅</td>\n",
       "      <td>351.48平米</td>\n",
       "      <td>地下室(共3层)2006年建</td>\n",
       "      <td>房本满五年</td>\n",
       "      <td>2400</td>\n",
       "      <td>68283</td>\n",
       "      <td>120人关注 / 共42次带看 / 一年前发布</td>\n",
       "    </tr>\n",
       "  </tbody>\n",
       "</table>\n",
       "</div>"
      ],
      "text/plain": [
       "   index                      title community                years housetype  \\\n",
       "0      0  宝星华庭一层带花园，客厅挑高，通透四居室。房主自荐    宝星国际三期   底层(共22层)2010年建板塔结合      4室1厅   \n",
       "1      1        三面采光全明南北朝向 正对小区绿地花园      顶秀青溪  中楼层(共11层)2008年建板塔结合      3室2厅   \n",
       "2      2      沁园公寓 三居室 距离苏州街地铁站383米      沁园公寓    低楼层(共24层)1999年建塔楼      3室2厅   \n",
       "3      3        金星园东南向户型，四居室设计，中间楼层       金星园    中楼层(共28层)2007年建塔楼      4室2厅   \n",
       "4      4    龙湾别墅 一期独栋 满五年 带下沉式庭院，精装      龙湾别墅       地下室(共3层)2006年建      3室3厅   \n",
       "\n",
       "     square                floor                  taxtype  totalPrice  \\\n",
       "0  298.79平米   底层(共22层)2010年建板塔结合      距离15号线望京东站680米房本满五年        2598   \n",
       "1  154.62平米  中楼层(共11层)2008年建板塔结合  距离5号线立水桥站1170米房本满两年随时看房        1000   \n",
       "2  177.36平米    低楼层(共24层)1999年建塔楼      距离10号线苏州街站383米房本满五年        1200   \n",
       "3  245.52平米    中楼层(共28层)2007年建塔楼      距离机场线三元桥站1153米房本满五年        1650   \n",
       "4  351.48平米       地下室(共3层)2006年建                    房本满五年        2400   \n",
       "\n",
       "   unitPrice                followInfo  \n",
       "0      86951    53人关注 / 共44次带看 / 一年前发布  \n",
       "1      64675  323人关注 / 共579次带看 / 一年前发布  \n",
       "2      67659  185人关注 / 共108次带看 / 一年前发布  \n",
       "3      67205   157人关注 / 共35次带看 / 一年前发布  \n",
       "4      68283   120人关注 / 共42次带看 / 一年前发布  "
      ]
     },
     "execution_count": 3,
     "metadata": {},
     "output_type": "execute_result"
    }
   ],
   "source": [
    "#所有房源信息\n",
    "house = pd.read_csv('house.csv')\n",
    "house.head()"
   ]
  },
  {
   "cell_type": "markdown",
   "metadata": {},
   "source": [
    "## 数据描述性分析"
   ]
  },
  {
   "cell_type": "code",
   "execution_count": 4,
   "metadata": {},
   "outputs": [
    {
     "name": "stdout",
     "output_type": "stream",
     "text": [
      "<class 'pandas.core.frame.DataFrame'>\n",
      "RangeIndex: 16108 entries, 0 to 16107\n",
      "Data columns (total 11 columns):\n",
      "index         16108 non-null int64\n",
      "title         16108 non-null object\n",
      "community     16108 non-null object\n",
      "years         16106 non-null object\n",
      "housetype     16108 non-null object\n",
      "square        16108 non-null object\n",
      "floor         16106 non-null object\n",
      "taxtype       15361 non-null object\n",
      "totalPrice    16108 non-null int64\n",
      "unitPrice     16108 non-null int64\n",
      "followInfo    16108 non-null object\n",
      "dtypes: int64(3), object(8)\n",
      "memory usage: 1.4+ MB\n"
     ]
    }
   ],
   "source": [
    "house.info()"
   ]
  },
  {
   "cell_type": "code",
   "execution_count": 5,
   "metadata": {},
   "outputs": [
    {
     "data": {
      "text/html": [
       "<div>\n",
       "<style scoped>\n",
       "    .dataframe tbody tr th:only-of-type {\n",
       "        vertical-align: middle;\n",
       "    }\n",
       "\n",
       "    .dataframe tbody tr th {\n",
       "        vertical-align: top;\n",
       "    }\n",
       "\n",
       "    .dataframe thead th {\n",
       "        text-align: right;\n",
       "    }\n",
       "</style>\n",
       "<table border=\"1\" class=\"dataframe\">\n",
       "  <thead>\n",
       "    <tr style=\"text-align: right;\">\n",
       "      <th></th>\n",
       "      <th>index</th>\n",
       "      <th>id</th>\n",
       "      <th>community</th>\n",
       "      <th>district</th>\n",
       "      <th>bizcircle</th>\n",
       "      <th>tagList</th>\n",
       "      <th>onsale</th>\n",
       "    </tr>\n",
       "  </thead>\n",
       "  <tbody>\n",
       "    <tr>\n",
       "      <th>0</th>\n",
       "      <td>0</td>\n",
       "      <td>1111000004310</td>\n",
       "      <td>什坊院甲3号院</td>\n",
       "      <td>海淀</td>\n",
       "      <td>田村</td>\n",
       "      <td>NaN</td>\n",
       "      <td>0</td>\n",
       "    </tr>\n",
       "    <tr>\n",
       "      <th>1</th>\n",
       "      <td>1</td>\n",
       "      <td>1111027373682</td>\n",
       "      <td>大慧寺6号院</td>\n",
       "      <td>海淀</td>\n",
       "      <td>白石桥</td>\n",
       "      <td>NaN</td>\n",
       "      <td>2</td>\n",
       "    </tr>\n",
       "    <tr>\n",
       "      <th>2</th>\n",
       "      <td>2</td>\n",
       "      <td>1111027373683</td>\n",
       "      <td>东花市北里东区</td>\n",
       "      <td>东城</td>\n",
       "      <td>东花市</td>\n",
       "      <td>近地铁1号线王府井站</td>\n",
       "      <td>0</td>\n",
       "    </tr>\n",
       "    <tr>\n",
       "      <th>3</th>\n",
       "      <td>3</td>\n",
       "      <td>1111027373684</td>\n",
       "      <td>东花市北里西区</td>\n",
       "      <td>东城</td>\n",
       "      <td>东花市</td>\n",
       "      <td>近地铁7号线广渠门内站</td>\n",
       "      <td>7</td>\n",
       "    </tr>\n",
       "    <tr>\n",
       "      <th>4</th>\n",
       "      <td>4</td>\n",
       "      <td>1111027373685</td>\n",
       "      <td>东花市北里中区</td>\n",
       "      <td>东城</td>\n",
       "      <td>东花市</td>\n",
       "      <td>近地铁2号线朝阳门站</td>\n",
       "      <td>9</td>\n",
       "    </tr>\n",
       "  </tbody>\n",
       "</table>\n",
       "</div>"
      ],
      "text/plain": [
       "   index             id community district bizcircle      tagList  onsale\n",
       "0      0  1111000004310   什坊院甲3号院       海淀        田村          NaN       0\n",
       "1      1  1111027373682    大慧寺6号院       海淀       白石桥          NaN       2\n",
       "2      2  1111027373683   东花市北里东区       东城       东花市   近地铁1号线王府井站       0\n",
       "3      3  1111027373684   东花市北里西区       东城       东花市  近地铁7号线广渠门内站       7\n",
       "4      4  1111027373685   东花市北里中区       东城       东花市   近地铁2号线朝阳门站       9"
      ]
     },
     "execution_count": 5,
     "metadata": {},
     "output_type": "execute_result"
    }
   ],
   "source": [
    "# 所有小区信息\n",
    "community = pd.read_csv('community_describe.csv')\n",
    "community.head()"
   ]
  },
  {
   "cell_type": "code",
   "execution_count": 6,
   "metadata": {},
   "outputs": [
    {
     "data": {
      "text/html": [
       "<div>\n",
       "<style scoped>\n",
       "    .dataframe tbody tr th:only-of-type {\n",
       "        vertical-align: middle;\n",
       "    }\n",
       "\n",
       "    .dataframe tbody tr th {\n",
       "        vertical-align: top;\n",
       "    }\n",
       "\n",
       "    .dataframe thead th {\n",
       "        text-align: right;\n",
       "    }\n",
       "</style>\n",
       "<table border=\"1\" class=\"dataframe\">\n",
       "  <thead>\n",
       "    <tr style=\"text-align: right;\">\n",
       "      <th></th>\n",
       "      <th>index_x</th>\n",
       "      <th>title</th>\n",
       "      <th>community</th>\n",
       "      <th>years</th>\n",
       "      <th>housetype</th>\n",
       "      <th>square</th>\n",
       "      <th>floor</th>\n",
       "      <th>taxtype</th>\n",
       "      <th>totalPrice</th>\n",
       "      <th>unitPrice</th>\n",
       "      <th>followInfo</th>\n",
       "      <th>index_y</th>\n",
       "      <th>id</th>\n",
       "      <th>district</th>\n",
       "      <th>bizcircle</th>\n",
       "      <th>tagList</th>\n",
       "      <th>onsale</th>\n",
       "    </tr>\n",
       "  </thead>\n",
       "  <tbody>\n",
       "    <tr>\n",
       "      <th>0</th>\n",
       "      <td>0</td>\n",
       "      <td>宝星华庭一层带花园，客厅挑高，通透四居室。房主自荐</td>\n",
       "      <td>宝星国际三期</td>\n",
       "      <td>底层(共22层)2010年建板塔结合</td>\n",
       "      <td>4室1厅</td>\n",
       "      <td>298.79平米</td>\n",
       "      <td>底层(共22层)2010年建板塔结合</td>\n",
       "      <td>距离15号线望京东站680米房本满五年</td>\n",
       "      <td>2598</td>\n",
       "      <td>86951</td>\n",
       "      <td>53人关注 / 共44次带看 / 一年前发布</td>\n",
       "      <td>1535</td>\n",
       "      <td>1111027376204</td>\n",
       "      <td>朝阳</td>\n",
       "      <td>望京</td>\n",
       "      <td>近地铁15号线望京东站</td>\n",
       "      <td>7</td>\n",
       "    </tr>\n",
       "    <tr>\n",
       "      <th>1</th>\n",
       "      <td>1234</td>\n",
       "      <td>闹中取静小区，交通购物方便，户型方正客厅挑高。房主自荐</td>\n",
       "      <td>宝星国际三期</td>\n",
       "      <td>中楼层(共22层)2010年建板塔结合</td>\n",
       "      <td>4室1厅</td>\n",
       "      <td>229.97平米</td>\n",
       "      <td>中楼层(共22层)2010年建板塔结合</td>\n",
       "      <td>距离15号线望京东站680米房本满五年</td>\n",
       "      <td>1870</td>\n",
       "      <td>81315</td>\n",
       "      <td>151人关注 / 共106次带看 / 7个月以前发布</td>\n",
       "      <td>1535</td>\n",
       "      <td>1111027376204</td>\n",
       "      <td>朝阳</td>\n",
       "      <td>望京</td>\n",
       "      <td>近地铁15号线望京东站</td>\n",
       "      <td>7</td>\n",
       "    </tr>\n",
       "    <tr>\n",
       "      <th>2</th>\n",
       "      <td>2241</td>\n",
       "      <td>宝星华庭 全明格局三居 诚意出售房主自荐</td>\n",
       "      <td>宝星国际三期</td>\n",
       "      <td>中楼层(共14层)2010年建板塔结合</td>\n",
       "      <td>3室2厅</td>\n",
       "      <td>164.06平米</td>\n",
       "      <td>中楼层(共14层)2010年建板塔结合</td>\n",
       "      <td>距离15号线望京东站971米房本满两年随时看房</td>\n",
       "      <td>1340</td>\n",
       "      <td>81678</td>\n",
       "      <td>77人关注 / 共115次带看 / 6个月以前发布</td>\n",
       "      <td>1535</td>\n",
       "      <td>1111027376204</td>\n",
       "      <td>朝阳</td>\n",
       "      <td>望京</td>\n",
       "      <td>近地铁15号线望京东站</td>\n",
       "      <td>7</td>\n",
       "    </tr>\n",
       "    <tr>\n",
       "      <th>3</th>\n",
       "      <td>2635</td>\n",
       "      <td>宝星华庭 东南北四居 客厅朝南挑高6米 免个税房主自荐</td>\n",
       "      <td>宝星国际三期</td>\n",
       "      <td>中楼层(共22层)2010年建板塔结合</td>\n",
       "      <td>4室3厅</td>\n",
       "      <td>229.69平米</td>\n",
       "      <td>中楼层(共22层)2010年建板塔结合</td>\n",
       "      <td>距离15号线望京东站680米房本满五年</td>\n",
       "      <td>1800</td>\n",
       "      <td>78367</td>\n",
       "      <td>22人关注 / 共1次带看 / 5个月以前发布</td>\n",
       "      <td>1535</td>\n",
       "      <td>1111027376204</td>\n",
       "      <td>朝阳</td>\n",
       "      <td>望京</td>\n",
       "      <td>近地铁15号线望京东站</td>\n",
       "      <td>7</td>\n",
       "    </tr>\n",
       "    <tr>\n",
       "      <th>4</th>\n",
       "      <td>7954</td>\n",
       "      <td>南北通透三居室 客厅餐厅分离 南 北 东三面采光</td>\n",
       "      <td>宝星国际三期</td>\n",
       "      <td>低楼层(共15层)2010年建板塔结合</td>\n",
       "      <td>3室2厅</td>\n",
       "      <td>172.68平米</td>\n",
       "      <td>低楼层(共15层)2010年建板塔结合</td>\n",
       "      <td>距离15号线望京东站1046米房本满五年随时看房</td>\n",
       "      <td>1415</td>\n",
       "      <td>81944</td>\n",
       "      <td>107人关注 / 共43次带看 / 2个月以前发布</td>\n",
       "      <td>1535</td>\n",
       "      <td>1111027376204</td>\n",
       "      <td>朝阳</td>\n",
       "      <td>望京</td>\n",
       "      <td>近地铁15号线望京东站</td>\n",
       "      <td>7</td>\n",
       "    </tr>\n",
       "  </tbody>\n",
       "</table>\n",
       "</div>"
      ],
      "text/plain": [
       "   index_x                        title community                years  \\\n",
       "0        0    宝星华庭一层带花园，客厅挑高，通透四居室。房主自荐    宝星国际三期   底层(共22层)2010年建板塔结合   \n",
       "1     1234  闹中取静小区，交通购物方便，户型方正客厅挑高。房主自荐    宝星国际三期  中楼层(共22层)2010年建板塔结合   \n",
       "2     2241         宝星华庭 全明格局三居 诚意出售房主自荐    宝星国际三期  中楼层(共14层)2010年建板塔结合   \n",
       "3     2635  宝星华庭 东南北四居 客厅朝南挑高6米 免个税房主自荐    宝星国际三期  中楼层(共22层)2010年建板塔结合   \n",
       "4     7954     南北通透三居室 客厅餐厅分离 南 北 东三面采光    宝星国际三期  低楼层(共15层)2010年建板塔结合   \n",
       "\n",
       "  housetype    square                floor                   taxtype  \\\n",
       "0      4室1厅  298.79平米   底层(共22层)2010年建板塔结合       距离15号线望京东站680米房本满五年   \n",
       "1      4室1厅  229.97平米  中楼层(共22层)2010年建板塔结合       距离15号线望京东站680米房本满五年   \n",
       "2      3室2厅  164.06平米  中楼层(共14层)2010年建板塔结合   距离15号线望京东站971米房本满两年随时看房   \n",
       "3      4室3厅  229.69平米  中楼层(共22层)2010年建板塔结合       距离15号线望京东站680米房本满五年   \n",
       "4      3室2厅  172.68平米  低楼层(共15层)2010年建板塔结合  距离15号线望京东站1046米房本满五年随时看房   \n",
       "\n",
       "   totalPrice  unitPrice                  followInfo  index_y             id  \\\n",
       "0        2598      86951      53人关注 / 共44次带看 / 一年前发布     1535  1111027376204   \n",
       "1        1870      81315  151人关注 / 共106次带看 / 7个月以前发布     1535  1111027376204   \n",
       "2        1340      81678   77人关注 / 共115次带看 / 6个月以前发布     1535  1111027376204   \n",
       "3        1800      78367     22人关注 / 共1次带看 / 5个月以前发布     1535  1111027376204   \n",
       "4        1415      81944   107人关注 / 共43次带看 / 2个月以前发布     1535  1111027376204   \n",
       "\n",
       "  district bizcircle      tagList  onsale  \n",
       "0       朝阳        望京  近地铁15号线望京东站       7  \n",
       "1       朝阳        望京  近地铁15号线望京东站       7  \n",
       "2       朝阳        望京  近地铁15号线望京东站       7  \n",
       "3       朝阳        望京  近地铁15号线望京东站       7  \n",
       "4       朝阳        望京  近地铁15号线望京东站       7  "
      ]
     },
     "execution_count": 6,
     "metadata": {},
     "output_type": "execute_result"
    }
   ],
   "source": [
    "# 合并小区信息和房源信息表，可以获得房源更详细的地理位置\n",
    "house_detail = pd.merge(house, community, on='community')\n",
    "# 打印数据\n",
    "house_detail.head()"
   ]
  },
  {
   "cell_type": "markdown",
   "metadata": {},
   "source": [
    "## 数值型数据描述"
   ]
  },
  {
   "cell_type": "code",
   "execution_count": 7,
   "metadata": {},
   "outputs": [],
   "source": [
    "# 将字符串转换成数字\n",
    "def data_ad(select_data, str):\n",
    "    if str in select_data:\n",
    "        return float(select_data[:-2])\n",
    "    else:\n",
    "        return None\n",
    "\n",
    "\n",
    "# 处理房屋面积数据\n",
    "house['square'] = house['square'].apply(data_ad, str='平米')"
   ]
  },
  {
   "cell_type": "code",
   "execution_count": 8,
   "metadata": {},
   "outputs": [
    {
     "data": {
      "text/html": [
       "<div>\n",
       "<style scoped>\n",
       "    .dataframe tbody tr th:only-of-type {\n",
       "        vertical-align: middle;\n",
       "    }\n",
       "\n",
       "    .dataframe tbody tr th {\n",
       "        vertical-align: top;\n",
       "    }\n",
       "\n",
       "    .dataframe thead th {\n",
       "        text-align: right;\n",
       "    }\n",
       "</style>\n",
       "<table border=\"1\" class=\"dataframe\">\n",
       "  <thead>\n",
       "    <tr style=\"text-align: right;\">\n",
       "      <th></th>\n",
       "      <th>index</th>\n",
       "      <th>title</th>\n",
       "      <th>community</th>\n",
       "      <th>years</th>\n",
       "      <th>housetype</th>\n",
       "      <th>square</th>\n",
       "      <th>floor</th>\n",
       "      <th>taxtype</th>\n",
       "      <th>totalPrice</th>\n",
       "      <th>unitPrice</th>\n",
       "      <th>followInfo</th>\n",
       "    </tr>\n",
       "  </thead>\n",
       "  <tbody>\n",
       "    <tr>\n",
       "      <th>0</th>\n",
       "      <td>0</td>\n",
       "      <td>宝星华庭一层带花园，客厅挑高，通透四居室。房主自荐</td>\n",
       "      <td>宝星国际三期</td>\n",
       "      <td>底层(共22层)2010年建板塔结合</td>\n",
       "      <td>4室1厅</td>\n",
       "      <td>298.79</td>\n",
       "      <td>底层(共22层)2010年建板塔结合</td>\n",
       "      <td>距离15号线望京东站680米房本满五年</td>\n",
       "      <td>2598</td>\n",
       "      <td>86951</td>\n",
       "      <td>53人关注 / 共44次带看 / 一年前发布</td>\n",
       "    </tr>\n",
       "  </tbody>\n",
       "</table>\n",
       "</div>"
      ],
      "text/plain": [
       "   index                      title community               years housetype  \\\n",
       "0      0  宝星华庭一层带花园，客厅挑高，通透四居室。房主自荐    宝星国际三期  底层(共22层)2010年建板塔结合      4室1厅   \n",
       "\n",
       "   square               floor              taxtype  totalPrice  unitPrice  \\\n",
       "0  298.79  底层(共22层)2010年建板塔结合  距离15号线望京东站680米房本满五年        2598      86951   \n",
       "\n",
       "               followInfo  \n",
       "0  53人关注 / 共44次带看 / 一年前发布  "
      ]
     },
     "execution_count": 8,
     "metadata": {},
     "output_type": "execute_result"
    }
   ],
   "source": [
    "# 查看数据\n",
    "house.head(1)"
   ]
  },
  {
   "cell_type": "code",
   "execution_count": 9,
   "metadata": {},
   "outputs": [
    {
     "data": {
      "text/html": [
       "<div>\n",
       "<style scoped>\n",
       "    .dataframe tbody tr th:only-of-type {\n",
       "        vertical-align: middle;\n",
       "    }\n",
       "\n",
       "    .dataframe tbody tr th {\n",
       "        vertical-align: top;\n",
       "    }\n",
       "\n",
       "    .dataframe thead th {\n",
       "        text-align: right;\n",
       "    }\n",
       "</style>\n",
       "<table border=\"1\" class=\"dataframe\">\n",
       "  <thead>\n",
       "    <tr style=\"text-align: right;\">\n",
       "      <th></th>\n",
       "      <th>index</th>\n",
       "      <th>square</th>\n",
       "      <th>totalPrice</th>\n",
       "      <th>unitPrice</th>\n",
       "    </tr>\n",
       "  </thead>\n",
       "  <tbody>\n",
       "    <tr>\n",
       "      <th>count</th>\n",
       "      <td>16108.000000</td>\n",
       "      <td>16058.000000</td>\n",
       "      <td>16108.000000</td>\n",
       "      <td>16108.000000</td>\n",
       "    </tr>\n",
       "    <tr>\n",
       "      <th>mean</th>\n",
       "      <td>8053.500000</td>\n",
       "      <td>95.870368</td>\n",
       "      <td>747.983735</td>\n",
       "      <td>77656.823814</td>\n",
       "    </tr>\n",
       "    <tr>\n",
       "      <th>std</th>\n",
       "      <td>4650.123403</td>\n",
       "      <td>57.622963</td>\n",
       "      <td>536.202306</td>\n",
       "      <td>23616.114546</td>\n",
       "    </tr>\n",
       "    <tr>\n",
       "      <th>min</th>\n",
       "      <td>0.000000</td>\n",
       "      <td>11.760000</td>\n",
       "      <td>15.000000</td>\n",
       "      <td>2539.000000</td>\n",
       "    </tr>\n",
       "    <tr>\n",
       "      <th>25%</th>\n",
       "      <td>4026.750000</td>\n",
       "      <td>61.042500</td>\n",
       "      <td>439.000000</td>\n",
       "      <td>60449.500000</td>\n",
       "    </tr>\n",
       "    <tr>\n",
       "      <th>50%</th>\n",
       "      <td>8053.500000</td>\n",
       "      <td>81.125000</td>\n",
       "      <td>600.000000</td>\n",
       "      <td>75094.000000</td>\n",
       "    </tr>\n",
       "    <tr>\n",
       "      <th>75%</th>\n",
       "      <td>12080.250000</td>\n",
       "      <td>112.695000</td>\n",
       "      <td>870.000000</td>\n",
       "      <td>91474.250000</td>\n",
       "    </tr>\n",
       "    <tr>\n",
       "      <th>max</th>\n",
       "      <td>16107.000000</td>\n",
       "      <td>2623.280000</td>\n",
       "      <td>12500.000000</td>\n",
       "      <td>159991.000000</td>\n",
       "    </tr>\n",
       "  </tbody>\n",
       "</table>\n",
       "</div>"
      ],
      "text/plain": [
       "              index        square    totalPrice      unitPrice\n",
       "count  16108.000000  16058.000000  16108.000000   16108.000000\n",
       "mean    8053.500000     95.870368    747.983735   77656.823814\n",
       "std     4650.123403     57.622963    536.202306   23616.114546\n",
       "min        0.000000     11.760000     15.000000    2539.000000\n",
       "25%     4026.750000     61.042500    439.000000   60449.500000\n",
       "50%     8053.500000     81.125000    600.000000   75094.000000\n",
       "75%    12080.250000    112.695000    870.000000   91474.250000\n",
       "max    16107.000000   2623.280000  12500.000000  159991.000000"
      ]
     },
     "execution_count": 9,
     "metadata": {},
     "output_type": "execute_result"
    }
   ],
   "source": [
    "house.describe()"
   ]
  },
  {
   "cell_type": "markdown",
   "metadata": {},
   "source": [
    "## 户型的种类"
   ]
  },
  {
   "cell_type": "code",
   "execution_count": 10,
   "metadata": {},
   "outputs": [
    {
     "data": {
      "text/plain": [
       "2室1厅     6582\n",
       "3室1厅     2534\n",
       "1室1厅     2472\n",
       "3室2厅     1424\n",
       "2室2厅     1018\n",
       "1室0厅      620\n",
       "4室2厅      496\n",
       "4室1厅      181\n",
       "2房间1卫     100\n",
       "5室2厅       92\n",
       "1房间1卫      87\n",
       "1室2厅       64\n",
       "4室3厅       55\n",
       "3房间1卫      44\n",
       "3室0厅       35\n",
       "2室0厅       34\n",
       "车位         32\n",
       "6室2厅       29\n",
       "5室3厅       22\n",
       "联排别墅       19\n",
       "1房间0卫      16\n",
       "5室1厅       15\n",
       "6室3厅       13\n",
       "独栋别墅       12\n",
       "3室3厅       11\n",
       "4室0厅       10\n",
       "叠拼别墅       10\n",
       "4房间2卫       9\n",
       "双拼别墅        9\n",
       "2房间2卫       6\n",
       "4房间1卫       6\n",
       "6室1厅        5\n",
       "5室4厅        4\n",
       "7室3厅        3\n",
       "3房间2卫       3\n",
       "6室4厅        3\n",
       "5室5厅        3\n",
       "6房间4卫       2\n",
       "2房间0卫       2\n",
       "3房间3卫       2\n",
       "5房间3卫       2\n",
       "2室3厅        2\n",
       "7室2厅        2\n",
       "9室4厅        2\n",
       "6房间2卫       2\n",
       "4房间3卫       2\n",
       "6房间3卫       1\n",
       "7室0厅        1\n",
       "8房间5卫       1\n",
       "8室2厅        1\n",
       "5室0厅        1\n",
       "5房间2卫       1\n",
       "4室4厅        1\n",
       "8室4厅        1\n",
       "2房间3卫       1\n",
       "6室0厅        1\n",
       "7室1厅        1\n",
       "3室4厅        1\n",
       "Name: housetype, dtype: int64"
      ]
     },
     "execution_count": 10,
     "metadata": {},
     "output_type": "execute_result"
    }
   ],
   "source": [
    "house.housetype.value_counts()"
   ]
  },
  {
   "cell_type": "code",
   "execution_count": 11,
   "metadata": {},
   "outputs": [],
   "source": [
    "car = house[house.housetype.str.contains('车位')]\n",
    "# 记录中共有车位\n",
    "car.shape[0]\n",
    "# 删除车位信息\n",
    "house.drop(car.index, inplace=True)"
   ]
  },
  {
   "cell_type": "markdown",
   "metadata": {},
   "source": [
    "## 数据分析1：别墅价格分布"
   ]
  },
  {
   "cell_type": "code",
   "execution_count": 12,
   "metadata": {},
   "outputs": [
    {
     "data": {
      "text/plain": [
       "<matplotlib.axes._subplots.AxesSubplot at 0x28fb2e50948>"
      ]
     },
     "execution_count": 12,
     "metadata": {},
     "output_type": "execute_result"
    },
    {
     "data": {
      "image/png": "[encoded data removed]",
      "text/plain": [
       "<Figure size 432x288 with 1 Axes>"
      ]
     },
     "metadata": {
      "needs_background": "light"
     },
     "output_type": "display_data"
    }
   ],
   "source": [
    "villa = house[house.housetype.str.contains('别墅')]\n",
    "sns.distplot(villa['totalPrice'], hist=False)"
   ]
  },
  {
   "cell_type": "code",
   "execution_count": 13,
   "metadata": {},
   "outputs": [],
   "source": [
    "house.drop(villa.index, inplace=True)"
   ]
  },
  {
   "cell_type": "markdown",
   "metadata": {},
   "source": [
    "## 数据分析2：住房户型分布(前10)"
   ]
  },
  {
   "cell_type": "code",
   "execution_count": 14,
   "metadata": {
    "scrolled": false
   },
   "outputs": [
    {
     "data": {
      "text/plain": [
       "<matplotlib.axes._subplots.AxesSubplot at 0x28fb3081388>"
      ]
     },
     "execution_count": 14,
     "metadata": {},
     "output_type": "execute_result"
    },
    {
     "data": {
      "image/png": "[encoded data removed]",
      "text/plain": [
       "<Figure size 720x360 with 1 Axes>"
      ]
     },
     "metadata": {
      "needs_background": "light"
     },
     "output_type": "display_data"
    }
   ],
   "source": [
    "plt.figure(figsize=(10, 5))\n",
    "house_type = house.housetype.value_counts()\n",
    "house_type.head(10).plot(kind='bar', title='户型数量分布', rot=0)"
   ]
  },
  {
   "cell_type": "markdown",
   "metadata": {},
   "source": [
    "## 数据分析3：价格和关注人数的关系"
   ]
  },
  {
   "cell_type": "code",
   "execution_count": 15,
   "metadata": {},
   "outputs": [
    {
     "data": {
      "text/html": [
       "<div>\n",
       "<style scoped>\n",
       "    .dataframe tbody tr th:only-of-type {\n",
       "        vertical-align: middle;\n",
       "    }\n",
       "\n",
       "    .dataframe tbody tr th {\n",
       "        vertical-align: top;\n",
       "    }\n",
       "\n",
       "    .dataframe thead th {\n",
       "        text-align: right;\n",
       "    }\n",
       "</style>\n",
       "<table border=\"1\" class=\"dataframe\">\n",
       "  <thead>\n",
       "    <tr style=\"text-align: right;\">\n",
       "      <th></th>\n",
       "      <th>index</th>\n",
       "      <th>title</th>\n",
       "      <th>community</th>\n",
       "      <th>years</th>\n",
       "      <th>housetype</th>\n",
       "      <th>square</th>\n",
       "      <th>floor</th>\n",
       "      <th>taxtype</th>\n",
       "      <th>totalPrice</th>\n",
       "      <th>unitPrice</th>\n",
       "      <th>followInfo</th>\n",
       "    </tr>\n",
       "  </thead>\n",
       "  <tbody>\n",
       "    <tr>\n",
       "      <th>0</th>\n",
       "      <td>0</td>\n",
       "      <td>宝星华庭一层带花园，客厅挑高，通透四居室。房主自荐</td>\n",
       "      <td>宝星国际三期</td>\n",
       "      <td>底层(共22层)2010年建板塔结合</td>\n",
       "      <td>4室1厅</td>\n",
       "      <td>298.79</td>\n",
       "      <td>底层(共22层)2010年建板塔结合</td>\n",
       "      <td>距离15号线望京东站680米房本满五年</td>\n",
       "      <td>2598</td>\n",
       "      <td>86951</td>\n",
       "      <td>53人关注 / 共44次带看 / 一年前发布</td>\n",
       "    </tr>\n",
       "    <tr>\n",
       "      <th>1</th>\n",
       "      <td>1</td>\n",
       "      <td>三面采光全明南北朝向 正对小区绿地花园</td>\n",
       "      <td>顶秀青溪</td>\n",
       "      <td>中楼层(共11层)2008年建板塔结合</td>\n",
       "      <td>3室2厅</td>\n",
       "      <td>154.62</td>\n",
       "      <td>中楼层(共11层)2008年建板塔结合</td>\n",
       "      <td>距离5号线立水桥站1170米房本满两年随时看房</td>\n",
       "      <td>1000</td>\n",
       "      <td>64675</td>\n",
       "      <td>323人关注 / 共579次带看 / 一年前发布</td>\n",
       "    </tr>\n",
       "    <tr>\n",
       "      <th>2</th>\n",
       "      <td>2</td>\n",
       "      <td>沁园公寓 三居室 距离苏州街地铁站383米</td>\n",
       "      <td>沁园公寓</td>\n",
       "      <td>低楼层(共24层)1999年建塔楼</td>\n",
       "      <td>3室2厅</td>\n",
       "      <td>177.36</td>\n",
       "      <td>低楼层(共24层)1999年建塔楼</td>\n",
       "      <td>距离10号线苏州街站383米房本满五年</td>\n",
       "      <td>1200</td>\n",
       "      <td>67659</td>\n",
       "      <td>185人关注 / 共108次带看 / 一年前发布</td>\n",
       "    </tr>\n",
       "    <tr>\n",
       "      <th>3</th>\n",
       "      <td>3</td>\n",
       "      <td>金星园东南向户型，四居室设计，中间楼层</td>\n",
       "      <td>金星园</td>\n",
       "      <td>中楼层(共28层)2007年建塔楼</td>\n",
       "      <td>4室2厅</td>\n",
       "      <td>245.52</td>\n",
       "      <td>中楼层(共28层)2007年建塔楼</td>\n",
       "      <td>距离机场线三元桥站1153米房本满五年</td>\n",
       "      <td>1650</td>\n",
       "      <td>67205</td>\n",
       "      <td>157人关注 / 共35次带看 / 一年前发布</td>\n",
       "    </tr>\n",
       "    <tr>\n",
       "      <th>4</th>\n",
       "      <td>4</td>\n",
       "      <td>龙湾别墅 一期独栋 满五年 带下沉式庭院，精装</td>\n",
       "      <td>龙湾别墅</td>\n",
       "      <td>地下室(共3层)2006年建</td>\n",
       "      <td>3室3厅</td>\n",
       "      <td>351.48</td>\n",
       "      <td>地下室(共3层)2006年建</td>\n",
       "      <td>房本满五年</td>\n",
       "      <td>2400</td>\n",
       "      <td>68283</td>\n",
       "      <td>120人关注 / 共42次带看 / 一年前发布</td>\n",
       "    </tr>\n",
       "  </tbody>\n",
       "</table>\n",
       "</div>"
      ],
      "text/plain": [
       "   index                      title community                years housetype  \\\n",
       "0      0  宝星华庭一层带花园，客厅挑高，通透四居室。房主自荐    宝星国际三期   底层(共22层)2010年建板塔结合      4室1厅   \n",
       "1      1        三面采光全明南北朝向 正对小区绿地花园      顶秀青溪  中楼层(共11层)2008年建板塔结合      3室2厅   \n",
       "2      2      沁园公寓 三居室 距离苏州街地铁站383米      沁园公寓    低楼层(共24层)1999年建塔楼      3室2厅   \n",
       "3      3        金星园东南向户型，四居室设计，中间楼层       金星园    中楼层(共28层)2007年建塔楼      4室2厅   \n",
       "4      4    龙湾别墅 一期独栋 满五年 带下沉式庭院，精装      龙湾别墅       地下室(共3层)2006年建      3室3厅   \n",
       "\n",
       "   square                floor                  taxtype  totalPrice  \\\n",
       "0  298.79   底层(共22层)2010年建板塔结合      距离15号线望京东站680米房本满五年        2598   \n",
       "1  154.62  中楼层(共11层)2008年建板塔结合  距离5号线立水桥站1170米房本满两年随时看房        1000   \n",
       "2  177.36    低楼层(共24层)1999年建塔楼      距离10号线苏州街站383米房本满五年        1200   \n",
       "3  245.52    中楼层(共28层)2007年建塔楼      距离机场线三元桥站1153米房本满五年        1650   \n",
       "4  351.48       地下室(共3层)2006年建                    房本满五年        2400   \n",
       "\n",
       "   unitPrice                followInfo  \n",
       "0      86951    53人关注 / 共44次带看 / 一年前发布  \n",
       "1      64675  323人关注 / 共579次带看 / 一年前发布  \n",
       "2      67659  185人关注 / 共108次带看 / 一年前发布  \n",
       "3      67205   157人关注 / 共35次带看 / 一年前发布  \n",
       "4      68283   120人关注 / 共42次带看 / 一年前发布  "
      ]
     },
     "execution_count": 15,
     "metadata": {},
     "output_type": "execute_result"
    }
   ],
   "source": [
    "house.head()"
   ]
  },
  {
   "cell_type": "code",
   "execution_count": 16,
   "metadata": {},
   "outputs": [
    {
     "data": {
      "text/plain": [
       "<matplotlib.axes._subplots.AxesSubplot at 0x28fb311c3c8>"
      ]
     },
     "execution_count": 16,
     "metadata": {},
     "output_type": "execute_result"
    },
    {
     "data": {
      "image/png": "[encoded data removed]",
      "text/plain": [
       "<Figure size 720x504 with 1 Axes>"
      ]
     },
     "metadata": {
      "needs_background": "light"
     },
     "output_type": "display_data"
    }
   ],
   "source": [
    "def data_ad(select_data, str):\n",
    "    if str in select_data:\n",
    "        return int(select_data.split('/')[0][:-4])\n",
    "    else:\n",
    "        return None\n",
    "\n",
    "\n",
    "house['attention'] = house['followInfo'].apply(data_ad, str='人关注')\n",
    "\n",
    "plt.figure(figsize=(10, 7))\n",
    "sns.scatterplot(x='totalPrice', y='attention', data=house)"
   ]
  },
  {
   "cell_type": "markdown",
   "metadata": {},
   "source": [
    "## 数据分析4：户型和关注人数分布"
   ]
  },
  {
   "cell_type": "code",
   "execution_count": 17,
   "metadata": {},
   "outputs": [
    {
     "data": {
      "text/plain": [
       "<matplotlib.axes._subplots.AxesSubplot at 0x28fb319a588>"
      ]
     },
     "execution_count": 17,
     "metadata": {},
     "output_type": "execute_result"
    },
    {
     "data": {
      "image/png": "[encoded data removed]",
      "text/plain": [
       "<Figure size 720x360 with 1 Axes>"
      ]
     },
     "metadata": {
      "needs_background": "light"
     },
     "output_type": "display_data"
    }
   ],
   "source": [
    "#取户型>50的数据进行可视化\n",
    "type_interest_group = house.groupby(house['housetype']).agg({\n",
    "    'housetype': 'count',\n",
    "    'attention': 'sum'\n",
    "})\n",
    "\n",
    "interest_sort = type_interest_group[type_interest_group['housetype'] > 50]\n",
    "interest_sort.plot(kind='bar',\n",
    "                   title='二手房户型和关注人数分布',\n",
    "                   y='attention',\n",
    "                   rot=0,\n",
    "                   figsize=(10, 5),\n",
    "                   cmap='jet')"
   ]
  },
  {
   "cell_type": "markdown",
   "metadata": {},
   "source": [
    "## 数据分析5：面积分布"
   ]
  },
  {
   "cell_type": "code",
   "execution_count": 18,
   "metadata": {},
   "outputs": [
    {
     "data": {
      "text/plain": [
       "<matplotlib.axes._subplots.AxesSubplot at 0x28fb3249cc8>"
      ]
     },
     "execution_count": 18,
     "metadata": {},
     "output_type": "execute_result"
    },
    {
     "data": {
      "image/png": "[encoded data removed]",
      "text/plain": [
       "<Figure size 720x360 with 1 Axes>"
      ]
     },
     "metadata": {
      "needs_background": "light"
     },
     "output_type": "display_data"
    }
   ],
   "source": [
    "# 面积分布\n",
    "area_level = [0, 50, 100, 150, 200, 250, 300, 350, 400, 450, 500]\n",
    "label_level = [\n",
    "    '小于50', '50-100', '100-150', '150-200', '200-250', '250-300', '300-350',\n",
    "    '350-400', '400-450', '450-500'\n",
    "]\n",
    "area_cut = pd.cut(house['square'], bins=area_level, labels=label_level)\n",
    "area_cut.value_counts().sort_values().plot(kind='bar',\n",
    "                                           rot=0,\n",
    "                                           figsize=(10, 5),\n",
    "                                           cmap='spring')"
   ]
  },
  {
   "cell_type": "code",
   "execution_count": 19,
   "metadata": {},
   "outputs": [
    {
     "data": {
      "text/plain": [
       "<matplotlib.axes._subplots.AxesSubplot at 0x28fb32ae608>"
      ]
     },
     "execution_count": 19,
     "metadata": {},
     "output_type": "execute_result"
    },
    {
     "data": {
      "image/png": "[encoded data removed]",
      "text/plain": [
       "<Figure size 432x288 with 1 Axes>"
      ]
     },
     "metadata": {
      "needs_background": "light"
     },
     "output_type": "display_data"
    }
   ],
   "source": [
    "sns.distplot(house['square'], hist=False)"
   ]
  },
  {
   "cell_type": "markdown",
   "metadata": {},
   "source": [
    "## 数据分析6：各个行政区房源单价均价"
   ]
  },
  {
   "cell_type": "code",
   "execution_count": 20,
   "metadata": {},
   "outputs": [
    {
     "data": {
      "text/plain": [
       "<matplotlib.axes._subplots.AxesSubplot at 0x28fb3235cc8>"
      ]
     },
     "execution_count": 20,
     "metadata": {},
     "output_type": "execute_result"
    },
    {
     "data": {
      "image/png": "[encoded data removed]",
      "text/plain": [
       "<Figure size 432x288 with 1 Axes>"
      ]
     },
     "metadata": {
      "needs_background": "light"
     },
     "output_type": "display_data"
    }
   ],
   "source": [
    "house_unitPrice = house_detail.groupby('district')['unitPrice'].agg(np.mean)\n",
    "house_unitPrice.plot(kind='bar', cmap='winter', rot=0)"
   ]
  },
  {
   "cell_type": "markdown",
   "metadata": {},
   "source": [
    "## 各个行政区房源价钱箱线图绘制"
   ]
  },
  {
   "cell_type": "code",
   "execution_count": 21,
   "metadata": {
    "scrolled": false
   },
   "outputs": [
    {
     "data": {
      "text/plain": [
       "<matplotlib.axes._subplots.AxesSubplot at 0x28fb3360548>"
      ]
     },
     "execution_count": 21,
     "metadata": {},
     "output_type": "execute_result"
    },
    {
     "data": {
      "image/png": "[encoded data removed]",
      "text/plain": [
       "<Figure size 720x504 with 1 Axes>"
      ]
     },
     "metadata": {
      "needs_background": "light"
     },
     "output_type": "display_data"
    }
   ],
   "source": [
    "price = house_detail[['district', 'unitPrice']]\n",
    "price.boxplot(by='district', figsize=(10, 7))"
   ]
  },
  {
   "cell_type": "markdown",
   "metadata": {},
   "source": [
    "## 社区房屋价格前十可视化"
   ]
  },
  {
   "cell_type": "code",
   "execution_count": 22,
   "metadata": {},
   "outputs": [
    {
     "data": {
      "text/plain": [
       "<matplotlib.axes._subplots.AxesSubplot at 0x28fb3438cc8>"
      ]
     },
     "execution_count": 22,
     "metadata": {},
     "output_type": "execute_result"
    },
    {
     "data": {
      "image/png": "[encoded data removed]",
      "text/plain": [
       "<Figure size 864x360 with 1 Axes>"
      ]
     },
     "metadata": {
      "needs_background": "light"
     },
     "output_type": "display_data"
    }
   ],
   "source": [
    "result = house_detail.groupby('community')['totalPrice'].mean().sort_values(\n",
    "    ascending=False).head(10)\n",
    "result.plot(kind='bar', rot=30, figsize=(12, 5))"
   ]
  }
 ],
 "metadata": {
  "kernelspec": {
   "display_name": "Python 3",
   "language": "python",
   "name": "python3"
  },
  "language_info": {
   "codemirror_mode": {
    "name": "ipython",
    "version": 3
   },
   "file_extension": ".py",
   "mimetype": "text/x-python",
   "name": "python",
   "nbconvert_exporter": "python",
   "pygments_lexer": "ipython3",
   "version": "3.7.7"
  }
 },
 "nbformat": 4,
 "nbformat_minor": 2
}
