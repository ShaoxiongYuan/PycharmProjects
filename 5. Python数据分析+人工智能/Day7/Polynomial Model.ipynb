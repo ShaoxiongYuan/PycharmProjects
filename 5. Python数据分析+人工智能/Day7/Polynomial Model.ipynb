{
 "cells": [
  {
   "cell_type": "code",
   "execution_count": 2,
   "metadata": {},
   "outputs": [],
   "source": [
    "import numpy as np\n",
    "import pandas as pd\n",
    "import matplotlib.pyplot as plt\n",
    "import warnings\n",
    "warnings.filterwarnings('ignore')"
   ]
  },
  {
   "cell_type": "markdown",
   "metadata": {},
   "source": [
    "## 多项式API测试"
   ]
  },
  {
   "cell_type": "code",
   "execution_count": 3,
   "metadata": {},
   "outputs": [],
   "source": [
    "def f(x):\n",
    "    p = [4, 3, -1000, 1]\n",
    "    return np.polyval(p, x)"
   ]
  },
  {
   "cell_type": "code",
   "execution_count": 4,
   "metadata": {},
   "outputs": [
    {
     "data": {
      "text/plain": [
       "-1955"
      ]
     },
     "execution_count": 4,
     "metadata": {},
     "output_type": "execute_result"
    }
   ],
   "source": [
    "f(2)"
   ]
  },
  {
   "cell_type": "code",
   "execution_count": 5,
   "metadata": {},
   "outputs": [
    {
     "data": {
      "text/plain": [
       "1"
      ]
     },
     "execution_count": 5,
     "metadata": {},
     "output_type": "execute_result"
    }
   ],
   "source": [
    "f(0)"
   ]
  },
  {
   "cell_type": "code",
   "execution_count": 6,
   "metadata": {},
   "outputs": [
    {
     "data": {
      "text/plain": [
       "<matplotlib.collections.PathCollection at 0x24ce0bf93c8>"
      ]
     },
     "execution_count": 6,
     "metadata": {},
     "output_type": "execute_result"
    },
    {
     "data": {
      "image/png": "[encoded data removed]",
      "text/plain": [
       "<Figure size 432x288 with 1 Axes>"
      ]
     },
     "metadata": {
      "needs_background": "light"
     },
     "output_type": "display_data"
    }
   ],
   "source": [
    "x = np.linspace(-20, 20, 200)\n",
    "y = f(x)\n",
    "plt.plot(x, y)\n",
    "p = [4, 3, -1000, 1]\n",
    "q = np.polyder(p)\n",
    "xs = np.roots(q)\n",
    "ys = f(xs)\n",
    "plt.scatter(xs, ys)"
   ]
  },
  {
   "cell_type": "markdown",
   "metadata": {},
   "source": [
    "## AAPL股票收盘多项式拟合"
   ]
  },
  {
   "cell_type": "code",
   "execution_count": 7,
   "metadata": {},
   "outputs": [
    {
     "data": {
      "text/html": [
       "<div>\n",
       "<style scoped>\n",
       "    .dataframe tbody tr th:only-of-type {\n",
       "        vertical-align: middle;\n",
       "    }\n",
       "\n",
       "    .dataframe tbody tr th {\n",
       "        vertical-align: top;\n",
       "    }\n",
       "\n",
       "    .dataframe thead th {\n",
       "        text-align: right;\n",
       "    }\n",
       "</style>\n",
       "<table border=\"1\" class=\"dataframe\">\n",
       "  <thead>\n",
       "    <tr style=\"text-align: right;\">\n",
       "      <th></th>\n",
       "      <th>date</th>\n",
       "      <th>open</th>\n",
       "      <th>high</th>\n",
       "      <th>low</th>\n",
       "      <th>close</th>\n",
       "      <th>volume</th>\n",
       "    </tr>\n",
       "  </thead>\n",
       "  <tbody>\n",
       "    <tr>\n",
       "      <th>0</th>\n",
       "      <td>28-01-2011</td>\n",
       "      <td>344.17</td>\n",
       "      <td>344.40</td>\n",
       "      <td>333.53</td>\n",
       "      <td>336.10</td>\n",
       "      <td>21144800</td>\n",
       "    </tr>\n",
       "    <tr>\n",
       "      <th>1</th>\n",
       "      <td>31-01-2011</td>\n",
       "      <td>335.80</td>\n",
       "      <td>340.04</td>\n",
       "      <td>334.30</td>\n",
       "      <td>339.32</td>\n",
       "      <td>13473000</td>\n",
       "    </tr>\n",
       "    <tr>\n",
       "      <th>2</th>\n",
       "      <td>01-02-2011</td>\n",
       "      <td>341.30</td>\n",
       "      <td>345.65</td>\n",
       "      <td>340.98</td>\n",
       "      <td>345.03</td>\n",
       "      <td>15236800</td>\n",
       "    </tr>\n",
       "    <tr>\n",
       "      <th>3</th>\n",
       "      <td>02-02-2011</td>\n",
       "      <td>344.45</td>\n",
       "      <td>345.25</td>\n",
       "      <td>343.55</td>\n",
       "      <td>344.32</td>\n",
       "      <td>9242600</td>\n",
       "    </tr>\n",
       "    <tr>\n",
       "      <th>4</th>\n",
       "      <td>03-02-2011</td>\n",
       "      <td>343.80</td>\n",
       "      <td>344.24</td>\n",
       "      <td>338.55</td>\n",
       "      <td>343.44</td>\n",
       "      <td>14064100</td>\n",
       "    </tr>\n",
       "  </tbody>\n",
       "</table>\n",
       "</div>"
      ],
      "text/plain": [
       "         date    open    high     low   close    volume\n",
       "0  28-01-2011  344.17  344.40  333.53  336.10  21144800\n",
       "1  31-01-2011  335.80  340.04  334.30  339.32  13473000\n",
       "2  01-02-2011  341.30  345.65  340.98  345.03  15236800\n",
       "3  02-02-2011  344.45  345.25  343.55  344.32   9242600\n",
       "4  03-02-2011  343.80  344.24  338.55  343.44  14064100"
      ]
     },
     "execution_count": 7,
     "metadata": {},
     "output_type": "execute_result"
    }
   ],
   "source": [
    "data = pd.read_csv('aapl.csv',\n",
    "                   header=None,\n",
    "                   names=['date', 'open', 'high', 'low', 'close', 'volume'],\n",
    "                   usecols=[1, 3, 4, 5, 6, 7])\n",
    "data.head()"
   ]
  },
  {
   "cell_type": "code",
   "execution_count": 8,
   "metadata": {},
   "outputs": [
    {
     "name": "stdout",
     "output_type": "stream",
     "text": [
      "<class 'pandas.core.frame.DataFrame'>\n",
      "RangeIndex: 30 entries, 0 to 29\n",
      "Data columns (total 6 columns):\n",
      " #   Column  Non-Null Count  Dtype         \n",
      "---  ------  --------------  -----         \n",
      " 0   date    30 non-null     datetime64[ns]\n",
      " 1   open    30 non-null     float64       \n",
      " 2   high    30 non-null     float64       \n",
      " 3   low     30 non-null     float64       \n",
      " 4   close   30 non-null     float64       \n",
      " 5   volume  30 non-null     int64         \n",
      "dtypes: datetime64[ns](1), float64(4), int64(1)\n",
      "memory usage: 1.5 KB\n"
     ]
    }
   ],
   "source": [
    "def dmy2ymd(dmy):\n",
    "    return '-'.join(dmy.split('-')[::-1])\n",
    "\n",
    "\n",
    "data['date'] = data['date'].apply(dmy2ymd)\n",
    "data['date'] = data['date'].astype('M8[D]')\n",
    "data.info()"
   ]
  },
  {
   "cell_type": "code",
   "execution_count": 9,
   "metadata": {},
   "outputs": [
    {
     "data": {
      "text/plain": [
       "0      1\n",
       "1      4\n",
       "2      5\n",
       "3      6\n",
       "4      7\n",
       "5      8\n",
       "6     11\n",
       "7     12\n",
       "8     13\n",
       "9     14\n",
       "10    15\n",
       "11    18\n",
       "12    19\n",
       "13    20\n",
       "14    21\n",
       "15    22\n",
       "16    26\n",
       "17    27\n",
       "18    28\n",
       "19    29\n",
       "20    32\n",
       "21    33\n",
       "22    34\n",
       "23    35\n",
       "24    36\n",
       "25    39\n",
       "26    40\n",
       "27    41\n",
       "28    42\n",
       "29    43\n",
       "Name: date, dtype: int64"
      ]
     },
     "execution_count": 9,
     "metadata": {},
     "output_type": "execute_result"
    }
   ],
   "source": [
    "days = (data['date'] - pd.to_datetime('2011-1-27')).dt.days\n",
    "days"
   ]
  },
  {
   "cell_type": "code",
   "execution_count": 10,
   "metadata": {},
   "outputs": [
    {
     "data": {
      "text/plain": [
       "<matplotlib.axes._subplots.AxesSubplot at 0x24ce0d2b1c8>"
      ]
     },
     "execution_count": 10,
     "metadata": {},
     "output_type": "execute_result"
    },
    {
     "data": {
      "image/png": "[encoded data removed]",
      "text/plain": [
       "<Figure size 432x288 with 1 Axes>"
      ]
     },
     "metadata": {
      "needs_background": "light"
     },
     "output_type": "display_data"
    }
   ],
   "source": [
    "data.plot(x='date', y='close')"
   ]
  },
  {
   "cell_type": "code",
   "execution_count": 11,
   "metadata": {},
   "outputs": [
    {
     "data": {
      "text/plain": [
       "<matplotlib.axes._subplots.AxesSubplot at 0x24cde72cfc8>"
      ]
     },
     "execution_count": 11,
     "metadata": {},
     "output_type": "execute_result"
    },
    {
     "data": {
      "image/png": "[encoded data removed]",
      "text/plain": [
       "<Figure size 432x288 with 1 Axes>"
      ]
     },
     "metadata": {
      "needs_background": "light"
     },
     "output_type": "display_data"
    }
   ],
   "source": [
    "p = np.polyfit(days, data['close'], 5)\n",
    "fitline = np.polyval(p, days)\n",
    "data['fitline'] = fitline\n",
    "data.plot(x='date', y=['close', 'fitline'])"
   ]
  }
 ],
 "metadata": {
  "kernelspec": {
   "display_name": "Python 3",
   "language": "python",
   "name": "python3"
  },
  "language_info": {
   "codemirror_mode": {
    "name": "ipython",
    "version": 3
   },
   "file_extension": ".py",
   "mimetype": "text/x-python",
   "name": "python",
   "nbconvert_exporter": "python",
   "pygments_lexer": "ipython3",
   "version": "3.7.7"
  }
 },
 "nbformat": 4,
 "nbformat_minor": 4
}
