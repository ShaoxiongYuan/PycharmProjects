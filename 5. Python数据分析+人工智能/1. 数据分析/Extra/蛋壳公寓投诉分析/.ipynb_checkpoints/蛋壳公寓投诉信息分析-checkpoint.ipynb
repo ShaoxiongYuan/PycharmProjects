{
 "cells": [
  {
   "cell_type": "code",
   "execution_count": 1,
   "metadata": {
    "ExecuteTime": {
     "end_time": "2020-11-16T15:29:19.244252Z",
     "start_time": "2020-11-16T15:29:18.839613Z"
    }
   },
   "outputs": [],
   "source": [
    "import os, re\n",
    "import pandas as pd\n",
    "import numpy as np"
   ]
  },
  {
   "cell_type": "code",
   "execution_count": 2,
   "metadata": {
    "ExecuteTime": {
     "end_time": "2020-11-16T15:29:19.290250Z",
     "start_time": "2020-11-16T15:29:19.247134Z"
    }
   },
   "outputs": [],
   "source": [
    "# 数据清洗，处理keywords爬取导致的投诉标题混乱\n",
    "data_path = os.path.join('data', '紫梧桐投诉数据.csv')\n",
    "data = pd.read_csv(data_path)\n",
    "pattern = r'[^\\u4e00-\\u9fa5\\d]'\n",
    "data['投诉问题'] = data['投诉问题'].apply(lambda x: re.sub(pattern, '', x))\n",
    "data.to_csv(data_path, index=False, encoding=\"utf_8_sig\")"
   ]
  },
  {
   "cell_type": "code",
   "execution_count": 3,
   "metadata": {
    "ExecuteTime": {
     "end_time": "2020-11-16T15:29:20.432983Z",
     "start_time": "2020-11-16T15:29:19.296250Z"
    }
   },
   "outputs": [],
   "source": [
    "# 数据合并\n",
    "result = pd.DataFrame()\n",
    "for wj in os.listdir('data'):\n",
    "    data_path = os.path.join('data', wj)\n",
    "    data = pd.read_csv(data_path)\n",
    "    result = result.append(data)\n",
    "result.to_csv(\"data/合并后蛋壳投诉数据.csv\", index=False, encoding=\"utf_8_sig\")"
   ]
  },
  {
   "cell_type": "code",
   "execution_count": 4,
   "metadata": {
    "ExecuteTime": {
     "end_time": "2020-11-16T15:29:20.796791Z",
     "start_time": "2020-11-16T15:29:20.434980Z"
    }
   },
   "outputs": [
    {
     "name": "stdout",
     "output_type": "stream",
     "text": [
      "截至2020-11-09之前，黑猫投诉累计收到蛋壳公寓相关投诉共计 2108 条\n"
     ]
    }
   ],
   "source": [
    "# 读取数据\n",
    "data = pd.read_csv(\"data/合并后蛋壳投诉数据.csv\")\n",
    "\n",
    "# 筛选到截止昨天的数据，保证按天数据的完整性\n",
    "data = data[data.投诉日期 <= '2020-11-09']\n",
    "print(f\"截至2020-11-09之前，黑猫投诉累计收到蛋壳公寓相关投诉共计 {len(data)} 条\")"
   ]
  },
  {
   "cell_type": "code",
   "execution_count": 5,
   "metadata": {
    "ExecuteTime": {
     "end_time": "2020-11-16T15:29:20.826658Z",
     "start_time": "2020-11-16T15:29:20.800725Z"
    }
   },
   "outputs": [],
   "source": [
    "# 时间分布处理\n",
    "_data = data.groupby('投诉日期').count().reset_index()[['投诉日期', '投诉编号']]\n",
    "_data.rename(columns={\"投诉编号\": \"投诉数量\"}, inplace=True)"
   ]
  },
  {
   "cell_type": "code",
   "execution_count": 6,
   "metadata": {
    "ExecuteTime": {
     "end_time": "2020-11-16T15:29:20.856913Z",
     "start_time": "2020-11-16T15:29:20.830635Z"
    }
   },
   "outputs": [],
   "source": [
    "# 2020-01-30之前投诉数量求和\n",
    "num1 = _data[_data.投诉日期 <= '2020-01-30'].投诉数量.sum()\n",
    "data0 = pd.DataFrame([['2020-01-30之前', num1]], columns=['投诉日期', '投诉数量'])\n",
    "# 2020-02-01 ~ 2020-02-21号之间投诉情况分布\n",
    "data1 = _data[(_data.投诉日期 >= '2020-02-01') & (_data.投诉日期 <= '2020-02-21')]"
   ]
  },
  {
   "cell_type": "code",
   "execution_count": 7,
   "metadata": {
    "ExecuteTime": {
     "end_time": "2020-11-16T15:29:20.872855Z",
     "start_time": "2020-11-16T15:29:20.859817Z"
    }
   },
   "outputs": [
    {
     "name": "stdout",
     "output_type": "stream",
     "text": [
      "2020-11-06当天投诉量16条\n"
     ]
    }
   ],
   "source": [
    "# 2020-02-21 ~ 2020-11-05\n",
    "num2 = _data[(_data.投诉日期 >= '2020-02-21')\n",
    "             & (_data.投诉日期 <= '2020-11-05')].投诉数量.sum()\n",
    "\n",
    "# 2020-11-06 ~ 2020-11-09 本数据只采集到2020-11-09\n",
    "print(f\"2020-11-06当天投诉量{_data[_data.投诉日期=='2020-11-06'].iloc[0,1]}条\")\n",
    "\n",
    "data2 = _data[(_data.投诉日期 > '2020-11-06') & (_data.投诉日期 <= '2020-11-09')]"
   ]
  },
  {
   "cell_type": "code",
   "execution_count": 8,
   "metadata": {
    "ExecuteTime": {
     "end_time": "2020-11-16T15:29:20.888817Z",
     "start_time": "2020-11-16T15:29:20.876846Z"
    }
   },
   "outputs": [],
   "source": [
    "data3 = pd.DataFrame([['2020-02-21 ~ 2020-11-05', num2]],\n",
    "                     columns=['投诉日期', '投诉数量'])"
   ]
  },
  {
   "cell_type": "code",
   "execution_count": 9,
   "metadata": {
    "ExecuteTime": {
     "end_time": "2020-11-16T15:29:20.904844Z",
     "start_time": "2020-11-16T15:29:20.892851Z"
    }
   },
   "outputs": [],
   "source": [
    "new_data = pd.concat([data0, data1, data3, data2])"
   ]
  },
  {
   "cell_type": "code",
   "execution_count": 10,
   "metadata": {
    "ExecuteTime": {
     "end_time": "2020-11-16T15:29:21.572975Z",
     "start_time": "2020-11-16T15:29:20.908818Z"
    }
   },
   "outputs": [
    {
     "data": {
      "text/plain": [
       "<AxesSubplot:xlabel='投诉日期'>"
      ]
     },
     "execution_count": 10,
     "metadata": {},
     "output_type": "execute_result"
    },
    {
     "data": {
      "image/png": "[encoded data removed]",
      "text/plain": [
       "<Figure size 864x576 with 1 Axes>"
      ]
     },
     "metadata": {},
     "output_type": "display_data"
    }
   ],
   "source": [
    "'''配置绘图参数'''\n",
    "import matplotlib.pyplot as plt\n",
    "%matplotlib inline\n",
    "plt.rcParams['font.sans-serif'] = ['SimHei']\n",
    "plt.rcParams['font.size'] = 18\n",
    "plt.rcParams['figure.figsize'] = (12, 8)\n",
    "plt.style.use(\"ggplot\")\n",
    "new_data.set_index('投诉日期').plot(kind='bar')  # 剔除了2020-11-06的数据，24093条"
   ]
  },
  {
   "cell_type": "code",
   "execution_count": 11,
   "metadata": {
    "ExecuteTime": {
     "end_time": "2020-11-16T15:29:24.460495Z",
     "start_time": "2020-11-16T15:29:21.574978Z"
    }
   },
   "outputs": [],
   "source": [
    "import jieba\n",
    "import re\n",
    "import collections\n",
    "import PIL.Image as img\n",
    "from wordcloud import WordCloud\n",
    "import PIL.Image as img\n",
    "from wordcloud import WordCloud"
   ]
  },
  {
   "cell_type": "code",
   "execution_count": 12,
   "metadata": {
    "ExecuteTime": {
     "end_time": "2020-11-16T15:29:26.483003Z",
     "start_time": "2020-11-16T15:29:24.465418Z"
    }
   },
   "outputs": [
    {
     "name": "stderr",
     "output_type": "stream",
     "text": [
      "Building prefix dict from the default dictionary ...\n",
      "Loading model from cache C:\\Users\\Steven\\AppData\\Local\\Temp\\jieba.cache\n",
      "Loading model cost 0.810 seconds.\n",
      "Prefix dict has been built successfully.\n"
     ]
    }
   ],
   "source": [
    "# 投诉详细说明合并后进行分词\n",
    "all_word = ''\n",
    "for line in data.values:\n",
    "    word = line[4]\n",
    "    all_word = all_word + word\n",
    "\n",
    "# jieba分词\n",
    "result = list(jieba.cut(all_word))"
   ]
  },
  {
   "cell_type": "code",
   "execution_count": 13,
   "metadata": {
    "ExecuteTime": {
     "end_time": "2020-11-16T15:29:30.531348Z",
     "start_time": "2020-11-16T15:29:26.485932Z"
    }
   },
   "outputs": [
    {
     "data": {
      "text/plain": [
       "<wordcloud.wordcloud.WordCloud at 0x1e73ceec708>"
      ]
     },
     "execution_count": 13,
     "metadata": {},
     "output_type": "execute_result"
    }
   ],
   "source": [
    "# 投诉问题词云图\n",
    "wordcloud = WordCloud(\n",
    "    width=800,\n",
    "    height=600,\n",
    "    background_color='white',\n",
    "    font_path='MSYH.TTC',  # 如果存在中文字符需要加载解析的词典\n",
    "    max_font_size=500,\n",
    "    min_font_size=20).generate(' '.join(result))\n",
    "image = wordcloud.to_image()\n",
    "image.show()  # 生成图片展示\n",
    "wordcloud.to_file('蛋壳公寓投诉详情.png')  # 在本地生成文件展示"
   ]
  },
  {
   "cell_type": "code",
   "execution_count": 14,
   "metadata": {
    "ExecuteTime": {
     "end_time": "2020-11-16T15:29:30.815961Z",
     "start_time": "2020-11-16T15:29:30.533308Z"
    }
   },
   "outputs": [],
   "source": [
    "# 投诉标题合并后进行分词\n",
    "all_word = ''\n",
    "for line in data.values:\n",
    "    word = line[2]\n",
    "    all_word = all_word + word\n",
    "\n",
    "# jieba分词\n",
    "result = list(jieba.cut(all_word))"
   ]
  },
  {
   "cell_type": "code",
   "execution_count": 15,
   "metadata": {
    "ExecuteTime": {
     "end_time": "2020-11-16T15:29:33.585941Z",
     "start_time": "2020-11-16T15:29:30.819002Z"
    }
   },
   "outputs": [
    {
     "data": {
      "text/plain": [
       "<wordcloud.wordcloud.WordCloud at 0x1e74062b608>"
      ]
     },
     "execution_count": 15,
     "metadata": {},
     "output_type": "execute_result"
    }
   ],
   "source": [
    "# 生成词云图\n",
    "# 投诉问题词云图\n",
    "wordcloud = WordCloud(\n",
    "    width=800,\n",
    "    height=600,\n",
    "    background_color='white',\n",
    "    font_path='MSYH.TTC',  # 如果存在中文字符需要加载解析的词典\n",
    "    max_font_size=500,\n",
    "    min_font_size=20).generate(' '.join(result))\n",
    "image = wordcloud.to_image()\n",
    "image.show()  # 生成图片展示\n",
    "wordcloud.to_file('蛋壳公寓投诉问题.png')  # 在本地生成文件展示"
   ]
  },
  {
   "cell_type": "code",
   "execution_count": 16,
   "metadata": {
    "ExecuteTime": {
     "end_time": "2020-11-16T15:29:36.228495Z",
     "start_time": "2020-11-16T15:29:33.589941Z"
    }
   },
   "outputs": [
    {
     "data": {
      "text/plain": [
       "<wordcloud.wordcloud.WordCloud at 0x1e74062bf48>"
      ]
     },
     "execution_count": 16,
     "metadata": {},
     "output_type": "execute_result"
    }
   ],
   "source": [
    "# 投诉诉求合并后进行分词\n",
    "all_word = ''\n",
    "for line in data.values:\n",
    "    word = line[3]\n",
    "    all_word = all_word + word\n",
    "\n",
    "# jieba分词\n",
    "result = list(jieba.cut(all_word))\n",
    "\n",
    "# 生成词云图\n",
    "# 投诉问题词云图\n",
    "wordcloud = WordCloud(\n",
    "    width=800,\n",
    "    height=600,\n",
    "    background_color='white',\n",
    "    font_path='MSYH.TTC',  # 如果存在中文字符需要加载解析的词典\n",
    "    max_font_size=500,\n",
    "    min_font_size=20).generate(' '.join(result))\n",
    "image = wordcloud.to_image()\n",
    "image.show()  # 生成图片展示\n",
    "wordcloud.to_file('蛋壳公寓投诉诉求.png')  # 在本地生成文件展示"
   ]
  }
 ],
 "metadata": {
  "kernelspec": {
   "display_name": "Python 3",
   "language": "python",
   "name": "python3"
  },
  "language_info": {
   "codemirror_mode": {
    "name": "ipython",
    "version": 3
   },
   "file_extension": ".py",
   "mimetype": "text/x-python",
   "name": "python",
   "nbconvert_exporter": "python",
   "pygments_lexer": "ipython3",
   "version": "3.7.9"
  },
  "toc": {
   "base_numbering": 1,
   "nav_menu": {},
   "number_sections": true,
   "sideBar": true,
   "skip_h1_title": false,
   "title_cell": "Table of Contents",
   "title_sidebar": "Contents",
   "toc_cell": false,
   "toc_position": {},
   "toc_section_display": true,
   "toc_window_display": false
  },
  "varInspector": {
   "cols": {
    "lenName": 16,
    "lenType": 16,
    "lenVar": 40
   },
   "kernels_config": {
    "python": {
     "delete_cmd_postfix": "",
     "delete_cmd_prefix": "del ",
     "library": "var_list.py",
     "varRefreshCmd": "print(var_dic_list())"
    },
    "r": {
     "delete_cmd_postfix": ") ",
     "delete_cmd_prefix": "rm(",
     "library": "var_list.r",
     "varRefreshCmd": "cat(var_dic_list()) "
    }
   },
   "position": {
    "height": "432.534px",
    "left": "962.364px",
    "right": "20px",
    "top": "123px",
    "width": "413px"
   },
   "types_to_exclude": [
    "module",
    "function",
    "builtin_function_or_method",
    "instance",
    "_Feature"
   ],
   "window_display": false
  }
 },
 "nbformat": 4,
 "nbformat_minor": 4
}
