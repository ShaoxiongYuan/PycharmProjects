{
 "cells": [
  {
   "cell_type": "markdown",
   "metadata": {},
   "source": [
    "# 文本分类"
   ]
  },
  {
   "cell_type": "code",
   "execution_count": 1,
   "metadata": {},
   "outputs": [],
   "source": [
    "import warnings\n",
    "warnings.filterwarnings('ignore')"
   ]
  },
  {
   "cell_type": "code",
   "execution_count": 2,
   "metadata": {},
   "outputs": [],
   "source": [
    "import sklearn.datasets as sd\n",
    "import sklearn.utils as su\n",
    "import sklearn.metrics as sm\n",
    "import sklearn.model_selection as ms\n",
    "import sklearn.preprocessing as sp\n",
    "import sklearn.pipeline as pl\n",
    "import sklearn.tree as st\n",
    "import sklearn.ensemble as se\n",
    "import sklearn.linear_model as lm\n",
    "import sklearn.svm as svm\n",
    "import sklearn.naive_bayes as nb"
   ]
  },
  {
   "cell_type": "code",
   "execution_count": 3,
   "metadata": {},
   "outputs": [],
   "source": [
    "import numpy as np\n",
    "import pandas as pd\n",
    "import matplotlib.pyplot as plt\n",
    "import seaborn as sns"
   ]
  },
  {
   "cell_type": "code",
   "execution_count": 4,
   "metadata": {},
   "outputs": [
    {
     "data": {
      "text/plain": [
       "dict_keys(['data', 'filenames', 'target_names', 'target', 'DESCR'])"
      ]
     },
     "execution_count": 4,
     "metadata": {},
     "output_type": "execute_result"
    }
   ],
   "source": [
    "data = sd.load_files('20news', shuffle=True, encoding='latin1', random_state=7)\n",
    "data.keys()"
   ]
  },
  {
   "cell_type": "code",
   "execution_count": 5,
   "metadata": {},
   "outputs": [
    {
     "name": "stdout",
     "output_type": "stream",
     "text": [
      "From: gene@theporch.raider.net (Gene Wright)\n",
      "Subject: NASA Special Publications for Voyager Mission?\n",
      "Organization: The MacInteresteds of Nashville, Tn.\n",
      "Lines: 12\n",
      "\n",
      "I have two books, both NASA Special Publications, on the Voyager \n",
      "Missions. One is titled \"Voyages to Jupiter\" the other \"Voyage to Saturn\" \n",
      "These were excellent books put together after the encounters with each \n",
      "planet. \n",
      "\n",
      "The question is: Did NASA ever put together a similar book for either the \n",
      "Uranus encounter or Neptune? If so, what SP number is it and where can it \n",
      "be obtained? If not, why didn't they?\n",
      "\n",
      "--\n",
      "  gene@theporch.raider.net (Gene Wright)\n",
      "theporch.raider.net  615/297-7951 The MacInteresteds of Nashville\n",
      "\n",
      "4\n",
      "sci.space\n"
     ]
    }
   ],
   "source": [
    "len(data.data)\n",
    "print(data.data[0])\n",
    "print(data.target[0])\n",
    "print(data.target_names[4])"
   ]
  },
  {
   "cell_type": "code",
   "execution_count": 6,
   "metadata": {},
   "outputs": [],
   "source": [
    "import nltk\n",
    "import nltk.tokenize as tk\n",
    "import sklearn.feature_extraction.text as ft"
   ]
  },
  {
   "cell_type": "code",
   "execution_count": 7,
   "metadata": {},
   "outputs": [],
   "source": [
    "samples = data.data\n",
    "y = data.target"
   ]
  },
  {
   "cell_type": "code",
   "execution_count": 14,
   "metadata": {},
   "outputs": [
    {
     "name": "stdout",
     "output_type": "stream",
     "text": [
      "(2968, 40605)\n"
     ]
    }
   ],
   "source": [
    "# 整理tfidf矩阵\n",
    "cv = ft.CountVectorizer()\n",
    "bow = cv.fit_transform(samples).toarray()\n",
    "tt = ft.TfidfTransformer()\n",
    "x = tt.fit_transform(bow).toarray()\n",
    "print(x.shape)\n",
    "\n",
    "# 拆分数据集\n",
    "train_x, test_x, train_y, test_y = ms.train_test_split(x,\n",
    "                                                       y,\n",
    "                                                       test_size=0.1,\n",
    "                                                       random_state=7)"
   ]
  },
  {
   "cell_type": "code",
   "execution_count": 15,
   "metadata": {},
   "outputs": [
    {
     "name": "stdout",
     "output_type": "stream",
     "text": [
      "0.9121858786732027\n"
     ]
    }
   ],
   "source": [
    "# 训练模型\n",
    "# model = lm.LogisticRegression()\n",
    "# model = se.GradientBoostingClassifier(max_depth=50,\n",
    "#                                       min_samples_split=10,\n",
    "#                                       n_estimators=500)\n",
    "# 朴素贝叶斯\n",
    "model = nb.MultinomialNB()\n",
    "# model=nb.GaussianNB()\n",
    "score = ms.cross_val_score(model, x, y, cv=5, scoring='f1_weighted')\n",
    "print(score.mean())"
   ]
  },
  {
   "cell_type": "code",
   "execution_count": 16,
   "metadata": {},
   "outputs": [
    {
     "name": "stdout",
     "output_type": "stream",
     "text": [
      "              precision    recall  f1-score   support\n",
      "\n",
      "           0       1.00      0.81      0.89        72\n",
      "           1       0.93      0.98      0.95        53\n",
      "           2       0.92      0.98      0.95        45\n",
      "           3       0.93      0.95      0.94        66\n",
      "           4       0.90      0.98      0.94        61\n",
      "\n",
      "    accuracy                           0.93       297\n",
      "   macro avg       0.93      0.94      0.93       297\n",
      "weighted avg       0.94      0.93      0.93       297\n",
      "\n"
     ]
    }
   ],
   "source": [
    "model.fit(train_x, train_y)\n",
    "predictions = model.predict(test_x)\n",
    "print(sm.classification_report(test_y, predictions))"
   ]
  },
  {
   "cell_type": "code",
   "execution_count": 19,
   "metadata": {},
   "outputs": [
    {
     "name": "stdout",
     "output_type": "stream",
     "text": [
      "[2 3 1 1] ['misc.forsale', 'rec.motorcycles', 'rec.sport.baseball', 'sci.crypt', 'sci.space']\n"
     ]
    }
   ],
   "source": [
    "test_data = [\n",
    "    'The curveballs of right handed pitchers tend to curve to the left',\n",
    "    'Caesar cipher is an ancient form of encryption',\n",
    "    'This two-wheeler is really good on slippery roads',\n",
    "    \"Harley heard is cool, isn't it cheap?\"\n",
    "]\n",
    "bow = cv.transform(test_data)\n",
    "test_x = tt.transform(bow).toarray()\n",
    "predictions = model.predict(test_x)\n",
    "print(predictions, data.target_names)"
   ]
  }
 ],
 "metadata": {
  "kernelspec": {
   "display_name": "Python 3",
   "language": "python",
   "name": "python3"
  },
  "language_info": {
   "codemirror_mode": {
    "name": "ipython",
    "version": 3
   },
   "file_extension": ".py",
   "mimetype": "text/x-python",
   "name": "python",
   "nbconvert_exporter": "python",
   "pygments_lexer": "ipython3",
   "version": "3.7.7"
  }
 },
 "nbformat": 4,
 "nbformat_minor": 4
}
