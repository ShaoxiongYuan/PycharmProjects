{
 "cells": [
  {
   "cell_type": "markdown",
   "metadata": {},
   "source": [
    "# 文本分类"
   ]
  },
  {
   "cell_type": "code",
   "execution_count": 1,
   "metadata": {},
   "outputs": [],
   "source": [
    "import warnings\n",
    "warnings.filterwarnings('ignore')"
   ]
  },
  {
   "cell_type": "code",
   "execution_count": 2,
   "metadata": {},
   "outputs": [],
   "source": [
    "import sklearn.datasets as sd\n",
    "import sklearn.utils as su\n",
    "import sklearn.metrics as sm\n",
    "import sklearn.model_selection as ms\n",
    "import sklearn.preprocessing as sp\n",
    "import sklearn.pipeline as pl\n",
    "import sklearn.tree as st\n",
    "import sklearn.ensemble as se\n",
    "import sklearn.linear_model as lm\n",
    "import sklearn.svm as svm\n",
    "import sklearn.naive_bayes as nb"
   ]
  },
  {
   "cell_type": "code",
   "execution_count": 3,
   "metadata": {},
   "outputs": [],
   "source": [
    "import numpy as np\n",
    "import pandas as pd\n",
    "import matplotlib.pyplot as plt\n",
    "import seaborn as sns"
   ]
  },
  {
   "cell_type": "code",
   "execution_count": 4,
   "metadata": {},
   "outputs": [
    {
     "data": {
      "text/plain": [
       "dict_keys(['data', 'filenames', 'target_names', 'target', 'DESCR'])"
      ]
     },
     "execution_count": 4,
     "metadata": {},
     "output_type": "execute_result"
    }
   ],
   "source": [
    "data = sd.load_files('20news', shuffle=True, encoding='latin1', random_state=7)\n",
    "data.keys()"
   ]
  },
  {
   "cell_type": "code",
   "execution_count": 9,
   "metadata": {},
   "outputs": [
    {
     "name": "stdout",
     "output_type": "stream",
     "text": [
      "From: gene@theporch.raider.net (Gene Wright)\n",
      "Subject: NASA Special Publications for Voyager Mission?\n",
      "Organization: The MacInteresteds of Nashville, Tn.\n",
      "Lines: 12\n",
      "\n",
      "I have two books, both NASA Special Publications, on the Voyager \n",
      "Missions. One is titled \"Voyages to Jupiter\" the other \"Voyage to Saturn\" \n",
      "These were excellent books put together after the encounters with each \n",
      "planet. \n",
      "\n",
      "The question is: Did NASA ever put together a similar book for either the \n",
      "Uranus encounter or Neptune? If so, what SP number is it and where can it \n",
      "be obtained? If not, why didn't they?\n",
      "\n",
      "--\n",
      "  gene@theporch.raider.net (Gene Wright)\n",
      "theporch.raider.net  615/297-7951 The MacInteresteds of Nashville\n",
      "\n"
     ]
    }
   ],
   "source": [
    "len(data.data)\n",
    "print(data.data[0])"
   ]
  },
  {
   "cell_type": "code",
   "execution_count": null,
   "metadata": {},
   "outputs": [],
   "source": []
  }
 ],
 "metadata": {
  "kernelspec": {
   "display_name": "Python 3",
   "language": "python",
   "name": "python3"
  },
  "language_info": {
   "codemirror_mode": {
    "name": "ipython",
    "version": 3
   },
   "file_extension": ".py",
   "mimetype": "text/x-python",
   "name": "python",
   "nbconvert_exporter": "python",
   "pygments_lexer": "ipython3",
   "version": "3.7.7"
  }
 },
 "nbformat": 4,
 "nbformat_minor": 4
}
