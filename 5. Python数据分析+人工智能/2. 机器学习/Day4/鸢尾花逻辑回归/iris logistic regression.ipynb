{
 "cells": [
  {
   "cell_type": "code",
   "execution_count": 1,
   "metadata": {},
   "outputs": [],
   "source": [
    "import sklearn.datasets as sd\n",
    "import sklearn.utils as su\n",
    "import sklearn.metrics as sm\n",
    "import sklearn.model_selection as ms"
   ]
  },
  {
   "cell_type": "code",
   "execution_count": 2,
   "metadata": {},
   "outputs": [],
   "source": [
    "import numpy as np\n",
    "import pandas as pd\n",
    "import matplotlib.pyplot as plt\n",
    "import seaborn as sns\n",
    "%matplotlib inline"
   ]
  },
  {
   "cell_type": "code",
   "execution_count": 3,
   "metadata": {},
   "outputs": [
    {
     "data": {
      "text/html": [
       "        <script type=\"text/javascript\">\n",
       "        window.PlotlyConfig = {MathJaxConfig: 'local'};\n",
       "        if (window.MathJax) {MathJax.Hub.Config({SVG: {font: \"STIX-Web\"}});}\n",
       "        if (typeof require !== 'undefined') {\n",
       "        require.undef(\"plotly\");\n",
       "        requirejs.config({\n",
       "            paths: {\n",
       "                'plotly': ['https://cdn.plot.ly/plotly-latest.min']\n",
       "            }\n",
       "        });\n",
       "        require(['plotly'], function(Plotly) {\n",
       "            window._Plotly = Plotly;\n",
       "        });\n",
       "        }\n",
       "        </script>\n",
       "        "
      ]
     },
     "metadata": {},
     "output_type": "display_data"
    }
   ],
   "source": [
    "import cufflinks as cf\n",
    "from plotly.offline import iplot, plot\n",
    "import plotly.express as px\n",
    "import plotly.graph_objects as go\n",
    "cf.go_offline()"
   ]
  },
  {
   "cell_type": "code",
   "execution_count": 4,
   "metadata": {},
   "outputs": [
    {
     "data": {
      "text/plain": [
       "dict_keys(['data', 'target', 'target_names', 'DESCR', 'feature_names', 'filename'])"
      ]
     },
     "execution_count": 4,
     "metadata": {},
     "output_type": "execute_result"
    }
   ],
   "source": [
    "iris = sd.load_iris()\n",
    "iris.keys()"
   ]
  },
  {
   "cell_type": "code",
   "execution_count": 5,
   "metadata": {},
   "outputs": [
    {
     "data": {
      "text/html": [
       "<div>\n",
       "<style scoped>\n",
       "    .dataframe tbody tr th:only-of-type {\n",
       "        vertical-align: middle;\n",
       "    }\n",
       "\n",
       "    .dataframe tbody tr th {\n",
       "        vertical-align: top;\n",
       "    }\n",
       "\n",
       "    .dataframe thead th {\n",
       "        text-align: right;\n",
       "    }\n",
       "</style>\n",
       "<table border=\"1\" class=\"dataframe\">\n",
       "  <thead>\n",
       "    <tr style=\"text-align: right;\">\n",
       "      <th></th>\n",
       "      <th>sepal length (cm)</th>\n",
       "      <th>sepal width (cm)</th>\n",
       "      <th>petal length (cm)</th>\n",
       "      <th>petal width (cm)</th>\n",
       "      <th>target</th>\n",
       "    </tr>\n",
       "  </thead>\n",
       "  <tbody>\n",
       "    <tr>\n",
       "      <th>0</th>\n",
       "      <td>5.1</td>\n",
       "      <td>3.5</td>\n",
       "      <td>1.4</td>\n",
       "      <td>0.2</td>\n",
       "      <td>0</td>\n",
       "    </tr>\n",
       "    <tr>\n",
       "      <th>1</th>\n",
       "      <td>4.9</td>\n",
       "      <td>3.0</td>\n",
       "      <td>1.4</td>\n",
       "      <td>0.2</td>\n",
       "      <td>0</td>\n",
       "    </tr>\n",
       "    <tr>\n",
       "      <th>2</th>\n",
       "      <td>4.7</td>\n",
       "      <td>3.2</td>\n",
       "      <td>1.3</td>\n",
       "      <td>0.2</td>\n",
       "      <td>0</td>\n",
       "    </tr>\n",
       "    <tr>\n",
       "      <th>3</th>\n",
       "      <td>4.6</td>\n",
       "      <td>3.1</td>\n",
       "      <td>1.5</td>\n",
       "      <td>0.2</td>\n",
       "      <td>0</td>\n",
       "    </tr>\n",
       "    <tr>\n",
       "      <th>4</th>\n",
       "      <td>5.0</td>\n",
       "      <td>3.6</td>\n",
       "      <td>1.4</td>\n",
       "      <td>0.2</td>\n",
       "      <td>0</td>\n",
       "    </tr>\n",
       "  </tbody>\n",
       "</table>\n",
       "</div>"
      ],
      "text/plain": [
       "   sepal length (cm)  sepal width (cm)  petal length (cm)  petal width (cm)  \\\n",
       "0                5.1               3.5                1.4               0.2   \n",
       "1                4.9               3.0                1.4               0.2   \n",
       "2                4.7               3.2                1.3               0.2   \n",
       "3                4.6               3.1                1.5               0.2   \n",
       "4                5.0               3.6                1.4               0.2   \n",
       "\n",
       "   target  \n",
       "0       0  \n",
       "1       0  \n",
       "2       0  \n",
       "3       0  \n",
       "4       0  "
      ]
     },
     "execution_count": 5,
     "metadata": {},
     "output_type": "execute_result"
    }
   ],
   "source": [
    "data = pd.DataFrame(iris.data, columns=iris.feature_names)\n",
    "data['target'] = iris.target\n",
    "data.head()"
   ]
  },
  {
   "cell_type": "code",
   "execution_count": 6,
   "metadata": {},
   "outputs": [
    {
     "data": {
      "text/html": [
       "<div>\n",
       "<style scoped>\n",
       "    .dataframe tbody tr th:only-of-type {\n",
       "        vertical-align: middle;\n",
       "    }\n",
       "\n",
       "    .dataframe tbody tr th {\n",
       "        vertical-align: top;\n",
       "    }\n",
       "\n",
       "    .dataframe thead th {\n",
       "        text-align: right;\n",
       "    }\n",
       "</style>\n",
       "<table border=\"1\" class=\"dataframe\">\n",
       "  <thead>\n",
       "    <tr style=\"text-align: right;\">\n",
       "      <th></th>\n",
       "      <th>sepal length (cm)</th>\n",
       "      <th>sepal width (cm)</th>\n",
       "      <th>petal length (cm)</th>\n",
       "      <th>petal width (cm)</th>\n",
       "      <th>target</th>\n",
       "    </tr>\n",
       "  </thead>\n",
       "  <tbody>\n",
       "    <tr>\n",
       "      <th>count</th>\n",
       "      <td>150.000000</td>\n",
       "      <td>150.000000</td>\n",
       "      <td>150.000000</td>\n",
       "      <td>150.000000</td>\n",
       "      <td>150.000000</td>\n",
       "    </tr>\n",
       "    <tr>\n",
       "      <th>mean</th>\n",
       "      <td>5.843333</td>\n",
       "      <td>3.057333</td>\n",
       "      <td>3.758000</td>\n",
       "      <td>1.199333</td>\n",
       "      <td>1.000000</td>\n",
       "    </tr>\n",
       "    <tr>\n",
       "      <th>std</th>\n",
       "      <td>0.828066</td>\n",
       "      <td>0.435866</td>\n",
       "      <td>1.765298</td>\n",
       "      <td>0.762238</td>\n",
       "      <td>0.819232</td>\n",
       "    </tr>\n",
       "    <tr>\n",
       "      <th>min</th>\n",
       "      <td>4.300000</td>\n",
       "      <td>2.000000</td>\n",
       "      <td>1.000000</td>\n",
       "      <td>0.100000</td>\n",
       "      <td>0.000000</td>\n",
       "    </tr>\n",
       "    <tr>\n",
       "      <th>25%</th>\n",
       "      <td>5.100000</td>\n",
       "      <td>2.800000</td>\n",
       "      <td>1.600000</td>\n",
       "      <td>0.300000</td>\n",
       "      <td>0.000000</td>\n",
       "    </tr>\n",
       "    <tr>\n",
       "      <th>50%</th>\n",
       "      <td>5.800000</td>\n",
       "      <td>3.000000</td>\n",
       "      <td>4.350000</td>\n",
       "      <td>1.300000</td>\n",
       "      <td>1.000000</td>\n",
       "    </tr>\n",
       "    <tr>\n",
       "      <th>75%</th>\n",
       "      <td>6.400000</td>\n",
       "      <td>3.300000</td>\n",
       "      <td>5.100000</td>\n",
       "      <td>1.800000</td>\n",
       "      <td>2.000000</td>\n",
       "    </tr>\n",
       "    <tr>\n",
       "      <th>max</th>\n",
       "      <td>7.900000</td>\n",
       "      <td>4.400000</td>\n",
       "      <td>6.900000</td>\n",
       "      <td>2.500000</td>\n",
       "      <td>2.000000</td>\n",
       "    </tr>\n",
       "  </tbody>\n",
       "</table>\n",
       "</div>"
      ],
      "text/plain": [
       "       sepal length (cm)  sepal width (cm)  petal length (cm)  \\\n",
       "count         150.000000        150.000000         150.000000   \n",
       "mean            5.843333          3.057333           3.758000   \n",
       "std             0.828066          0.435866           1.765298   \n",
       "min             4.300000          2.000000           1.000000   \n",
       "25%             5.100000          2.800000           1.600000   \n",
       "50%             5.800000          3.000000           4.350000   \n",
       "75%             6.400000          3.300000           5.100000   \n",
       "max             7.900000          4.400000           6.900000   \n",
       "\n",
       "       petal width (cm)      target  \n",
       "count        150.000000  150.000000  \n",
       "mean           1.199333    1.000000  \n",
       "std            0.762238    0.819232  \n",
       "min            0.100000    0.000000  \n",
       "25%            0.300000    0.000000  \n",
       "50%            1.300000    1.000000  \n",
       "75%            1.800000    2.000000  \n",
       "max            2.500000    2.000000  "
      ]
     },
     "execution_count": 6,
     "metadata": {},
     "output_type": "execute_result"
    }
   ],
   "source": [
    "data.describe()"
   ]
  },
  {
   "cell_type": "code",
   "execution_count": 7,
   "metadata": {},
   "outputs": [
    {
     "data": {
      "text/html": [
       "<div>\n",
       "<style scoped>\n",
       "    .dataframe tbody tr th:only-of-type {\n",
       "        vertical-align: middle;\n",
       "    }\n",
       "\n",
       "    .dataframe tbody tr th {\n",
       "        vertical-align: top;\n",
       "    }\n",
       "\n",
       "    .dataframe thead tr th {\n",
       "        text-align: left;\n",
       "    }\n",
       "\n",
       "    .dataframe thead tr:last-of-type th {\n",
       "        text-align: right;\n",
       "    }\n",
       "</style>\n",
       "<table border=\"1\" class=\"dataframe\">\n",
       "  <thead>\n",
       "    <tr>\n",
       "      <th></th>\n",
       "      <th colspan=\"2\" halign=\"left\">sepal length (cm)</th>\n",
       "      <th colspan=\"2\" halign=\"left\">sepal width (cm)</th>\n",
       "      <th colspan=\"2\" halign=\"left\">petal length (cm)</th>\n",
       "      <th colspan=\"2\" halign=\"left\">petal width (cm)</th>\n",
       "    </tr>\n",
       "    <tr>\n",
       "      <th></th>\n",
       "      <th>amax</th>\n",
       "      <th>amin</th>\n",
       "      <th>amax</th>\n",
       "      <th>amin</th>\n",
       "      <th>amax</th>\n",
       "      <th>amin</th>\n",
       "      <th>amax</th>\n",
       "      <th>amin</th>\n",
       "    </tr>\n",
       "    <tr>\n",
       "      <th>target</th>\n",
       "      <th></th>\n",
       "      <th></th>\n",
       "      <th></th>\n",
       "      <th></th>\n",
       "      <th></th>\n",
       "      <th></th>\n",
       "      <th></th>\n",
       "      <th></th>\n",
       "    </tr>\n",
       "  </thead>\n",
       "  <tbody>\n",
       "    <tr>\n",
       "      <th>0</th>\n",
       "      <td>5.8</td>\n",
       "      <td>4.3</td>\n",
       "      <td>4.4</td>\n",
       "      <td>2.3</td>\n",
       "      <td>1.9</td>\n",
       "      <td>1.0</td>\n",
       "      <td>0.6</td>\n",
       "      <td>0.1</td>\n",
       "    </tr>\n",
       "    <tr>\n",
       "      <th>1</th>\n",
       "      <td>7.0</td>\n",
       "      <td>4.9</td>\n",
       "      <td>3.4</td>\n",
       "      <td>2.0</td>\n",
       "      <td>5.1</td>\n",
       "      <td>3.0</td>\n",
       "      <td>1.8</td>\n",
       "      <td>1.0</td>\n",
       "    </tr>\n",
       "    <tr>\n",
       "      <th>2</th>\n",
       "      <td>7.9</td>\n",
       "      <td>4.9</td>\n",
       "      <td>3.8</td>\n",
       "      <td>2.2</td>\n",
       "      <td>6.9</td>\n",
       "      <td>4.5</td>\n",
       "      <td>2.5</td>\n",
       "      <td>1.4</td>\n",
       "    </tr>\n",
       "  </tbody>\n",
       "</table>\n",
       "</div>"
      ],
      "text/plain": [
       "       sepal length (cm)      sepal width (cm)      petal length (cm)       \\\n",
       "                    amax amin             amax amin              amax amin   \n",
       "target                                                                       \n",
       "0                    5.8  4.3              4.4  2.3               1.9  1.0   \n",
       "1                    7.0  4.9              3.4  2.0               5.1  3.0   \n",
       "2                    7.9  4.9              3.8  2.2               6.9  4.5   \n",
       "\n",
       "       petal width (cm)       \n",
       "                   amax amin  \n",
       "target                        \n",
       "0                   0.6  0.1  \n",
       "1                   1.8  1.0  \n",
       "2                   2.5  1.4  "
      ]
     },
     "execution_count": 7,
     "metadata": {},
     "output_type": "execute_result"
    }
   ],
   "source": [
    "data.groupby('target').agg([np.max, np.min])"
   ]
  },
  {
   "cell_type": "code",
   "execution_count": 8,
   "metadata": {},
   "outputs": [
    {
     "data": {
      "application/vnd.plotly.v1+json": {
       "config": {
        "plotlyServerURL": "https://plot.ly"
       },
       "data": [
        {
         "customdata": [
          [
           3.5
          ],
          [
           3
          ],
          [
           3.2
          ],
          [
           3.1
          ],
          [
           3.6
          ],
          [
           3.9
          ],
          [
           3.4
          ],
          [
           3.4
          ],
          [
           2.9
          ],
          [
           3.1
          ],
          [
           3.7
          ],
          [
           3.4
          ],
          [
           3
          ],
          [
           3
          ],
          [
           4
          ],
          [
           4.4
          ],
          [
           3.9
          ],
          [
           3.5
          ],
          [
           3.8
          ],
          [
           3.8
          ],
          [
           3.4
          ],
          [
           3.7
          ],
          [
           3.6
          ],
          [
           3.3
          ],
          [
           3.4
          ],
          [
           3
          ],
          [
           3.4
          ],
          [
           3.5
          ],
          [
           3.4
          ],
          [
           3.2
          ],
          [
           3.1
          ],
          [
           3.4
          ],
          [
           4.1
          ],
          [
           4.2
          ],
          [
           3.1
          ],
          [
           3.2
          ],
          [
           3.5
          ],
          [
           3.6
          ],
          [
           3
          ],
          [
           3.4
          ],
          [
           3.5
          ],
          [
           2.3
          ],
          [
           3.2
          ],
          [
           3.5
          ],
          [
           3.8
          ],
          [
           3
          ],
          [
           3.8
          ],
          [
           3.2
          ],
          [
           3.7
          ],
          [
           3.3
          ],
          [
           3.2
          ],
          [
           3.2
          ],
          [
           3.1
          ],
          [
           2.3
          ],
          [
           2.8
          ],
          [
           2.8
          ],
          [
           3.3
          ],
          [
           2.4
          ],
          [
           2.9
          ],
          [
           2.7
          ],
          [
           2
          ],
          [
           3
          ],
          [
           2.2
          ],
          [
           2.9
          ],
          [
           2.9
          ],
          [
           3.1
          ],
          [
           3
          ],
          [
           2.7
          ],
          [
           2.2
          ],
          [
           2.5
          ],
          [
           3.2
          ],
          [
           2.8
          ],
          [
           2.5
          ],
          [
           2.8
          ],
          [
           2.9
          ],
          [
           3
          ],
          [
           2.8
          ],
          [
           3
          ],
          [
           2.9
          ],
          [
           2.6
          ],
          [
           2.4
          ],
          [
           2.4
          ],
          [
           2.7
          ],
          [
           2.7
          ],
          [
           3
          ],
          [
           3.4
          ],
          [
           3.1
          ],
          [
           2.3
          ],
          [
           3
          ],
          [
           2.5
          ],
          [
           2.6
          ],
          [
           3
          ],
          [
           2.6
          ],
          [
           2.3
          ],
          [
           2.7
          ],
          [
           3
          ],
          [
           2.9
          ],
          [
           2.9
          ],
          [
           2.5
          ],
          [
           2.8
          ],
          [
           3.3
          ],
          [
           2.7
          ],
          [
           3
          ],
          [
           2.9
          ],
          [
           3
          ],
          [
           3
          ],
          [
           2.5
          ],
          [
           2.9
          ],
          [
           2.5
          ],
          [
           3.6
          ],
          [
           3.2
          ],
          [
           2.7
          ],
          [
           3
          ],
          [
           2.5
          ],
          [
           2.8
          ],
          [
           3.2
          ],
          [
           3
          ],
          [
           3.8
          ],
          [
           2.6
          ],
          [
           2.2
          ],
          [
           3.2
          ],
          [
           2.8
          ],
          [
           2.8
          ],
          [
           2.7
          ],
          [
           3.3
          ],
          [
           3.2
          ],
          [
           2.8
          ],
          [
           3
          ],
          [
           2.8
          ],
          [
           3
          ],
          [
           2.8
          ],
          [
           3.8
          ],
          [
           2.8
          ],
          [
           2.8
          ],
          [
           2.6
          ],
          [
           3
          ],
          [
           3.4
          ],
          [
           3.1
          ],
          [
           3
          ],
          [
           3.1
          ],
          [
           3.1
          ],
          [
           3.1
          ],
          [
           2.7
          ],
          [
           3.2
          ],
          [
           3.3
          ],
          [
           3
          ],
          [
           2.5
          ],
          [
           3
          ],
          [
           3.4
          ],
          [
           3
          ]
         ],
         "hovertemplate": "petal length (cm)=%{x}<br>petal width (cm)=%{y}<br>sepal length (cm)=%{marker.size}<br>sepal width (cm)=%{customdata[0]}<br>target=%{marker.color}<extra></extra>",
         "legendgroup": "",
         "marker": {
          "color": [
           0,
           0,
           0,
           0,
           0,
           0,
           0,
           0,
           0,
           0,
           0,
           0,
           0,
           0,
           0,
           0,
           0,
           0,
           0,
           0,
           0,
           0,
           0,
           0,
           0,
           0,
           0,
           0,
           0,
           0,
           0,
           0,
           0,
           0,
           0,
           0,
           0,
           0,
           0,
           0,
           0,
           0,
           0,
           0,
           0,
           0,
           0,
           0,
           0,
           0,
           1,
           1,
           1,
           1,
           1,
           1,
           1,
           1,
           1,
           1,
           1,
           1,
           1,
           1,
           1,
           1,
           1,
           1,
           1,
           1,
           1,
           1,
           1,
           1,
           1,
           1,
           1,
           1,
           1,
           1,
           1,
           1,
           1,
           1,
           1,
           1,
           1,
           1,
           1,
           1,
           1,
           1,
           1,
           1,
           1,
           1,
           1,
           1,
           1,
           1,
           2,
           2,
           2,
           2,
           2,
           2,
           2,
           2,
           2,
           2,
           2,
           2,
           2,
           2,
           2,
           2,
           2,
           2,
           2,
           2,
           2,
           2,
           2,
           2,
           2,
           2,
           2,
           2,
           2,
           2,
           2,
           2,
           2,
           2,
           2,
           2,
           2,
           2,
           2,
           2,
           2,
           2,
           2,
           2,
           2,
           2,
           2,
           2,
           2,
           2
          ],
          "coloraxis": "coloraxis",
          "size": [
           5.1,
           4.9,
           4.7,
           4.6,
           5,
           5.4,
           4.6,
           5,
           4.4,
           4.9,
           5.4,
           4.8,
           4.8,
           4.3,
           5.8,
           5.7,
           5.4,
           5.1,
           5.7,
           5.1,
           5.4,
           5.1,
           4.6,
           5.1,
           4.8,
           5,
           5,
           5.2,
           5.2,
           4.7,
           4.8,
           5.4,
           5.2,
           5.5,
           4.9,
           5,
           5.5,
           4.9,
           4.4,
           5.1,
           5,
           4.5,
           4.4,
           5,
           5.1,
           4.8,
           5.1,
           4.6,
           5.3,
           5,
           7,
           6.4,
           6.9,
           5.5,
           6.5,
           5.7,
           6.3,
           4.9,
           6.6,
           5.2,
           5,
           5.9,
           6,
           6.1,
           5.6,
           6.7,
           5.6,
           5.8,
           6.2,
           5.6,
           5.9,
           6.1,
           6.3,
           6.1,
           6.4,
           6.6,
           6.8,
           6.7,
           6,
           5.7,
           5.5,
           5.5,
           5.8,
           6,
           5.4,
           6,
           6.7,
           6.3,
           5.6,
           5.5,
           5.5,
           6.1,
           5.8,
           5,
           5.6,
           5.7,
           5.7,
           6.2,
           5.1,
           5.7,
           6.3,
           5.8,
           7.1,
           6.3,
           6.5,
           7.6,
           4.9,
           7.3,
           6.7,
           7.2,
           6.5,
           6.4,
           6.8,
           5.7,
           5.8,
           6.4,
           6.5,
           7.7,
           7.7,
           6,
           6.9,
           5.6,
           7.7,
           6.3,
           6.7,
           7.2,
           6.2,
           6.1,
           6.4,
           7.2,
           7.4,
           7.9,
           6.4,
           6.3,
           6.1,
           7.7,
           6.3,
           6.4,
           6,
           6.9,
           6.7,
           6.9,
           5.8,
           6.8,
           6.7,
           6.7,
           6.3,
           6.5,
           6.2,
           5.9
          ],
          "sizemode": "area",
          "sizeref": 0.01975,
          "symbol": "circle"
         },
         "mode": "markers",
         "name": "",
         "showlegend": false,
         "type": "scatter",
         "x": [
          1.4,
          1.4,
          1.3,
          1.5,
          1.4,
          1.7,
          1.4,
          1.5,
          1.4,
          1.5,
          1.5,
          1.6,
          1.4,
          1.1,
          1.2,
          1.5,
          1.3,
          1.4,
          1.7,
          1.5,
          1.7,
          1.5,
          1,
          1.7,
          1.9,
          1.6,
          1.6,
          1.5,
          1.4,
          1.6,
          1.6,
          1.5,
          1.5,
          1.4,
          1.5,
          1.2,
          1.3,
          1.4,
          1.3,
          1.5,
          1.3,
          1.3,
          1.3,
          1.6,
          1.9,
          1.4,
          1.6,
          1.4,
          1.5,
          1.4,
          4.7,
          4.5,
          4.9,
          4,
          4.6,
          4.5,
          4.7,
          3.3,
          4.6,
          3.9,
          3.5,
          4.2,
          4,
          4.7,
          3.6,
          4.4,
          4.5,
          4.1,
          4.5,
          3.9,
          4.8,
          4,
          4.9,
          4.7,
          4.3,
          4.4,
          4.8,
          5,
          4.5,
          3.5,
          3.8,
          3.7,
          3.9,
          5.1,
          4.5,
          4.5,
          4.7,
          4.4,
          4.1,
          4,
          4.4,
          4.6,
          4,
          3.3,
          4.2,
          4.2,
          4.2,
          4.3,
          3,
          4.1,
          6,
          5.1,
          5.9,
          5.6,
          5.8,
          6.6,
          4.5,
          6.3,
          5.8,
          6.1,
          5.1,
          5.3,
          5.5,
          5,
          5.1,
          5.3,
          5.5,
          6.7,
          6.9,
          5,
          5.7,
          4.9,
          6.7,
          4.9,
          5.7,
          6,
          4.8,
          4.9,
          5.6,
          5.8,
          6.1,
          6.4,
          5.6,
          5.1,
          5.6,
          6.1,
          5.6,
          5.5,
          4.8,
          5.4,
          5.6,
          5.1,
          5.1,
          5.9,
          5.7,
          5.2,
          5,
          5.2,
          5.4,
          5.1
         ],
         "xaxis": "x",
         "y": [
          0.2,
          0.2,
          0.2,
          0.2,
          0.2,
          0.4,
          0.3,
          0.2,
          0.2,
          0.1,
          0.2,
          0.2,
          0.1,
          0.1,
          0.2,
          0.4,
          0.4,
          0.3,
          0.3,
          0.3,
          0.2,
          0.4,
          0.2,
          0.5,
          0.2,
          0.2,
          0.4,
          0.2,
          0.2,
          0.2,
          0.2,
          0.4,
          0.1,
          0.2,
          0.2,
          0.2,
          0.2,
          0.1,
          0.2,
          0.2,
          0.3,
          0.3,
          0.2,
          0.6,
          0.4,
          0.3,
          0.2,
          0.2,
          0.2,
          0.2,
          1.4,
          1.5,
          1.5,
          1.3,
          1.5,
          1.3,
          1.6,
          1,
          1.3,
          1.4,
          1,
          1.5,
          1,
          1.4,
          1.3,
          1.4,
          1.5,
          1,
          1.5,
          1.1,
          1.8,
          1.3,
          1.5,
          1.2,
          1.3,
          1.4,
          1.4,
          1.7,
          1.5,
          1,
          1.1,
          1,
          1.2,
          1.6,
          1.5,
          1.6,
          1.5,
          1.3,
          1.3,
          1.3,
          1.2,
          1.4,
          1.2,
          1,
          1.3,
          1.2,
          1.3,
          1.3,
          1.1,
          1.3,
          2.5,
          1.9,
          2.1,
          1.8,
          2.2,
          2.1,
          1.7,
          1.8,
          1.8,
          2.5,
          2,
          1.9,
          2.1,
          2,
          2.4,
          2.3,
          1.8,
          2.2,
          2.3,
          1.5,
          2.3,
          2,
          2,
          1.8,
          2.1,
          1.8,
          1.8,
          1.8,
          2.1,
          1.6,
          1.9,
          2,
          2.2,
          1.5,
          1.4,
          2.3,
          2.4,
          1.8,
          1.8,
          2.1,
          2.4,
          2.3,
          1.9,
          2.3,
          2.5,
          2.3,
          1.9,
          2,
          2.3,
          1.8
         ],
         "yaxis": "y"
        }
       ],
       "layout": {
        "coloraxis": {
         "colorbar": {
          "title": {
           "text": "target"
          }
         },
         "colorscale": [
          [
           0,
           "#0d0887"
          ],
          [
           0.1111111111111111,
           "#46039f"
          ],
          [
           0.2222222222222222,
           "#7201a8"
          ],
          [
           0.3333333333333333,
           "#9c179e"
          ],
          [
           0.4444444444444444,
           "#bd3786"
          ],
          [
           0.5555555555555556,
           "#d8576b"
          ],
          [
           0.6666666666666666,
           "#ed7953"
          ],
          [
           0.7777777777777778,
           "#fb9f3a"
          ],
          [
           0.8888888888888888,
           "#fdca26"
          ],
          [
           1,
           "#f0f921"
          ]
         ]
        },
        "legend": {
         "itemsizing": "constant",
         "tracegroupgap": 0
        },
        "margin": {
         "t": 60
        },
        "template": {
         "data": {
          "bar": [
           {
            "error_x": {
             "color": "#2a3f5f"
            },
            "error_y": {
             "color": "#2a3f5f"
            },
            "marker": {
             "line": {
              "color": "#E5ECF6",
              "width": 0.5
             }
            },
            "type": "bar"
           }
          ],
          "barpolar": [
           {
            "marker": {
             "line": {
              "color": "#E5ECF6",
              "width": 0.5
             }
            },
            "type": "barpolar"
           }
          ],
          "carpet": [
           {
            "aaxis": {
             "endlinecolor": "#2a3f5f",
             "gridcolor": "white",
             "linecolor": "white",
             "minorgridcolor": "white",
             "startlinecolor": "#2a3f5f"
            },
            "baxis": {
             "endlinecolor": "#2a3f5f",
             "gridcolor": "white",
             "linecolor": "white",
             "minorgridcolor": "white",
             "startlinecolor": "#2a3f5f"
            },
            "type": "carpet"
           }
          ],
          "choropleth": [
           {
            "colorbar": {
             "outlinewidth": 0,
             "ticks": ""
            },
            "type": "choropleth"
           }
          ],
          "contour": [
           {
            "colorbar": {
             "outlinewidth": 0,
             "ticks": ""
            },
            "colorscale": [
             [
              0,
              "#0d0887"
             ],
             [
              0.1111111111111111,
              "#46039f"
             ],
             [
              0.2222222222222222,
              "#7201a8"
             ],
             [
              0.3333333333333333,
              "#9c179e"
             ],
             [
              0.4444444444444444,
              "#bd3786"
             ],
             [
              0.5555555555555556,
              "#d8576b"
             ],
             [
              0.6666666666666666,
              "#ed7953"
             ],
             [
              0.7777777777777778,
              "#fb9f3a"
             ],
             [
              0.8888888888888888,
              "#fdca26"
             ],
             [
              1,
              "#f0f921"
             ]
            ],
            "type": "contour"
           }
          ],
          "contourcarpet": [
           {
            "colorbar": {
             "outlinewidth": 0,
             "ticks": ""
            },
            "type": "contourcarpet"
           }
          ],
          "heatmap": [
           {
            "colorbar": {
             "outlinewidth": 0,
             "ticks": ""
            },
            "colorscale": [
             [
              0,
              "#0d0887"
             ],
             [
              0.1111111111111111,
              "#46039f"
             ],
             [
              0.2222222222222222,
              "#7201a8"
             ],
             [
              0.3333333333333333,
              "#9c179e"
             ],
             [
              0.4444444444444444,
              "#bd3786"
             ],
             [
              0.5555555555555556,
              "#d8576b"
             ],
             [
              0.6666666666666666,
              "#ed7953"
             ],
             [
              0.7777777777777778,
              "#fb9f3a"
             ],
             [
              0.8888888888888888,
              "#fdca26"
             ],
             [
              1,
              "#f0f921"
             ]
            ],
            "type": "heatmap"
           }
          ],
          "heatmapgl": [
           {
            "colorbar": {
             "outlinewidth": 0,
             "ticks": ""
            },
            "colorscale": [
             [
              0,
              "#0d0887"
             ],
             [
              0.1111111111111111,
              "#46039f"
             ],
             [
              0.2222222222222222,
              "#7201a8"
             ],
             [
              0.3333333333333333,
              "#9c179e"
             ],
             [
              0.4444444444444444,
              "#bd3786"
             ],
             [
              0.5555555555555556,
              "#d8576b"
             ],
             [
              0.6666666666666666,
              "#ed7953"
             ],
             [
              0.7777777777777778,
              "#fb9f3a"
             ],
             [
              0.8888888888888888,
              "#fdca26"
             ],
             [
              1,
              "#f0f921"
             ]
            ],
            "type": "heatmapgl"
           }
          ],
          "histogram": [
           {
            "marker": {
             "colorbar": {
              "outlinewidth": 0,
              "ticks": ""
             }
            },
            "type": "histogram"
           }
          ],
          "histogram2d": [
           {
            "colorbar": {
             "outlinewidth": 0,
             "ticks": ""
            },
            "colorscale": [
             [
              0,
              "#0d0887"
             ],
             [
              0.1111111111111111,
              "#46039f"
             ],
             [
              0.2222222222222222,
              "#7201a8"
             ],
             [
              0.3333333333333333,
              "#9c179e"
             ],
             [
              0.4444444444444444,
              "#bd3786"
             ],
             [
              0.5555555555555556,
              "#d8576b"
             ],
             [
              0.6666666666666666,
              "#ed7953"
             ],
             [
              0.7777777777777778,
              "#fb9f3a"
             ],
             [
              0.8888888888888888,
              "#fdca26"
             ],
             [
              1,
              "#f0f921"
             ]
            ],
            "type": "histogram2d"
           }
          ],
          "histogram2dcontour": [
           {
            "colorbar": {
             "outlinewidth": 0,
             "ticks": ""
            },
            "colorscale": [
             [
              0,
              "#0d0887"
             ],
             [
              0.1111111111111111,
              "#46039f"
             ],
             [
              0.2222222222222222,
              "#7201a8"
             ],
             [
              0.3333333333333333,
              "#9c179e"
             ],
             [
              0.4444444444444444,
              "#bd3786"
             ],
             [
              0.5555555555555556,
              "#d8576b"
             ],
             [
              0.6666666666666666,
              "#ed7953"
             ],
             [
              0.7777777777777778,
              "#fb9f3a"
             ],
             [
              0.8888888888888888,
              "#fdca26"
             ],
             [
              1,
              "#f0f921"
             ]
            ],
            "type": "histogram2dcontour"
           }
          ],
          "mesh3d": [
           {
            "colorbar": {
             "outlinewidth": 0,
             "ticks": ""
            },
            "type": "mesh3d"
           }
          ],
          "parcoords": [
           {
            "line": {
             "colorbar": {
              "outlinewidth": 0,
              "ticks": ""
             }
            },
            "type": "parcoords"
           }
          ],
          "pie": [
           {
            "automargin": true,
            "type": "pie"
           }
          ],
          "scatter": [
           {
            "marker": {
             "colorbar": {
              "outlinewidth": 0,
              "ticks": ""
             }
            },
            "type": "scatter"
           }
          ],
          "scatter3d": [
           {
            "line": {
             "colorbar": {
              "outlinewidth": 0,
              "ticks": ""
             }
            },
            "marker": {
             "colorbar": {
              "outlinewidth": 0,
              "ticks": ""
             }
            },
            "type": "scatter3d"
           }
          ],
          "scattercarpet": [
           {
            "marker": {
             "colorbar": {
              "outlinewidth": 0,
              "ticks": ""
             }
            },
            "type": "scattercarpet"
           }
          ],
          "scattergeo": [
           {
            "marker": {
             "colorbar": {
              "outlinewidth": 0,
              "ticks": ""
             }
            },
            "type": "scattergeo"
           }
          ],
          "scattergl": [
           {
            "marker": {
             "colorbar": {
              "outlinewidth": 0,
              "ticks": ""
             }
            },
            "type": "scattergl"
           }
          ],
          "scattermapbox": [
           {
            "marker": {
             "colorbar": {
              "outlinewidth": 0,
              "ticks": ""
             }
            },
            "type": "scattermapbox"
           }
          ],
          "scatterpolar": [
           {
            "marker": {
             "colorbar": {
              "outlinewidth": 0,
              "ticks": ""
             }
            },
            "type": "scatterpolar"
           }
          ],
          "scatterpolargl": [
           {
            "marker": {
             "colorbar": {
              "outlinewidth": 0,
              "ticks": ""
             }
            },
            "type": "scatterpolargl"
           }
          ],
          "scatterternary": [
           {
            "marker": {
             "colorbar": {
              "outlinewidth": 0,
              "ticks": ""
             }
            },
            "type": "scatterternary"
           }
          ],
          "surface": [
           {
            "colorbar": {
             "outlinewidth": 0,
             "ticks": ""
            },
            "colorscale": [
             [
              0,
              "#0d0887"
             ],
             [
              0.1111111111111111,
              "#46039f"
             ],
             [
              0.2222222222222222,
              "#7201a8"
             ],
             [
              0.3333333333333333,
              "#9c179e"
             ],
             [
              0.4444444444444444,
              "#bd3786"
             ],
             [
              0.5555555555555556,
              "#d8576b"
             ],
             [
              0.6666666666666666,
              "#ed7953"
             ],
             [
              0.7777777777777778,
              "#fb9f3a"
             ],
             [
              0.8888888888888888,
              "#fdca26"
             ],
             [
              1,
              "#f0f921"
             ]
            ],
            "type": "surface"
           }
          ],
          "table": [
           {
            "cells": {
             "fill": {
              "color": "#EBF0F8"
             },
             "line": {
              "color": "white"
             }
            },
            "header": {
             "fill": {
              "color": "#C8D4E3"
             },
             "line": {
              "color": "white"
             }
            },
            "type": "table"
           }
          ]
         },
         "layout": {
          "annotationdefaults": {
           "arrowcolor": "#2a3f5f",
           "arrowhead": 0,
           "arrowwidth": 1
          },
          "coloraxis": {
           "colorbar": {
            "outlinewidth": 0,
            "ticks": ""
           }
          },
          "colorscale": {
           "diverging": [
            [
             0,
             "#8e0152"
            ],
            [
             0.1,
             "#c51b7d"
            ],
            [
             0.2,
             "#de77ae"
            ],
            [
             0.3,
             "#f1b6da"
            ],
            [
             0.4,
             "#fde0ef"
            ],
            [
             0.5,
             "#f7f7f7"
            ],
            [
             0.6,
             "#e6f5d0"
            ],
            [
             0.7,
             "#b8e186"
            ],
            [
             0.8,
             "#7fbc41"
            ],
            [
             0.9,
             "#4d9221"
            ],
            [
             1,
             "#276419"
            ]
           ],
           "sequential": [
            [
             0,
             "#0d0887"
            ],
            [
             0.1111111111111111,
             "#46039f"
            ],
            [
             0.2222222222222222,
             "#7201a8"
            ],
            [
             0.3333333333333333,
             "#9c179e"
            ],
            [
             0.4444444444444444,
             "#bd3786"
            ],
            [
             0.5555555555555556,
             "#d8576b"
            ],
            [
             0.6666666666666666,
             "#ed7953"
            ],
            [
             0.7777777777777778,
             "#fb9f3a"
            ],
            [
             0.8888888888888888,
             "#fdca26"
            ],
            [
             1,
             "#f0f921"
            ]
           ],
           "sequentialminus": [
            [
             0,
             "#0d0887"
            ],
            [
             0.1111111111111111,
             "#46039f"
            ],
            [
             0.2222222222222222,
             "#7201a8"
            ],
            [
             0.3333333333333333,
             "#9c179e"
            ],
            [
             0.4444444444444444,
             "#bd3786"
            ],
            [
             0.5555555555555556,
             "#d8576b"
            ],
            [
             0.6666666666666666,
             "#ed7953"
            ],
            [
             0.7777777777777778,
             "#fb9f3a"
            ],
            [
             0.8888888888888888,
             "#fdca26"
            ],
            [
             1,
             "#f0f921"
            ]
           ]
          },
          "colorway": [
           "#636efa",
           "#EF553B",
           "#00cc96",
           "#ab63fa",
           "#FFA15A",
           "#19d3f3",
           "#FF6692",
           "#B6E880",
           "#FF97FF",
           "#FECB52"
          ],
          "font": {
           "color": "#2a3f5f"
          },
          "geo": {
           "bgcolor": "white",
           "lakecolor": "white",
           "landcolor": "#E5ECF6",
           "showlakes": true,
           "showland": true,
           "subunitcolor": "white"
          },
          "hoverlabel": {
           "align": "left"
          },
          "hovermode": "closest",
          "mapbox": {
           "style": "light"
          },
          "paper_bgcolor": "white",
          "plot_bgcolor": "#E5ECF6",
          "polar": {
           "angularaxis": {
            "gridcolor": "white",
            "linecolor": "white",
            "ticks": ""
           },
           "bgcolor": "#E5ECF6",
           "radialaxis": {
            "gridcolor": "white",
            "linecolor": "white",
            "ticks": ""
           }
          },
          "scene": {
           "xaxis": {
            "backgroundcolor": "#E5ECF6",
            "gridcolor": "white",
            "gridwidth": 2,
            "linecolor": "white",
            "showbackground": true,
            "ticks": "",
            "zerolinecolor": "white"
           },
           "yaxis": {
            "backgroundcolor": "#E5ECF6",
            "gridcolor": "white",
            "gridwidth": 2,
            "linecolor": "white",
            "showbackground": true,
            "ticks": "",
            "zerolinecolor": "white"
           },
           "zaxis": {
            "backgroundcolor": "#E5ECF6",
            "gridcolor": "white",
            "gridwidth": 2,
            "linecolor": "white",
            "showbackground": true,
            "ticks": "",
            "zerolinecolor": "white"
           }
          },
          "shapedefaults": {
           "line": {
            "color": "#2a3f5f"
           }
          },
          "ternary": {
           "aaxis": {
            "gridcolor": "white",
            "linecolor": "white",
            "ticks": ""
           },
           "baxis": {
            "gridcolor": "white",
            "linecolor": "white",
            "ticks": ""
           },
           "bgcolor": "#E5ECF6",
           "caxis": {
            "gridcolor": "white",
            "linecolor": "white",
            "ticks": ""
           }
          },
          "title": {
           "x": 0.05
          },
          "xaxis": {
           "automargin": true,
           "gridcolor": "white",
           "linecolor": "white",
           "ticks": "",
           "title": {
            "standoff": 15
           },
           "zerolinecolor": "white",
           "zerolinewidth": 2
          },
          "yaxis": {
           "automargin": true,
           "gridcolor": "white",
           "linecolor": "white",
           "ticks": "",
           "title": {
            "standoff": 15
           },
           "zerolinecolor": "white",
           "zerolinewidth": 2
          }
         }
        },
        "xaxis": {
         "anchor": "y",
         "domain": [
          0,
          1
         ],
         "title": {
          "text": "petal length (cm)"
         }
        },
        "yaxis": {
         "anchor": "x",
         "domain": [
          0,
          1
         ],
         "title": {
          "text": "petal width (cm)"
         }
        }
       }
      },
      "text/html": [
       "<div>\n",
       "        \n",
       "        \n",
       "            <div id=\"dc1abade-1ea1-4afe-a12d-5a0299245276\" class=\"plotly-graph-div\" style=\"height:525px; width:100%;\"></div>\n",
       "            <script type=\"text/javascript\">\n",
       "                require([\"plotly\"], function(Plotly) {\n",
       "                    window.PLOTLYENV=window.PLOTLYENV || {};\n",
       "                    \n",
       "                if (document.getElementById(\"dc1abade-1ea1-4afe-a12d-5a0299245276\")) {\n",
       "                    Plotly.newPlot(\n",
       "                        'dc1abade-1ea1-4afe-a12d-5a0299245276',\n",
       "                        [{\"customdata\": [[3.5], [3.0], [3.2], [3.1], [3.6], [3.9], [3.4], [3.4], [2.9], [3.1], [3.7], [3.4], [3.0], [3.0], [4.0], [4.4], [3.9], [3.5], [3.8], [3.8], [3.4], [3.7], [3.6], [3.3], [3.4], [3.0], [3.4], [3.5], [3.4], [3.2], [3.1], [3.4], [4.1], [4.2], [3.1], [3.2], [3.5], [3.6], [3.0], [3.4], [3.5], [2.3], [3.2], [3.5], [3.8], [3.0], [3.8], [3.2], [3.7], [3.3], [3.2], [3.2], [3.1], [2.3], [2.8], [2.8], [3.3], [2.4], [2.9], [2.7], [2.0], [3.0], [2.2], [2.9], [2.9], [3.1], [3.0], [2.7], [2.2], [2.5], [3.2], [2.8], [2.5], [2.8], [2.9], [3.0], [2.8], [3.0], [2.9], [2.6], [2.4], [2.4], [2.7], [2.7], [3.0], [3.4], [3.1], [2.3], [3.0], [2.5], [2.6], [3.0], [2.6], [2.3], [2.7], [3.0], [2.9], [2.9], [2.5], [2.8], [3.3], [2.7], [3.0], [2.9], [3.0], [3.0], [2.5], [2.9], [2.5], [3.6], [3.2], [2.7], [3.0], [2.5], [2.8], [3.2], [3.0], [3.8], [2.6], [2.2], [3.2], [2.8], [2.8], [2.7], [3.3], [3.2], [2.8], [3.0], [2.8], [3.0], [2.8], [3.8], [2.8], [2.8], [2.6], [3.0], [3.4], [3.1], [3.0], [3.1], [3.1], [3.1], [2.7], [3.2], [3.3], [3.0], [2.5], [3.0], [3.4], [3.0]], \"hovertemplate\": \"petal length (cm)=%{x}<br>petal width (cm)=%{y}<br>sepal length (cm)=%{marker.size}<br>sepal width (cm)=%{customdata[0]}<br>target=%{marker.color}<extra></extra>\", \"legendgroup\": \"\", \"marker\": {\"color\": [0, 0, 0, 0, 0, 0, 0, 0, 0, 0, 0, 0, 0, 0, 0, 0, 0, 0, 0, 0, 0, 0, 0, 0, 0, 0, 0, 0, 0, 0, 0, 0, 0, 0, 0, 0, 0, 0, 0, 0, 0, 0, 0, 0, 0, 0, 0, 0, 0, 0, 1, 1, 1, 1, 1, 1, 1, 1, 1, 1, 1, 1, 1, 1, 1, 1, 1, 1, 1, 1, 1, 1, 1, 1, 1, 1, 1, 1, 1, 1, 1, 1, 1, 1, 1, 1, 1, 1, 1, 1, 1, 1, 1, 1, 1, 1, 1, 1, 1, 1, 2, 2, 2, 2, 2, 2, 2, 2, 2, 2, 2, 2, 2, 2, 2, 2, 2, 2, 2, 2, 2, 2, 2, 2, 2, 2, 2, 2, 2, 2, 2, 2, 2, 2, 2, 2, 2, 2, 2, 2, 2, 2, 2, 2, 2, 2, 2, 2, 2, 2], \"coloraxis\": \"coloraxis\", \"size\": [5.1, 4.9, 4.7, 4.6, 5.0, 5.4, 4.6, 5.0, 4.4, 4.9, 5.4, 4.8, 4.8, 4.3, 5.8, 5.7, 5.4, 5.1, 5.7, 5.1, 5.4, 5.1, 4.6, 5.1, 4.8, 5.0, 5.0, 5.2, 5.2, 4.7, 4.8, 5.4, 5.2, 5.5, 4.9, 5.0, 5.5, 4.9, 4.4, 5.1, 5.0, 4.5, 4.4, 5.0, 5.1, 4.8, 5.1, 4.6, 5.3, 5.0, 7.0, 6.4, 6.9, 5.5, 6.5, 5.7, 6.3, 4.9, 6.6, 5.2, 5.0, 5.9, 6.0, 6.1, 5.6, 6.7, 5.6, 5.8, 6.2, 5.6, 5.9, 6.1, 6.3, 6.1, 6.4, 6.6, 6.8, 6.7, 6.0, 5.7, 5.5, 5.5, 5.8, 6.0, 5.4, 6.0, 6.7, 6.3, 5.6, 5.5, 5.5, 6.1, 5.8, 5.0, 5.6, 5.7, 5.7, 6.2, 5.1, 5.7, 6.3, 5.8, 7.1, 6.3, 6.5, 7.6, 4.9, 7.3, 6.7, 7.2, 6.5, 6.4, 6.8, 5.7, 5.8, 6.4, 6.5, 7.7, 7.7, 6.0, 6.9, 5.6, 7.7, 6.3, 6.7, 7.2, 6.2, 6.1, 6.4, 7.2, 7.4, 7.9, 6.4, 6.3, 6.1, 7.7, 6.3, 6.4, 6.0, 6.9, 6.7, 6.9, 5.8, 6.8, 6.7, 6.7, 6.3, 6.5, 6.2, 5.9], \"sizemode\": \"area\", \"sizeref\": 0.01975, \"symbol\": \"circle\"}, \"mode\": \"markers\", \"name\": \"\", \"showlegend\": false, \"type\": \"scatter\", \"x\": [1.4, 1.4, 1.3, 1.5, 1.4, 1.7, 1.4, 1.5, 1.4, 1.5, 1.5, 1.6, 1.4, 1.1, 1.2, 1.5, 1.3, 1.4, 1.7, 1.5, 1.7, 1.5, 1.0, 1.7, 1.9, 1.6, 1.6, 1.5, 1.4, 1.6, 1.6, 1.5, 1.5, 1.4, 1.5, 1.2, 1.3, 1.4, 1.3, 1.5, 1.3, 1.3, 1.3, 1.6, 1.9, 1.4, 1.6, 1.4, 1.5, 1.4, 4.7, 4.5, 4.9, 4.0, 4.6, 4.5, 4.7, 3.3, 4.6, 3.9, 3.5, 4.2, 4.0, 4.7, 3.6, 4.4, 4.5, 4.1, 4.5, 3.9, 4.8, 4.0, 4.9, 4.7, 4.3, 4.4, 4.8, 5.0, 4.5, 3.5, 3.8, 3.7, 3.9, 5.1, 4.5, 4.5, 4.7, 4.4, 4.1, 4.0, 4.4, 4.6, 4.0, 3.3, 4.2, 4.2, 4.2, 4.3, 3.0, 4.1, 6.0, 5.1, 5.9, 5.6, 5.8, 6.6, 4.5, 6.3, 5.8, 6.1, 5.1, 5.3, 5.5, 5.0, 5.1, 5.3, 5.5, 6.7, 6.9, 5.0, 5.7, 4.9, 6.7, 4.9, 5.7, 6.0, 4.8, 4.9, 5.6, 5.8, 6.1, 6.4, 5.6, 5.1, 5.6, 6.1, 5.6, 5.5, 4.8, 5.4, 5.6, 5.1, 5.1, 5.9, 5.7, 5.2, 5.0, 5.2, 5.4, 5.1], \"xaxis\": \"x\", \"y\": [0.2, 0.2, 0.2, 0.2, 0.2, 0.4, 0.3, 0.2, 0.2, 0.1, 0.2, 0.2, 0.1, 0.1, 0.2, 0.4, 0.4, 0.3, 0.3, 0.3, 0.2, 0.4, 0.2, 0.5, 0.2, 0.2, 0.4, 0.2, 0.2, 0.2, 0.2, 0.4, 0.1, 0.2, 0.2, 0.2, 0.2, 0.1, 0.2, 0.2, 0.3, 0.3, 0.2, 0.6, 0.4, 0.3, 0.2, 0.2, 0.2, 0.2, 1.4, 1.5, 1.5, 1.3, 1.5, 1.3, 1.6, 1.0, 1.3, 1.4, 1.0, 1.5, 1.0, 1.4, 1.3, 1.4, 1.5, 1.0, 1.5, 1.1, 1.8, 1.3, 1.5, 1.2, 1.3, 1.4, 1.4, 1.7, 1.5, 1.0, 1.1, 1.0, 1.2, 1.6, 1.5, 1.6, 1.5, 1.3, 1.3, 1.3, 1.2, 1.4, 1.2, 1.0, 1.3, 1.2, 1.3, 1.3, 1.1, 1.3, 2.5, 1.9, 2.1, 1.8, 2.2, 2.1, 1.7, 1.8, 1.8, 2.5, 2.0, 1.9, 2.1, 2.0, 2.4, 2.3, 1.8, 2.2, 2.3, 1.5, 2.3, 2.0, 2.0, 1.8, 2.1, 1.8, 1.8, 1.8, 2.1, 1.6, 1.9, 2.0, 2.2, 1.5, 1.4, 2.3, 2.4, 1.8, 1.8, 2.1, 2.4, 2.3, 1.9, 2.3, 2.5, 2.3, 1.9, 2.0, 2.3, 1.8], \"yaxis\": \"y\"}],\n",
       "                        {\"coloraxis\": {\"colorbar\": {\"title\": {\"text\": \"target\"}}, \"colorscale\": [[0.0, \"#0d0887\"], [0.1111111111111111, \"#46039f\"], [0.2222222222222222, \"#7201a8\"], [0.3333333333333333, \"#9c179e\"], [0.4444444444444444, \"#bd3786\"], [0.5555555555555556, \"#d8576b\"], [0.6666666666666666, \"#ed7953\"], [0.7777777777777778, \"#fb9f3a\"], [0.8888888888888888, \"#fdca26\"], [1.0, \"#f0f921\"]]}, \"legend\": {\"itemsizing\": \"constant\", \"tracegroupgap\": 0}, \"margin\": {\"t\": 60}, \"template\": {\"data\": {\"bar\": [{\"error_x\": {\"color\": \"#2a3f5f\"}, \"error_y\": {\"color\": \"#2a3f5f\"}, \"marker\": {\"line\": {\"color\": \"#E5ECF6\", \"width\": 0.5}}, \"type\": \"bar\"}], \"barpolar\": [{\"marker\": {\"line\": {\"color\": \"#E5ECF6\", \"width\": 0.5}}, \"type\": \"barpolar\"}], \"carpet\": [{\"aaxis\": {\"endlinecolor\": \"#2a3f5f\", \"gridcolor\": \"white\", \"linecolor\": \"white\", \"minorgridcolor\": \"white\", \"startlinecolor\": \"#2a3f5f\"}, \"baxis\": {\"endlinecolor\": \"#2a3f5f\", \"gridcolor\": \"white\", \"linecolor\": \"white\", \"minorgridcolor\": \"white\", \"startlinecolor\": \"#2a3f5f\"}, \"type\": \"carpet\"}], \"choropleth\": [{\"colorbar\": {\"outlinewidth\": 0, \"ticks\": \"\"}, \"type\": \"choropleth\"}], \"contour\": [{\"colorbar\": {\"outlinewidth\": 0, \"ticks\": \"\"}, \"colorscale\": [[0.0, \"#0d0887\"], [0.1111111111111111, \"#46039f\"], [0.2222222222222222, \"#7201a8\"], [0.3333333333333333, \"#9c179e\"], [0.4444444444444444, \"#bd3786\"], [0.5555555555555556, \"#d8576b\"], [0.6666666666666666, \"#ed7953\"], [0.7777777777777778, \"#fb9f3a\"], [0.8888888888888888, \"#fdca26\"], [1.0, \"#f0f921\"]], \"type\": \"contour\"}], \"contourcarpet\": [{\"colorbar\": {\"outlinewidth\": 0, \"ticks\": \"\"}, \"type\": \"contourcarpet\"}], \"heatmap\": [{\"colorbar\": {\"outlinewidth\": 0, \"ticks\": \"\"}, \"colorscale\": [[0.0, \"#0d0887\"], [0.1111111111111111, \"#46039f\"], [0.2222222222222222, \"#7201a8\"], [0.3333333333333333, \"#9c179e\"], [0.4444444444444444, \"#bd3786\"], [0.5555555555555556, \"#d8576b\"], [0.6666666666666666, \"#ed7953\"], [0.7777777777777778, \"#fb9f3a\"], [0.8888888888888888, \"#fdca26\"], [1.0, \"#f0f921\"]], \"type\": \"heatmap\"}], \"heatmapgl\": [{\"colorbar\": {\"outlinewidth\": 0, \"ticks\": \"\"}, \"colorscale\": [[0.0, \"#0d0887\"], [0.1111111111111111, \"#46039f\"], [0.2222222222222222, \"#7201a8\"], [0.3333333333333333, \"#9c179e\"], [0.4444444444444444, \"#bd3786\"], [0.5555555555555556, \"#d8576b\"], [0.6666666666666666, \"#ed7953\"], [0.7777777777777778, \"#fb9f3a\"], [0.8888888888888888, \"#fdca26\"], [1.0, \"#f0f921\"]], \"type\": \"heatmapgl\"}], \"histogram\": [{\"marker\": {\"colorbar\": {\"outlinewidth\": 0, \"ticks\": \"\"}}, \"type\": \"histogram\"}], \"histogram2d\": [{\"colorbar\": {\"outlinewidth\": 0, \"ticks\": \"\"}, \"colorscale\": [[0.0, \"#0d0887\"], [0.1111111111111111, \"#46039f\"], [0.2222222222222222, \"#7201a8\"], [0.3333333333333333, \"#9c179e\"], [0.4444444444444444, \"#bd3786\"], [0.5555555555555556, \"#d8576b\"], [0.6666666666666666, \"#ed7953\"], [0.7777777777777778, \"#fb9f3a\"], [0.8888888888888888, \"#fdca26\"], [1.0, \"#f0f921\"]], \"type\": \"histogram2d\"}], \"histogram2dcontour\": [{\"colorbar\": {\"outlinewidth\": 0, \"ticks\": \"\"}, \"colorscale\": [[0.0, \"#0d0887\"], [0.1111111111111111, \"#46039f\"], [0.2222222222222222, \"#7201a8\"], [0.3333333333333333, \"#9c179e\"], [0.4444444444444444, \"#bd3786\"], [0.5555555555555556, \"#d8576b\"], [0.6666666666666666, \"#ed7953\"], [0.7777777777777778, \"#fb9f3a\"], [0.8888888888888888, \"#fdca26\"], [1.0, \"#f0f921\"]], \"type\": \"histogram2dcontour\"}], \"mesh3d\": [{\"colorbar\": {\"outlinewidth\": 0, \"ticks\": \"\"}, \"type\": \"mesh3d\"}], \"parcoords\": [{\"line\": {\"colorbar\": {\"outlinewidth\": 0, \"ticks\": \"\"}}, \"type\": \"parcoords\"}], \"pie\": [{\"automargin\": true, \"type\": \"pie\"}], \"scatter\": [{\"marker\": {\"colorbar\": {\"outlinewidth\": 0, \"ticks\": \"\"}}, \"type\": \"scatter\"}], \"scatter3d\": [{\"line\": {\"colorbar\": {\"outlinewidth\": 0, \"ticks\": \"\"}}, \"marker\": {\"colorbar\": {\"outlinewidth\": 0, \"ticks\": \"\"}}, \"type\": \"scatter3d\"}], \"scattercarpet\": [{\"marker\": {\"colorbar\": {\"outlinewidth\": 0, \"ticks\": \"\"}}, \"type\": \"scattercarpet\"}], \"scattergeo\": [{\"marker\": {\"colorbar\": {\"outlinewidth\": 0, \"ticks\": \"\"}}, \"type\": \"scattergeo\"}], \"scattergl\": [{\"marker\": {\"colorbar\": {\"outlinewidth\": 0, \"ticks\": \"\"}}, \"type\": \"scattergl\"}], \"scattermapbox\": [{\"marker\": {\"colorbar\": {\"outlinewidth\": 0, \"ticks\": \"\"}}, \"type\": \"scattermapbox\"}], \"scatterpolar\": [{\"marker\": {\"colorbar\": {\"outlinewidth\": 0, \"ticks\": \"\"}}, \"type\": \"scatterpolar\"}], \"scatterpolargl\": [{\"marker\": {\"colorbar\": {\"outlinewidth\": 0, \"ticks\": \"\"}}, \"type\": \"scatterpolargl\"}], \"scatterternary\": [{\"marker\": {\"colorbar\": {\"outlinewidth\": 0, \"ticks\": \"\"}}, \"type\": \"scatterternary\"}], \"surface\": [{\"colorbar\": {\"outlinewidth\": 0, \"ticks\": \"\"}, \"colorscale\": [[0.0, \"#0d0887\"], [0.1111111111111111, \"#46039f\"], [0.2222222222222222, \"#7201a8\"], [0.3333333333333333, \"#9c179e\"], [0.4444444444444444, \"#bd3786\"], [0.5555555555555556, \"#d8576b\"], [0.6666666666666666, \"#ed7953\"], [0.7777777777777778, \"#fb9f3a\"], [0.8888888888888888, \"#fdca26\"], [1.0, \"#f0f921\"]], \"type\": \"surface\"}], \"table\": [{\"cells\": {\"fill\": {\"color\": \"#EBF0F8\"}, \"line\": {\"color\": \"white\"}}, \"header\": {\"fill\": {\"color\": \"#C8D4E3\"}, \"line\": {\"color\": \"white\"}}, \"type\": \"table\"}]}, \"layout\": {\"annotationdefaults\": {\"arrowcolor\": \"#2a3f5f\", \"arrowhead\": 0, \"arrowwidth\": 1}, \"coloraxis\": {\"colorbar\": {\"outlinewidth\": 0, \"ticks\": \"\"}}, \"colorscale\": {\"diverging\": [[0, \"#8e0152\"], [0.1, \"#c51b7d\"], [0.2, \"#de77ae\"], [0.3, \"#f1b6da\"], [0.4, \"#fde0ef\"], [0.5, \"#f7f7f7\"], [0.6, \"#e6f5d0\"], [0.7, \"#b8e186\"], [0.8, \"#7fbc41\"], [0.9, \"#4d9221\"], [1, \"#276419\"]], \"sequential\": [[0.0, \"#0d0887\"], [0.1111111111111111, \"#46039f\"], [0.2222222222222222, \"#7201a8\"], [0.3333333333333333, \"#9c179e\"], [0.4444444444444444, \"#bd3786\"], [0.5555555555555556, \"#d8576b\"], [0.6666666666666666, \"#ed7953\"], [0.7777777777777778, \"#fb9f3a\"], [0.8888888888888888, \"#fdca26\"], [1.0, \"#f0f921\"]], \"sequentialminus\": [[0.0, \"#0d0887\"], [0.1111111111111111, \"#46039f\"], [0.2222222222222222, \"#7201a8\"], [0.3333333333333333, \"#9c179e\"], [0.4444444444444444, \"#bd3786\"], [0.5555555555555556, \"#d8576b\"], [0.6666666666666666, \"#ed7953\"], [0.7777777777777778, \"#fb9f3a\"], [0.8888888888888888, \"#fdca26\"], [1.0, \"#f0f921\"]]}, \"colorway\": [\"#636efa\", \"#EF553B\", \"#00cc96\", \"#ab63fa\", \"#FFA15A\", \"#19d3f3\", \"#FF6692\", \"#B6E880\", \"#FF97FF\", \"#FECB52\"], \"font\": {\"color\": \"#2a3f5f\"}, \"geo\": {\"bgcolor\": \"white\", \"lakecolor\": \"white\", \"landcolor\": \"#E5ECF6\", \"showlakes\": true, \"showland\": true, \"subunitcolor\": \"white\"}, \"hoverlabel\": {\"align\": \"left\"}, \"hovermode\": \"closest\", \"mapbox\": {\"style\": \"light\"}, \"paper_bgcolor\": \"white\", \"plot_bgcolor\": \"#E5ECF6\", \"polar\": {\"angularaxis\": {\"gridcolor\": \"white\", \"linecolor\": \"white\", \"ticks\": \"\"}, \"bgcolor\": \"#E5ECF6\", \"radialaxis\": {\"gridcolor\": \"white\", \"linecolor\": \"white\", \"ticks\": \"\"}}, \"scene\": {\"xaxis\": {\"backgroundcolor\": \"#E5ECF6\", \"gridcolor\": \"white\", \"gridwidth\": 2, \"linecolor\": \"white\", \"showbackground\": true, \"ticks\": \"\", \"zerolinecolor\": \"white\"}, \"yaxis\": {\"backgroundcolor\": \"#E5ECF6\", \"gridcolor\": \"white\", \"gridwidth\": 2, \"linecolor\": \"white\", \"showbackground\": true, \"ticks\": \"\", \"zerolinecolor\": \"white\"}, \"zaxis\": {\"backgroundcolor\": \"#E5ECF6\", \"gridcolor\": \"white\", \"gridwidth\": 2, \"linecolor\": \"white\", \"showbackground\": true, \"ticks\": \"\", \"zerolinecolor\": \"white\"}}, \"shapedefaults\": {\"line\": {\"color\": \"#2a3f5f\"}}, \"ternary\": {\"aaxis\": {\"gridcolor\": \"white\", \"linecolor\": \"white\", \"ticks\": \"\"}, \"baxis\": {\"gridcolor\": \"white\", \"linecolor\": \"white\", \"ticks\": \"\"}, \"bgcolor\": \"#E5ECF6\", \"caxis\": {\"gridcolor\": \"white\", \"linecolor\": \"white\", \"ticks\": \"\"}}, \"title\": {\"x\": 0.05}, \"xaxis\": {\"automargin\": true, \"gridcolor\": \"white\", \"linecolor\": \"white\", \"ticks\": \"\", \"title\": {\"standoff\": 15}, \"zerolinecolor\": \"white\", \"zerolinewidth\": 2}, \"yaxis\": {\"automargin\": true, \"gridcolor\": \"white\", \"linecolor\": \"white\", \"ticks\": \"\", \"title\": {\"standoff\": 15}, \"zerolinecolor\": \"white\", \"zerolinewidth\": 2}}}, \"xaxis\": {\"anchor\": \"y\", \"domain\": [0.0, 1.0], \"title\": {\"text\": \"petal length (cm)\"}}, \"yaxis\": {\"anchor\": \"x\", \"domain\": [0.0, 1.0], \"title\": {\"text\": \"petal width (cm)\"}}},\n",
       "                        {\"responsive\": true}\n",
       "                    ).then(function(){\n",
       "                            \n",
       "var gd = document.getElementById('dc1abade-1ea1-4afe-a12d-5a0299245276');\n",
       "var x = new MutationObserver(function (mutations, observer) {{\n",
       "        var display = window.getComputedStyle(gd).display;\n",
       "        if (!display || display === 'none') {{\n",
       "            console.log([gd, 'removed!']);\n",
       "            Plotly.purge(gd);\n",
       "            observer.disconnect();\n",
       "        }}\n",
       "}});\n",
       "\n",
       "// Listen for the removal of the full notebook cells\n",
       "var notebookContainer = gd.closest('#notebook-container');\n",
       "if (notebookContainer) {{\n",
       "    x.observe(notebookContainer, {childList: true});\n",
       "}}\n",
       "\n",
       "// Listen for the clearing of the current output cell\n",
       "var outputEl = gd.closest('.output');\n",
       "if (outputEl) {{\n",
       "    x.observe(outputEl, {childList: true});\n",
       "}}\n",
       "\n",
       "                        })\n",
       "                };\n",
       "                });\n",
       "            </script>\n",
       "        </div>"
      ]
     },
     "metadata": {},
     "output_type": "display_data"
    }
   ],
   "source": [
    "px.scatter(x='petal length (cm)',\n",
    "           y='petal width (cm)',\n",
    "           data_frame=data,\n",
    "           color='target',\n",
    "           size='sepal length (cm)',\n",
    "           hover_data=['sepal width (cm)'])"
   ]
  },
  {
   "cell_type": "code",
   "execution_count": 9,
   "metadata": {},
   "outputs": [
    {
     "data": {
      "application/vnd.plotly.v1+json": {
       "config": {
        "plotlyServerURL": "https://plot.ly"
       },
       "data": [
        {
         "hovertemplate": "sepal length (cm)=%{x}<br>sepal width (cm)=%{y}<br>petal length (cm)=%{marker.size}<br>target=%{marker.color}<extra></extra>",
         "legendgroup": "",
         "marker": {
          "color": [
           0,
           0,
           0,
           0,
           0,
           0,
           0,
           0,
           0,
           0,
           0,
           0,
           0,
           0,
           0,
           0,
           0,
           0,
           0,
           0,
           0,
           0,
           0,
           0,
           0,
           0,
           0,
           0,
           0,
           0,
           0,
           0,
           0,
           0,
           0,
           0,
           0,
           0,
           0,
           0,
           0,
           0,
           0,
           0,
           0,
           0,
           0,
           0,
           0,
           0,
           1,
           1,
           1,
           1,
           1,
           1,
           1,
           1,
           1,
           1,
           1,
           1,
           1,
           1,
           1,
           1,
           1,
           1,
           1,
           1,
           1,
           1,
           1,
           1,
           1,
           1,
           1,
           1,
           1,
           1,
           1,
           1,
           1,
           1,
           1,
           1,
           1,
           1,
           1,
           1,
           1,
           1,
           1,
           1,
           1,
           1,
           1,
           1,
           1,
           1,
           2,
           2,
           2,
           2,
           2,
           2,
           2,
           2,
           2,
           2,
           2,
           2,
           2,
           2,
           2,
           2,
           2,
           2,
           2,
           2,
           2,
           2,
           2,
           2,
           2,
           2,
           2,
           2,
           2,
           2,
           2,
           2,
           2,
           2,
           2,
           2,
           2,
           2,
           2,
           2,
           2,
           2,
           2,
           2,
           2,
           2,
           2,
           2,
           2,
           2
          ],
          "coloraxis": "coloraxis",
          "size": [
           1.4,
           1.4,
           1.3,
           1.5,
           1.4,
           1.7,
           1.4,
           1.5,
           1.4,
           1.5,
           1.5,
           1.6,
           1.4,
           1.1,
           1.2,
           1.5,
           1.3,
           1.4,
           1.7,
           1.5,
           1.7,
           1.5,
           1,
           1.7,
           1.9,
           1.6,
           1.6,
           1.5,
           1.4,
           1.6,
           1.6,
           1.5,
           1.5,
           1.4,
           1.5,
           1.2,
           1.3,
           1.4,
           1.3,
           1.5,
           1.3,
           1.3,
           1.3,
           1.6,
           1.9,
           1.4,
           1.6,
           1.4,
           1.5,
           1.4,
           4.7,
           4.5,
           4.9,
           4,
           4.6,
           4.5,
           4.7,
           3.3,
           4.6,
           3.9,
           3.5,
           4.2,
           4,
           4.7,
           3.6,
           4.4,
           4.5,
           4.1,
           4.5,
           3.9,
           4.8,
           4,
           4.9,
           4.7,
           4.3,
           4.4,
           4.8,
           5,
           4.5,
           3.5,
           3.8,
           3.7,
           3.9,
           5.1,
           4.5,
           4.5,
           4.7,
           4.4,
           4.1,
           4,
           4.4,
           4.6,
           4,
           3.3,
           4.2,
           4.2,
           4.2,
           4.3,
           3,
           4.1,
           6,
           5.1,
           5.9,
           5.6,
           5.8,
           6.6,
           4.5,
           6.3,
           5.8,
           6.1,
           5.1,
           5.3,
           5.5,
           5,
           5.1,
           5.3,
           5.5,
           6.7,
           6.9,
           5,
           5.7,
           4.9,
           6.7,
           4.9,
           5.7,
           6,
           4.8,
           4.9,
           5.6,
           5.8,
           6.1,
           6.4,
           5.6,
           5.1,
           5.6,
           6.1,
           5.6,
           5.5,
           4.8,
           5.4,
           5.6,
           5.1,
           5.1,
           5.9,
           5.7,
           5.2,
           5,
           5.2,
           5.4,
           5.1
          ],
          "sizemode": "area",
          "sizeref": 0.01725,
          "symbol": "circle"
         },
         "mode": "markers",
         "name": "",
         "showlegend": false,
         "type": "scatter",
         "x": [
          5.1,
          4.9,
          4.7,
          4.6,
          5,
          5.4,
          4.6,
          5,
          4.4,
          4.9,
          5.4,
          4.8,
          4.8,
          4.3,
          5.8,
          5.7,
          5.4,
          5.1,
          5.7,
          5.1,
          5.4,
          5.1,
          4.6,
          5.1,
          4.8,
          5,
          5,
          5.2,
          5.2,
          4.7,
          4.8,
          5.4,
          5.2,
          5.5,
          4.9,
          5,
          5.5,
          4.9,
          4.4,
          5.1,
          5,
          4.5,
          4.4,
          5,
          5.1,
          4.8,
          5.1,
          4.6,
          5.3,
          5,
          7,
          6.4,
          6.9,
          5.5,
          6.5,
          5.7,
          6.3,
          4.9,
          6.6,
          5.2,
          5,
          5.9,
          6,
          6.1,
          5.6,
          6.7,
          5.6,
          5.8,
          6.2,
          5.6,
          5.9,
          6.1,
          6.3,
          6.1,
          6.4,
          6.6,
          6.8,
          6.7,
          6,
          5.7,
          5.5,
          5.5,
          5.8,
          6,
          5.4,
          6,
          6.7,
          6.3,
          5.6,
          5.5,
          5.5,
          6.1,
          5.8,
          5,
          5.6,
          5.7,
          5.7,
          6.2,
          5.1,
          5.7,
          6.3,
          5.8,
          7.1,
          6.3,
          6.5,
          7.6,
          4.9,
          7.3,
          6.7,
          7.2,
          6.5,
          6.4,
          6.8,
          5.7,
          5.8,
          6.4,
          6.5,
          7.7,
          7.7,
          6,
          6.9,
          5.6,
          7.7,
          6.3,
          6.7,
          7.2,
          6.2,
          6.1,
          6.4,
          7.2,
          7.4,
          7.9,
          6.4,
          6.3,
          6.1,
          7.7,
          6.3,
          6.4,
          6,
          6.9,
          6.7,
          6.9,
          5.8,
          6.8,
          6.7,
          6.7,
          6.3,
          6.5,
          6.2,
          5.9
         ],
         "xaxis": "x",
         "y": [
          3.5,
          3,
          3.2,
          3.1,
          3.6,
          3.9,
          3.4,
          3.4,
          2.9,
          3.1,
          3.7,
          3.4,
          3,
          3,
          4,
          4.4,
          3.9,
          3.5,
          3.8,
          3.8,
          3.4,
          3.7,
          3.6,
          3.3,
          3.4,
          3,
          3.4,
          3.5,
          3.4,
          3.2,
          3.1,
          3.4,
          4.1,
          4.2,
          3.1,
          3.2,
          3.5,
          3.6,
          3,
          3.4,
          3.5,
          2.3,
          3.2,
          3.5,
          3.8,
          3,
          3.8,
          3.2,
          3.7,
          3.3,
          3.2,
          3.2,
          3.1,
          2.3,
          2.8,
          2.8,
          3.3,
          2.4,
          2.9,
          2.7,
          2,
          3,
          2.2,
          2.9,
          2.9,
          3.1,
          3,
          2.7,
          2.2,
          2.5,
          3.2,
          2.8,
          2.5,
          2.8,
          2.9,
          3,
          2.8,
          3,
          2.9,
          2.6,
          2.4,
          2.4,
          2.7,
          2.7,
          3,
          3.4,
          3.1,
          2.3,
          3,
          2.5,
          2.6,
          3,
          2.6,
          2.3,
          2.7,
          3,
          2.9,
          2.9,
          2.5,
          2.8,
          3.3,
          2.7,
          3,
          2.9,
          3,
          3,
          2.5,
          2.9,
          2.5,
          3.6,
          3.2,
          2.7,
          3,
          2.5,
          2.8,
          3.2,
          3,
          3.8,
          2.6,
          2.2,
          3.2,
          2.8,
          2.8,
          2.7,
          3.3,
          3.2,
          2.8,
          3,
          2.8,
          3,
          2.8,
          3.8,
          2.8,
          2.8,
          2.6,
          3,
          3.4,
          3.1,
          3,
          3.1,
          3.1,
          3.1,
          2.7,
          3.2,
          3.3,
          3,
          2.5,
          3,
          3.4,
          3
         ],
         "yaxis": "y"
        }
       ],
       "layout": {
        "coloraxis": {
         "colorbar": {
          "title": {
           "text": "target"
          }
         },
         "colorscale": [
          [
           0,
           "#0d0887"
          ],
          [
           0.1111111111111111,
           "#46039f"
          ],
          [
           0.2222222222222222,
           "#7201a8"
          ],
          [
           0.3333333333333333,
           "#9c179e"
          ],
          [
           0.4444444444444444,
           "#bd3786"
          ],
          [
           0.5555555555555556,
           "#d8576b"
          ],
          [
           0.6666666666666666,
           "#ed7953"
          ],
          [
           0.7777777777777778,
           "#fb9f3a"
          ],
          [
           0.8888888888888888,
           "#fdca26"
          ],
          [
           1,
           "#f0f921"
          ]
         ]
        },
        "legend": {
         "itemsizing": "constant",
         "tracegroupgap": 0
        },
        "margin": {
         "t": 60
        },
        "template": {
         "data": {
          "bar": [
           {
            "error_x": {
             "color": "#2a3f5f"
            },
            "error_y": {
             "color": "#2a3f5f"
            },
            "marker": {
             "line": {
              "color": "#E5ECF6",
              "width": 0.5
             }
            },
            "type": "bar"
           }
          ],
          "barpolar": [
           {
            "marker": {
             "line": {
              "color": "#E5ECF6",
              "width": 0.5
             }
            },
            "type": "barpolar"
           }
          ],
          "carpet": [
           {
            "aaxis": {
             "endlinecolor": "#2a3f5f",
             "gridcolor": "white",
             "linecolor": "white",
             "minorgridcolor": "white",
             "startlinecolor": "#2a3f5f"
            },
            "baxis": {
             "endlinecolor": "#2a3f5f",
             "gridcolor": "white",
             "linecolor": "white",
             "minorgridcolor": "white",
             "startlinecolor": "#2a3f5f"
            },
            "type": "carpet"
           }
          ],
          "choropleth": [
           {
            "colorbar": {
             "outlinewidth": 0,
             "ticks": ""
            },
            "type": "choropleth"
           }
          ],
          "contour": [
           {
            "colorbar": {
             "outlinewidth": 0,
             "ticks": ""
            },
            "colorscale": [
             [
              0,
              "#0d0887"
             ],
             [
              0.1111111111111111,
              "#46039f"
             ],
             [
              0.2222222222222222,
              "#7201a8"
             ],
             [
              0.3333333333333333,
              "#9c179e"
             ],
             [
              0.4444444444444444,
              "#bd3786"
             ],
             [
              0.5555555555555556,
              "#d8576b"
             ],
             [
              0.6666666666666666,
              "#ed7953"
             ],
             [
              0.7777777777777778,
              "#fb9f3a"
             ],
             [
              0.8888888888888888,
              "#fdca26"
             ],
             [
              1,
              "#f0f921"
             ]
            ],
            "type": "contour"
           }
          ],
          "contourcarpet": [
           {
            "colorbar": {
             "outlinewidth": 0,
             "ticks": ""
            },
            "type": "contourcarpet"
           }
          ],
          "heatmap": [
           {
            "colorbar": {
             "outlinewidth": 0,
             "ticks": ""
            },
            "colorscale": [
             [
              0,
              "#0d0887"
             ],
             [
              0.1111111111111111,
              "#46039f"
             ],
             [
              0.2222222222222222,
              "#7201a8"
             ],
             [
              0.3333333333333333,
              "#9c179e"
             ],
             [
              0.4444444444444444,
              "#bd3786"
             ],
             [
              0.5555555555555556,
              "#d8576b"
             ],
             [
              0.6666666666666666,
              "#ed7953"
             ],
             [
              0.7777777777777778,
              "#fb9f3a"
             ],
             [
              0.8888888888888888,
              "#fdca26"
             ],
             [
              1,
              "#f0f921"
             ]
            ],
            "type": "heatmap"
           }
          ],
          "heatmapgl": [
           {
            "colorbar": {
             "outlinewidth": 0,
             "ticks": ""
            },
            "colorscale": [
             [
              0,
              "#0d0887"
             ],
             [
              0.1111111111111111,
              "#46039f"
             ],
             [
              0.2222222222222222,
              "#7201a8"
             ],
             [
              0.3333333333333333,
              "#9c179e"
             ],
             [
              0.4444444444444444,
              "#bd3786"
             ],
             [
              0.5555555555555556,
              "#d8576b"
             ],
             [
              0.6666666666666666,
              "#ed7953"
             ],
             [
              0.7777777777777778,
              "#fb9f3a"
             ],
             [
              0.8888888888888888,
              "#fdca26"
             ],
             [
              1,
              "#f0f921"
             ]
            ],
            "type": "heatmapgl"
           }
          ],
          "histogram": [
           {
            "marker": {
             "colorbar": {
              "outlinewidth": 0,
              "ticks": ""
             }
            },
            "type": "histogram"
           }
          ],
          "histogram2d": [
           {
            "colorbar": {
             "outlinewidth": 0,
             "ticks": ""
            },
            "colorscale": [
             [
              0,
              "#0d0887"
             ],
             [
              0.1111111111111111,
              "#46039f"
             ],
             [
              0.2222222222222222,
              "#7201a8"
             ],
             [
              0.3333333333333333,
              "#9c179e"
             ],
             [
              0.4444444444444444,
              "#bd3786"
             ],
             [
              0.5555555555555556,
              "#d8576b"
             ],
             [
              0.6666666666666666,
              "#ed7953"
             ],
             [
              0.7777777777777778,
              "#fb9f3a"
             ],
             [
              0.8888888888888888,
              "#fdca26"
             ],
             [
              1,
              "#f0f921"
             ]
            ],
            "type": "histogram2d"
           }
          ],
          "histogram2dcontour": [
           {
            "colorbar": {
             "outlinewidth": 0,
             "ticks": ""
            },
            "colorscale": [
             [
              0,
              "#0d0887"
             ],
             [
              0.1111111111111111,
              "#46039f"
             ],
             [
              0.2222222222222222,
              "#7201a8"
             ],
             [
              0.3333333333333333,
              "#9c179e"
             ],
             [
              0.4444444444444444,
              "#bd3786"
             ],
             [
              0.5555555555555556,
              "#d8576b"
             ],
             [
              0.6666666666666666,
              "#ed7953"
             ],
             [
              0.7777777777777778,
              "#fb9f3a"
             ],
             [
              0.8888888888888888,
              "#fdca26"
             ],
             [
              1,
              "#f0f921"
             ]
            ],
            "type": "histogram2dcontour"
           }
          ],
          "mesh3d": [
           {
            "colorbar": {
             "outlinewidth": 0,
             "ticks": ""
            },
            "type": "mesh3d"
           }
          ],
          "parcoords": [
           {
            "line": {
             "colorbar": {
              "outlinewidth": 0,
              "ticks": ""
             }
            },
            "type": "parcoords"
           }
          ],
          "pie": [
           {
            "automargin": true,
            "type": "pie"
           }
          ],
          "scatter": [
           {
            "marker": {
             "colorbar": {
              "outlinewidth": 0,
              "ticks": ""
             }
            },
            "type": "scatter"
           }
          ],
          "scatter3d": [
           {
            "line": {
             "colorbar": {
              "outlinewidth": 0,
              "ticks": ""
             }
            },
            "marker": {
             "colorbar": {
              "outlinewidth": 0,
              "ticks": ""
             }
            },
            "type": "scatter3d"
           }
          ],
          "scattercarpet": [
           {
            "marker": {
             "colorbar": {
              "outlinewidth": 0,
              "ticks": ""
             }
            },
            "type": "scattercarpet"
           }
          ],
          "scattergeo": [
           {
            "marker": {
             "colorbar": {
              "outlinewidth": 0,
              "ticks": ""
             }
            },
            "type": "scattergeo"
           }
          ],
          "scattergl": [
           {
            "marker": {
             "colorbar": {
              "outlinewidth": 0,
              "ticks": ""
             }
            },
            "type": "scattergl"
           }
          ],
          "scattermapbox": [
           {
            "marker": {
             "colorbar": {
              "outlinewidth": 0,
              "ticks": ""
             }
            },
            "type": "scattermapbox"
           }
          ],
          "scatterpolar": [
           {
            "marker": {
             "colorbar": {
              "outlinewidth": 0,
              "ticks": ""
             }
            },
            "type": "scatterpolar"
           }
          ],
          "scatterpolargl": [
           {
            "marker": {
             "colorbar": {
              "outlinewidth": 0,
              "ticks": ""
             }
            },
            "type": "scatterpolargl"
           }
          ],
          "scatterternary": [
           {
            "marker": {
             "colorbar": {
              "outlinewidth": 0,
              "ticks": ""
             }
            },
            "type": "scatterternary"
           }
          ],
          "surface": [
           {
            "colorbar": {
             "outlinewidth": 0,
             "ticks": ""
            },
            "colorscale": [
             [
              0,
              "#0d0887"
             ],
             [
              0.1111111111111111,
              "#46039f"
             ],
             [
              0.2222222222222222,
              "#7201a8"
             ],
             [
              0.3333333333333333,
              "#9c179e"
             ],
             [
              0.4444444444444444,
              "#bd3786"
             ],
             [
              0.5555555555555556,
              "#d8576b"
             ],
             [
              0.6666666666666666,
              "#ed7953"
             ],
             [
              0.7777777777777778,
              "#fb9f3a"
             ],
             [
              0.8888888888888888,
              "#fdca26"
             ],
             [
              1,
              "#f0f921"
             ]
            ],
            "type": "surface"
           }
          ],
          "table": [
           {
            "cells": {
             "fill": {
              "color": "#EBF0F8"
             },
             "line": {
              "color": "white"
             }
            },
            "header": {
             "fill": {
              "color": "#C8D4E3"
             },
             "line": {
              "color": "white"
             }
            },
            "type": "table"
           }
          ]
         },
         "layout": {
          "annotationdefaults": {
           "arrowcolor": "#2a3f5f",
           "arrowhead": 0,
           "arrowwidth": 1
          },
          "coloraxis": {
           "colorbar": {
            "outlinewidth": 0,
            "ticks": ""
           }
          },
          "colorscale": {
           "diverging": [
            [
             0,
             "#8e0152"
            ],
            [
             0.1,
             "#c51b7d"
            ],
            [
             0.2,
             "#de77ae"
            ],
            [
             0.3,
             "#f1b6da"
            ],
            [
             0.4,
             "#fde0ef"
            ],
            [
             0.5,
             "#f7f7f7"
            ],
            [
             0.6,
             "#e6f5d0"
            ],
            [
             0.7,
             "#b8e186"
            ],
            [
             0.8,
             "#7fbc41"
            ],
            [
             0.9,
             "#4d9221"
            ],
            [
             1,
             "#276419"
            ]
           ],
           "sequential": [
            [
             0,
             "#0d0887"
            ],
            [
             0.1111111111111111,
             "#46039f"
            ],
            [
             0.2222222222222222,
             "#7201a8"
            ],
            [
             0.3333333333333333,
             "#9c179e"
            ],
            [
             0.4444444444444444,
             "#bd3786"
            ],
            [
             0.5555555555555556,
             "#d8576b"
            ],
            [
             0.6666666666666666,
             "#ed7953"
            ],
            [
             0.7777777777777778,
             "#fb9f3a"
            ],
            [
             0.8888888888888888,
             "#fdca26"
            ],
            [
             1,
             "#f0f921"
            ]
           ],
           "sequentialminus": [
            [
             0,
             "#0d0887"
            ],
            [
             0.1111111111111111,
             "#46039f"
            ],
            [
             0.2222222222222222,
             "#7201a8"
            ],
            [
             0.3333333333333333,
             "#9c179e"
            ],
            [
             0.4444444444444444,
             "#bd3786"
            ],
            [
             0.5555555555555556,
             "#d8576b"
            ],
            [
             0.6666666666666666,
             "#ed7953"
            ],
            [
             0.7777777777777778,
             "#fb9f3a"
            ],
            [
             0.8888888888888888,
             "#fdca26"
            ],
            [
             1,
             "#f0f921"
            ]
           ]
          },
          "colorway": [
           "#636efa",
           "#EF553B",
           "#00cc96",
           "#ab63fa",
           "#FFA15A",
           "#19d3f3",
           "#FF6692",
           "#B6E880",
           "#FF97FF",
           "#FECB52"
          ],
          "font": {
           "color": "#2a3f5f"
          },
          "geo": {
           "bgcolor": "white",
           "lakecolor": "white",
           "landcolor": "#E5ECF6",
           "showlakes": true,
           "showland": true,
           "subunitcolor": "white"
          },
          "hoverlabel": {
           "align": "left"
          },
          "hovermode": "closest",
          "mapbox": {
           "style": "light"
          },
          "paper_bgcolor": "white",
          "plot_bgcolor": "#E5ECF6",
          "polar": {
           "angularaxis": {
            "gridcolor": "white",
            "linecolor": "white",
            "ticks": ""
           },
           "bgcolor": "#E5ECF6",
           "radialaxis": {
            "gridcolor": "white",
            "linecolor": "white",
            "ticks": ""
           }
          },
          "scene": {
           "xaxis": {
            "backgroundcolor": "#E5ECF6",
            "gridcolor": "white",
            "gridwidth": 2,
            "linecolor": "white",
            "showbackground": true,
            "ticks": "",
            "zerolinecolor": "white"
           },
           "yaxis": {
            "backgroundcolor": "#E5ECF6",
            "gridcolor": "white",
            "gridwidth": 2,
            "linecolor": "white",
            "showbackground": true,
            "ticks": "",
            "zerolinecolor": "white"
           },
           "zaxis": {
            "backgroundcolor": "#E5ECF6",
            "gridcolor": "white",
            "gridwidth": 2,
            "linecolor": "white",
            "showbackground": true,
            "ticks": "",
            "zerolinecolor": "white"
           }
          },
          "shapedefaults": {
           "line": {
            "color": "#2a3f5f"
           }
          },
          "ternary": {
           "aaxis": {
            "gridcolor": "white",
            "linecolor": "white",
            "ticks": ""
           },
           "baxis": {
            "gridcolor": "white",
            "linecolor": "white",
            "ticks": ""
           },
           "bgcolor": "#E5ECF6",
           "caxis": {
            "gridcolor": "white",
            "linecolor": "white",
            "ticks": ""
           }
          },
          "title": {
           "x": 0.05
          },
          "xaxis": {
           "automargin": true,
           "gridcolor": "white",
           "linecolor": "white",
           "ticks": "",
           "title": {
            "standoff": 15
           },
           "zerolinecolor": "white",
           "zerolinewidth": 2
          },
          "yaxis": {
           "automargin": true,
           "gridcolor": "white",
           "linecolor": "white",
           "ticks": "",
           "title": {
            "standoff": 15
           },
           "zerolinecolor": "white",
           "zerolinewidth": 2
          }
         }
        },
        "xaxis": {
         "anchor": "y",
         "domain": [
          0,
          1
         ],
         "title": {
          "text": "sepal length (cm)"
         }
        },
        "yaxis": {
         "anchor": "x",
         "domain": [
          0,
          1
         ],
         "title": {
          "text": "sepal width (cm)"
         }
        }
       }
      },
      "text/html": [
       "<div>\n",
       "        \n",
       "        \n",
       "            <div id=\"6aef3075-ec0e-4f3f-8c66-e06fa39e9de0\" class=\"plotly-graph-div\" style=\"height:525px; width:100%;\"></div>\n",
       "            <script type=\"text/javascript\">\n",
       "                require([\"plotly\"], function(Plotly) {\n",
       "                    window.PLOTLYENV=window.PLOTLYENV || {};\n",
       "                    \n",
       "                if (document.getElementById(\"6aef3075-ec0e-4f3f-8c66-e06fa39e9de0\")) {\n",
       "                    Plotly.newPlot(\n",
       "                        '6aef3075-ec0e-4f3f-8c66-e06fa39e9de0',\n",
       "                        [{\"hovertemplate\": \"sepal length (cm)=%{x}<br>sepal width (cm)=%{y}<br>petal length (cm)=%{marker.size}<br>target=%{marker.color}<extra></extra>\", \"legendgroup\": \"\", \"marker\": {\"color\": [0, 0, 0, 0, 0, 0, 0, 0, 0, 0, 0, 0, 0, 0, 0, 0, 0, 0, 0, 0, 0, 0, 0, 0, 0, 0, 0, 0, 0, 0, 0, 0, 0, 0, 0, 0, 0, 0, 0, 0, 0, 0, 0, 0, 0, 0, 0, 0, 0, 0, 1, 1, 1, 1, 1, 1, 1, 1, 1, 1, 1, 1, 1, 1, 1, 1, 1, 1, 1, 1, 1, 1, 1, 1, 1, 1, 1, 1, 1, 1, 1, 1, 1, 1, 1, 1, 1, 1, 1, 1, 1, 1, 1, 1, 1, 1, 1, 1, 1, 1, 2, 2, 2, 2, 2, 2, 2, 2, 2, 2, 2, 2, 2, 2, 2, 2, 2, 2, 2, 2, 2, 2, 2, 2, 2, 2, 2, 2, 2, 2, 2, 2, 2, 2, 2, 2, 2, 2, 2, 2, 2, 2, 2, 2, 2, 2, 2, 2, 2, 2], \"coloraxis\": \"coloraxis\", \"size\": [1.4, 1.4, 1.3, 1.5, 1.4, 1.7, 1.4, 1.5, 1.4, 1.5, 1.5, 1.6, 1.4, 1.1, 1.2, 1.5, 1.3, 1.4, 1.7, 1.5, 1.7, 1.5, 1.0, 1.7, 1.9, 1.6, 1.6, 1.5, 1.4, 1.6, 1.6, 1.5, 1.5, 1.4, 1.5, 1.2, 1.3, 1.4, 1.3, 1.5, 1.3, 1.3, 1.3, 1.6, 1.9, 1.4, 1.6, 1.4, 1.5, 1.4, 4.7, 4.5, 4.9, 4.0, 4.6, 4.5, 4.7, 3.3, 4.6, 3.9, 3.5, 4.2, 4.0, 4.7, 3.6, 4.4, 4.5, 4.1, 4.5, 3.9, 4.8, 4.0, 4.9, 4.7, 4.3, 4.4, 4.8, 5.0, 4.5, 3.5, 3.8, 3.7, 3.9, 5.1, 4.5, 4.5, 4.7, 4.4, 4.1, 4.0, 4.4, 4.6, 4.0, 3.3, 4.2, 4.2, 4.2, 4.3, 3.0, 4.1, 6.0, 5.1, 5.9, 5.6, 5.8, 6.6, 4.5, 6.3, 5.8, 6.1, 5.1, 5.3, 5.5, 5.0, 5.1, 5.3, 5.5, 6.7, 6.9, 5.0, 5.7, 4.9, 6.7, 4.9, 5.7, 6.0, 4.8, 4.9, 5.6, 5.8, 6.1, 6.4, 5.6, 5.1, 5.6, 6.1, 5.6, 5.5, 4.8, 5.4, 5.6, 5.1, 5.1, 5.9, 5.7, 5.2, 5.0, 5.2, 5.4, 5.1], \"sizemode\": \"area\", \"sizeref\": 0.01725, \"symbol\": \"circle\"}, \"mode\": \"markers\", \"name\": \"\", \"showlegend\": false, \"type\": \"scatter\", \"x\": [5.1, 4.9, 4.7, 4.6, 5.0, 5.4, 4.6, 5.0, 4.4, 4.9, 5.4, 4.8, 4.8, 4.3, 5.8, 5.7, 5.4, 5.1, 5.7, 5.1, 5.4, 5.1, 4.6, 5.1, 4.8, 5.0, 5.0, 5.2, 5.2, 4.7, 4.8, 5.4, 5.2, 5.5, 4.9, 5.0, 5.5, 4.9, 4.4, 5.1, 5.0, 4.5, 4.4, 5.0, 5.1, 4.8, 5.1, 4.6, 5.3, 5.0, 7.0, 6.4, 6.9, 5.5, 6.5, 5.7, 6.3, 4.9, 6.6, 5.2, 5.0, 5.9, 6.0, 6.1, 5.6, 6.7, 5.6, 5.8, 6.2, 5.6, 5.9, 6.1, 6.3, 6.1, 6.4, 6.6, 6.8, 6.7, 6.0, 5.7, 5.5, 5.5, 5.8, 6.0, 5.4, 6.0, 6.7, 6.3, 5.6, 5.5, 5.5, 6.1, 5.8, 5.0, 5.6, 5.7, 5.7, 6.2, 5.1, 5.7, 6.3, 5.8, 7.1, 6.3, 6.5, 7.6, 4.9, 7.3, 6.7, 7.2, 6.5, 6.4, 6.8, 5.7, 5.8, 6.4, 6.5, 7.7, 7.7, 6.0, 6.9, 5.6, 7.7, 6.3, 6.7, 7.2, 6.2, 6.1, 6.4, 7.2, 7.4, 7.9, 6.4, 6.3, 6.1, 7.7, 6.3, 6.4, 6.0, 6.9, 6.7, 6.9, 5.8, 6.8, 6.7, 6.7, 6.3, 6.5, 6.2, 5.9], \"xaxis\": \"x\", \"y\": [3.5, 3.0, 3.2, 3.1, 3.6, 3.9, 3.4, 3.4, 2.9, 3.1, 3.7, 3.4, 3.0, 3.0, 4.0, 4.4, 3.9, 3.5, 3.8, 3.8, 3.4, 3.7, 3.6, 3.3, 3.4, 3.0, 3.4, 3.5, 3.4, 3.2, 3.1, 3.4, 4.1, 4.2, 3.1, 3.2, 3.5, 3.6, 3.0, 3.4, 3.5, 2.3, 3.2, 3.5, 3.8, 3.0, 3.8, 3.2, 3.7, 3.3, 3.2, 3.2, 3.1, 2.3, 2.8, 2.8, 3.3, 2.4, 2.9, 2.7, 2.0, 3.0, 2.2, 2.9, 2.9, 3.1, 3.0, 2.7, 2.2, 2.5, 3.2, 2.8, 2.5, 2.8, 2.9, 3.0, 2.8, 3.0, 2.9, 2.6, 2.4, 2.4, 2.7, 2.7, 3.0, 3.4, 3.1, 2.3, 3.0, 2.5, 2.6, 3.0, 2.6, 2.3, 2.7, 3.0, 2.9, 2.9, 2.5, 2.8, 3.3, 2.7, 3.0, 2.9, 3.0, 3.0, 2.5, 2.9, 2.5, 3.6, 3.2, 2.7, 3.0, 2.5, 2.8, 3.2, 3.0, 3.8, 2.6, 2.2, 3.2, 2.8, 2.8, 2.7, 3.3, 3.2, 2.8, 3.0, 2.8, 3.0, 2.8, 3.8, 2.8, 2.8, 2.6, 3.0, 3.4, 3.1, 3.0, 3.1, 3.1, 3.1, 2.7, 3.2, 3.3, 3.0, 2.5, 3.0, 3.4, 3.0], \"yaxis\": \"y\"}],\n",
       "                        {\"coloraxis\": {\"colorbar\": {\"title\": {\"text\": \"target\"}}, \"colorscale\": [[0.0, \"#0d0887\"], [0.1111111111111111, \"#46039f\"], [0.2222222222222222, \"#7201a8\"], [0.3333333333333333, \"#9c179e\"], [0.4444444444444444, \"#bd3786\"], [0.5555555555555556, \"#d8576b\"], [0.6666666666666666, \"#ed7953\"], [0.7777777777777778, \"#fb9f3a\"], [0.8888888888888888, \"#fdca26\"], [1.0, \"#f0f921\"]]}, \"legend\": {\"itemsizing\": \"constant\", \"tracegroupgap\": 0}, \"margin\": {\"t\": 60}, \"template\": {\"data\": {\"bar\": [{\"error_x\": {\"color\": \"#2a3f5f\"}, \"error_y\": {\"color\": \"#2a3f5f\"}, \"marker\": {\"line\": {\"color\": \"#E5ECF6\", \"width\": 0.5}}, \"type\": \"bar\"}], \"barpolar\": [{\"marker\": {\"line\": {\"color\": \"#E5ECF6\", \"width\": 0.5}}, \"type\": \"barpolar\"}], \"carpet\": [{\"aaxis\": {\"endlinecolor\": \"#2a3f5f\", \"gridcolor\": \"white\", \"linecolor\": \"white\", \"minorgridcolor\": \"white\", \"startlinecolor\": \"#2a3f5f\"}, \"baxis\": {\"endlinecolor\": \"#2a3f5f\", \"gridcolor\": \"white\", \"linecolor\": \"white\", \"minorgridcolor\": \"white\", \"startlinecolor\": \"#2a3f5f\"}, \"type\": \"carpet\"}], \"choropleth\": [{\"colorbar\": {\"outlinewidth\": 0, \"ticks\": \"\"}, \"type\": \"choropleth\"}], \"contour\": [{\"colorbar\": {\"outlinewidth\": 0, \"ticks\": \"\"}, \"colorscale\": [[0.0, \"#0d0887\"], [0.1111111111111111, \"#46039f\"], [0.2222222222222222, \"#7201a8\"], [0.3333333333333333, \"#9c179e\"], [0.4444444444444444, \"#bd3786\"], [0.5555555555555556, \"#d8576b\"], [0.6666666666666666, \"#ed7953\"], [0.7777777777777778, \"#fb9f3a\"], [0.8888888888888888, \"#fdca26\"], [1.0, \"#f0f921\"]], \"type\": \"contour\"}], \"contourcarpet\": [{\"colorbar\": {\"outlinewidth\": 0, \"ticks\": \"\"}, \"type\": \"contourcarpet\"}], \"heatmap\": [{\"colorbar\": {\"outlinewidth\": 0, \"ticks\": \"\"}, \"colorscale\": [[0.0, \"#0d0887\"], [0.1111111111111111, \"#46039f\"], [0.2222222222222222, \"#7201a8\"], [0.3333333333333333, \"#9c179e\"], [0.4444444444444444, \"#bd3786\"], [0.5555555555555556, \"#d8576b\"], [0.6666666666666666, \"#ed7953\"], [0.7777777777777778, \"#fb9f3a\"], [0.8888888888888888, \"#fdca26\"], [1.0, \"#f0f921\"]], \"type\": \"heatmap\"}], \"heatmapgl\": [{\"colorbar\": {\"outlinewidth\": 0, \"ticks\": \"\"}, \"colorscale\": [[0.0, \"#0d0887\"], [0.1111111111111111, \"#46039f\"], [0.2222222222222222, \"#7201a8\"], [0.3333333333333333, \"#9c179e\"], [0.4444444444444444, \"#bd3786\"], [0.5555555555555556, \"#d8576b\"], [0.6666666666666666, \"#ed7953\"], [0.7777777777777778, \"#fb9f3a\"], [0.8888888888888888, \"#fdca26\"], [1.0, \"#f0f921\"]], \"type\": \"heatmapgl\"}], \"histogram\": [{\"marker\": {\"colorbar\": {\"outlinewidth\": 0, \"ticks\": \"\"}}, \"type\": \"histogram\"}], \"histogram2d\": [{\"colorbar\": {\"outlinewidth\": 0, \"ticks\": \"\"}, \"colorscale\": [[0.0, \"#0d0887\"], [0.1111111111111111, \"#46039f\"], [0.2222222222222222, \"#7201a8\"], [0.3333333333333333, \"#9c179e\"], [0.4444444444444444, \"#bd3786\"], [0.5555555555555556, \"#d8576b\"], [0.6666666666666666, \"#ed7953\"], [0.7777777777777778, \"#fb9f3a\"], [0.8888888888888888, \"#fdca26\"], [1.0, \"#f0f921\"]], \"type\": \"histogram2d\"}], \"histogram2dcontour\": [{\"colorbar\": {\"outlinewidth\": 0, \"ticks\": \"\"}, \"colorscale\": [[0.0, \"#0d0887\"], [0.1111111111111111, \"#46039f\"], [0.2222222222222222, \"#7201a8\"], [0.3333333333333333, \"#9c179e\"], [0.4444444444444444, \"#bd3786\"], [0.5555555555555556, \"#d8576b\"], [0.6666666666666666, \"#ed7953\"], [0.7777777777777778, \"#fb9f3a\"], [0.8888888888888888, \"#fdca26\"], [1.0, \"#f0f921\"]], \"type\": \"histogram2dcontour\"}], \"mesh3d\": [{\"colorbar\": {\"outlinewidth\": 0, \"ticks\": \"\"}, \"type\": \"mesh3d\"}], \"parcoords\": [{\"line\": {\"colorbar\": {\"outlinewidth\": 0, \"ticks\": \"\"}}, \"type\": \"parcoords\"}], \"pie\": [{\"automargin\": true, \"type\": \"pie\"}], \"scatter\": [{\"marker\": {\"colorbar\": {\"outlinewidth\": 0, \"ticks\": \"\"}}, \"type\": \"scatter\"}], \"scatter3d\": [{\"line\": {\"colorbar\": {\"outlinewidth\": 0, \"ticks\": \"\"}}, \"marker\": {\"colorbar\": {\"outlinewidth\": 0, \"ticks\": \"\"}}, \"type\": \"scatter3d\"}], \"scattercarpet\": [{\"marker\": {\"colorbar\": {\"outlinewidth\": 0, \"ticks\": \"\"}}, \"type\": \"scattercarpet\"}], \"scattergeo\": [{\"marker\": {\"colorbar\": {\"outlinewidth\": 0, \"ticks\": \"\"}}, \"type\": \"scattergeo\"}], \"scattergl\": [{\"marker\": {\"colorbar\": {\"outlinewidth\": 0, \"ticks\": \"\"}}, \"type\": \"scattergl\"}], \"scattermapbox\": [{\"marker\": {\"colorbar\": {\"outlinewidth\": 0, \"ticks\": \"\"}}, \"type\": \"scattermapbox\"}], \"scatterpolar\": [{\"marker\": {\"colorbar\": {\"outlinewidth\": 0, \"ticks\": \"\"}}, \"type\": \"scatterpolar\"}], \"scatterpolargl\": [{\"marker\": {\"colorbar\": {\"outlinewidth\": 0, \"ticks\": \"\"}}, \"type\": \"scatterpolargl\"}], \"scatterternary\": [{\"marker\": {\"colorbar\": {\"outlinewidth\": 0, \"ticks\": \"\"}}, \"type\": \"scatterternary\"}], \"surface\": [{\"colorbar\": {\"outlinewidth\": 0, \"ticks\": \"\"}, \"colorscale\": [[0.0, \"#0d0887\"], [0.1111111111111111, \"#46039f\"], [0.2222222222222222, \"#7201a8\"], [0.3333333333333333, \"#9c179e\"], [0.4444444444444444, \"#bd3786\"], [0.5555555555555556, \"#d8576b\"], [0.6666666666666666, \"#ed7953\"], [0.7777777777777778, \"#fb9f3a\"], [0.8888888888888888, \"#fdca26\"], [1.0, \"#f0f921\"]], \"type\": \"surface\"}], \"table\": [{\"cells\": {\"fill\": {\"color\": \"#EBF0F8\"}, \"line\": {\"color\": \"white\"}}, \"header\": {\"fill\": {\"color\": \"#C8D4E3\"}, \"line\": {\"color\": \"white\"}}, \"type\": \"table\"}]}, \"layout\": {\"annotationdefaults\": {\"arrowcolor\": \"#2a3f5f\", \"arrowhead\": 0, \"arrowwidth\": 1}, \"coloraxis\": {\"colorbar\": {\"outlinewidth\": 0, \"ticks\": \"\"}}, \"colorscale\": {\"diverging\": [[0, \"#8e0152\"], [0.1, \"#c51b7d\"], [0.2, \"#de77ae\"], [0.3, \"#f1b6da\"], [0.4, \"#fde0ef\"], [0.5, \"#f7f7f7\"], [0.6, \"#e6f5d0\"], [0.7, \"#b8e186\"], [0.8, \"#7fbc41\"], [0.9, \"#4d9221\"], [1, \"#276419\"]], \"sequential\": [[0.0, \"#0d0887\"], [0.1111111111111111, \"#46039f\"], [0.2222222222222222, \"#7201a8\"], [0.3333333333333333, \"#9c179e\"], [0.4444444444444444, \"#bd3786\"], [0.5555555555555556, \"#d8576b\"], [0.6666666666666666, \"#ed7953\"], [0.7777777777777778, \"#fb9f3a\"], [0.8888888888888888, \"#fdca26\"], [1.0, \"#f0f921\"]], \"sequentialminus\": [[0.0, \"#0d0887\"], [0.1111111111111111, \"#46039f\"], [0.2222222222222222, \"#7201a8\"], [0.3333333333333333, \"#9c179e\"], [0.4444444444444444, \"#bd3786\"], [0.5555555555555556, \"#d8576b\"], [0.6666666666666666, \"#ed7953\"], [0.7777777777777778, \"#fb9f3a\"], [0.8888888888888888, \"#fdca26\"], [1.0, \"#f0f921\"]]}, \"colorway\": [\"#636efa\", \"#EF553B\", \"#00cc96\", \"#ab63fa\", \"#FFA15A\", \"#19d3f3\", \"#FF6692\", \"#B6E880\", \"#FF97FF\", \"#FECB52\"], \"font\": {\"color\": \"#2a3f5f\"}, \"geo\": {\"bgcolor\": \"white\", \"lakecolor\": \"white\", \"landcolor\": \"#E5ECF6\", \"showlakes\": true, \"showland\": true, \"subunitcolor\": \"white\"}, \"hoverlabel\": {\"align\": \"left\"}, \"hovermode\": \"closest\", \"mapbox\": {\"style\": \"light\"}, \"paper_bgcolor\": \"white\", \"plot_bgcolor\": \"#E5ECF6\", \"polar\": {\"angularaxis\": {\"gridcolor\": \"white\", \"linecolor\": \"white\", \"ticks\": \"\"}, \"bgcolor\": \"#E5ECF6\", \"radialaxis\": {\"gridcolor\": \"white\", \"linecolor\": \"white\", \"ticks\": \"\"}}, \"scene\": {\"xaxis\": {\"backgroundcolor\": \"#E5ECF6\", \"gridcolor\": \"white\", \"gridwidth\": 2, \"linecolor\": \"white\", \"showbackground\": true, \"ticks\": \"\", \"zerolinecolor\": \"white\"}, \"yaxis\": {\"backgroundcolor\": \"#E5ECF6\", \"gridcolor\": \"white\", \"gridwidth\": 2, \"linecolor\": \"white\", \"showbackground\": true, \"ticks\": \"\", \"zerolinecolor\": \"white\"}, \"zaxis\": {\"backgroundcolor\": \"#E5ECF6\", \"gridcolor\": \"white\", \"gridwidth\": 2, \"linecolor\": \"white\", \"showbackground\": true, \"ticks\": \"\", \"zerolinecolor\": \"white\"}}, \"shapedefaults\": {\"line\": {\"color\": \"#2a3f5f\"}}, \"ternary\": {\"aaxis\": {\"gridcolor\": \"white\", \"linecolor\": \"white\", \"ticks\": \"\"}, \"baxis\": {\"gridcolor\": \"white\", \"linecolor\": \"white\", \"ticks\": \"\"}, \"bgcolor\": \"#E5ECF6\", \"caxis\": {\"gridcolor\": \"white\", \"linecolor\": \"white\", \"ticks\": \"\"}}, \"title\": {\"x\": 0.05}, \"xaxis\": {\"automargin\": true, \"gridcolor\": \"white\", \"linecolor\": \"white\", \"ticks\": \"\", \"title\": {\"standoff\": 15}, \"zerolinecolor\": \"white\", \"zerolinewidth\": 2}, \"yaxis\": {\"automargin\": true, \"gridcolor\": \"white\", \"linecolor\": \"white\", \"ticks\": \"\", \"title\": {\"standoff\": 15}, \"zerolinecolor\": \"white\", \"zerolinewidth\": 2}}}, \"xaxis\": {\"anchor\": \"y\", \"domain\": [0.0, 1.0], \"title\": {\"text\": \"sepal length (cm)\"}}, \"yaxis\": {\"anchor\": \"x\", \"domain\": [0.0, 1.0], \"title\": {\"text\": \"sepal width (cm)\"}}},\n",
       "                        {\"responsive\": true}\n",
       "                    ).then(function(){\n",
       "                            \n",
       "var gd = document.getElementById('6aef3075-ec0e-4f3f-8c66-e06fa39e9de0');\n",
       "var x = new MutationObserver(function (mutations, observer) {{\n",
       "        var display = window.getComputedStyle(gd).display;\n",
       "        if (!display || display === 'none') {{\n",
       "            console.log([gd, 'removed!']);\n",
       "            Plotly.purge(gd);\n",
       "            observer.disconnect();\n",
       "        }}\n",
       "}});\n",
       "\n",
       "// Listen for the removal of the full notebook cells\n",
       "var notebookContainer = gd.closest('#notebook-container');\n",
       "if (notebookContainer) {{\n",
       "    x.observe(notebookContainer, {childList: true});\n",
       "}}\n",
       "\n",
       "// Listen for the clearing of the current output cell\n",
       "var outputEl = gd.closest('.output');\n",
       "if (outputEl) {{\n",
       "    x.observe(outputEl, {childList: true});\n",
       "}}\n",
       "\n",
       "                        })\n",
       "                };\n",
       "                });\n",
       "            </script>\n",
       "        </div>"
      ]
     },
     "metadata": {},
     "output_type": "display_data"
    }
   ],
   "source": [
    "px.scatter(x='sepal length (cm)',\n",
    "           y='sepal width (cm)',\n",
    "           color='target',\n",
    "           size='petal length (cm)',\n",
    "           data_frame=data)"
   ]
  },
  {
   "cell_type": "code",
   "execution_count": 10,
   "metadata": {},
   "outputs": [
    {
     "data": {
      "application/vnd.plotly.v1+json": {
       "config": {
        "plotlyServerURL": "https://plot.ly"
       },
       "data": [
        {
         "type": "scatter",
         "x": [
          -10,
          -9.98999499749875,
          -9.9799899949975,
          -9.969984992496249,
          -9.959979989994997,
          -9.949974987493746,
          -9.939969984992496,
          -9.929964982491246,
          -9.919959979989995,
          -9.909954977488745,
          -9.899949974987495,
          -9.889944972486242,
          -9.879939969984992,
          -9.869934967483742,
          -9.859929964982491,
          -9.849924962481241,
          -9.83991995997999,
          -9.829914957478739,
          -9.819909954977488,
          -9.809904952476238,
          -9.799899949974987,
          -9.789894947473737,
          -9.779889944972487,
          -9.769884942471236,
          -9.759879939969984,
          -9.749874937468734,
          -9.739869934967484,
          -9.729864932466233,
          -9.719859929964983,
          -9.709854927463732,
          -9.699849924962482,
          -9.68984492246123,
          -9.67983991995998,
          -9.66983491745873,
          -9.659829914957479,
          -9.649824912456229,
          -9.639819909954978,
          -9.629814907453726,
          -9.619809904952476,
          -9.609804902451225,
          -9.599799899949975,
          -9.589794897448725,
          -9.579789894947474,
          -9.569784892446224,
          -9.559779889944972,
          -9.549774887443721,
          -9.539769884942471,
          -9.52976488244122,
          -9.51975987993997,
          -9.50975487743872,
          -9.499749874937468,
          -9.489744872436217,
          -9.479739869934967,
          -9.469734867433717,
          -9.459729864932466,
          -9.449724862431216,
          -9.439719859929966,
          -9.429714857428714,
          -9.419709854927463,
          -9.409704852426213,
          -9.399699849924962,
          -9.389694847423712,
          -9.379689844922462,
          -9.369684842421211,
          -9.35967983991996,
          -9.349674837418709,
          -9.339669834917459,
          -9.329664832416208,
          -9.319659829914958,
          -9.309654827413707,
          -9.299649824912457,
          -9.289644822411205,
          -9.279639819909955,
          -9.269634817408704,
          -9.259629814907454,
          -9.249624812406203,
          -9.239619809904953,
          -9.229614807403703,
          -9.21960980490245,
          -9.2096048024012,
          -9.19959979989995,
          -9.1895947973987,
          -9.17958979489745,
          -9.169584792396199,
          -9.159579789894947,
          -9.149574787393696,
          -9.139569784892446,
          -9.129564782391196,
          -9.119559779889945,
          -9.109554777388695,
          -9.099549774887445,
          -9.089544772386192,
          -9.079539769884942,
          -9.069534767383692,
          -9.059529764882441,
          -9.049524762381191,
          -9.03951975987994,
          -9.029514757378688,
          -9.019509754877438,
          -9.009504752376188,
          -8.999499749874937,
          -8.989494747373687,
          -8.979489744872437,
          -8.969484742371186,
          -8.959479739869934,
          -8.949474737368684,
          -8.939469734867433,
          -8.929464732366183,
          -8.919459729864933,
          -8.909454727363682,
          -8.899449724862432,
          -8.88944472236118,
          -8.87943971985993,
          -8.86943471735868,
          -8.859429714857429,
          -8.849424712356178,
          -8.839419709854928,
          -8.829414707353678,
          -8.819409704852426,
          -8.809404702351175,
          -8.799399699849925,
          -8.789394697348675,
          -8.779389694847424,
          -8.769384692346174,
          -8.759379689844923,
          -8.749374687343671,
          -8.739369684842421,
          -8.72936468234117,
          -8.71935967983992,
          -8.70935467733867,
          -8.69934967483742,
          -8.689344672336167,
          -8.679339669834917,
          -8.669334667333667,
          -8.659329664832416,
          -8.649324662331166,
          -8.639319659829916,
          -8.629314657328663,
          -8.619309654827413,
          -8.609304652326163,
          -8.599299649824912,
          -8.589294647323662,
          -8.579289644822412,
          -8.569284642321161,
          -8.55927963981991,
          -8.549274637318659,
          -8.539269634817408,
          -8.529264632316158,
          -8.519259629814908,
          -8.509254627313657,
          -8.499249624812407,
          -8.489244622311155,
          -8.479239619809904,
          -8.469234617308654,
          -8.459229614807404,
          -8.449224612306153,
          -8.439219609804903,
          -8.429214607303653,
          -8.4192096048024,
          -8.40920460230115,
          -8.3991995997999,
          -8.38919459729865,
          -8.379189594797399,
          -8.369184592296149,
          -8.359179589794898,
          -8.349174587293646,
          -8.339169584792396,
          -8.329164582291146,
          -8.319159579789895,
          -8.309154577288645,
          -8.299149574787394,
          -8.289144572286144,
          -8.279139569784892,
          -8.269134567283642,
          -8.259129564782391,
          -8.24912456228114,
          -8.23911955977989,
          -8.229114557278638,
          -8.219109554777388,
          -8.209104552276138,
          -8.199099549774887,
          -8.189094547273637,
          -8.179089544772387,
          -8.169084542271136,
          -8.159079539769884,
          -8.149074537268634,
          -8.139069534767383,
          -8.129064532266133,
          -8.119059529764883,
          -8.109054527263632,
          -8.099049524762382,
          -8.08904452226113,
          -8.07903951975988,
          -8.069034517258629,
          -8.059029514757379,
          -8.049024512256128,
          -8.039019509754878,
          -8.029014507253628,
          -8.019009504752376,
          -8.009004502251125,
          -7.998999499749875,
          -7.988994497248624,
          -7.978989494747374,
          -7.968984492246124,
          -7.9589794897448725,
          -7.948974487243621,
          -7.938969484742371,
          -7.9289644822411205,
          -7.91895947973987,
          -7.90895447723862,
          -7.8989494747373685,
          -7.888944472236118,
          -7.878939469734867,
          -7.868934467233617,
          -7.858929464732366,
          -7.848924462231116,
          -7.8389194597298655,
          -7.828914457228614,
          -7.818909454727364,
          -7.808904452226113,
          -7.798899449724862,
          -7.788894447223612,
          -7.7788894447223615,
          -7.768884442221111,
          -7.75887943971986,
          -7.74887443721861,
          -7.738869434717358,
          -7.728864432216108,
          -7.718859429714858,
          -7.708854427213607,
          -7.698849424712357,
          -7.688844422211106,
          -7.678839419709854,
          -7.668834417208604,
          -7.658829414707354,
          -7.648824412206103,
          -7.638819409704853,
          -7.628814407203602,
          -7.618809404702351,
          -7.6088044022011,
          -7.59879939969985,
          -7.588794397198599,
          -7.578789394697349,
          -7.568784392196099,
          -7.558779389694847,
          -7.548774387193597,
          -7.538769384692346,
          -7.5287643821910955,
          -7.518759379689845,
          -7.508754377188595,
          -7.498749374687344,
          -7.488744372186093,
          -7.478739369684842,
          -7.4687343671835915,
          -7.458729364682341,
          -7.448724362181091,
          -7.43871935967984,
          -7.428714357178589,
          -7.418709354677339,
          -7.408704352176088,
          -7.398699349674837,
          -7.388694347173587,
          -7.3786893446723365,
          -7.368684342171086,
          -7.358679339669835,
          -7.3486743371685845,
          -7.338669334667333,
          -7.328664332166083,
          -7.318659329664833,
          -7.308654327163582,
          -7.298649324662332,
          -7.288644322161081,
          -7.278639319659829,
          -7.268634317158579,
          -7.258629314657329,
          -7.248624312156078,
          -7.238619309654828,
          -7.228614307153577,
          -7.218609304652326,
          -7.208604302151075,
          -7.198599299649825,
          -7.188594297148574,
          -7.178589294647324,
          -7.168584292146074,
          -7.158579289644822,
          -7.148574287143572,
          -7.138569284642321,
          -7.12856428214107,
          -7.11855927963982,
          -7.10855427713857,
          -7.098549274637319,
          -7.088544272136068,
          -7.078539269634817,
          -7.0685342671335665,
          -7.058529264632316,
          -7.048524262131066,
          -7.038519259629815,
          -7.028514257128564,
          -7.018509254627314,
          -7.0085042521260625,
          -6.998499249624812,
          -6.988494247123562,
          -6.9784892446223115,
          -6.968484242121061,
          -6.95847923961981,
          -6.9484742371185595,
          -6.938469234617308,
          -6.928464232116058,
          -6.9184592296148075,
          -6.908454227113557,
          -6.898449224612307,
          -6.888444222111056,
          -6.878439219609805,
          -6.868434217108554,
          -6.858429214607304,
          -6.848424212106053,
          -6.838419209604803,
          -6.8284142071035525,
          -6.818409204602301,
          -6.80840420210105,
          -6.7983991995998,
          -6.788394197098549,
          -6.778389194597299,
          -6.768384192096049,
          -6.758379189594797,
          -6.748374187093547,
          -6.738369184592296,
          -6.728364182091045,
          -6.718359179589795,
          -6.708354177088545,
          -6.698349174587294,
          -6.688344172086043,
          -6.678339169584793,
          -6.668334167083541,
          -6.658329164582291,
          -6.648324162081041,
          -6.63831915957979,
          -6.62831415707854,
          -6.618309154577289,
          -6.6083041520760375,
          -6.598299149574787,
          -6.588294147073537,
          -6.578289144572286,
          -6.568284142071036,
          -6.558279139569785,
          -6.5482741370685345,
          -6.538269134567283,
          -6.528264132066033,
          -6.5182591295647825,
          -6.508254127063532,
          -6.498249124562282,
          -6.4882441220610305,
          -6.47823911955978,
          -6.468234117058529,
          -6.4582291145572785,
          -6.448224112056028,
          -6.438219109554778,
          -6.4282141070535275,
          -6.418209104552276,
          -6.408204102051025,
          -6.398199099549775,
          -6.388194097048524,
          -6.378189094547274,
          -6.3681840920460235,
          -6.358179089544772,
          -6.348174087043522,
          -6.338169084542271,
          -6.32816408204102,
          -6.31815907953977,
          -6.30815407703852,
          -6.298149074537269,
          -6.288144072036018,
          -6.278139069534768,
          -6.268134067033516,
          -6.258129064532266,
          -6.248124062031016,
          -6.238119059529765,
          -6.228114057028515,
          -6.218109054527264,
          -6.2081040520260125,
          -6.198099049524762,
          -6.188094047023512,
          -6.178089044522261,
          -6.168084042021011,
          -6.15807903951976,
          -6.148074037018509,
          -6.138069034517258,
          -6.128064032016008,
          -6.118059029514757,
          -6.108054027013507,
          -6.098049024512257,
          -6.0880440220110055,
          -6.078039019509755,
          -6.068034017008504,
          -6.0580290145072535,
          -6.048024012006003,
          -6.038019009504753,
          -6.028014007003502,
          -6.018009004502251,
          -6.008004002001001,
          -5.99799899949975,
          -5.987993996998499,
          -5.977988994497249,
          -5.9679839919959985,
          -5.957978989494747,
          -5.947973986993497,
          -5.9379689844922465,
          -5.927963981990995,
          -5.917958979489745,
          -5.907953976988495,
          -5.897948974487243,
          -5.887943971985993,
          -5.877938969484743,
          -5.867933966983492,
          -5.857928964482241,
          -5.847923961980991,
          -5.83791895947974,
          -5.827913956978489,
          -5.817908954477239,
          -5.807903951975988,
          -5.797898949474737,
          -5.787893946973487,
          -5.777888944472236,
          -5.767883941970986,
          -5.757878939469735,
          -5.747873936968484,
          -5.737868934467234,
          -5.727863931965983,
          -5.717858929464732,
          -5.707853926963482,
          -5.697848924462232,
          -5.68784392196098,
          -5.67783891945973,
          -5.66783391695848,
          -5.6578289144572285,
          -5.647823911955978,
          -5.637818909454728,
          -5.6278139069534765,
          -5.617808904452226,
          -5.607803901950976,
          -5.597798899449725,
          -5.587793896948474,
          -5.577788894447224,
          -5.5677838919459735,
          -5.557778889444722,
          -5.547773886943472,
          -5.5377688844422215,
          -5.52776388194097,
          -5.51775887943972,
          -5.5077538769384695,
          -5.497748874437219,
          -5.487743871935968,
          -5.4777388694347176,
          -5.467733866933467,
          -5.457728864432216,
          -5.447723861930966,
          -5.437718859429715,
          -5.427713856928464,
          -5.417708854427214,
          -5.407703851925963,
          -5.397698849424713,
          -5.387693846923462,
          -5.377688844422211,
          -5.367683841920961,
          -5.35767883941971,
          -5.347673836918459,
          -5.337668834417209,
          -5.327663831915958,
          -5.317658829414707,
          -5.307653826913457,
          -5.297648824412207,
          -5.287643821910955,
          -5.277638819409705,
          -5.267633816908455,
          -5.257628814407203,
          -5.247623811905953,
          -5.237618809404703,
          -5.2276138069034515,
          -5.217608804402201,
          -5.207603801900951,
          -5.1975987993997,
          -5.187593796898449,
          -5.177588794397199,
          -5.167583791895948,
          -5.157578789394697,
          -5.147573786893447,
          -5.137568784392196,
          -5.127563781890945,
          -5.117558779389695,
          -5.1075537768884445,
          -5.097548774387194,
          -5.087543771885943,
          -5.0775387693846925,
          -5.067533766883442,
          -5.057528764382191,
          -5.0475237618809405,
          -5.03751875937969,
          -5.027513756878439,
          -5.017508754377189,
          -5.007503751875938,
          -4.997498749374688,
          -4.987493746873437,
          -4.977488744372186,
          -4.967483741870936,
          -4.957478739369685,
          -4.947473736868434,
          -4.937468734367184,
          -4.927463731865933,
          -4.917458729364682,
          -4.907453726863432,
          -4.897448724362182,
          -4.88744372186093,
          -4.87743871935968,
          -4.86743371685843,
          -4.857428714357178,
          -4.847423711855928,
          -4.837418709354678,
          -4.827413706853427,
          -4.817408704352176,
          -4.807403701850926,
          -4.797398699349675,
          -4.787393696848424,
          -4.777388694347174,
          -4.767383691845923,
          -4.757378689344672,
          -4.747373686843422,
          -4.737368684342171,
          -4.727363681840921,
          -4.71735867933967,
          -4.707353676838419,
          -4.697348674337169,
          -4.687343671835918,
          -4.6773386693346675,
          -4.667333666833417,
          -4.657328664332166,
          -4.6473236618309155,
          -4.637318659329665,
          -4.627313656828415,
          -4.6173086543271635,
          -4.607303651825913,
          -4.597298649324663,
          -4.587293646823412,
          -4.577288644322161,
          -4.567283641820911,
          -4.55727863931966,
          -4.547273636818409,
          -4.537268634317159,
          -4.5272636318159085,
          -4.517258629314657,
          -4.507253626813407,
          -4.4972486243121566,
          -4.487243621810905,
          -4.477238619309655,
          -4.467233616808405,
          -4.457228614307153,
          -4.447223611805903,
          -4.437218609304653,
          -4.427213606803402,
          -4.417208604302151,
          -4.407203601800901,
          -4.39719859929965,
          -4.387193596798399,
          -4.377188594297149,
          -4.367183591795898,
          -4.357178589294647,
          -4.347173586793397,
          -4.337168584292146,
          -4.327163581790896,
          -4.317158579289645,
          -4.307153576788394,
          -4.297148574287144,
          -4.287143571785893,
          -4.277138569284642,
          -4.267133566783392,
          -4.257128564282141,
          -4.2471235617808905,
          -4.23711855927964,
          -4.22711355677839,
          -4.2171085542771385,
          -4.207103551775888,
          -4.197098549274638,
          -4.1870935467733865,
          -4.177088544272136,
          -4.167083541770886,
          -4.1570785392696346,
          -4.147073536768384,
          -4.137068534267134,
          -4.1270635317658835,
          -4.117058529264632,
          -4.107053526763382,
          -4.0970485242621315,
          -4.08704352176088,
          -4.07703851925963,
          -4.0670335167583795,
          -4.057028514257128,
          -4.047023511755878,
          -4.037018509254628,
          -4.027013506753377,
          -4.017008504252126,
          -4.007003501750876,
          -3.9969984992496252,
          -3.986993496748374,
          -3.9769884942471236,
          -3.9669834917458733,
          -3.956978489244623,
          -3.9469734867433717,
          -3.9369684842421213,
          -3.926963481740871,
          -3.9169584792396197,
          -3.9069534767383693,
          -3.896948474237119,
          -3.8869434717358677,
          -3.8769384692346174,
          -3.866933466733367,
          -3.8569284642321167,
          -3.8469234617308654,
          -3.836918459229615,
          -3.8269134567283647,
          -3.8169084542271134,
          -3.806903451725863,
          -3.7968984492246127,
          -3.7868934467233615,
          -3.776888444222111,
          -3.7668834417208608,
          -3.7568784392196104,
          -3.746873436718359,
          -3.736868434217109,
          -3.7268634317158584,
          -3.716858429214607,
          -3.706853426713357,
          -3.6968484242121065,
          -3.686843421710855,
          -3.676838419209605,
          -3.6668334167083545,
          -3.656828414207104,
          -3.646823411705853,
          -3.6368184092046025,
          -3.626813406703352,
          -3.616808404202101,
          -3.6068034017008506,
          -3.5967983991996,
          -3.586793396698349,
          -3.5767883941970986,
          -3.5667833916958482,
          -3.556778389194598,
          -3.5467733866933466,
          -3.5367683841920963,
          -3.526763381690846,
          -3.5167583791895947,
          -3.5067533766883443,
          -3.496748374187094,
          -3.4867433716858427,
          -3.4767383691845923,
          -3.466733366683342,
          -3.4567283641820916,
          -3.4467233616808404,
          -3.43671835917959,
          -3.4267133566783397,
          -3.4167083541770884,
          -3.406703351675838,
          -3.3966983491745877,
          -3.3866933466733364,
          -3.376688344172086,
          -3.3666833416708357,
          -3.3566783391695854,
          -3.346673336668334,
          -3.3366683341670837,
          -3.3266633316658334,
          -3.316658329164582,
          -3.306653326663332,
          -3.2966483241620814,
          -3.28664332166083,
          -3.27663831915958,
          -3.2666333166583295,
          -3.256628314157079,
          -3.246623311655828,
          -3.2366183091545775,
          -3.226613306653327,
          -3.216608304152076,
          -3.2066033016508255,
          -3.196598299149575,
          -3.186593296648324,
          -3.1765882941470736,
          -3.166583291645823,
          -3.156578289144573,
          -3.1465732866433216,
          -3.1365682841420712,
          -3.126563281640821,
          -3.1165582791395696,
          -3.1065532766383193,
          -3.096548274137069,
          -3.0865432716358185,
          -3.0765382691345673,
          -3.066533266633317,
          -3.0565282641320666,
          -3.0465232616308153,
          -3.036518259129565,
          -3.0265132566283146,
          -3.0165082541270634,
          -3.006503251625813,
          -2.9964982491245626,
          -2.9864932466233123,
          -2.976488244122061,
          -2.9664832416208107,
          -2.9564782391195603,
          -2.946473236618309,
          -2.9364682341170587,
          -2.9264632316158083,
          -2.916458229114557,
          -2.9064532266133067,
          -2.8964482241120564,
          -2.886443221610806,
          -2.8764382191095548,
          -2.8664332166083044,
          -2.856428214107054,
          -2.846423211605803,
          -2.8364182091045524,
          -2.826413206603302,
          -2.816408204102051,
          -2.8064032016008005,
          -2.79639819909955,
          -2.7863931965982998,
          -2.7763881940970485,
          -2.766383191595798,
          -2.756378189094548,
          -2.7463731865932965,
          -2.736368184092046,
          -2.726363181590796,
          -2.7163581790895446,
          -2.706353176588294,
          -2.696348174087044,
          -2.6863431715857935,
          -2.6763381690845423,
          -2.666333166583292,
          -2.6563281640820415,
          -2.6463231615807903,
          -2.63631815907954,
          -2.6263131565782896,
          -2.6163081540770383,
          -2.606303151575788,
          -2.5962981490745376,
          -2.5862931465732872,
          -2.576288144072036,
          -2.5662831415707856,
          -2.5562781390695353,
          -2.546273136568284,
          -2.5362681340670337,
          -2.5262631315657833,
          -2.516258129064532,
          -2.5062531265632817,
          -2.4962481240620313,
          -2.486243121560781,
          -2.4762381190595297,
          -2.4662331165582794,
          -2.456228114057029,
          -2.4462231115557778,
          -2.4362181090545274,
          -2.426213106553277,
          -2.416208104052026,
          -2.4062031015507754,
          -2.396198099049525,
          -2.3861930965482747,
          -2.3761880940470235,
          -2.366183091545773,
          -2.3561780890445227,
          -2.3461730865432715,
          -2.336168084042021,
          -2.326163081540771,
          -2.3161580790395195,
          -2.306153076538269,
          -2.296148074037019,
          -2.2861430715357685,
          -2.276138069034517,
          -2.266133066533267,
          -2.2561280640320165,
          -2.2461230615307652,
          -2.236118059029515,
          -2.2261130565282645,
          -2.216108054027014,
          -2.206103051525763,
          -2.1960980490245126,
          -2.186093046523262,
          -2.176088044022011,
          -2.1660830415207606,
          -2.1560780390195102,
          -2.146073036518259,
          -2.1360680340170086,
          -2.1260630315157583,
          -2.116058029014508,
          -2.1060530265132567,
          -2.0960480240120063,
          -2.086043021510756,
          -2.0760380190095047,
          -2.0660330165082543,
          -2.056028014007004,
          -2.0460230115057527,
          -2.0360180090045024,
          -2.026013006503252,
          -2.0160080040020016,
          -2.0060030015007504,
          -1.9959979989994991,
          -1.9859929964982488,
          -1.9759879939969984,
          -1.965982991495748,
          -1.9559779889944977,
          -1.9459729864932473,
          -1.935967983991997,
          -1.9259629814907449,
          -1.9159579789894945,
          -1.9059529764882441,
          -1.8959479739869938,
          -1.8859429714857434,
          -1.875937968984493,
          -1.8659329664832427,
          -1.8559279639819906,
          -1.8459229614807402,
          -1.8359179589794898,
          -1.8259129564782395,
          -1.8159079539769891,
          -1.8059029514757388,
          -1.7958979489744866,
          -1.7858929464732363,
          -1.775887943971986,
          -1.7658829414707355,
          -1.7558779389694852,
          -1.7458729364682348,
          -1.7358679339669845,
          -1.7258629314657323,
          -1.715857928964482,
          -1.7058529264632316,
          -1.6958479239619813,
          -1.685842921460731,
          -1.6758379189594805,
          -1.6658329164582302,
          -1.655827913956978,
          -1.6458229114557277,
          -1.6358179089544773,
          -1.625812906453227,
          -1.6158079039519766,
          -1.6058029014507262,
          -1.595797898949474,
          -1.5857928964482237,
          -1.5757878939469734,
          -1.565782891445723,
          -1.5557778889444727,
          -1.5457728864432223,
          -1.535767883941972,
          -1.5257628814407198,
          -1.5157578789394694,
          -1.505752876438219,
          -1.4957478739369687,
          -1.4857428714357184,
          -1.475737868934468,
          -1.4657328664332177,
          -1.4557278639319655,
          -1.4457228614307152,
          -1.4357178589294648,
          -1.4257128564282144,
          -1.415707853926964,
          -1.4057028514257137,
          -1.3956978489244634,
          -1.3856928464232112,
          -1.3756878439219609,
          -1.3656828414207105,
          -1.3556778389194601,
          -1.3456728364182098,
          -1.3356678339169594,
          -1.3256628314157073,
          -1.315657828914457,
          -1.3056528264132066,
          -1.2956478239119562,
          -1.2856428214107058,
          -1.2756378189094555,
          -1.2656328164082051,
          -1.255627813906953,
          -1.2456228114057026,
          -1.2356178089044523,
          -1.225612806403202,
          -1.2156078039019516,
          -1.2056028014007012,
          -1.1955977988994508,
          -1.1855927963981987,
          -1.1755877938969483,
          -1.165582791395698,
          -1.1555777888944476,
          -1.1455727863931973,
          -1.135567783891947,
          -1.1255627813906948,
          -1.1155577788894444,
          -1.105552776388194,
          -1.0955477738869437,
          -1.0855427713856933,
          -1.075537768884443,
          -1.0655327663831926,
          -1.0555277638819405,
          -1.0455227613806901,
          -1.0355177588794398,
          -1.0255127563781894,
          -1.015507753876939,
          -1.0055027513756887,
          -0.9954977488744383,
          -0.9854927463731862,
          -0.9754877438719358,
          -0.9654827413706855,
          -0.9554777388694351,
          -0.9454727363681847,
          -0.9354677338669344,
          -0.9254627313656822,
          -0.9154577288644319,
          -0.9054527263631815,
          -0.8954477238619312,
          -0.8854427213606808,
          -0.8754377188594304,
          -0.8654327163581801,
          -0.855427713856928,
          -0.8454227113556776,
          -0.8354177088544272,
          -0.8254127063531769,
          -0.8154077038519265,
          -0.8054027013506762,
          -0.7953976988494258,
          -0.7853926963481737,
          -0.7753876938469233,
          -0.7653826913456729,
          -0.7553776888444226,
          -0.7453726863431722,
          -0.7353676838419219,
          -0.7253626813406697,
          -0.7153576788394194,
          -0.705352676338169,
          -0.6953476738369186,
          -0.6853426713356683,
          -0.6753376688344179,
          -0.6653326663331676,
          -0.6553276638319154,
          -0.6453226613306651,
          -0.6353176588294147,
          -0.6253126563281644,
          -0.615307653826914,
          -0.6053026513256636,
          -0.5952976488244133,
          -0.5852926463231611,
          -0.5752876438219108,
          -0.5652826413206604,
          -0.5552776388194101,
          -0.5452726363181597,
          -0.5352676338169093,
          -0.525262631315659,
          -0.5152576288144068,
          -0.5052526263131565,
          -0.4952476238119061,
          -0.48524262131065576,
          -0.4752376188094054,
          -0.46523261630815504,
          -0.4552276138069029,
          -0.44522261130565255,
          -0.4352176088044022,
          -0.42521260630315183,
          -0.41520760380190147,
          -0.4052026013006511,
          -0.39519759879940075,
          -0.3851925962981486,
          -0.37518759379689826,
          -0.3651825912956479,
          -0.35517758879439754,
          -0.3451725862931472,
          -0.3351675837918968,
          -0.32516258129064646,
          -0.3151575787893943,
          -0.30515257628814396,
          -0.2951475737868936,
          -0.28514257128564324,
          -0.2751375687843929,
          -0.2651325662831425,
          -0.2551275637818904,
          -0.24512256128064003,
          -0.23511755877938967,
          -0.2251125562781393,
          -0.21510755377688895,
          -0.2051025512756386,
          -0.19509754877438823,
          -0.1850925462731361,
          -0.17508754377188573,
          -0.16508254127063537,
          -0.15507753876938501,
          -0.14507253626813466,
          -0.1350675337668843,
          -0.12506253126563394,
          -0.1150575287643818,
          -0.10505252626313144,
          -0.09504752376188108,
          -0.08504252126063072,
          -0.07503751875938036,
          -0.06503251625813,
          -0.055027513756877866,
          -0.045022511255627506,
          -0.03501750875437715,
          -0.025012506253126787,
          -0.015007503751876428,
          -0.005002501250626068,
          0.005002501250624292,
          0.015007503751876428,
          0.025012506253126787,
          0.03501750875437715,
          0.045022511255627506,
          0.055027513756877866,
          0.06503251625812823,
          0.07503751875937859,
          0.08504252126063072,
          0.09504752376188108,
          0.10505252626313144,
          0.1150575287643818,
          0.12506253126563216,
          0.13506753376688252,
          0.14507253626813466,
          0.15507753876938501,
          0.16508254127063537,
          0.17508754377188573,
          0.1850925462731361,
          0.19509754877438645,
          0.2051025512756368,
          0.21510755377688895,
          0.2251125562781393,
          0.23511755877938967,
          0.24512256128064003,
          0.2551275637818904,
          0.26513256628314075,
          0.2751375687843911,
          0.28514257128564324,
          0.2951475737868936,
          0.30515257628814396,
          0.3151575787893943,
          0.3251625812906447,
          0.33516758379189504,
          0.3451725862931454,
          0.35517758879439754,
          0.3651825912956479,
          0.37518759379689826,
          0.3851925962981486,
          0.395197598799399,
          0.40520260130064933,
          0.41520760380190147,
          0.42521260630315183,
          0.4352176088044022,
          0.44522261130565255,
          0.4552276138069029,
          0.46523261630815327,
          0.47523761880940363,
          0.48524262131065576,
          0.4952476238119061,
          0.5052526263131565,
          0.5152576288144068,
          0.5252626313156572,
          0.5352676338169076,
          0.5452726363181579,
          0.5552776388194101,
          0.5652826413206604,
          0.5752876438219108,
          0.5852926463231611,
          0.5952976488244115,
          0.6053026513256619,
          0.615307653826914,
          0.6253126563281644,
          0.6353176588294147,
          0.6453226613306651,
          0.6553276638319154,
          0.6653326663331658,
          0.6753376688344161,
          0.6853426713356683,
          0.6953476738369186,
          0.705352676338169,
          0.7153576788394194,
          0.7253626813406697,
          0.7353676838419201,
          0.7453726863431704,
          0.7553776888444226,
          0.7653826913456729,
          0.7753876938469233,
          0.7853926963481737,
          0.795397698849424,
          0.8054027013506744,
          0.8154077038519265,
          0.8254127063531769,
          0.8354177088544272,
          0.8454227113556776,
          0.855427713856928,
          0.8654327163581783,
          0.8754377188594287,
          0.8854427213606808,
          0.8954477238619312,
          0.9054527263631815,
          0.9154577288644319,
          0.9254627313656822,
          0.9354677338669326,
          0.945472736368183,
          0.9554777388694351,
          0.9654827413706855,
          0.9754877438719358,
          0.9854927463731862,
          0.9954977488744365,
          1.005502751375687,
          1.015507753876939,
          1.0255127563781894,
          1.0355177588794398,
          1.0455227613806901,
          1.0555277638819405,
          1.0655327663831908,
          1.0755377688844412,
          1.0855427713856933,
          1.0955477738869437,
          1.105552776388194,
          1.1155577788894444,
          1.1255627813906948,
          1.1355677838919451,
          1.1455727863931955,
          1.1555777888944476,
          1.165582791395698,
          1.1755877938969483,
          1.1855927963981987,
          1.195597798899449,
          1.2056028014006994,
          1.2156078039019498,
          1.225612806403202,
          1.2356178089044523,
          1.2456228114057026,
          1.255627813906953,
          1.2656328164082034,
          1.2756378189094537,
          1.2856428214107058,
          1.2956478239119562,
          1.3056528264132066,
          1.315657828914457,
          1.3256628314157073,
          1.3356678339169576,
          1.345672836418208,
          1.3556778389194601,
          1.3656828414207105,
          1.3756878439219609,
          1.3856928464232112,
          1.3956978489244616,
          1.405702851425712,
          1.4157078539269623,
          1.4257128564282144,
          1.4357178589294648,
          1.4457228614307152,
          1.4557278639319655,
          1.4657328664332159,
          1.4757378689344662,
          1.4857428714357184,
          1.4957478739369687,
          1.505752876438219,
          1.5157578789394694,
          1.5257628814407198,
          1.5357678839419702,
          1.5457728864432205,
          1.5557778889444727,
          1.565782891445723,
          1.5757878939469734,
          1.5857928964482237,
          1.595797898949474,
          1.6058029014507245,
          1.6158079039519748,
          1.625812906453227,
          1.6358179089544773,
          1.6458229114557277,
          1.655827913956978,
          1.6658329164582284,
          1.6758379189594788,
          1.685842921460731,
          1.6958479239619813,
          1.7058529264632316,
          1.715857928964482,
          1.7258629314657323,
          1.7358679339669827,
          1.745872936468233,
          1.7558779389694852,
          1.7658829414707355,
          1.775887943971986,
          1.7858929464732363,
          1.7958979489744866,
          1.805902951475737,
          1.8159079539769873,
          1.8259129564782395,
          1.8359179589794898,
          1.8459229614807402,
          1.8559279639819906,
          1.865932966483241,
          1.8759379689844913,
          1.8859429714857434,
          1.8959479739869938,
          1.9059529764882441,
          1.9159579789894945,
          1.9259629814907449,
          1.9359679839919952,
          1.9459729864932456,
          1.9559779889944977,
          1.965982991495748,
          1.9759879939969984,
          1.9859929964982488,
          1.9959979989994991,
          2.0060030015007495,
          2.016008004002,
          2.026013006503252,
          2.0360180090045024,
          2.0460230115057527,
          2.056028014007003,
          2.0660330165082534,
          2.076038019009504,
          2.086043021510754,
          2.0960480240120063,
          2.1060530265132567,
          2.116058029014507,
          2.1260630315157574,
          2.1360680340170077,
          2.146073036518258,
          2.1560780390195102,
          2.1660830415207606,
          2.176088044022011,
          2.1860930465232613,
          2.1960980490245117,
          2.206103051525762,
          2.2161080540270124,
          2.2261130565282645,
          2.236118059029515,
          2.2461230615307652,
          2.2561280640320156,
          2.266133066533266,
          2.2761380690345163,
          2.2861430715357667,
          2.296148074037019,
          2.306153076538269,
          2.3161580790395195,
          2.32616308154077,
          2.3361680840420203,
          2.3461730865432706,
          2.3561780890445227,
          2.366183091545773,
          2.3761880940470235,
          2.386193096548274,
          2.396198099049524,
          2.4062031015507745,
          2.416208104052025,
          2.426213106553277,
          2.4362181090545274,
          2.4462231115557778,
          2.456228114057028,
          2.4662331165582785,
          2.476238119059529,
          2.486243121560779,
          2.4962481240620313,
          2.5062531265632817,
          2.516258129064532,
          2.5262631315657824,
          2.5362681340670328,
          2.546273136568283,
          2.5562781390695353,
          2.5662831415707856,
          2.576288144072036,
          2.5862931465732864,
          2.5962981490745367,
          2.606303151575787,
          2.6163081540770374,
          2.6263131565782896,
          2.63631815907954,
          2.6463231615807903,
          2.6563281640820406,
          2.666333166583291,
          2.6763381690845414,
          2.6863431715857917,
          2.696348174087044,
          2.706353176588294,
          2.7163581790895446,
          2.726363181590795,
          2.7363681840920453,
          2.7463731865932957,
          2.756378189094548,
          2.766383191595798,
          2.7763881940970485,
          2.786393196598299,
          2.7963981990995492,
          2.8064032016007996,
          2.81640820410205,
          2.826413206603302,
          2.8364182091045524,
          2.846423211605803,
          2.856428214107053,
          2.8664332166083035,
          2.876438219109554,
          2.8864432216108042,
          2.8964482241120564,
          2.9064532266133067,
          2.916458229114557,
          2.9264632316158075,
          2.936468234117058,
          2.946473236618308,
          2.9564782391195585,
          2.9664832416208107,
          2.976488244122061,
          2.9864932466233114,
          2.9964982491245618,
          3.006503251625812,
          3.0165082541270625,
          3.0265132566283146,
          3.036518259129565,
          3.0465232616308153,
          3.0565282641320657,
          3.066533266633316,
          3.0765382691345664,
          3.0865432716358168,
          3.096548274137069,
          3.1065532766383193,
          3.1165582791395696,
          3.12656328164082,
          3.1365682841420703,
          3.1465732866433207,
          3.156578289144571,
          3.166583291645823,
          3.1765882941470736,
          3.186593296648324,
          3.1965982991495743,
          3.2066033016508246,
          3.216608304152075,
          3.226613306653327,
          3.2366183091545775,
          3.246623311655828,
          3.256628314157078,
          3.2666333166583286,
          3.276638319159579,
          3.2866433216608293,
          3.2966483241620814,
          3.306653326663332,
          3.316658329164582,
          3.3266633316658325,
          3.336668334167083,
          3.346673336668333,
          3.3566783391695836,
          3.3666833416708357,
          3.376688344172086,
          3.3866933466733364,
          3.396698349174587,
          3.406703351675837,
          3.4167083541770875,
          3.4267133566783397,
          3.43671835917959,
          3.4467233616808404,
          3.4567283641820907,
          3.466733366683341,
          3.4767383691845914,
          3.486743371685842,
          3.496748374187094,
          3.5067533766883443,
          3.5167583791895947,
          3.526763381690845,
          3.5367683841920954,
          3.5467733866933457,
          3.556778389194596,
          3.5667833916958482,
          3.5767883941970986,
          3.586793396698349,
          3.5967983991995993,
          3.6068034017008497,
          3.6168084042021,
          3.626813406703352,
          3.6368184092046025,
          3.646823411705853,
          3.6568284142071033,
          3.6668334167083536,
          3.676838419209604,
          3.6868434217108543,
          3.6968484242121065,
          3.706853426713357,
          3.716858429214607,
          3.7268634317158575,
          3.736868434217108,
          3.7468734367183583,
          3.7568784392196086,
          3.7668834417208608,
          3.776888444222111,
          3.7868934467233615,
          3.796898449224612,
          3.806903451725862,
          3.8169084542271126,
          3.826913456728363,
          3.836918459229615,
          3.8469234617308654,
          3.8569284642321158,
          3.866933466733366,
          3.8769384692346165,
          3.886943471735867,
          3.896948474237119,
          3.9069534767383693,
          3.9169584792396197,
          3.92696348174087,
          3.9369684842421204,
          3.946973486743371,
          3.956978489244621,
          3.9669834917458733,
          3.9769884942471236,
          3.986993496748374,
          3.9969984992496244,
          4.007003501750875,
          4.017008504252125,
          4.027013506753375,
          4.037018509254628,
          4.047023511755878,
          4.057028514257128,
          4.067033516758379,
          4.077038519259629,
          4.087043521760879,
          4.0970485242621315,
          4.107053526763382,
          4.117058529264632,
          4.127063531765883,
          4.137068534267133,
          4.147073536768383,
          4.157078539269634,
          4.167083541770886,
          4.177088544272136,
          4.1870935467733865,
          4.197098549274637,
          4.207103551775887,
          4.217108554277138,
          4.227113556778388,
          4.23711855927964,
          4.2471235617808905,
          4.257128564282141,
          4.267133566783391,
          4.2771385692846415,
          4.287143571785892,
          4.297148574287144,
          4.307153576788394,
          4.317158579289645,
          4.327163581790895,
          4.3371685842921455,
          4.347173586793396,
          4.357178589294646,
          4.367183591795898,
          4.377188594297149,
          4.387193596798399,
          4.397198599299649,
          4.4072036018009,
          4.41720860430215,
          4.4272136068034005,
          4.437218609304653,
          4.447223611805903,
          4.457228614307153,
          4.467233616808404,
          4.477238619309654,
          4.487243621810904,
          4.4972486243121566,
          4.507253626813407,
          4.517258629314657,
          4.527263631815908,
          4.537268634317158,
          4.547273636818408,
          4.557278639319659,
          4.567283641820911,
          4.577288644322161,
          4.587293646823412,
          4.597298649324662,
          4.607303651825912,
          4.617308654327163,
          4.627313656828413,
          4.637318659329665,
          4.6473236618309155,
          4.657328664332166,
          4.667333666833416,
          4.677338669334667,
          4.687343671835917,
          4.697348674337167,
          4.707353676838419,
          4.71735867933967,
          4.72736368184092,
          4.7373686843421705,
          4.747373686843421,
          4.757378689344671,
          4.767383691845923,
          4.777388694347174,
          4.787393696848424,
          4.7973986993496744,
          4.807403701850925,
          4.817408704352175,
          4.8274137068534255,
          4.837418709354678,
          4.847423711855928,
          4.857428714357178,
          4.867433716858429,
          4.877438719359679,
          4.8874437218609295,
          4.89744872436218,
          4.907453726863432,
          4.917458729364682,
          4.927463731865933,
          4.937468734367183,
          4.947473736868433,
          4.957478739369684,
          4.967483741870936,
          4.977488744372186,
          4.987493746873437,
          4.997498749374687,
          5.007503751875937,
          5.017508754377188,
          5.027513756878438,
          5.03751875937969,
          5.0475237618809405,
          5.057528764382191,
          5.067533766883441,
          5.077538769384692,
          5.087543771885942,
          5.097548774387192,
          5.1075537768884445,
          5.117558779389695,
          5.127563781890945,
          5.1375687843921956,
          5.147573786893446,
          5.157578789394696,
          5.167583791895948,
          5.177588794397199,
          5.187593796898449,
          5.1975987993996995,
          5.20760380190095,
          5.2176088044022,
          5.227613806903451,
          5.237618809404703,
          5.247623811905953,
          5.257628814407203,
          5.267633816908454,
          5.277638819409704,
          5.2876438219109545,
          5.297648824412205,
          5.307653826913457,
          5.317658829414707,
          5.327663831915958,
          5.337668834417208,
          5.347673836918458,
          5.357678839419709,
          5.367683841920961,
          5.377688844422211,
          5.387693846923462,
          5.397698849424712,
          5.407703851925962,
          5.417708854427213,
          5.427713856928463,
          5.437718859429715,
          5.447723861930966,
          5.457728864432216,
          5.467733866933466,
          5.477738869434717,
          5.487743871935967,
          5.497748874437217,
          5.5077538769384695,
          5.51775887943972,
          5.52776388194097,
          5.537768884442221,
          5.547773886943471,
          5.557778889444721,
          5.567783891945972,
          5.577788894447224,
          5.587793896948474,
          5.5977988994497245,
          5.607803901950975,
          5.617808904452225,
          5.627813906953476,
          5.637818909454728,
          5.647823911955978,
          5.6578289144572285,
          5.667833916958479,
          5.677838919459729,
          5.6878439219609795,
          5.69784892446223,
          5.707853926963482,
          5.717858929464732,
          5.727863931965983,
          5.737868934467233,
          5.7478739369684835,
          5.757878939469734,
          5.767883941970984,
          5.777888944472236,
          5.787893946973487,
          5.797898949474737,
          5.807903951975987,
          5.817908954477238,
          5.827913956978488,
          5.83791895947974,
          5.847923961980991,
          5.857928964482241,
          5.867933966983491,
          5.877938969484742,
          5.887943971985992,
          5.897948974487242,
          5.907953976988495,
          5.917958979489745,
          5.927963981990995,
          5.937968984492246,
          5.947973986993496,
          5.957978989494746,
          5.967983991995997,
          5.977988994497249,
          5.987993996998499,
          5.99799899949975,
          6.008004002001002,
          6.01800900450225,
          6.028014007003502,
          6.038019009504751,
          6.048024012006003,
          6.058029014507252,
          6.068034017008504,
          6.078039019509756,
          6.088044022011005,
          6.098049024512257,
          6.108054027013505,
          6.118059029514757,
          6.128064032016006,
          6.138069034517258,
          6.14807403701851,
          6.158079039519759,
          6.168084042021011,
          6.17808904452226,
          6.188094047023512,
          6.19809904952476,
          6.2081040520260125,
          6.218109054527265,
          6.228114057028513,
          6.238119059529765,
          6.248124062031014,
          6.258129064532266,
          6.268134067033515,
          6.278139069534767,
          6.288144072036019,
          6.2981490745372675,
          6.30815407703852,
          6.318159079539768,
          6.32816408204102,
          6.338169084542269,
          6.348174087043521,
          6.358179089544773,
          6.368184092046022,
          6.378189094547274,
          6.3881940970485225,
          6.398199099549775,
          6.408204102051027,
          6.418209104552275,
          6.4282141070535275,
          6.438219109554776,
          6.448224112056028,
          6.458229114557277,
          6.468234117058529,
          6.478239119559781,
          6.48824412206103,
          6.498249124562282,
          6.50825412706353,
          6.5182591295647825,
          6.528264132066031,
          6.538269134567283,
          6.548274137068535,
          6.558279139569784,
          6.568284142071036,
          6.578289144572285,
          6.588294147073537,
          6.598299149574785,
          6.6083041520760375,
          6.61830915457729,
          6.628314157078538,
          6.63831915957979,
          6.648324162081039,
          6.658329164582291,
          6.66833416708354,
          6.678339169584792,
          6.688344172086044,
          6.6983491745872925,
          6.708354177088545,
          6.718359179589793,
          6.728364182091045,
          6.738369184592294,
          6.748374187093546,
          6.758379189594798,
          6.768384192096047,
          6.778389194597299,
          6.7883941970985475,
          6.7983991995998,
          6.808404202101052,
          6.8184092046023,
          6.8284142071035525,
          6.838419209604801,
          6.848424212106053,
          6.858429214607302,
          6.868434217108554,
          6.878439219609806,
          6.888444222111055,
          6.898449224612307,
          6.908454227113555,
          6.9184592296148075,
          6.928464232116056,
          6.938469234617308,
          6.94847423711856,
          6.958479239619809,
          6.968484242121061,
          6.97848924462231,
          6.988494247123562,
          6.99849924962481,
          7.0085042521260625,
          7.018509254627315,
          7.028514257128563,
          7.038519259629815,
          7.048524262131064,
          7.058529264632316,
          7.068534267133565,
          7.078539269634817,
          7.088544272136069,
          7.0985492746373176,
          7.10855427713857,
          7.118559279639818,
          7.12856428214107,
          7.138569284642319,
          7.148574287143571,
          7.158579289644823,
          7.168584292146072,
          7.178589294647324,
          7.188594297148573,
          7.198599299649825,
          7.208604302151073,
          7.218609304652325,
          7.228614307153578,
          7.238619309654826,
          7.248624312156078,
          7.258629314657327,
          7.268634317158579,
          7.278639319659831,
          7.28864432216108,
          7.298649324662332,
          7.30865432716358,
          7.318659329664833,
          7.328664332166081,
          7.338669334667333,
          7.348674337168585,
          7.358679339669834,
          7.368684342171086,
          7.378689344672335,
          7.388694347173587,
          7.3986993496748354,
          7.408704352176088,
          7.41870935467734,
          7.428714357178588,
          7.43871935967984,
          7.448724362181089,
          7.458729364682341,
          7.46873436718359,
          7.478739369684842,
          7.488744372186094,
          7.498749374687343,
          7.508754377188595,
          7.518759379689843,
          7.5287643821910955,
          7.538769384692344,
          7.548774387193596,
          7.558779389694848,
          7.568784392196097,
          7.578789394697349,
          7.588794397198598,
          7.59879939969985,
          7.608804402201098,
          7.6188094047023505,
          7.628814407203603,
          7.638819409704851,
          7.648824412206103,
          7.658829414707352,
          7.668834417208604,
          7.678839419709856,
          7.688844422211105,
          7.698849424712357,
          7.7088544272136055,
          7.718859429714858,
          7.728864432216106,
          7.738869434717358,
          7.7488744372186105,
          7.758879439719859,
          7.768884442221111,
          7.77888944472236,
          7.788894447223612,
          7.7988994497248605,
          7.808904452226113,
          7.818909454727365,
          7.828914457228613,
          7.8389194597298655,
          7.848924462231114,
          7.858929464732366,
          7.868934467233615,
          7.878939469734867,
          7.888944472236119,
          7.898949474737368,
          7.90895447723862,
          7.918959479739868,
          7.9289644822411205,
          7.938969484742369,
          7.948974487243621,
          7.958979489744873,
          7.968984492246122,
          7.978989494747374,
          7.988994497248623,
          7.998999499749875,
          8.009004502251123,
          8.019009504752376,
          8.029014507253628,
          8.039019509754876,
          8.049024512256128,
          8.059029514757377,
          8.069034517258629,
          8.079039519759878,
          8.08904452226113,
          8.099049524762382,
          8.10905452726363,
          8.119059529764883,
          8.129064532266131,
          8.139069534767383,
          8.149074537268636,
          8.159079539769884,
          8.169084542271136,
          8.179089544772385,
          8.189094547273637,
          8.199099549774886,
          8.209104552276138,
          8.21910955477739,
          8.229114557278638,
          8.23911955977989,
          8.249124562281139,
          8.259129564782391,
          8.26913456728364,
          8.279139569784892,
          8.289144572286144,
          8.299149574787393,
          8.309154577288645,
          8.319159579789893,
          8.329164582291146,
          8.339169584792394,
          8.349174587293646,
          8.359179589794898,
          8.369184592296147,
          8.379189594797399,
          8.389194597298648,
          8.3991995997999,
          8.409204602301148,
          8.4192096048024,
          8.429214607303653,
          8.439219609804901,
          8.449224612306153,
          8.459229614807402,
          8.469234617308654,
          8.479239619809903,
          8.489244622311155,
          8.499249624812407,
          8.509254627313656,
          8.519259629814908,
          8.529264632316156,
          8.539269634817408,
          8.54927463731866,
          8.55927963981991,
          8.569284642321161,
          8.57928964482241,
          8.589294647323662,
          8.59929964982491,
          8.609304652326163,
          8.619309654827415,
          8.629314657328663,
          8.639319659829916,
          8.649324662331164,
          8.659329664832416,
          8.669334667333665,
          8.679339669834917,
          8.68934467233617,
          8.699349674837418,
          8.70935467733867,
          8.719359679839918,
          8.72936468234117,
          8.73936968484242,
          8.749374687343671,
          8.759379689844923,
          8.769384692346172,
          8.779389694847424,
          8.789394697348673,
          8.799399699849925,
          8.809404702351173,
          8.819409704852426,
          8.829414707353678,
          8.839419709854926,
          8.849424712356178,
          8.859429714857427,
          8.86943471735868,
          8.879439719859928,
          8.88944472236118,
          8.899449724862432,
          8.90945472736368,
          8.919459729864933,
          8.929464732366181,
          8.939469734867433,
          8.949474737368682,
          8.959479739869934,
          8.969484742371186,
          8.979489744872435,
          8.989494747373687,
          8.999499749874936,
          9.009504752376188,
          9.01950975487744,
          9.029514757378688,
          9.03951975987994,
          9.04952476238119,
          9.059529764882441,
          9.06953476738369,
          9.079539769884942,
          9.089544772386194,
          9.099549774887443,
          9.109554777388695,
          9.119559779889943,
          9.129564782391196,
          9.139569784892444,
          9.149574787393696,
          9.159579789894948,
          9.169584792396197,
          9.17958979489745,
          9.189594797398698,
          9.19959979989995,
          9.209604802401198,
          9.21960980490245,
          9.229614807403703,
          9.239619809904951,
          9.249624812406203,
          9.259629814907452,
          9.269634817408704,
          9.279639819909953,
          9.289644822411205,
          9.299649824912457,
          9.309654827413706,
          9.319659829914958,
          9.329664832416206,
          9.339669834917459,
          9.349674837418707,
          9.35967983991996,
          9.369684842421211,
          9.37968984492246,
          9.389694847423712,
          9.39969984992496,
          9.409704852426213,
          9.419709854927465,
          9.429714857428714,
          9.439719859929966,
          9.449724862431214,
          9.459729864932466,
          9.469734867433715,
          9.479739869934967,
          9.48974487243622,
          9.499749874937468,
          9.50975487743872,
          9.519759879939969,
          9.52976488244122,
          9.53976988494247,
          9.549774887443721,
          9.559779889944974,
          9.569784892446222,
          9.579789894947474,
          9.589794897448723,
          9.599799899949975,
          9.609804902451224,
          9.619809904952476,
          9.629814907453728,
          9.639819909954976,
          9.649824912456229,
          9.659829914957477,
          9.66983491745873,
          9.679839919959978,
          9.68984492246123,
          9.699849924962482,
          9.70985492746373,
          9.719859929964983,
          9.729864932466231,
          9.739869934967484,
          9.749874937468732,
          9.759879939969984,
          9.769884942471236,
          9.779889944972485,
          9.789894947473737,
          9.799899949974986,
          9.809904952476238,
          9.819909954977486,
          9.829914957478739,
          9.83991995997999,
          9.84992496248124,
          9.859929964982491,
          9.86993496748374,
          9.879939969984992,
          9.889944972486244,
          9.899949974987493,
          9.909954977488745,
          9.919959979989994,
          9.929964982491246,
          9.939969984992494,
          9.949974987493746,
          9.959979989994999,
          9.969984992496247,
          9.9799899949975,
          9.989994997498748,
          10
         ],
         "y": [
          4.5397868702434395e-05,
          4.5854333322209086e-05,
          4.6315387371055025e-05,
          4.678107698814084e-05,
          4.72514487764019e-05,
          4.772654980719984e-05,
          4.820642762502956e-05,
          4.869113025227279e-05,
          4.9180706193999674e-05,
          4.967520444281851e-05,
          5.017467448377424e-05,
          5.0679166299296166e-05,
          5.118873037419482e-05,
          5.170341770071001e-05,
          5.2223279783608585e-05,
          5.274836864533383e-05,
          5.327873683120646e-05,
          5.3814437414677934e-05,
          5.435552400263599e-05,
          5.490205074076446e-05,
          5.5454072318955845e-05,
          5.6011643976778745e-05,
          5.657482150900011e-05,
          5.7143661271162846e-05,
          5.771822018521948e-05,
          5.8298555745222035e-05,
          5.888472602306982e-05,
          5.9476789674314015e-05,
          6.0074805944020974e-05,
          6.06788346726943e-05,
          6.128893630225636e-05,
          6.190517188208988e-05,
          6.252760307513966e-05,
          6.315629216407668e-05,
          6.37913020575228e-05,
          6.44326962963387e-05,
          6.50805390599746e-05,
          6.573489517288499e-05,
          6.639583011100693e-05,
          6.706341000830485e-05,
          6.773770166337948e-05,
          6.841877254614401e-05,
          6.910669080456681e-05,
          6.98015252714821e-05,
          7.050334547146883e-05,
          7.121222162779811e-05,
          7.19282246694515e-05,
          7.265142623820855e-05,
          7.338189869580592e-05,
          7.411971513116838e-05,
          7.486494936771233e-05,
          7.5617675970722e-05,
          7.637797025480097e-05,
          7.714590829139706e-05,
          7.792156691640338e-05,
          7.870502373783554e-05,
          7.949635714358582e-05,
          8.029564630925526e-05,
          8.110297120606354e-05,
          8.191841260883979e-05,
          8.274205210409185e-05,
          8.357397209815746e-05,
          8.441425582543681e-05,
          8.526298735670776e-05,
          8.612025160752466e-05,
          8.69861343467005e-05,
          8.786072220487566e-05,
          8.87441026831712e-05,
          8.963636416192947e-05,
          9.05375959095424e-05,
          9.144788809136817e-05,
          9.236733177873744e-05,
          9.329601895804926e-05,
          9.423404253995952e-05,
          9.518149636866008e-05,
          9.613847523125164e-05,
          9.710507486721052e-05,
          9.808139197795019e-05,
          9.906752423647894e-05,
          0.00010006357029715341,
          0.00010106962980553166,
          0.00010208580340832332,
          0.00010311219276344018,
          0.00010414890055014741,
          0.00010519603047931692,
          0.00010625368730378206,
          0.00010732197682879851,
          0.00010840100592260764,
          0.00010949088252710708,
          0.00011059171566862771,
          0.00011170361546881874,
          0.00011282669315564224,
          0.00011396106107447642,
          0.00011510683269933256,
          0.00011626412264418216,
          0.00011743304667439846,
          0.00011861372171831254,
          0.00011980626587888534,
          0.00012101079844549556,
          0.00012222743990584768,
          0.00012345631195799723,
          0.00012469753752249752,
          0.00012595124075466784,
          0.00012721754705698443,
          0.00012849658309159595,
          0.000129788476792963,
          0.00013109335738062657,
          0.00013241135537210195,
          0.00013374260259590303,
          0.0001350872322046968,
          0.00013644537868858934,
          0.00013781717788854535,
          0.00013920276700994048,
          0.0001406022846362522,
          0.00014201587074288491,
          0.0001434436667111348,
          0.00014488581534229426,
          0.00014634246087189746,
          0.0001478137489841088,
          0.00014929982682625398,
          0.00015080084302349905,
          0.000152316947693674,
          0.0001538482924622458,
          0.0001553950304774409,
          0.00015695731642551938,
          0.00015853530654620185,
          0.00016012915864824952,
          0.0001617390321252028,
          0.00016336508797127467,
          0.00016500748879740438,
          0.00016666639884747143,
          0.00016834198401467196,
          0.0001700344118580577,
          0.00017174385161924295,
          0.00017347047423927597,
          0.00017521445237568035,
          0.00017697596041966663,
          0.0001787551745135164,
          0.00018055227256813823,
          0.0001823674342808029,
          0.0001842008411530522,
          0.0001860526765087887,
          0.00018792312551254596,
          0.00018981237518794119,
          0.00019172061443631277,
          0.0001936480340555426,
          0.0001955948267590695,
          0.00019756118719508952,
          0.00019954731196594974,
          0.00020155339964773555,
          0.00020357965081005327,
          0.00020562626803601153,
          0.00020769345594239956,
          0.00020978142120007146,
          0.0002118903725545297,
          0.00021402052084671684,
          0.00021617207903401367,
          0.00021834526221144778,
          0.00022054028763311397,
          0.0002227573747338064,
          0.00022499674515087117,
          0.00022725862274627258,
          0.000229543233628882,
          0.0002318508061769888,
          0.0002341815710610358,
          0.0002365357612665822,
          0.0002389136121174934,
          0.0002413153612993669,
          0.00024374124888318713,
          0.00024619151734921874,
          0.00024866641161113784,
          0.0002511661790404041,
          0.0002536910694908761,
          0.00025624133532366986,
          0.0002588172314322706,
          0.0002614190152678894,
          0.0002640469468650758,
          0.00026670128886758517,
          0.0002693823065545022,
          0.00027209026786662895,
          0.00027482544343313177,
          0.0002775881065984559,
          0.00028037853344950806,
          0.00028319700284310927,
          0.00028604379643372294,
          0.00028891919870145563,
          0.0002918234969803423,
          0.0002947569814869085,
          0.00029771994534901874,
          0.00030071268463501303,
          0.00030373549838313247,
          0.00030678868863123884,
          0.00030987256044682745,
          0.0003129874219573442,
          0.00031613358438079887,
          0.00031931136205668614,
          0.0003225210724772137,
          0.0003257630363188411,
          0.0003290375774741329,
          0.00033234502308392654,
          0.0003356857035698251,
          0.00033905995266700817,
          0.00034246810745737185,
          0.00034591050840299765,
          0.0003493874993799545,
          0.00035289942771243616,
          0.0003564466442072388,
          0.0003600295031885818,
          0.00036364836253327337,
          0.00036730358370622623,
          0.0003709955317963271,
          0.00037472457555266,
          0.0003784910874210942,
          0.00038229544358122974,
          0.00038613802398371536,
          0.00039001921238793327,
          0.0003939393964000602,
          0.0003978989675115058,
          0.0004018983211377312,
          0.00040593785665745687,
          0.0004100179774522542,
          0.0004141390909465356,
          0.00041830160864793706,
          0.0004225059461881032,
          0.0004267525233638775,
          0.0004310417641788988,
          0.0004353740968856143,
          0.0004397499540277037,
          0.00044416977248293,
          0.00044863399350641005,
          0.00045314306277431703,
          0.0004576974304280149,
          0.00046229755111862943,
          0.0004669438840520625,
          0.0004716368930344523,
          0.0004763770465180817,
          0.0004811648176477432,
          0.0004860006843075624,
          0.0004908851291682837,
          0.0004958186397350278,
          0.0005008017083955163,
          0.0005058348324687792,
          0.00051091851425434,
          0.0005160532610818895,
          0.0005212395853614507,
          0.0005264780046340372,
          0.0005317690416228182,
          0.0005371132242847821,
          0.0005425110858629171,
          0.000547963164938903,
          0.0005534700054863257,
          0.0005590321569244174,
          0.0005646501741723252,
          0.000570324617703919,
          0.0005760560536031393,
          0.0005818450536198896,
          0.0005876921952264821,
          0.000593598061674641,
          0.0005995632420530644,
          0.0006055883313455605,
          0.0006116739304897491,
          0.0006178206464363498,
          0.0006240290922090484,
          0.0006302998869649562,
          0.0006366336560556657,
          0.0006430310310889034,
          0.000649492649990798,
          0.0006560191570687513,
          0.0006626112030749381,
          0.0006692694452704237,
          0.0006759945474899168,
          0.000682787180207157,
          0.000689648020600946,
          0.0006965777526218284,
          0.0007035770670594303,
          0.0007106466616104552,
          0.0007177872409473515,
          0.000724999516787654,
          0.0007322842079640046,
          0.000739642040494865,
          0.0007470737476559175,
          0.0007545800700521734,
          0.000762161755690783,
          0.0007698195600545634,
          0.0007775542461762476,
          0.0007853665847134568,
          0.0007932573540244171,
          0.0008012273402444062,
          0.000809277337362961,
          0.0008174081473018326,
          0.0008256205799937088,
          0.0008339154534617076,
          0.0008422935938996438,
          0.0008507558357530883,
          0.0008593030218012164,
          0.0008679360032394547,
          0.00087665563976294,
          0.0008854627996507905,
          0.0008943583598512004,
          0.0009033432060673713,
          0.0009124182328442719,
          0.0009215843436562571,
          0.0009308424509955327,
          0.0009401934764614858,
          0.0009496383508508897,
          0.0009591780142489808,
          0.0009688134161214341,
          0.0009785455154072212,
          0.0009883752806123865,
          0.0009983036899047265,
          0.0010083317312093944,
          0.0010184604023054352,
          0.0010286907109232574,
          0.0010390236748430576,
          0.0010494603219941934,
          0.001060001690555532,
          0.0010706488290567644,
          0.0010814027964807093,
          0.0010922646623666072,
          0.0011032355069144155,
          0.001114316421090118,
          0.0011255085067320566,
          0.0011368128766582881,
          0.0011482306547749854,
          0.0011597629761858873,
          0.001171410987302804,
          0.0011831758459572034,
          0.001195058721512859,
          0.0012070607949796043,
          0.001219183259128176,
          0.0012314273186061684,
          0.001243794190055112,
          0.0012562851022286728,
          0.0012689012961120062,
          0.0012816440250422452,
          0.0012945145548301658,
          0.001307514163883013,
          0.001320644143328516,
          0.0013339057971400966,
          0.0013473004422632762,
          0.0013608294087433083,
          0.001374494039854034,
          0.0013882956922279719,
          0.001402235735987662,
          0.0014163155548782694,
          0.0014305365464014556,
          0.0014449001219505465,
          0.0014594077069469762,
          0.0014740607409780594,
          0.001488860677936068,
          0.0015038089861586432,
          0.001518907148570554,
          0.0015341566628268018,
          0.0015495590414571088,
          0.0015651158120117653,
          0.0015808285172088893,
          0.0015966987150830766,
          0.0016127279791354752,
          0.0016289178984852878,
          0.0016452700780227145,
          0.0016617861385633567,
          0.0016784677170040897,
          0.0016953164664804093,
          0.0017123340565252828,
          0.0017295221732295028,
          0.0017468825194035603,
          0.0017644168147410671,
          0.0017821267959837043,
          0.001800014217087757,
          0.0018180808493922082,
          0.0018363284817884305,
          0.0018547589208914815,
          0.0018733739912130119,
          0.0018921755353358198,
          0.0019111654140900312,
          0.0019303455067309634,
          0.0019497177111186491,
          0.0019692839438990566,
          0.0019890461406870145,
          0.0020090062562508537,
          0.0020291662646987857,
          0.0020495281596670384,
          0.0020700939545097424,
          0.0020908656824906078,
          0.002111845396976393,
          0.0021330351716321795,
          0.0021544371006184905,
          0.002176053298790224,
          0.0021978859018974735,
          0.002219937066788198,
          0.002242208971612796,
          0.0022647038160305806,
          0.002287423821418169,
          0.002310371231079832,
          0.0023335483104597655,
          0.002356957347356368,
          0.002380600652138477,
          0.0024044805579636233,
          0.002428599420998308,
          0.0024529596206403007,
          0.0024775635597430227,
          0.0025024136648419647,
          0.0025275123863832292,
          0.0025528621989541526,
          0.002578465601516066,
          0.002604325117639183,
          0.00263044329573967,
          0.002656822709318868,
          0.002683465957204716,
          0.0027103756637954003,
          0.002737554479305217,
          0.0027650050800126797,
          0.0027927301685109185,
          0.002820732473960335,
          0.0028490147523435785,
          0.0028775797867228296,
          0.0029064303874994394,
          0.0029355693926759203,
          0.0029649996681202994,
          0.0029947241078328974,
          0.003024745634215503,
          0.003055067198342972,
          0.0030856917802373103,
          0.003116622389144201,
          0.0031478620638120403,
          0.003179413872773461,
          0.0032112809146294247,
          0.00324346631833583,
          0.003275973243492696,
          0.003308804880635954,
          0.0033419644515318286,
          0.0033754552094738535,
          0.00340928043958253,
          0.0034434434591076716,
          0.0034779476177334233,
          0.0035127962978859792,
          0.0035479929150440586,
          0.0035835409180521114,
          0.0036194437894362785,
          0.003655705045723185,
          0.003692328237761504,
          0.003729316951046369,
          0.0037666748060466264,
          0.0038044054585349815,
          0.00384251259992102,
          0.0038809999575871307,
          0.003919871295227399,
          0.003959130413189428,
          0.003998781148819125,
          0.004038827376808528,
          0.004079273009546602,
          0.004120121997473109,
          0.0041613783294355035,
          0.00420304603304895,
          0.004245129175059411,
          0.004287631861709853,
          0.004330558239109635,
          0.004373912493607022,
          0.004417698852164888,
          0.004461921582739659,
          0.0045065849946634455,
          0.004551693439029447,
          0.004597251309080608,
          0.004643263040601593,
          0.004689733112314049,
          0.004736666046275201,
          0.0047840664082798275,
          0.004831938808265587,
          0.004880287900721734,
          0.004929118385101291,
          0.004978435006236619,
          0.005028242554758467,
          0.005078545867518482,
          0.005129349828015255,
          0.005180659366823864,
          0.0052324794620289316,
          0.005284815139661315,
          0.00533767147413832,
          0.0053910535887075235,
          0.005444966655894258,
          0.005499415897952696,
          0.005554406587320628,
          0.005609944047077888,
          0.005666033651408538,
          0.005722680826066731,
          0.005779891048846309,
          0.005837669850054217,
          0.005896022812987652,
          0.005954955574415006,
          0.006014473825060677,
          0.006074583310093676,
          0.006135289829620107,
          0.006196599239179503,
          0.006258517450245099,
          0.0063210504307279775,
          0.006384204205485141,
          0.006447984856831571,
          0.006512398525056217,
          0.0065774514089419565,
          0.006643149766289608,
          0.006709499914445901,
          0.00677650823083551,
          0.0068441811534971095,
          0.0069125251816235375,
          0.006981546876105991,
          0.007051252860082321,
          0.007121649819489484,
          0.007192744503620055,
          0.007264543725682892,
          0.007337054363368001,
          0.007410283359415491,
          0.007484237722188771,
          0.007558924526251873,
          0.00763435091295105,
          0.00771052409100053,
          0.007787451337072505,
          0.007865139996391391,
          0.007943597483332296,
          0.008022831282023756,
          0.008102848946954726,
          0.008183658103585885,
          0.008265266448965186,
          0.00834768175234768,
          0.008430911855819703,
          0.008514964674927314,
          0.008599848199309035,
          0.008685570493332972,
          0.008772139696738183,
          0.008859564025280429,
          0.008947851771382177,
          0.009037011304787053,
          0.009127051073218519,
          0.009217979603042903,
          0.00930980549993685,
          0.009402537449559,
          0.009496184218226032,
          0.0095907546535931,
          0.009686257685338514,
          0.009782702325852813,
          0.009880097670932085,
          0.009978452900475715,
          0.010077777279188347,
          0.010178080157286157,
          0.010279370971207506,
          0.01038165924432779,
          0.010484954587678575,
          0.010589266700671073,
          0.010694605371823792,
          0.010800980479494451,
          0.010908401992616121,
          0.011016879971437602,
          0.011126424568267972,
          0.01123704602822527,
          0.011348754689989431,
          0.011461560986559295,
          0.011575475446013695,
          0.011690508692276757,
          0.011806671445887144,
          0.011923974524771423,
          0.012042428845021371,
          0.01216204542167538,
          0.012282835369503727,
          0.012404809903797756,
          0.01252798034116307,
          0.012652358100316454,
          0.012777954702886656,
          0.012904781774219025,
          0.013032851044183785,
          0.013162174347988088,
          0.013292763626991664,
          0.013424630929526183,
          0.013557788411718098,
          0.013692248338314993,
          0.013828023083515537,
          0.013965125131802704,
          0.014103567078780412,
          0.014243361632013514,
          0.014384521611870987,
          0.014527059952372315,
          0.014670989702036985,
          0.014816324024737114,
          0.014963076200553009,
          0.01511125962663161,
          0.01526088781804792,
          0.015411974408669109,
          0.015564533152021297,
          0.015718577922159093,
          0.015874122714537548,
          0.016031181646886647,
          0.016189768960088065,
          0.01634989901905439,
          0.016511586313610375,
          0.016674845459376305,
          0.016839691198653476,
          0.017006138401311457,
          0.017174202065677154,
          0.017343897319425667,
          0.017515239420472596,
          0.017688243757867924,
          0.017862925852691114,
          0.018039301358947643,
          0.018217386064466462,
          0.018397195891798494,
          0.018578746899116077,
          0.018762055281112997,
          0.018947137369905238,
          0.019134009635932033,
          0.019322688688857417,
          0.019513191278471797,
          0.0197055342955935,
          0.019899734772970405,
          0.020095809886181006,
          0.020293776954535162,
          0.02049365344197422,
          0.020695456957970308,
          0.020899205258424664,
          0.02110491624656476,
          0.021312607973840256,
          0.02152229864081731,
          0.021734006598071134,
          0.02194775034707683,
          0.022163548541097984,
          0.022381419986072924,
          0.02260138364149865,
          0.02282345862131182,
          0.023047664194766965,
          0.02327401978731134,
          0.023502544981456642,
          0.02373325951764685,
          0.02396618329512228,
          0.024201336372779637,
          0.024438738970027563,
          0.024678411467637548,
          0.024920374408590167,
          0.025164648498915983,
          0.025411254608531116,
          0.025660213772067075,
          0.025911547189694767,
          0.026165276227942118,
          0.026421422420505103,
          0.026680007469052146,
          0.026941053244021206,
          0.02720458178540933,
          0.027470615303554692,
          0.027739176179910303,
          0.02801028696780938,
          0.028283970393221874,
          0.02856024935550211,
          0.028839146928126697,
          0.029120686359422734,
          0.029404891073285977,
          0.029691784669888303,
          0.029981390926374217,
          0.03027373379754631,
          0.030568837416538805,
          0.030866726095479108,
          0.031167424326136804,
          0.03147095678055995,
          0.03177734831169788,
          0.03208662395401023,
          0.032398808924062064,
          0.032713928621104185,
          0.0330320086276383,
          0.03335307470996704,
          0.033677152818727664,
          0.03400426908940954,
          0.03433444984285451,
          0.03466772158574019,
          0.035004111011045065,
          0.03534364499849525,
          0.035686350614992625,
          0.036032255115023226,
          0.036381385941045785,
          0.036733770723860006,
          0.03708943728295359,
          0.037448413626827846,
          0.03781072795330104,
          0.03817640864978933,
          0.03854548429356424,
          0.03891798365198625,
          0.039293935682714276,
          0.03967336953388985,
          0.04005631454429565,
          0.04044280024348817,
          0.040832856351903014,
          0.04122651278093318,
          0.04162379963297872,
          0.04202474720146817,
          0.042429385970850136,
          0.042837746616554796,
          0.043249860004924943,
          0.043665757193115225,
          0.04408546942895945,
          0.0445090281508048,
          0.04493646498731288,
          0.045367811757226165,
          0.045803100469099446,
          0.046242363320995815,
          0.04668563270014602,
          0.047132941182570345,
          0.0475843215326631,
          0.04803980670273781,
          0.0484994298325332,
          0.048963224248678626,
          0.049431223464118795,
          0.04990346117749626,
          0.050379971272491206,
          0.050860787817118065,
          0.05134594506297752,
          0.05183547744446325,
          0.05232941957792307,
          0.052827806260772874,
          0.05333067247056309,
          0.05383805336399631,
          0.054349984275896004,
          0.054866500718124496,
          0.05538763837844977,
          0.05591343311936069,
          0.056443920976828856,
          0.05697913815901648,
          0.05751912104493018,
          0.05806390618301848,
          0.058613530289713056,
          0.05916803024791224,
          0.05972744310540657,
          0.060291806073244594,
          0.06086115652403833,
          0.061435531990208035,
          0.062014970162164305,
          0.0625995088864271,
          0.06318918616368113,
          0.0637840401467658,
          0.06438410913859935,
          0.06498943159003596,
          0.06560004609765531,
          0.06621599140148288,
          0.06683730638264043,
          0.06746403006092623,
          0.06809620159232295,
          0.0687338602664329,
          0.06937704550384005,
          0.07002579685339688,
          0.07068015398943592,
          0.07134015670890431,
          0.0720058449284215,
          0.07267725868125789,
          0.07335443811423384,
          0.07403742348453905,
          0.07472625515646984,
          0.07542097359808422,
          0.07612161937777409,
          0.07682823316075284,
          0.07754085570545802,
          0.07825952785986764,
          0.07898429055773018,
          0.07971518481470599,
          0.0804522517244201,
          0.0811955324544258,
          0.08194506824207712,
          0.0827009003903099,
          0.08346307026333113,
          0.08423161928221445,
          0.08500658892040228,
          0.08578802069911232,
          0.08657595618264967,
          0.08737043697362148,
          0.08817150470805465,
          0.08897920105041611,
          0.08979356768853383,
          0.09061464632841844,
          0.09144247868898522,
          0.09227710649667484,
          0.09311857147997267,
          0.09396691536382588,
          0.09482217986395829,
          0.09568440668108132,
          0.09655363749500094,
          0.09742991395862088,
          0.09831327769184003,
          0.09920377027534481,
          0.10010143324429507,
          0.10100630808190446,
          0.10191843621291312,
          0.10283785899695333,
          0.10376461772180814,
          0.10469875359656165,
          0.1056403077446409,
          0.10658932119675028,
          0.1075458348836965,
          0.10850988962910522,
          0.10948152614202841,
          0.11046078500944342,
          0.11144770668864239,
          0.11244233149951252,
          0.11344469961670824,
          0.11445485106171346,
          0.11547282569479532,
          0.1164986632068498,
          0.11753240311113829,
          0.11857408473491632,
          0.11962374721095426,
          0.12068142946895094,
          0.12174717022684008,
          0.12282100798199007,
          0.1239029810022976,
          0.12499312731717639,
          0.1260914847084406,
          0.12719809070108454,
          0.12831298255395826,
          0.12943619725034233,
          0.1305677714884192,
          0.13170774167164478,
          0.13285614389902034,
          0.13401301395526563,
          0.1351783873008949,
          0.13635229906219556,
          0.1375347840211142,
          0.13872587660504643,
          0.13992561087653632,
          0.14113402052288415,
          0.14235113884566586,
          0.14357699875016347,
          0.14481163273471226,
          0.14605507287996133,
          0.1473073508380537,
          0.14856849782172526,
          0.14983854459332613,
          0.1511175214537657,
          0.15240545823138305,
          0.15370238427074745,
          0.15500832842138756,
          0.15632331902645494,
          0.15764738391132233,
          0.15898055037212086,
          0.16032284516421752,
          0.1616742944906356,
          0.16303492399042355,
          0.1644047587269707,
          0.16578382317627668,
          0.16717214121517598,
          0.1685697361095209,
          0.1699766305023255,
          0.171392846401877,
          0.17281840516981312,
          0.174253327509173,
          0.1756976334524231,
          0.17715134234946306,
          0.17861447285561433,
          0.18008704291959474,
          0.1815690697714866,
          0.18306056991069708,
          0.18456155909391875,
          0.18607205232309337,
          0.18759206383338287,
          0.1891216070811525,
          0.1906606947319692,
          0.19220933864862294,
          0.19376754987917102,
          0.19533533864501393,
          0.1969127143290052,
          0.1984996854636015,
          0.20009625971905703,
          0.2017024438916662,
          0.20331824389206368,
          0.20494366473358125,
          0.20657871052067067,
          0.2082233844373967,
          0.20987768873600565,
          0.211541624725573,
          0.21321519276074055,
          0.2148983922305421,
          0.21659122154732768,
          0.2182936781357909,
          0.2200057584221042,
          0.22172745782316902,
          0.22345877073598444,
          0.2251996905271442,
          0.2269502095224632,
          0.2287103189967418,
          0.23048000916367442,
          0.23225926916590717,
          0.2340480870652502,
          0.23584644983305172,
          0.23765434334074054,
          0.23947175235054047,
          0.24129866050636475,
          0.24313505032489643,
          0.24498090318686025,
          0.2468361993284911,
          0.24870091783320883,
          0.25057503662350067,
          0.2524585324530205,
          0.25435138089891013,
          0.2562535563543489,
          0.25816503202133734,
          0.26008577990371956,
          0.2620157708004554,
          0.2639549742991404,
          0.2659033587697865,
          0.2678608913588655,
          0.2698275379836227,
          0.27180326332666577,
          0.2737880308308337,
          0.27578180269435537,
          0.27778453986629753,
          0.27979620204231237,
          0.2818167476606875,
          0.2838461338987061,
          0.28588431666931813,
          0.28793125061813507,
          0.28998688912074505,
          0.2920511842803589,
          0.29412408692579045,
          0.29620554660977516,
          0.2982955116076332,
          0.3003939289162784,
          0.3025007442535841,
          0.30461590205810096,
          0.3067393454891393,
          0.3088710164272143,
          0.3110108554748615,
          0.3131588019578245,
          0.3153147939266171,
          0.3174787681584692,
          0.3196506601596512,
          0.32183040416818665,
          0.32401793315695315,
          0.3262131788371755,
          0.32841607166231074,
          0.33062654083233384,
          0.332844514298418,
          0.335069918768018,
          0.33730267971035516,
          0.33954272136230707,
          0.3417899667347026,
          0.3440443376190221,
          0.34630575459450885,
          0.34857413703568585,
          0.3508494031202825,
          0.35313146983757104,
          0.3554202529971126,
          0.357715667237912,
          0.3600176260379813,
          0.36232604172431415,
          0.3646408254832649,
          0.36696188737133606,
          0.3692891363263708,
          0.37162248017914973,
          0.37396182566538966,
          0.376307078438141,
          0.37865814308058743,
          0.38101492311923696,
          0.3833773210375073,
          0.3857452382897025,
          0.3881185753153748,
          0.39049723155406946,
          0.3928811054604526,
          0.39527009451981143,
          0.39766409526392815,
          0.40006300328732053,
          0.402466713263846,
          0.40487511896366357,
          0.40728811327054754,
          0.40970558819955194,
          0.41212743491501386,
          0.4145535437488949,
          0.4169838042194532,
          0.41941810505023897,
          0.42185633418940893,
          0.42429837882934973,
          0.42674412542661017,
          0.4291934597221264,
          0.43164626676173967,
          0.43410243091699613,
          0.43656183590622244,
          0.4390243648158662,
          0.4414899001221004,
          0.4439583237126742,
          0.44642951690900873,
          0.4489033604885273,
          0.45137973470720966,
          0.4538585193223647,
          0.456339593615608,
          0.4588228364160424,
          0.4613081261236228,
          0.4637953407327038,
          0.4662843578557564,
          0.4687750547472449,
          0.47126730832765645,
          0.4737609952076667,
          0.4762559917124426,
          0.4787521739060612,
          0.48124941761603973,
          0.48374759845796683,
          0.48624659186022373,
          0.48874627308878227,
          0.49124651727207624,
          0.4937471994259269,
          0.49624819447851926,
          0.49874937729541374,
          0.5012506227045858,
          0.5037518055214808,
          0.5062528005740732,
          0.5087534827279239,
          0.5112537269112177,
          0.5137534081397762,
          0.5162524015420327,
          0.5187505823839599,
          0.5212478260939388,
          0.5237440082875574,
          0.5262390047923333,
          0.5287326916723435,
          0.5312249452527545,
          0.5337156421442433,
          0.5362046592672962,
          0.5386918738763772,
          0.5411771635839576,
          0.543660406384392,
          0.5461414806776352,
          0.54862026529279,
          0.5510966395114723,
          0.5535704830909912,
          0.5560416762873258,
          0.5585100998778997,
          0.5609756351841337,
          0.5634381640937776,
          0.5658975690830034,
          0.5683537332382599,
          0.5708065402778736,
          0.5732558745733899,
          0.5757016211706503,
          0.5781436658105911,
          0.5805818949497606,
          0.5830161957805464,
          0.5854464562511047,
          0.5878725650849862,
          0.5902944118004481,
          0.5927118867294525,
          0.5951248810363364,
          0.5975332867361536,
          0.599936996712679,
          0.6023359047360718,
          0.6047299054801886,
          0.6071188945395474,
          0.6095027684459305,
          0.6118814246846251,
          0.614254761710297,
          0.6166226789624922,
          0.6189850768807631,
          0.6213418569194125,
          0.623692921561859,
          0.6260381743346104,
          0.6283775198208499,
          0.6307108636736288,
          0.6330381126286636,
          0.6353591745167351,
          0.6376739582756858,
          0.6399823739620186,
          0.642284332762088,
          0.644579747002887,
          0.6468685301624285,
          0.6491505968797175,
          0.6514258629643142,
          0.6536942454054911,
          0.655955662380978,
          0.6582100332652974,
          0.6604572786376925,
          0.6626973202896445,
          0.664930081231982,
          0.667155485701582,
          0.6693734591676662,
          0.6715839283376892,
          0.6737868211628245,
          0.6759820668430465,
          0.6781695958318129,
          0.6803493398403488,
          0.6825212318415308,
          0.6846852060733828,
          0.6868411980421755,
          0.6889891445251382,
          0.6911289835727853,
          0.6932606545108607,
          0.695384097941899,
          0.697499255746416,
          0.6996060710837215,
          0.7017044883923668,
          0.7037944533902244,
          0.7058759130742092,
          0.7079488157196412,
          0.710013110879255,
          0.7120687493818649,
          0.7141156833306819,
          0.716153866101294,
          0.7181832523393121,
          0.7202037979576873,
          0.7222154601337024,
          0.7242181973056446,
          0.7262119691691663,
          0.7281967366733343,
          0.730172462016377,
          0.7321391086411341,
          0.7340966412302135,
          0.7360450257008596,
          0.7379842291995445,
          0.7399142200962804,
          0.7418349679786627,
          0.7437464436456508,
          0.7456486191010895,
          0.7475414675469795,
          0.7494249633764993,
          0.7512990821667911,
          0.753163800671509,
          0.7550190968131397,
          0.7568649496751033,
          0.758701339493635,
          0.7605282476494595,
          0.7623456566592595,
          0.7641535501669483,
          0.7659519129347497,
          0.7677407308340926,
          0.7695199908363253,
          0.7712896810032579,
          0.7730497904775369,
          0.7748003094728557,
          0.7765412292640156,
          0.778272542176831,
          0.7799942415778955,
          0.7817063218642089,
          0.7834087784526723,
          0.7851016077694578,
          0.7867848072392594,
          0.788458375274427,
          0.7901223112639943,
          0.7917766155626029,
          0.7934212894793291,
          0.7950563352664187,
          0.7966817561079363,
          0.7982975561083338,
          0.799903740280943,
          0.8015003145363983,
          0.8030872856709945,
          0.8046646613549858,
          0.8062324501208289,
          0.807790661351377,
          0.8093393052680308,
          0.8108783929188476,
          0.8124079361666169,
          0.8139279476769063,
          0.8154384409060812,
          0.8169394300893029,
          0.8184309302285134,
          0.8199129570804052,
          0.8213855271443857,
          0.8228486576505366,
          0.8243023665475766,
          0.825746672490827,
          0.8271815948301868,
          0.828607153598123,
          0.8300233694976745,
          0.8314302638904791,
          0.8328278587848238,
          0.8342161768237231,
          0.8355952412730293,
          0.8369650760095765,
          0.8383257055093644,
          0.8396771548357824,
          0.8410194496278789,
          0.8423526160886774,
          0.8436766809735451,
          0.8449916715786124,
          0.8462976157292527,
          0.847594541768617,
          0.8488824785462343,
          0.8501614554066738,
          0.8514315021782746,
          0.8526926491619462,
          0.8539449271200388,
          0.8551883672652877,
          0.8564230012498366,
          0.8576488611543341,
          0.8588659794771156,
          0.8600743891234633,
          0.8612741233949536,
          0.8624652159788858,
          0.8636477009378045,
          0.8648216126991051,
          0.8659869860447342,
          0.8671438561009795,
          0.8682922583283552,
          0.8694322285115809,
          0.8705638027496577,
          0.8716870174460417,
          0.8728019092989154,
          0.8739085152915592,
          0.8750068726828235,
          0.8760970189977023,
          0.87717899201801,
          0.8782528297731599,
          0.879318570531049,
          0.8803762527890457,
          0.8814259152650835,
          0.8824675968888616,
          0.8835013367931501,
          0.8845271743052048,
          0.8855451489382866,
          0.8865553003832918,
          0.8875576685004873,
          0.8885522933113575,
          0.8895392149905564,
          0.8905184738579716,
          0.8914901103708949,
          0.8924541651163035,
          0.8934106788032495,
          0.894359692255359,
          0.8953012464034382,
          0.8962353822781918,
          0.8971621410030468,
          0.8980815637870868,
          0.8989936919180955,
          0.8998985667557049,
          0.9007962297246551,
          0.9016867223081597,
          0.902570086041379,
          0.9034463625049991,
          0.9043155933189188,
          0.9051778201360415,
          0.9060330846361742,
          0.9068814285200273,
          0.9077228935033249,
          0.9085575213110149,
          0.9093853536715817,
          0.9102064323114661,
          0.9110207989495838,
          0.9118284952919452,
          0.9126295630263784,
          0.9134240438173503,
          0.9142119793008877,
          0.9149934110795978,
          0.9157683807177854,
          0.9165369297366688,
          0.91729909960969,
          0.9180549317579229,
          0.9188044675455742,
          0.9195477482755798,
          0.920284815185294,
          0.9210157094422698,
          0.9217404721401323,
          0.9224591442945419,
          0.923171766839247,
          0.9238783806222259,
          0.9245790264019158,
          0.9252737448435302,
          0.9259625765154609,
          0.9266455618857661,
          0.9273227413187421,
          0.9279941550715785,
          0.9286598432910957,
          0.929319846010564,
          0.9299742031466031,
          0.9306229544961598,
          0.9312661397335671,
          0.9319037984076769,
          0.9325359699390738,
          0.9331626936173595,
          0.9337840085985171,
          0.9343999539023445,
          0.935010568409964,
          0.9356158908614005,
          0.936215959853234,
          0.9368108138363189,
          0.9374004911135728,
          0.9379850298378356,
          0.938564468009792,
          0.9391388434759615,
          0.9397081939267554,
          0.9402725568945934,
          0.9408319697520878,
          0.9413864697102869,
          0.9419360938169814,
          0.9424808789550697,
          0.9430208618409835,
          0.9435560790231711,
          0.9440865668806393,
          0.9446123616215503,
          0.9451334992818754,
          0.9456500157241039,
          0.9461619466360037,
          0.9466693275294369,
          0.9471721937392269,
          0.947670580422077,
          0.9481645225555368,
          0.9486540549370226,
          0.9491392121828819,
          0.9496200287275087,
          0.9500965388225037,
          0.950568776535881,
          0.9510367757513214,
          0.9515005701674668,
          0.9519601932972622,
          0.9524156784673368,
          0.9528670588174297,
          0.9533143672998541,
          0.9537576366790043,
          0.9541968995309005,
          0.9546321882427737,
          0.955063535012687,
          0.9554909718491951,
          0.9559145305710405,
          0.9563342428068847,
          0.9567501399950751,
          0.9571622533834453,
          0.9575706140291499,
          0.9579752527985318,
          0.9583762003670212,
          0.9587734872190669,
          0.959167143648097,
          0.9595571997565118,
          0.9599436854557043,
          0.9603266304661102,
          0.9607060643172858,
          0.9610820163480137,
          0.9614545157064358,
          0.9618235913502107,
          0.9621892720466989,
          0.9625515863731721,
          0.9629105627170464,
          0.96326622927614,
          0.9636186140589541,
          0.9639677448849767,
          0.9643136493850073,
          0.9646563550015048,
          0.964995888988955,
          0.9653322784142597,
          0.9656655501571455,
          0.9659957309105904,
          0.9663228471812724,
          0.9666469252900329,
          0.9669679913723618,
          0.9672860713788958,
          0.967601191075938,
          0.9679133760459897,
          0.9682226516883021,
          0.9685290432194401,
          0.9688325756738632,
          0.969133273904521,
          0.9694311625834612,
          0.9697262662024536,
          0.9700186090736258,
          0.9703082153301118,
          0.9705951089267141,
          0.9708793136405772,
          0.9711608530718733,
          0.9714397506444978,
          0.971716029606778,
          0.9719897130321907,
          0.9722608238200896,
          0.9725293846964455,
          0.9727954182145907,
          0.9730589467559788,
          0.9733199925309479,
          0.973578577579495,
          0.9738347237720578,
          0.9740884528103053,
          0.974339786227933,
          0.9745887453914688,
          0.974835351501084,
          0.9750796255914098,
          0.9753215885323625,
          0.9755612610299723,
          0.9757986636272203,
          0.9760338167048778,
          0.9762667404823532,
          0.9764974550185433,
          0.9767259802126886,
          0.976952335805233,
          0.9771765413786883,
          0.9773986163585013,
          0.9776185800139271,
          0.977836451458902,
          0.9780522496529233,
          0.9782659934019289,
          0.9784777013591828,
          0.9786873920261597,
          0.9788950837534353,
          0.9791007947415754,
          0.9793045430420296,
          0.9795063465580257,
          0.9797062230454647,
          0.9799041901138189,
          0.9801002652270296,
          0.9802944657044066,
          0.9804868087215283,
          0.9806773113111424,
          0.980865990364068,
          0.9810528626300947,
          0.981237944718887,
          0.9814212531008839,
          0.9816028041082014,
          0.9817826139355336,
          0.9819606986410524,
          0.9821370741473089,
          0.982311756242132,
          0.9824847605795274,
          0.9826561026805744,
          0.9828257979343229,
          0.9829938615986885,
          0.9831603088013464,
          0.9833251545406236,
          0.9834884136863896,
          0.9836501009809456,
          0.9838102310399119,
          0.9839688183531133,
          0.9841258772854623,
          0.984281422077841,
          0.9844354668479788,
          0.9845880255913307,
          0.9847391121819521,
          0.9848887403733684,
          0.985036923799447,
          0.9851836759752629,
          0.9853290102979629,
          0.9854729400476276,
          0.9856154783881289,
          0.9857566383679864,
          0.9858964329212196,
          0.9860348748681972,
          0.9861719769164844,
          0.9863077516616849,
          0.9864422115882818,
          0.9865753690704738,
          0.9867072363730083,
          0.9868378256520118,
          0.9869671489558162,
          0.987095218225781,
          0.9872220452971134,
          0.9873476418996835,
          0.9874720196588369,
          0.9875951900962023,
          0.9877171646304962,
          0.9878379545783247,
          0.9879575711549786,
          0.9880760254752285,
          0.9881933285541128,
          0.9883094913077232,
          0.9884245245539862,
          0.9885384390134407,
          0.9886512453100106,
          0.9887629539717748,
          0.9888735754317319,
          0.9889831200285625,
          0.9890915980073839,
          0.9891990195205055,
          0.9893053946281761,
          0.9894107332993289,
          0.9895150454123214,
          0.9896183407556723,
          0.9897206290287925,
          0.989821919842714,
          0.9899222227208118,
          0.9900215470995243,
          0.9901199023290678,
          0.9902172976741471,
          0.9903137423146614,
          0.9904092453464068,
          0.9905038157817738,
          0.990597462550441,
          0.9906901945000632,
          0.9907820203969572,
          0.9908729489267813,
          0.9909629886952129,
          0.9910521482286179,
          0.9911404359747196,
          0.9912278603032619,
          0.9913144295066669,
          0.991400151800691,
          0.9914850353250727,
          0.9915690881441802,
          0.9916523182476523,
          0.9917347335510349,
          0.9918163418964141,
          0.9918971510530452,
          0.9919771687179764,
          0.9920564025166678,
          0.9921348600036086,
          0.9922125486629275,
          0.9922894759089994,
          0.992365649087049,
          0.9924410754737482,
          0.9925157622778112,
          0.9925897166405846,
          0.9926629456366319,
          0.992735456274317,
          0.9928072554963798,
          0.9928783501805104,
          0.9929487471399177,
          0.9930184531238939,
          0.9930874748183764,
          0.993155818846503,
          0.9932234917691645,
          0.993290500085554,
          0.9933568502337103,
          0.993422548591058,
          0.9934876014749436,
          0.9935520151431685,
          0.993615795794515,
          0.993678949569272,
          0.9937414825497548,
          0.9938034007608205,
          0.9938647101703799,
          0.9939254166899062,
          0.9939855261749393,
          0.9940450444255848,
          0.9941039771870123,
          0.9941623301499458,
          0.9942201089511536,
          0.9942773191739334,
          0.9943339663485915,
          0.9943900559529221,
          0.9944455934126795,
          0.9945005841020473,
          0.9945550333441057,
          0.9946089464112925,
          0.9946623285258617,
          0.9947151848603387,
          0.9947675205379711,
          0.9948193406331761,
          0.9948706501719847,
          0.9949214541324816,
          0.9949717574452416,
          0.9950215649937634,
          0.9950708816148988,
          0.9951197120992783,
          0.9951680611917344,
          0.9952159335917202,
          0.9952633339537249,
          0.995310266887686,
          0.9953567369593983,
          0.9954027486909194,
          0.9954483065609705,
          0.9954934150053366,
          0.9955380784172604,
          0.9955823011478352,
          0.9956260875063929,
          0.9956694417608905,
          0.9957123681382901,
          0.9957548708249406,
          0.9957969539669511,
          0.9958386216705644,
          0.995879878002527,
          0.9959207269904534,
          0.9959611726231914,
          0.9960012188511808,
          0.9960408695868105,
          0.9960801287047725,
          0.9961190000424128,
          0.9961574874000789,
          0.996195594541465,
          0.9962333251939535,
          0.9962706830489537,
          0.9963076717622386,
          0.9963442949542768,
          0.9963805562105638,
          0.9964164590819479,
          0.9964520070849558,
          0.996487203702114,
          0.9965220523822667,
          0.9965565565408923,
          0.9965907195604176,
          0.9966245447905261,
          0.9966580355484681,
          0.996691195119364,
          0.9967240267565073,
          0.9967565336816642,
          0.9967887190853706,
          0.9968205861272265,
          0.996852137936188,
          0.9968833776108558,
          0.9969143082197628,
          0.9969449328016571,
          0.9969752543657845,
          0.9970052758921671,
          0.9970350003318796,
          0.9970644306073242,
          0.9970935696125005,
          0.9971224202132772,
          0.9971509852476563,
          0.9971792675260396,
          0.9972072698314891,
          0.9972349949199875,
          0.9972624455206949,
          0.9972896243362046,
          0.9973165340427952,
          0.9973431772906811,
          0.9973695567042602,
          0.9973956748823609,
          0.997421534398484,
          0.9974471378010458,
          0.9974724876136167,
          0.997497586335158,
          0.997522436440257,
          0.9975470403793597,
          0.9975714005790018,
          0.9975955194420363,
          0.9976193993478615,
          0.9976430426526437,
          0.9976664516895403,
          0.9976896287689201,
          0.9977125761785819,
          0.9977352961839695,
          0.9977577910283871,
          0.9977800629332118,
          0.9978021140981025,
          0.9978239467012098,
          0.9978455628993815,
          0.9978669648283679,
          0.9978881546030237,
          0.9979091343175094,
          0.9979299060454903,
          0.9979504718403329,
          0.9979708337353013,
          0.9979909937437491,
          0.998010953859313,
          0.9980307160561009,
          0.9980502822888813,
          0.9980696544932691,
          0.99808883458591,
          0.9981078244646642,
          0.998126626008787,
          0.9981452410791084,
          0.9981636715182116,
          0.9981819191506078,
          0.9981999857829122,
          0.9982178732040163,
          0.998235583185259,
          0.9982531174805964,
          0.9982704778267706,
          0.9982876659434748,
          0.9983046835335195,
          0.9983215322829958,
          0.9983382138614366,
          0.9983547299219773,
          0.9983710821015146,
          0.9983872720208644,
          0.9984033012849168,
          0.9984191714827911,
          0.9984348841879882,
          0.998450440958543,
          0.9984658433371731,
          0.9984810928514295,
          0.9984961910138413,
          0.998511139322064,
          0.998525939259022,
          0.998540592293053,
          0.9985550998780494,
          0.9985694634535986,
          0.9985836844451218,
          0.9985977642640124,
          0.998611704307772,
          0.9986255059601461,
          0.9986391705912567,
          0.9986526995577366,
          0.9986660942028599,
          0.9986793558566714,
          0.998692485836117,
          0.9987054854451698,
          0.9987183559749577,
          0.998731098703888,
          0.9987437148977714,
          0.9987562058099448,
          0.998768572681394,
          0.9987808167408718,
          0.9987929392050203,
          0.9988049412784871,
          0.9988168241540428,
          0.9988285890126972,
          0.9988402370238141,
          0.998851769345225,
          0.9988631871233417,
          0.9988744914932679,
          0.9988856835789098,
          0.9988967644930855,
          0.9989077353376333,
          0.9989185972035193,
          0.9989293511709432,
          0.9989399983094445,
          0.9989505396780057,
          0.998960976325157,
          0.9989713092890767,
          0.9989815395976945,
          0.9989916682687907,
          0.9990016963100954,
          0.9990116247193875,
          0.9990214544845928,
          0.9990311865838787,
          0.9990408219857512,
          0.9990503616491491,
          0.9990598065235385,
          0.9990691575490045,
          0.9990784156563437,
          0.9990875817671557,
          0.9990966567939326,
          0.9991056416401488,
          0.9991145372003492,
          0.999123344360237,
          0.9991320639967605,
          0.9991406969781989,
          0.999149244164247,
          0.9991577064061004,
          0.9991660845465384,
          0.9991743794200063,
          0.9991825918526982,
          0.9991907226626371,
          0.9991987726597557,
          0.9992067426459756,
          0.9992146334152866,
          0.9992224457538238,
          0.9992301804399454,
          0.9992378382443092,
          0.999245419929948,
          0.9992529262523441,
          0.9992603579595052,
          0.9992677157920359,
          0.9992750004832124,
          0.9992822127590525,
          0.9992893533383895,
          0.9992964229329405,
          0.9993034222473782,
          0.999310351979399,
          0.9993172128197927,
          0.9993240054525101,
          0.9993307305547297,
          0.9993373887969251,
          0.9993439808429312,
          0.9993505073500091,
          0.9993569689689111,
          0.9993633663439443,
          0.999369700113035,
          0.9993759709077908,
          0.9993821793535635,
          0.9993883260695102,
          0.9993944116686545,
          0.9994004367579469,
          0.9994064019383254,
          0.9994123078047735,
          0.9994181549463802,
          0.9994239439463968,
          0.999429675382296,
          0.9994353498258277,
          0.9994409678430757,
          0.9994465299945136,
          0.9994520368350611,
          0.9994574889141371,
          0.9994628867757153,
          0.9994682309583771,
          0.9994735219953659,
          0.9994787604146386,
          0.9994839467389182,
          0.9994890814857456,
          0.9994941651675312,
          0.9994991982916046,
          0.999504181360265,
          0.9995091148708317,
          0.9995139993156924,
          0.9995188351823522,
          0.9995236229534818,
          0.9995283631069655,
          0.9995330561159479,
          0.9995377024488815,
          0.9995423025695721,
          0.9995468569372258,
          0.9995513660064935,
          0.9995558302275172,
          0.9995602500459724,
          0.9995646259031143,
          0.9995689582358211,
          0.9995732474766362,
          0.9995774940538118,
          0.999581698391352,
          0.9995858609090533,
          0.9995899820225477,
          0.9995940621433427,
          0.9995981016788623,
          0.9996021010324884,
          0.9996060606035999,
          0.999609980787612,
          0.9996138619760162,
          0.9996177045564187,
          0.9996215089125788,
          0.9996252754244473,
          0.9996290044682036,
          0.9996326964162938,
          0.9996363516374667,
          0.9996399704968114,
          0.9996435533557927,
          0.9996471005722876,
          0.99965061250062,
          0.9996540894915971,
          0.9996575318925426,
          0.999660940047333,
          0.9996643142964302,
          0.9996676549769161,
          0.9996709624225258,
          0.9996742369636812,
          0.9996774789275228,
          0.9996806886379432,
          0.9996838664156192,
          0.9996870125780426,
          0.9996901274395532,
          0.9996932113113688,
          0.9996962645016169,
          0.9996992873153651,
          0.999702280054651,
          0.9997052430185132,
          0.9997081765030196,
          0.9997110808012986,
          0.9997139562035662,
          0.9997168029971568,
          0.9997196214665505,
          0.9997224118934016,
          0.9997251745565667,
          0.9997279097321334,
          0.9997306176934454,
          0.9997332987111324,
          0.9997359530531348,
          0.999738580984732,
          0.9997411827685678,
          0.9997437586646762,
          0.9997463089305092,
          0.9997488338209596,
          0.999751333588389,
          0.9997538084826507,
          0.9997562587511168,
          0.9997586846387005,
          0.9997610863878825,
          0.9997634642387335,
          0.999765818428939,
          0.999768149193823,
          0.999770456766371,
          0.9997727413772538,
          0.9997750032548491,
          0.9997772426252662,
          0.9997794597123668,
          0.9997816547377886,
          0.9997838279209659,
          0.9997859794791533,
          0.9997881096274454,
          0.9997902185787999,
          0.9997923065440577,
          0.999794373731964,
          0.9997964203491899,
          0.9997984466003522,
          0.9998004526880341,
          0.999802438812805,
          0.9998044051732409,
          0.9998063519659445,
          0.9998082793855638,
          0.9998101876248121,
          0.9998120768744874,
          0.9998139473234912,
          0.999815799158847,
          0.9998176325657193,
          0.9998194477274318,
          0.9998212448254865,
          0.9998230240395803,
          0.9998247855476243,
          0.9998265295257608,
          0.9998282561483807,
          0.999829965588142,
          0.9998316580159853,
          0.9998333336011525,
          0.9998349925112026,
          0.9998366349120287,
          0.9998382609678748,
          0.9998398708413516,
          0.9998414646934537,
          0.9998430426835746,
          0.9998446049695224,
          0.9998461517075379,
          0.9998476830523064,
          0.9998491991569766,
          0.9998507001731737,
          0.9998521862510158,
          0.9998536575391281,
          0.9998551141846577,
          0.999856556333289,
          0.9998579841292571,
          0.9998593977153638,
          0.9998607972329899,
          0.9998621828221114,
          0.9998635546213114,
          0.9998649127677952,
          0.9998662573974042,
          0.9998675886446279,
          0.9998689066426195,
          0.9998702115232071,
          0.9998715034169084,
          0.9998727824529431,
          0.9998740487592453,
          0.9998753024624774,
          0.9998765436880419,
          0.9998777725600941,
          0.9998789892015545,
          0.9998801937341211,
          0.9998813862782818,
          0.9998825669533256,
          0.9998837358773558,
          0.9998848931673006,
          0.9998860389389256,
          0.9998871733068444,
          0.9998882963845311,
          0.9998894082843314,
          0.9998905091174729,
          0.9998915989940773,
          0.9998926780231713,
          0.9998937463126961,
          0.9998948039695206,
          0.9998958510994498,
          0.9998968878072365,
          0.9998979141965916,
          0.9998989303701944,
          0.9998999364297028,
          0.9999009324757635,
          0.9999019186080221,
          0.9999028949251328,
          0.9999038615247688,
          0.9999048185036313,
          0.9999057659574601,
          0.999906703981042,
          0.9999076326682214,
          0.9999085521119087,
          0.9999094624040905,
          0.9999103636358381,
          0.9999112558973168,
          0.9999121392777951,
          0.9999130138656532,
          0.9999138797483924,
          0.9999147370126433,
          0.9999155857441746,
          0.9999164260279019,
          0.9999172579478958,
          0.9999180815873911,
          0.9999188970287939,
          0.9999197043536908,
          0.9999205036428565,
          0.9999212949762621,
          0.9999220784330834,
          0.9999228540917086,
          0.9999236220297452,
          0.9999243823240292,
          0.9999251350506324,
          0.9999258802848687,
          0.9999266181013042,
          0.9999273485737618,
          0.9999280717753305,
          0.9999287877783722,
          0.9999294966545285,
          0.9999301984747284,
          0.9999308933091954,
          0.9999315812274538,
          0.9999322622983365,
          0.9999329365899916,
          0.999933604169889,
          0.9999342651048272,
          0.9999349194609399,
          0.9999355673037037,
          0.9999362086979424,
          0.999936843707836,
          0.9999374723969249,
          0.9999380948281179,
          0.9999387110636977,
          0.9999393211653274,
          0.999939925194056,
          0.9999405232103257,
          0.9999411152739769,
          0.9999417014442548,
          0.9999422817798147,
          0.9999428563387288,
          0.9999434251784911,
          0.9999439883560232,
          0.999944545927681,
          0.9999450979492591,
          0.9999456444759973,
          0.9999461855625853,
          0.9999467212631687,
          0.9999472516313547,
          0.9999477767202165,
          0.9999482965822993,
          0.9999488112696259,
          0.9999493208337007,
          0.9999498253255164,
          0.9999503247955571,
          0.9999508192938059,
          0.9999513088697477,
          0.999951793572375,
          0.9999522734501929,
          0.9999527485512235,
          0.9999532189230118,
          0.9999536846126289,
          0.9999541456666777,
          0.9999546021312976
         ]
        }
       ],
       "layout": {
        "template": {
         "data": {
          "bar": [
           {
            "error_x": {
             "color": "#2a3f5f"
            },
            "error_y": {
             "color": "#2a3f5f"
            },
            "marker": {
             "line": {
              "color": "#E5ECF6",
              "width": 0.5
             }
            },
            "type": "bar"
           }
          ],
          "barpolar": [
           {
            "marker": {
             "line": {
              "color": "#E5ECF6",
              "width": 0.5
             }
            },
            "type": "barpolar"
           }
          ],
          "carpet": [
           {
            "aaxis": {
             "endlinecolor": "#2a3f5f",
             "gridcolor": "white",
             "linecolor": "white",
             "minorgridcolor": "white",
             "startlinecolor": "#2a3f5f"
            },
            "baxis": {
             "endlinecolor": "#2a3f5f",
             "gridcolor": "white",
             "linecolor": "white",
             "minorgridcolor": "white",
             "startlinecolor": "#2a3f5f"
            },
            "type": "carpet"
           }
          ],
          "choropleth": [
           {
            "colorbar": {
             "outlinewidth": 0,
             "ticks": ""
            },
            "type": "choropleth"
           }
          ],
          "contour": [
           {
            "colorbar": {
             "outlinewidth": 0,
             "ticks": ""
            },
            "colorscale": [
             [
              0,
              "#0d0887"
             ],
             [
              0.1111111111111111,
              "#46039f"
             ],
             [
              0.2222222222222222,
              "#7201a8"
             ],
             [
              0.3333333333333333,
              "#9c179e"
             ],
             [
              0.4444444444444444,
              "#bd3786"
             ],
             [
              0.5555555555555556,
              "#d8576b"
             ],
             [
              0.6666666666666666,
              "#ed7953"
             ],
             [
              0.7777777777777778,
              "#fb9f3a"
             ],
             [
              0.8888888888888888,
              "#fdca26"
             ],
             [
              1,
              "#f0f921"
             ]
            ],
            "type": "contour"
           }
          ],
          "contourcarpet": [
           {
            "colorbar": {
             "outlinewidth": 0,
             "ticks": ""
            },
            "type": "contourcarpet"
           }
          ],
          "heatmap": [
           {
            "colorbar": {
             "outlinewidth": 0,
             "ticks": ""
            },
            "colorscale": [
             [
              0,
              "#0d0887"
             ],
             [
              0.1111111111111111,
              "#46039f"
             ],
             [
              0.2222222222222222,
              "#7201a8"
             ],
             [
              0.3333333333333333,
              "#9c179e"
             ],
             [
              0.4444444444444444,
              "#bd3786"
             ],
             [
              0.5555555555555556,
              "#d8576b"
             ],
             [
              0.6666666666666666,
              "#ed7953"
             ],
             [
              0.7777777777777778,
              "#fb9f3a"
             ],
             [
              0.8888888888888888,
              "#fdca26"
             ],
             [
              1,
              "#f0f921"
             ]
            ],
            "type": "heatmap"
           }
          ],
          "heatmapgl": [
           {
            "colorbar": {
             "outlinewidth": 0,
             "ticks": ""
            },
            "colorscale": [
             [
              0,
              "#0d0887"
             ],
             [
              0.1111111111111111,
              "#46039f"
             ],
             [
              0.2222222222222222,
              "#7201a8"
             ],
             [
              0.3333333333333333,
              "#9c179e"
             ],
             [
              0.4444444444444444,
              "#bd3786"
             ],
             [
              0.5555555555555556,
              "#d8576b"
             ],
             [
              0.6666666666666666,
              "#ed7953"
             ],
             [
              0.7777777777777778,
              "#fb9f3a"
             ],
             [
              0.8888888888888888,
              "#fdca26"
             ],
             [
              1,
              "#f0f921"
             ]
            ],
            "type": "heatmapgl"
           }
          ],
          "histogram": [
           {
            "marker": {
             "colorbar": {
              "outlinewidth": 0,
              "ticks": ""
             }
            },
            "type": "histogram"
           }
          ],
          "histogram2d": [
           {
            "colorbar": {
             "outlinewidth": 0,
             "ticks": ""
            },
            "colorscale": [
             [
              0,
              "#0d0887"
             ],
             [
              0.1111111111111111,
              "#46039f"
             ],
             [
              0.2222222222222222,
              "#7201a8"
             ],
             [
              0.3333333333333333,
              "#9c179e"
             ],
             [
              0.4444444444444444,
              "#bd3786"
             ],
             [
              0.5555555555555556,
              "#d8576b"
             ],
             [
              0.6666666666666666,
              "#ed7953"
             ],
             [
              0.7777777777777778,
              "#fb9f3a"
             ],
             [
              0.8888888888888888,
              "#fdca26"
             ],
             [
              1,
              "#f0f921"
             ]
            ],
            "type": "histogram2d"
           }
          ],
          "histogram2dcontour": [
           {
            "colorbar": {
             "outlinewidth": 0,
             "ticks": ""
            },
            "colorscale": [
             [
              0,
              "#0d0887"
             ],
             [
              0.1111111111111111,
              "#46039f"
             ],
             [
              0.2222222222222222,
              "#7201a8"
             ],
             [
              0.3333333333333333,
              "#9c179e"
             ],
             [
              0.4444444444444444,
              "#bd3786"
             ],
             [
              0.5555555555555556,
              "#d8576b"
             ],
             [
              0.6666666666666666,
              "#ed7953"
             ],
             [
              0.7777777777777778,
              "#fb9f3a"
             ],
             [
              0.8888888888888888,
              "#fdca26"
             ],
             [
              1,
              "#f0f921"
             ]
            ],
            "type": "histogram2dcontour"
           }
          ],
          "mesh3d": [
           {
            "colorbar": {
             "outlinewidth": 0,
             "ticks": ""
            },
            "type": "mesh3d"
           }
          ],
          "parcoords": [
           {
            "line": {
             "colorbar": {
              "outlinewidth": 0,
              "ticks": ""
             }
            },
            "type": "parcoords"
           }
          ],
          "pie": [
           {
            "automargin": true,
            "type": "pie"
           }
          ],
          "scatter": [
           {
            "marker": {
             "colorbar": {
              "outlinewidth": 0,
              "ticks": ""
             }
            },
            "type": "scatter"
           }
          ],
          "scatter3d": [
           {
            "line": {
             "colorbar": {
              "outlinewidth": 0,
              "ticks": ""
             }
            },
            "marker": {
             "colorbar": {
              "outlinewidth": 0,
              "ticks": ""
             }
            },
            "type": "scatter3d"
           }
          ],
          "scattercarpet": [
           {
            "marker": {
             "colorbar": {
              "outlinewidth": 0,
              "ticks": ""
             }
            },
            "type": "scattercarpet"
           }
          ],
          "scattergeo": [
           {
            "marker": {
             "colorbar": {
              "outlinewidth": 0,
              "ticks": ""
             }
            },
            "type": "scattergeo"
           }
          ],
          "scattergl": [
           {
            "marker": {
             "colorbar": {
              "outlinewidth": 0,
              "ticks": ""
             }
            },
            "type": "scattergl"
           }
          ],
          "scattermapbox": [
           {
            "marker": {
             "colorbar": {
              "outlinewidth": 0,
              "ticks": ""
             }
            },
            "type": "scattermapbox"
           }
          ],
          "scatterpolar": [
           {
            "marker": {
             "colorbar": {
              "outlinewidth": 0,
              "ticks": ""
             }
            },
            "type": "scatterpolar"
           }
          ],
          "scatterpolargl": [
           {
            "marker": {
             "colorbar": {
              "outlinewidth": 0,
              "ticks": ""
             }
            },
            "type": "scatterpolargl"
           }
          ],
          "scatterternary": [
           {
            "marker": {
             "colorbar": {
              "outlinewidth": 0,
              "ticks": ""
             }
            },
            "type": "scatterternary"
           }
          ],
          "surface": [
           {
            "colorbar": {
             "outlinewidth": 0,
             "ticks": ""
            },
            "colorscale": [
             [
              0,
              "#0d0887"
             ],
             [
              0.1111111111111111,
              "#46039f"
             ],
             [
              0.2222222222222222,
              "#7201a8"
             ],
             [
              0.3333333333333333,
              "#9c179e"
             ],
             [
              0.4444444444444444,
              "#bd3786"
             ],
             [
              0.5555555555555556,
              "#d8576b"
             ],
             [
              0.6666666666666666,
              "#ed7953"
             ],
             [
              0.7777777777777778,
              "#fb9f3a"
             ],
             [
              0.8888888888888888,
              "#fdca26"
             ],
             [
              1,
              "#f0f921"
             ]
            ],
            "type": "surface"
           }
          ],
          "table": [
           {
            "cells": {
             "fill": {
              "color": "#EBF0F8"
             },
             "line": {
              "color": "white"
             }
            },
            "header": {
             "fill": {
              "color": "#C8D4E3"
             },
             "line": {
              "color": "white"
             }
            },
            "type": "table"
           }
          ]
         },
         "layout": {
          "annotationdefaults": {
           "arrowcolor": "#2a3f5f",
           "arrowhead": 0,
           "arrowwidth": 1
          },
          "coloraxis": {
           "colorbar": {
            "outlinewidth": 0,
            "ticks": ""
           }
          },
          "colorscale": {
           "diverging": [
            [
             0,
             "#8e0152"
            ],
            [
             0.1,
             "#c51b7d"
            ],
            [
             0.2,
             "#de77ae"
            ],
            [
             0.3,
             "#f1b6da"
            ],
            [
             0.4,
             "#fde0ef"
            ],
            [
             0.5,
             "#f7f7f7"
            ],
            [
             0.6,
             "#e6f5d0"
            ],
            [
             0.7,
             "#b8e186"
            ],
            [
             0.8,
             "#7fbc41"
            ],
            [
             0.9,
             "#4d9221"
            ],
            [
             1,
             "#276419"
            ]
           ],
           "sequential": [
            [
             0,
             "#0d0887"
            ],
            [
             0.1111111111111111,
             "#46039f"
            ],
            [
             0.2222222222222222,
             "#7201a8"
            ],
            [
             0.3333333333333333,
             "#9c179e"
            ],
            [
             0.4444444444444444,
             "#bd3786"
            ],
            [
             0.5555555555555556,
             "#d8576b"
            ],
            [
             0.6666666666666666,
             "#ed7953"
            ],
            [
             0.7777777777777778,
             "#fb9f3a"
            ],
            [
             0.8888888888888888,
             "#fdca26"
            ],
            [
             1,
             "#f0f921"
            ]
           ],
           "sequentialminus": [
            [
             0,
             "#0d0887"
            ],
            [
             0.1111111111111111,
             "#46039f"
            ],
            [
             0.2222222222222222,
             "#7201a8"
            ],
            [
             0.3333333333333333,
             "#9c179e"
            ],
            [
             0.4444444444444444,
             "#bd3786"
            ],
            [
             0.5555555555555556,
             "#d8576b"
            ],
            [
             0.6666666666666666,
             "#ed7953"
            ],
            [
             0.7777777777777778,
             "#fb9f3a"
            ],
            [
             0.8888888888888888,
             "#fdca26"
            ],
            [
             1,
             "#f0f921"
            ]
           ]
          },
          "colorway": [
           "#636efa",
           "#EF553B",
           "#00cc96",
           "#ab63fa",
           "#FFA15A",
           "#19d3f3",
           "#FF6692",
           "#B6E880",
           "#FF97FF",
           "#FECB52"
          ],
          "font": {
           "color": "#2a3f5f"
          },
          "geo": {
           "bgcolor": "white",
           "lakecolor": "white",
           "landcolor": "#E5ECF6",
           "showlakes": true,
           "showland": true,
           "subunitcolor": "white"
          },
          "hoverlabel": {
           "align": "left"
          },
          "hovermode": "closest",
          "mapbox": {
           "style": "light"
          },
          "paper_bgcolor": "white",
          "plot_bgcolor": "#E5ECF6",
          "polar": {
           "angularaxis": {
            "gridcolor": "white",
            "linecolor": "white",
            "ticks": ""
           },
           "bgcolor": "#E5ECF6",
           "radialaxis": {
            "gridcolor": "white",
            "linecolor": "white",
            "ticks": ""
           }
          },
          "scene": {
           "xaxis": {
            "backgroundcolor": "#E5ECF6",
            "gridcolor": "white",
            "gridwidth": 2,
            "linecolor": "white",
            "showbackground": true,
            "ticks": "",
            "zerolinecolor": "white"
           },
           "yaxis": {
            "backgroundcolor": "#E5ECF6",
            "gridcolor": "white",
            "gridwidth": 2,
            "linecolor": "white",
            "showbackground": true,
            "ticks": "",
            "zerolinecolor": "white"
           },
           "zaxis": {
            "backgroundcolor": "#E5ECF6",
            "gridcolor": "white",
            "gridwidth": 2,
            "linecolor": "white",
            "showbackground": true,
            "ticks": "",
            "zerolinecolor": "white"
           }
          },
          "shapedefaults": {
           "line": {
            "color": "#2a3f5f"
           }
          },
          "ternary": {
           "aaxis": {
            "gridcolor": "white",
            "linecolor": "white",
            "ticks": ""
           },
           "baxis": {
            "gridcolor": "white",
            "linecolor": "white",
            "ticks": ""
           },
           "bgcolor": "#E5ECF6",
           "caxis": {
            "gridcolor": "white",
            "linecolor": "white",
            "ticks": ""
           }
          },
          "title": {
           "x": 0.05
          },
          "xaxis": {
           "automargin": true,
           "gridcolor": "white",
           "linecolor": "white",
           "ticks": "",
           "title": {
            "standoff": 15
           },
           "zerolinecolor": "white",
           "zerolinewidth": 2
          },
          "yaxis": {
           "automargin": true,
           "gridcolor": "white",
           "linecolor": "white",
           "ticks": "",
           "title": {
            "standoff": 15
           },
           "zerolinecolor": "white",
           "zerolinewidth": 2
          }
         }
        }
       }
      },
      "text/html": [
       "<div>\n",
       "        \n",
       "        \n",
       "            <div id=\"e22ec6e5-c88d-4859-8ac7-7881d193b522\" class=\"plotly-graph-div\" style=\"height:525px; width:100%;\"></div>\n",
       "            <script type=\"text/javascript\">\n",
       "                require([\"plotly\"], function(Plotly) {\n",
       "                    window.PLOTLYENV=window.PLOTLYENV || {};\n",
       "                    \n",
       "                if (document.getElementById(\"e22ec6e5-c88d-4859-8ac7-7881d193b522\")) {\n",
       "                    Plotly.newPlot(\n",
       "                        'e22ec6e5-c88d-4859-8ac7-7881d193b522',\n",
       "                        [{\"type\": \"scatter\", \"x\": [-10.0, -9.98999499749875, -9.9799899949975, -9.969984992496249, -9.959979989994997, -9.949974987493746, -9.939969984992496, -9.929964982491246, -9.919959979989995, -9.909954977488745, -9.899949974987495, -9.889944972486242, -9.879939969984992, -9.869934967483742, -9.859929964982491, -9.849924962481241, -9.83991995997999, -9.829914957478739, -9.819909954977488, -9.809904952476238, -9.799899949974987, -9.789894947473737, -9.779889944972487, -9.769884942471236, -9.759879939969984, -9.749874937468734, -9.739869934967484, -9.729864932466233, -9.719859929964983, -9.709854927463732, -9.699849924962482, -9.68984492246123, -9.67983991995998, -9.66983491745873, -9.659829914957479, -9.649824912456229, -9.639819909954978, -9.629814907453726, -9.619809904952476, -9.609804902451225, -9.599799899949975, -9.589794897448725, -9.579789894947474, -9.569784892446224, -9.559779889944972, -9.549774887443721, -9.539769884942471, -9.52976488244122, -9.51975987993997, -9.50975487743872, -9.499749874937468, -9.489744872436217, -9.479739869934967, -9.469734867433717, -9.459729864932466, -9.449724862431216, -9.439719859929966, -9.429714857428714, -9.419709854927463, -9.409704852426213, -9.399699849924962, -9.389694847423712, -9.379689844922462, -9.369684842421211, -9.35967983991996, -9.349674837418709, -9.339669834917459, -9.329664832416208, -9.319659829914958, -9.309654827413707, -9.299649824912457, -9.289644822411205, -9.279639819909955, -9.269634817408704, -9.259629814907454, -9.249624812406203, -9.239619809904953, -9.229614807403703, -9.21960980490245, -9.2096048024012, -9.19959979989995, -9.1895947973987, -9.17958979489745, -9.169584792396199, -9.159579789894947, -9.149574787393696, -9.139569784892446, -9.129564782391196, -9.119559779889945, -9.109554777388695, -9.099549774887445, -9.089544772386192, -9.079539769884942, -9.069534767383692, -9.059529764882441, -9.049524762381191, -9.03951975987994, -9.029514757378688, -9.019509754877438, -9.009504752376188, -8.999499749874937, -8.989494747373687, -8.979489744872437, -8.969484742371186, -8.959479739869934, -8.949474737368684, -8.939469734867433, -8.929464732366183, -8.919459729864933, -8.909454727363682, -8.899449724862432, -8.88944472236118, -8.87943971985993, -8.86943471735868, -8.859429714857429, -8.849424712356178, -8.839419709854928, -8.829414707353678, -8.819409704852426, -8.809404702351175, -8.799399699849925, -8.789394697348675, -8.779389694847424, -8.769384692346174, -8.759379689844923, -8.749374687343671, -8.739369684842421, -8.72936468234117, -8.71935967983992, -8.70935467733867, -8.69934967483742, -8.689344672336167, -8.679339669834917, -8.669334667333667, -8.659329664832416, -8.649324662331166, -8.639319659829916, -8.629314657328663, -8.619309654827413, -8.609304652326163, -8.599299649824912, -8.589294647323662, -8.579289644822412, -8.569284642321161, -8.55927963981991, -8.549274637318659, -8.539269634817408, -8.529264632316158, -8.519259629814908, -8.509254627313657, -8.499249624812407, -8.489244622311155, -8.479239619809904, -8.469234617308654, -8.459229614807404, -8.449224612306153, -8.439219609804903, -8.429214607303653, -8.4192096048024, -8.40920460230115, -8.3991995997999, -8.38919459729865, -8.379189594797399, -8.369184592296149, -8.359179589794898, -8.349174587293646, -8.339169584792396, -8.329164582291146, -8.319159579789895, -8.309154577288645, -8.299149574787394, -8.289144572286144, -8.279139569784892, -8.269134567283642, -8.259129564782391, -8.24912456228114, -8.23911955977989, -8.229114557278638, -8.219109554777388, -8.209104552276138, -8.199099549774887, -8.189094547273637, -8.179089544772387, -8.169084542271136, -8.159079539769884, -8.149074537268634, -8.139069534767383, -8.129064532266133, -8.119059529764883, -8.109054527263632, -8.099049524762382, -8.08904452226113, -8.07903951975988, -8.069034517258629, -8.059029514757379, -8.049024512256128, -8.039019509754878, -8.029014507253628, -8.019009504752376, -8.009004502251125, -7.998999499749875, -7.988994497248624, -7.978989494747374, -7.968984492246124, -7.9589794897448725, -7.948974487243621, -7.938969484742371, -7.9289644822411205, -7.91895947973987, -7.90895447723862, -7.8989494747373685, -7.888944472236118, -7.878939469734867, -7.868934467233617, -7.858929464732366, -7.848924462231116, -7.8389194597298655, -7.828914457228614, -7.818909454727364, -7.808904452226113, -7.798899449724862, -7.788894447223612, -7.7788894447223615, -7.768884442221111, -7.75887943971986, -7.74887443721861, -7.738869434717358, -7.728864432216108, -7.718859429714858, -7.708854427213607, -7.698849424712357, -7.688844422211106, -7.678839419709854, -7.668834417208604, -7.658829414707354, -7.648824412206103, -7.638819409704853, -7.628814407203602, -7.618809404702351, -7.6088044022011, -7.59879939969985, -7.588794397198599, -7.578789394697349, -7.568784392196099, -7.558779389694847, -7.548774387193597, -7.538769384692346, -7.5287643821910955, -7.518759379689845, -7.508754377188595, -7.498749374687344, -7.488744372186093, -7.478739369684842, -7.4687343671835915, -7.458729364682341, -7.448724362181091, -7.43871935967984, -7.428714357178589, -7.418709354677339, -7.408704352176088, -7.398699349674837, -7.388694347173587, -7.3786893446723365, -7.368684342171086, -7.358679339669835, -7.3486743371685845, -7.338669334667333, -7.328664332166083, -7.318659329664833, -7.308654327163582, -7.298649324662332, -7.288644322161081, -7.278639319659829, -7.268634317158579, -7.258629314657329, -7.248624312156078, -7.238619309654828, -7.228614307153577, -7.218609304652326, -7.208604302151075, -7.198599299649825, -7.188594297148574, -7.178589294647324, -7.168584292146074, -7.158579289644822, -7.148574287143572, -7.138569284642321, -7.12856428214107, -7.11855927963982, -7.10855427713857, -7.098549274637319, -7.088544272136068, -7.078539269634817, -7.0685342671335665, -7.058529264632316, -7.048524262131066, -7.038519259629815, -7.028514257128564, -7.018509254627314, -7.0085042521260625, -6.998499249624812, -6.988494247123562, -6.9784892446223115, -6.968484242121061, -6.95847923961981, -6.9484742371185595, -6.938469234617308, -6.928464232116058, -6.9184592296148075, -6.908454227113557, -6.898449224612307, -6.888444222111056, -6.878439219609805, -6.868434217108554, -6.858429214607304, -6.848424212106053, -6.838419209604803, -6.8284142071035525, -6.818409204602301, -6.80840420210105, -6.7983991995998, -6.788394197098549, -6.778389194597299, -6.768384192096049, -6.758379189594797, -6.748374187093547, -6.738369184592296, -6.728364182091045, -6.718359179589795, -6.708354177088545, -6.698349174587294, -6.688344172086043, -6.678339169584793, -6.668334167083541, -6.658329164582291, -6.648324162081041, -6.63831915957979, -6.62831415707854, -6.618309154577289, -6.6083041520760375, -6.598299149574787, -6.588294147073537, -6.578289144572286, -6.568284142071036, -6.558279139569785, -6.5482741370685345, -6.538269134567283, -6.528264132066033, -6.5182591295647825, -6.508254127063532, -6.498249124562282, -6.4882441220610305, -6.47823911955978, -6.468234117058529, -6.4582291145572785, -6.448224112056028, -6.438219109554778, -6.4282141070535275, -6.418209104552276, -6.408204102051025, -6.398199099549775, -6.388194097048524, -6.378189094547274, -6.3681840920460235, -6.358179089544772, -6.348174087043522, -6.338169084542271, -6.32816408204102, -6.31815907953977, -6.30815407703852, -6.298149074537269, -6.288144072036018, -6.278139069534768, -6.268134067033516, -6.258129064532266, -6.248124062031016, -6.238119059529765, -6.228114057028515, -6.218109054527264, -6.2081040520260125, -6.198099049524762, -6.188094047023512, -6.178089044522261, -6.168084042021011, -6.15807903951976, -6.148074037018509, -6.138069034517258, -6.128064032016008, -6.118059029514757, -6.108054027013507, -6.098049024512257, -6.0880440220110055, -6.078039019509755, -6.068034017008504, -6.0580290145072535, -6.048024012006003, -6.038019009504753, -6.028014007003502, -6.018009004502251, -6.008004002001001, -5.99799899949975, -5.987993996998499, -5.977988994497249, -5.9679839919959985, -5.957978989494747, -5.947973986993497, -5.9379689844922465, -5.927963981990995, -5.917958979489745, -5.907953976988495, -5.897948974487243, -5.887943971985993, -5.877938969484743, -5.867933966983492, -5.857928964482241, -5.847923961980991, -5.83791895947974, -5.827913956978489, -5.817908954477239, -5.807903951975988, -5.797898949474737, -5.787893946973487, -5.777888944472236, -5.767883941970986, -5.757878939469735, -5.747873936968484, -5.737868934467234, -5.727863931965983, -5.717858929464732, -5.707853926963482, -5.697848924462232, -5.68784392196098, -5.67783891945973, -5.66783391695848, -5.6578289144572285, -5.647823911955978, -5.637818909454728, -5.6278139069534765, -5.617808904452226, -5.607803901950976, -5.597798899449725, -5.587793896948474, -5.577788894447224, -5.5677838919459735, -5.557778889444722, -5.547773886943472, -5.5377688844422215, -5.52776388194097, -5.51775887943972, -5.5077538769384695, -5.497748874437219, -5.487743871935968, -5.4777388694347176, -5.467733866933467, -5.457728864432216, -5.447723861930966, -5.437718859429715, -5.427713856928464, -5.417708854427214, -5.407703851925963, -5.397698849424713, -5.387693846923462, -5.377688844422211, -5.367683841920961, -5.35767883941971, -5.347673836918459, -5.337668834417209, -5.327663831915958, -5.317658829414707, -5.307653826913457, -5.297648824412207, -5.287643821910955, -5.277638819409705, -5.267633816908455, -5.257628814407203, -5.247623811905953, -5.237618809404703, -5.2276138069034515, -5.217608804402201, -5.207603801900951, -5.1975987993997, -5.187593796898449, -5.177588794397199, -5.167583791895948, -5.157578789394697, -5.147573786893447, -5.137568784392196, -5.127563781890945, -5.117558779389695, -5.1075537768884445, -5.097548774387194, -5.087543771885943, -5.0775387693846925, -5.067533766883442, -5.057528764382191, -5.0475237618809405, -5.03751875937969, -5.027513756878439, -5.017508754377189, -5.007503751875938, -4.997498749374688, -4.987493746873437, -4.977488744372186, -4.967483741870936, -4.957478739369685, -4.947473736868434, -4.937468734367184, -4.927463731865933, -4.917458729364682, -4.907453726863432, -4.897448724362182, -4.88744372186093, -4.87743871935968, -4.86743371685843, -4.857428714357178, -4.847423711855928, -4.837418709354678, -4.827413706853427, -4.817408704352176, -4.807403701850926, -4.797398699349675, -4.787393696848424, -4.777388694347174, -4.767383691845923, -4.757378689344672, -4.747373686843422, -4.737368684342171, -4.727363681840921, -4.71735867933967, -4.707353676838419, -4.697348674337169, -4.687343671835918, -4.6773386693346675, -4.667333666833417, -4.657328664332166, -4.6473236618309155, -4.637318659329665, -4.627313656828415, -4.6173086543271635, -4.607303651825913, -4.597298649324663, -4.587293646823412, -4.577288644322161, -4.567283641820911, -4.55727863931966, -4.547273636818409, -4.537268634317159, -4.5272636318159085, -4.517258629314657, -4.507253626813407, -4.4972486243121566, -4.487243621810905, -4.477238619309655, -4.467233616808405, -4.457228614307153, -4.447223611805903, -4.437218609304653, -4.427213606803402, -4.417208604302151, -4.407203601800901, -4.39719859929965, -4.387193596798399, -4.377188594297149, -4.367183591795898, -4.357178589294647, -4.347173586793397, -4.337168584292146, -4.327163581790896, -4.317158579289645, -4.307153576788394, -4.297148574287144, -4.287143571785893, -4.277138569284642, -4.267133566783392, -4.257128564282141, -4.2471235617808905, -4.23711855927964, -4.22711355677839, -4.2171085542771385, -4.207103551775888, -4.197098549274638, -4.1870935467733865, -4.177088544272136, -4.167083541770886, -4.1570785392696346, -4.147073536768384, -4.137068534267134, -4.1270635317658835, -4.117058529264632, -4.107053526763382, -4.0970485242621315, -4.08704352176088, -4.07703851925963, -4.0670335167583795, -4.057028514257128, -4.047023511755878, -4.037018509254628, -4.027013506753377, -4.017008504252126, -4.007003501750876, -3.9969984992496252, -3.986993496748374, -3.9769884942471236, -3.9669834917458733, -3.956978489244623, -3.9469734867433717, -3.9369684842421213, -3.926963481740871, -3.9169584792396197, -3.9069534767383693, -3.896948474237119, -3.8869434717358677, -3.8769384692346174, -3.866933466733367, -3.8569284642321167, -3.8469234617308654, -3.836918459229615, -3.8269134567283647, -3.8169084542271134, -3.806903451725863, -3.7968984492246127, -3.7868934467233615, -3.776888444222111, -3.7668834417208608, -3.7568784392196104, -3.746873436718359, -3.736868434217109, -3.7268634317158584, -3.716858429214607, -3.706853426713357, -3.6968484242121065, -3.686843421710855, -3.676838419209605, -3.6668334167083545, -3.656828414207104, -3.646823411705853, -3.6368184092046025, -3.626813406703352, -3.616808404202101, -3.6068034017008506, -3.5967983991996, -3.586793396698349, -3.5767883941970986, -3.5667833916958482, -3.556778389194598, -3.5467733866933466, -3.5367683841920963, -3.526763381690846, -3.5167583791895947, -3.5067533766883443, -3.496748374187094, -3.4867433716858427, -3.4767383691845923, -3.466733366683342, -3.4567283641820916, -3.4467233616808404, -3.43671835917959, -3.4267133566783397, -3.4167083541770884, -3.406703351675838, -3.3966983491745877, -3.3866933466733364, -3.376688344172086, -3.3666833416708357, -3.3566783391695854, -3.346673336668334, -3.3366683341670837, -3.3266633316658334, -3.316658329164582, -3.306653326663332, -3.2966483241620814, -3.28664332166083, -3.27663831915958, -3.2666333166583295, -3.256628314157079, -3.246623311655828, -3.2366183091545775, -3.226613306653327, -3.216608304152076, -3.2066033016508255, -3.196598299149575, -3.186593296648324, -3.1765882941470736, -3.166583291645823, -3.156578289144573, -3.1465732866433216, -3.1365682841420712, -3.126563281640821, -3.1165582791395696, -3.1065532766383193, -3.096548274137069, -3.0865432716358185, -3.0765382691345673, -3.066533266633317, -3.0565282641320666, -3.0465232616308153, -3.036518259129565, -3.0265132566283146, -3.0165082541270634, -3.006503251625813, -2.9964982491245626, -2.9864932466233123, -2.976488244122061, -2.9664832416208107, -2.9564782391195603, -2.946473236618309, -2.9364682341170587, -2.9264632316158083, -2.916458229114557, -2.9064532266133067, -2.8964482241120564, -2.886443221610806, -2.8764382191095548, -2.8664332166083044, -2.856428214107054, -2.846423211605803, -2.8364182091045524, -2.826413206603302, -2.816408204102051, -2.8064032016008005, -2.79639819909955, -2.7863931965982998, -2.7763881940970485, -2.766383191595798, -2.756378189094548, -2.7463731865932965, -2.736368184092046, -2.726363181590796, -2.7163581790895446, -2.706353176588294, -2.696348174087044, -2.6863431715857935, -2.6763381690845423, -2.666333166583292, -2.6563281640820415, -2.6463231615807903, -2.63631815907954, -2.6263131565782896, -2.6163081540770383, -2.606303151575788, -2.5962981490745376, -2.5862931465732872, -2.576288144072036, -2.5662831415707856, -2.5562781390695353, -2.546273136568284, -2.5362681340670337, -2.5262631315657833, -2.516258129064532, -2.5062531265632817, -2.4962481240620313, -2.486243121560781, -2.4762381190595297, -2.4662331165582794, -2.456228114057029, -2.4462231115557778, -2.4362181090545274, -2.426213106553277, -2.416208104052026, -2.4062031015507754, -2.396198099049525, -2.3861930965482747, -2.3761880940470235, -2.366183091545773, -2.3561780890445227, -2.3461730865432715, -2.336168084042021, -2.326163081540771, -2.3161580790395195, -2.306153076538269, -2.296148074037019, -2.2861430715357685, -2.276138069034517, -2.266133066533267, -2.2561280640320165, -2.2461230615307652, -2.236118059029515, -2.2261130565282645, -2.216108054027014, -2.206103051525763, -2.1960980490245126, -2.186093046523262, -2.176088044022011, -2.1660830415207606, -2.1560780390195102, -2.146073036518259, -2.1360680340170086, -2.1260630315157583, -2.116058029014508, -2.1060530265132567, -2.0960480240120063, -2.086043021510756, -2.0760380190095047, -2.0660330165082543, -2.056028014007004, -2.0460230115057527, -2.0360180090045024, -2.026013006503252, -2.0160080040020016, -2.0060030015007504, -1.9959979989994991, -1.9859929964982488, -1.9759879939969984, -1.965982991495748, -1.9559779889944977, -1.9459729864932473, -1.935967983991997, -1.9259629814907449, -1.9159579789894945, -1.9059529764882441, -1.8959479739869938, -1.8859429714857434, -1.875937968984493, -1.8659329664832427, -1.8559279639819906, -1.8459229614807402, -1.8359179589794898, -1.8259129564782395, -1.8159079539769891, -1.8059029514757388, -1.7958979489744866, -1.7858929464732363, -1.775887943971986, -1.7658829414707355, -1.7558779389694852, -1.7458729364682348, -1.7358679339669845, -1.7258629314657323, -1.715857928964482, -1.7058529264632316, -1.6958479239619813, -1.685842921460731, -1.6758379189594805, -1.6658329164582302, -1.655827913956978, -1.6458229114557277, -1.6358179089544773, -1.625812906453227, -1.6158079039519766, -1.6058029014507262, -1.595797898949474, -1.5857928964482237, -1.5757878939469734, -1.565782891445723, -1.5557778889444727, -1.5457728864432223, -1.535767883941972, -1.5257628814407198, -1.5157578789394694, -1.505752876438219, -1.4957478739369687, -1.4857428714357184, -1.475737868934468, -1.4657328664332177, -1.4557278639319655, -1.4457228614307152, -1.4357178589294648, -1.4257128564282144, -1.415707853926964, -1.4057028514257137, -1.3956978489244634, -1.3856928464232112, -1.3756878439219609, -1.3656828414207105, -1.3556778389194601, -1.3456728364182098, -1.3356678339169594, -1.3256628314157073, -1.315657828914457, -1.3056528264132066, -1.2956478239119562, -1.2856428214107058, -1.2756378189094555, -1.2656328164082051, -1.255627813906953, -1.2456228114057026, -1.2356178089044523, -1.225612806403202, -1.2156078039019516, -1.2056028014007012, -1.1955977988994508, -1.1855927963981987, -1.1755877938969483, -1.165582791395698, -1.1555777888944476, -1.1455727863931973, -1.135567783891947, -1.1255627813906948, -1.1155577788894444, -1.105552776388194, -1.0955477738869437, -1.0855427713856933, -1.075537768884443, -1.0655327663831926, -1.0555277638819405, -1.0455227613806901, -1.0355177588794398, -1.0255127563781894, -1.015507753876939, -1.0055027513756887, -0.9954977488744383, -0.9854927463731862, -0.9754877438719358, -0.9654827413706855, -0.9554777388694351, -0.9454727363681847, -0.9354677338669344, -0.9254627313656822, -0.9154577288644319, -0.9054527263631815, -0.8954477238619312, -0.8854427213606808, -0.8754377188594304, -0.8654327163581801, -0.855427713856928, -0.8454227113556776, -0.8354177088544272, -0.8254127063531769, -0.8154077038519265, -0.8054027013506762, -0.7953976988494258, -0.7853926963481737, -0.7753876938469233, -0.7653826913456729, -0.7553776888444226, -0.7453726863431722, -0.7353676838419219, -0.7253626813406697, -0.7153576788394194, -0.705352676338169, -0.6953476738369186, -0.6853426713356683, -0.6753376688344179, -0.6653326663331676, -0.6553276638319154, -0.6453226613306651, -0.6353176588294147, -0.6253126563281644, -0.615307653826914, -0.6053026513256636, -0.5952976488244133, -0.5852926463231611, -0.5752876438219108, -0.5652826413206604, -0.5552776388194101, -0.5452726363181597, -0.5352676338169093, -0.525262631315659, -0.5152576288144068, -0.5052526263131565, -0.4952476238119061, -0.48524262131065576, -0.4752376188094054, -0.46523261630815504, -0.4552276138069029, -0.44522261130565255, -0.4352176088044022, -0.42521260630315183, -0.41520760380190147, -0.4052026013006511, -0.39519759879940075, -0.3851925962981486, -0.37518759379689826, -0.3651825912956479, -0.35517758879439754, -0.3451725862931472, -0.3351675837918968, -0.32516258129064646, -0.3151575787893943, -0.30515257628814396, -0.2951475737868936, -0.28514257128564324, -0.2751375687843929, -0.2651325662831425, -0.2551275637818904, -0.24512256128064003, -0.23511755877938967, -0.2251125562781393, -0.21510755377688895, -0.2051025512756386, -0.19509754877438823, -0.1850925462731361, -0.17508754377188573, -0.16508254127063537, -0.15507753876938501, -0.14507253626813466, -0.1350675337668843, -0.12506253126563394, -0.1150575287643818, -0.10505252626313144, -0.09504752376188108, -0.08504252126063072, -0.07503751875938036, -0.06503251625813, -0.055027513756877866, -0.045022511255627506, -0.03501750875437715, -0.025012506253126787, -0.015007503751876428, -0.005002501250626068, 0.005002501250624292, 0.015007503751876428, 0.025012506253126787, 0.03501750875437715, 0.045022511255627506, 0.055027513756877866, 0.06503251625812823, 0.07503751875937859, 0.08504252126063072, 0.09504752376188108, 0.10505252626313144, 0.1150575287643818, 0.12506253126563216, 0.13506753376688252, 0.14507253626813466, 0.15507753876938501, 0.16508254127063537, 0.17508754377188573, 0.1850925462731361, 0.19509754877438645, 0.2051025512756368, 0.21510755377688895, 0.2251125562781393, 0.23511755877938967, 0.24512256128064003, 0.2551275637818904, 0.26513256628314075, 0.2751375687843911, 0.28514257128564324, 0.2951475737868936, 0.30515257628814396, 0.3151575787893943, 0.3251625812906447, 0.33516758379189504, 0.3451725862931454, 0.35517758879439754, 0.3651825912956479, 0.37518759379689826, 0.3851925962981486, 0.395197598799399, 0.40520260130064933, 0.41520760380190147, 0.42521260630315183, 0.4352176088044022, 0.44522261130565255, 0.4552276138069029, 0.46523261630815327, 0.47523761880940363, 0.48524262131065576, 0.4952476238119061, 0.5052526263131565, 0.5152576288144068, 0.5252626313156572, 0.5352676338169076, 0.5452726363181579, 0.5552776388194101, 0.5652826413206604, 0.5752876438219108, 0.5852926463231611, 0.5952976488244115, 0.6053026513256619, 0.615307653826914, 0.6253126563281644, 0.6353176588294147, 0.6453226613306651, 0.6553276638319154, 0.6653326663331658, 0.6753376688344161, 0.6853426713356683, 0.6953476738369186, 0.705352676338169, 0.7153576788394194, 0.7253626813406697, 0.7353676838419201, 0.7453726863431704, 0.7553776888444226, 0.7653826913456729, 0.7753876938469233, 0.7853926963481737, 0.795397698849424, 0.8054027013506744, 0.8154077038519265, 0.8254127063531769, 0.8354177088544272, 0.8454227113556776, 0.855427713856928, 0.8654327163581783, 0.8754377188594287, 0.8854427213606808, 0.8954477238619312, 0.9054527263631815, 0.9154577288644319, 0.9254627313656822, 0.9354677338669326, 0.945472736368183, 0.9554777388694351, 0.9654827413706855, 0.9754877438719358, 0.9854927463731862, 0.9954977488744365, 1.005502751375687, 1.015507753876939, 1.0255127563781894, 1.0355177588794398, 1.0455227613806901, 1.0555277638819405, 1.0655327663831908, 1.0755377688844412, 1.0855427713856933, 1.0955477738869437, 1.105552776388194, 1.1155577788894444, 1.1255627813906948, 1.1355677838919451, 1.1455727863931955, 1.1555777888944476, 1.165582791395698, 1.1755877938969483, 1.1855927963981987, 1.195597798899449, 1.2056028014006994, 1.2156078039019498, 1.225612806403202, 1.2356178089044523, 1.2456228114057026, 1.255627813906953, 1.2656328164082034, 1.2756378189094537, 1.2856428214107058, 1.2956478239119562, 1.3056528264132066, 1.315657828914457, 1.3256628314157073, 1.3356678339169576, 1.345672836418208, 1.3556778389194601, 1.3656828414207105, 1.3756878439219609, 1.3856928464232112, 1.3956978489244616, 1.405702851425712, 1.4157078539269623, 1.4257128564282144, 1.4357178589294648, 1.4457228614307152, 1.4557278639319655, 1.4657328664332159, 1.4757378689344662, 1.4857428714357184, 1.4957478739369687, 1.505752876438219, 1.5157578789394694, 1.5257628814407198, 1.5357678839419702, 1.5457728864432205, 1.5557778889444727, 1.565782891445723, 1.5757878939469734, 1.5857928964482237, 1.595797898949474, 1.6058029014507245, 1.6158079039519748, 1.625812906453227, 1.6358179089544773, 1.6458229114557277, 1.655827913956978, 1.6658329164582284, 1.6758379189594788, 1.685842921460731, 1.6958479239619813, 1.7058529264632316, 1.715857928964482, 1.7258629314657323, 1.7358679339669827, 1.745872936468233, 1.7558779389694852, 1.7658829414707355, 1.775887943971986, 1.7858929464732363, 1.7958979489744866, 1.805902951475737, 1.8159079539769873, 1.8259129564782395, 1.8359179589794898, 1.8459229614807402, 1.8559279639819906, 1.865932966483241, 1.8759379689844913, 1.8859429714857434, 1.8959479739869938, 1.9059529764882441, 1.9159579789894945, 1.9259629814907449, 1.9359679839919952, 1.9459729864932456, 1.9559779889944977, 1.965982991495748, 1.9759879939969984, 1.9859929964982488, 1.9959979989994991, 2.0060030015007495, 2.016008004002, 2.026013006503252, 2.0360180090045024, 2.0460230115057527, 2.056028014007003, 2.0660330165082534, 2.076038019009504, 2.086043021510754, 2.0960480240120063, 2.1060530265132567, 2.116058029014507, 2.1260630315157574, 2.1360680340170077, 2.146073036518258, 2.1560780390195102, 2.1660830415207606, 2.176088044022011, 2.1860930465232613, 2.1960980490245117, 2.206103051525762, 2.2161080540270124, 2.2261130565282645, 2.236118059029515, 2.2461230615307652, 2.2561280640320156, 2.266133066533266, 2.2761380690345163, 2.2861430715357667, 2.296148074037019, 2.306153076538269, 2.3161580790395195, 2.32616308154077, 2.3361680840420203, 2.3461730865432706, 2.3561780890445227, 2.366183091545773, 2.3761880940470235, 2.386193096548274, 2.396198099049524, 2.4062031015507745, 2.416208104052025, 2.426213106553277, 2.4362181090545274, 2.4462231115557778, 2.456228114057028, 2.4662331165582785, 2.476238119059529, 2.486243121560779, 2.4962481240620313, 2.5062531265632817, 2.516258129064532, 2.5262631315657824, 2.5362681340670328, 2.546273136568283, 2.5562781390695353, 2.5662831415707856, 2.576288144072036, 2.5862931465732864, 2.5962981490745367, 2.606303151575787, 2.6163081540770374, 2.6263131565782896, 2.63631815907954, 2.6463231615807903, 2.6563281640820406, 2.666333166583291, 2.6763381690845414, 2.6863431715857917, 2.696348174087044, 2.706353176588294, 2.7163581790895446, 2.726363181590795, 2.7363681840920453, 2.7463731865932957, 2.756378189094548, 2.766383191595798, 2.7763881940970485, 2.786393196598299, 2.7963981990995492, 2.8064032016007996, 2.81640820410205, 2.826413206603302, 2.8364182091045524, 2.846423211605803, 2.856428214107053, 2.8664332166083035, 2.876438219109554, 2.8864432216108042, 2.8964482241120564, 2.9064532266133067, 2.916458229114557, 2.9264632316158075, 2.936468234117058, 2.946473236618308, 2.9564782391195585, 2.9664832416208107, 2.976488244122061, 2.9864932466233114, 2.9964982491245618, 3.006503251625812, 3.0165082541270625, 3.0265132566283146, 3.036518259129565, 3.0465232616308153, 3.0565282641320657, 3.066533266633316, 3.0765382691345664, 3.0865432716358168, 3.096548274137069, 3.1065532766383193, 3.1165582791395696, 3.12656328164082, 3.1365682841420703, 3.1465732866433207, 3.156578289144571, 3.166583291645823, 3.1765882941470736, 3.186593296648324, 3.1965982991495743, 3.2066033016508246, 3.216608304152075, 3.226613306653327, 3.2366183091545775, 3.246623311655828, 3.256628314157078, 3.2666333166583286, 3.276638319159579, 3.2866433216608293, 3.2966483241620814, 3.306653326663332, 3.316658329164582, 3.3266633316658325, 3.336668334167083, 3.346673336668333, 3.3566783391695836, 3.3666833416708357, 3.376688344172086, 3.3866933466733364, 3.396698349174587, 3.406703351675837, 3.4167083541770875, 3.4267133566783397, 3.43671835917959, 3.4467233616808404, 3.4567283641820907, 3.466733366683341, 3.4767383691845914, 3.486743371685842, 3.496748374187094, 3.5067533766883443, 3.5167583791895947, 3.526763381690845, 3.5367683841920954, 3.5467733866933457, 3.556778389194596, 3.5667833916958482, 3.5767883941970986, 3.586793396698349, 3.5967983991995993, 3.6068034017008497, 3.6168084042021, 3.626813406703352, 3.6368184092046025, 3.646823411705853, 3.6568284142071033, 3.6668334167083536, 3.676838419209604, 3.6868434217108543, 3.6968484242121065, 3.706853426713357, 3.716858429214607, 3.7268634317158575, 3.736868434217108, 3.7468734367183583, 3.7568784392196086, 3.7668834417208608, 3.776888444222111, 3.7868934467233615, 3.796898449224612, 3.806903451725862, 3.8169084542271126, 3.826913456728363, 3.836918459229615, 3.8469234617308654, 3.8569284642321158, 3.866933466733366, 3.8769384692346165, 3.886943471735867, 3.896948474237119, 3.9069534767383693, 3.9169584792396197, 3.92696348174087, 3.9369684842421204, 3.946973486743371, 3.956978489244621, 3.9669834917458733, 3.9769884942471236, 3.986993496748374, 3.9969984992496244, 4.007003501750875, 4.017008504252125, 4.027013506753375, 4.037018509254628, 4.047023511755878, 4.057028514257128, 4.067033516758379, 4.077038519259629, 4.087043521760879, 4.0970485242621315, 4.107053526763382, 4.117058529264632, 4.127063531765883, 4.137068534267133, 4.147073536768383, 4.157078539269634, 4.167083541770886, 4.177088544272136, 4.1870935467733865, 4.197098549274637, 4.207103551775887, 4.217108554277138, 4.227113556778388, 4.23711855927964, 4.2471235617808905, 4.257128564282141, 4.267133566783391, 4.2771385692846415, 4.287143571785892, 4.297148574287144, 4.307153576788394, 4.317158579289645, 4.327163581790895, 4.3371685842921455, 4.347173586793396, 4.357178589294646, 4.367183591795898, 4.377188594297149, 4.387193596798399, 4.397198599299649, 4.4072036018009, 4.41720860430215, 4.4272136068034005, 4.437218609304653, 4.447223611805903, 4.457228614307153, 4.467233616808404, 4.477238619309654, 4.487243621810904, 4.4972486243121566, 4.507253626813407, 4.517258629314657, 4.527263631815908, 4.537268634317158, 4.547273636818408, 4.557278639319659, 4.567283641820911, 4.577288644322161, 4.587293646823412, 4.597298649324662, 4.607303651825912, 4.617308654327163, 4.627313656828413, 4.637318659329665, 4.6473236618309155, 4.657328664332166, 4.667333666833416, 4.677338669334667, 4.687343671835917, 4.697348674337167, 4.707353676838419, 4.71735867933967, 4.72736368184092, 4.7373686843421705, 4.747373686843421, 4.757378689344671, 4.767383691845923, 4.777388694347174, 4.787393696848424, 4.7973986993496744, 4.807403701850925, 4.817408704352175, 4.8274137068534255, 4.837418709354678, 4.847423711855928, 4.857428714357178, 4.867433716858429, 4.877438719359679, 4.8874437218609295, 4.89744872436218, 4.907453726863432, 4.917458729364682, 4.927463731865933, 4.937468734367183, 4.947473736868433, 4.957478739369684, 4.967483741870936, 4.977488744372186, 4.987493746873437, 4.997498749374687, 5.007503751875937, 5.017508754377188, 5.027513756878438, 5.03751875937969, 5.0475237618809405, 5.057528764382191, 5.067533766883441, 5.077538769384692, 5.087543771885942, 5.097548774387192, 5.1075537768884445, 5.117558779389695, 5.127563781890945, 5.1375687843921956, 5.147573786893446, 5.157578789394696, 5.167583791895948, 5.177588794397199, 5.187593796898449, 5.1975987993996995, 5.20760380190095, 5.2176088044022, 5.227613806903451, 5.237618809404703, 5.247623811905953, 5.257628814407203, 5.267633816908454, 5.277638819409704, 5.2876438219109545, 5.297648824412205, 5.307653826913457, 5.317658829414707, 5.327663831915958, 5.337668834417208, 5.347673836918458, 5.357678839419709, 5.367683841920961, 5.377688844422211, 5.387693846923462, 5.397698849424712, 5.407703851925962, 5.417708854427213, 5.427713856928463, 5.437718859429715, 5.447723861930966, 5.457728864432216, 5.467733866933466, 5.477738869434717, 5.487743871935967, 5.497748874437217, 5.5077538769384695, 5.51775887943972, 5.52776388194097, 5.537768884442221, 5.547773886943471, 5.557778889444721, 5.567783891945972, 5.577788894447224, 5.587793896948474, 5.5977988994497245, 5.607803901950975, 5.617808904452225, 5.627813906953476, 5.637818909454728, 5.647823911955978, 5.6578289144572285, 5.667833916958479, 5.677838919459729, 5.6878439219609795, 5.69784892446223, 5.707853926963482, 5.717858929464732, 5.727863931965983, 5.737868934467233, 5.7478739369684835, 5.757878939469734, 5.767883941970984, 5.777888944472236, 5.787893946973487, 5.797898949474737, 5.807903951975987, 5.817908954477238, 5.827913956978488, 5.83791895947974, 5.847923961980991, 5.857928964482241, 5.867933966983491, 5.877938969484742, 5.887943971985992, 5.897948974487242, 5.907953976988495, 5.917958979489745, 5.927963981990995, 5.937968984492246, 5.947973986993496, 5.957978989494746, 5.967983991995997, 5.977988994497249, 5.987993996998499, 5.99799899949975, 6.008004002001002, 6.01800900450225, 6.028014007003502, 6.038019009504751, 6.048024012006003, 6.058029014507252, 6.068034017008504, 6.078039019509756, 6.088044022011005, 6.098049024512257, 6.108054027013505, 6.118059029514757, 6.128064032016006, 6.138069034517258, 6.14807403701851, 6.158079039519759, 6.168084042021011, 6.17808904452226, 6.188094047023512, 6.19809904952476, 6.2081040520260125, 6.218109054527265, 6.228114057028513, 6.238119059529765, 6.248124062031014, 6.258129064532266, 6.268134067033515, 6.278139069534767, 6.288144072036019, 6.2981490745372675, 6.30815407703852, 6.318159079539768, 6.32816408204102, 6.338169084542269, 6.348174087043521, 6.358179089544773, 6.368184092046022, 6.378189094547274, 6.3881940970485225, 6.398199099549775, 6.408204102051027, 6.418209104552275, 6.4282141070535275, 6.438219109554776, 6.448224112056028, 6.458229114557277, 6.468234117058529, 6.478239119559781, 6.48824412206103, 6.498249124562282, 6.50825412706353, 6.5182591295647825, 6.528264132066031, 6.538269134567283, 6.548274137068535, 6.558279139569784, 6.568284142071036, 6.578289144572285, 6.588294147073537, 6.598299149574785, 6.6083041520760375, 6.61830915457729, 6.628314157078538, 6.63831915957979, 6.648324162081039, 6.658329164582291, 6.66833416708354, 6.678339169584792, 6.688344172086044, 6.6983491745872925, 6.708354177088545, 6.718359179589793, 6.728364182091045, 6.738369184592294, 6.748374187093546, 6.758379189594798, 6.768384192096047, 6.778389194597299, 6.7883941970985475, 6.7983991995998, 6.808404202101052, 6.8184092046023, 6.8284142071035525, 6.838419209604801, 6.848424212106053, 6.858429214607302, 6.868434217108554, 6.878439219609806, 6.888444222111055, 6.898449224612307, 6.908454227113555, 6.9184592296148075, 6.928464232116056, 6.938469234617308, 6.94847423711856, 6.958479239619809, 6.968484242121061, 6.97848924462231, 6.988494247123562, 6.99849924962481, 7.0085042521260625, 7.018509254627315, 7.028514257128563, 7.038519259629815, 7.048524262131064, 7.058529264632316, 7.068534267133565, 7.078539269634817, 7.088544272136069, 7.0985492746373176, 7.10855427713857, 7.118559279639818, 7.12856428214107, 7.138569284642319, 7.148574287143571, 7.158579289644823, 7.168584292146072, 7.178589294647324, 7.188594297148573, 7.198599299649825, 7.208604302151073, 7.218609304652325, 7.228614307153578, 7.238619309654826, 7.248624312156078, 7.258629314657327, 7.268634317158579, 7.278639319659831, 7.28864432216108, 7.298649324662332, 7.30865432716358, 7.318659329664833, 7.328664332166081, 7.338669334667333, 7.348674337168585, 7.358679339669834, 7.368684342171086, 7.378689344672335, 7.388694347173587, 7.3986993496748354, 7.408704352176088, 7.41870935467734, 7.428714357178588, 7.43871935967984, 7.448724362181089, 7.458729364682341, 7.46873436718359, 7.478739369684842, 7.488744372186094, 7.498749374687343, 7.508754377188595, 7.518759379689843, 7.5287643821910955, 7.538769384692344, 7.548774387193596, 7.558779389694848, 7.568784392196097, 7.578789394697349, 7.588794397198598, 7.59879939969985, 7.608804402201098, 7.6188094047023505, 7.628814407203603, 7.638819409704851, 7.648824412206103, 7.658829414707352, 7.668834417208604, 7.678839419709856, 7.688844422211105, 7.698849424712357, 7.7088544272136055, 7.718859429714858, 7.728864432216106, 7.738869434717358, 7.7488744372186105, 7.758879439719859, 7.768884442221111, 7.77888944472236, 7.788894447223612, 7.7988994497248605, 7.808904452226113, 7.818909454727365, 7.828914457228613, 7.8389194597298655, 7.848924462231114, 7.858929464732366, 7.868934467233615, 7.878939469734867, 7.888944472236119, 7.898949474737368, 7.90895447723862, 7.918959479739868, 7.9289644822411205, 7.938969484742369, 7.948974487243621, 7.958979489744873, 7.968984492246122, 7.978989494747374, 7.988994497248623, 7.998999499749875, 8.009004502251123, 8.019009504752376, 8.029014507253628, 8.039019509754876, 8.049024512256128, 8.059029514757377, 8.069034517258629, 8.079039519759878, 8.08904452226113, 8.099049524762382, 8.10905452726363, 8.119059529764883, 8.129064532266131, 8.139069534767383, 8.149074537268636, 8.159079539769884, 8.169084542271136, 8.179089544772385, 8.189094547273637, 8.199099549774886, 8.209104552276138, 8.21910955477739, 8.229114557278638, 8.23911955977989, 8.249124562281139, 8.259129564782391, 8.26913456728364, 8.279139569784892, 8.289144572286144, 8.299149574787393, 8.309154577288645, 8.319159579789893, 8.329164582291146, 8.339169584792394, 8.349174587293646, 8.359179589794898, 8.369184592296147, 8.379189594797399, 8.389194597298648, 8.3991995997999, 8.409204602301148, 8.4192096048024, 8.429214607303653, 8.439219609804901, 8.449224612306153, 8.459229614807402, 8.469234617308654, 8.479239619809903, 8.489244622311155, 8.499249624812407, 8.509254627313656, 8.519259629814908, 8.529264632316156, 8.539269634817408, 8.54927463731866, 8.55927963981991, 8.569284642321161, 8.57928964482241, 8.589294647323662, 8.59929964982491, 8.609304652326163, 8.619309654827415, 8.629314657328663, 8.639319659829916, 8.649324662331164, 8.659329664832416, 8.669334667333665, 8.679339669834917, 8.68934467233617, 8.699349674837418, 8.70935467733867, 8.719359679839918, 8.72936468234117, 8.73936968484242, 8.749374687343671, 8.759379689844923, 8.769384692346172, 8.779389694847424, 8.789394697348673, 8.799399699849925, 8.809404702351173, 8.819409704852426, 8.829414707353678, 8.839419709854926, 8.849424712356178, 8.859429714857427, 8.86943471735868, 8.879439719859928, 8.88944472236118, 8.899449724862432, 8.90945472736368, 8.919459729864933, 8.929464732366181, 8.939469734867433, 8.949474737368682, 8.959479739869934, 8.969484742371186, 8.979489744872435, 8.989494747373687, 8.999499749874936, 9.009504752376188, 9.01950975487744, 9.029514757378688, 9.03951975987994, 9.04952476238119, 9.059529764882441, 9.06953476738369, 9.079539769884942, 9.089544772386194, 9.099549774887443, 9.109554777388695, 9.119559779889943, 9.129564782391196, 9.139569784892444, 9.149574787393696, 9.159579789894948, 9.169584792396197, 9.17958979489745, 9.189594797398698, 9.19959979989995, 9.209604802401198, 9.21960980490245, 9.229614807403703, 9.239619809904951, 9.249624812406203, 9.259629814907452, 9.269634817408704, 9.279639819909953, 9.289644822411205, 9.299649824912457, 9.309654827413706, 9.319659829914958, 9.329664832416206, 9.339669834917459, 9.349674837418707, 9.35967983991996, 9.369684842421211, 9.37968984492246, 9.389694847423712, 9.39969984992496, 9.409704852426213, 9.419709854927465, 9.429714857428714, 9.439719859929966, 9.449724862431214, 9.459729864932466, 9.469734867433715, 9.479739869934967, 9.48974487243622, 9.499749874937468, 9.50975487743872, 9.519759879939969, 9.52976488244122, 9.53976988494247, 9.549774887443721, 9.559779889944974, 9.569784892446222, 9.579789894947474, 9.589794897448723, 9.599799899949975, 9.609804902451224, 9.619809904952476, 9.629814907453728, 9.639819909954976, 9.649824912456229, 9.659829914957477, 9.66983491745873, 9.679839919959978, 9.68984492246123, 9.699849924962482, 9.70985492746373, 9.719859929964983, 9.729864932466231, 9.739869934967484, 9.749874937468732, 9.759879939969984, 9.769884942471236, 9.779889944972485, 9.789894947473737, 9.799899949974986, 9.809904952476238, 9.819909954977486, 9.829914957478739, 9.83991995997999, 9.84992496248124, 9.859929964982491, 9.86993496748374, 9.879939969984992, 9.889944972486244, 9.899949974987493, 9.909954977488745, 9.919959979989994, 9.929964982491246, 9.939969984992494, 9.949974987493746, 9.959979989994999, 9.969984992496247, 9.9799899949975, 9.989994997498748, 10.0], \"y\": [4.5397868702434395e-05, 4.5854333322209086e-05, 4.6315387371055025e-05, 4.678107698814084e-05, 4.72514487764019e-05, 4.772654980719984e-05, 4.820642762502956e-05, 4.869113025227279e-05, 4.9180706193999674e-05, 4.967520444281851e-05, 5.017467448377424e-05, 5.0679166299296166e-05, 5.118873037419482e-05, 5.170341770071001e-05, 5.2223279783608585e-05, 5.274836864533383e-05, 5.327873683120646e-05, 5.3814437414677934e-05, 5.435552400263599e-05, 5.490205074076446e-05, 5.5454072318955845e-05, 5.6011643976778745e-05, 5.657482150900011e-05, 5.7143661271162846e-05, 5.771822018521948e-05, 5.8298555745222035e-05, 5.888472602306982e-05, 5.9476789674314015e-05, 6.0074805944020974e-05, 6.06788346726943e-05, 6.128893630225636e-05, 6.190517188208988e-05, 6.252760307513966e-05, 6.315629216407668e-05, 6.37913020575228e-05, 6.44326962963387e-05, 6.50805390599746e-05, 6.573489517288499e-05, 6.639583011100693e-05, 6.706341000830485e-05, 6.773770166337948e-05, 6.841877254614401e-05, 6.910669080456681e-05, 6.98015252714821e-05, 7.050334547146883e-05, 7.121222162779811e-05, 7.19282246694515e-05, 7.265142623820855e-05, 7.338189869580592e-05, 7.411971513116838e-05, 7.486494936771233e-05, 7.5617675970722e-05, 7.637797025480097e-05, 7.714590829139706e-05, 7.792156691640338e-05, 7.870502373783554e-05, 7.949635714358582e-05, 8.029564630925526e-05, 8.110297120606354e-05, 8.191841260883979e-05, 8.274205210409185e-05, 8.357397209815746e-05, 8.441425582543681e-05, 8.526298735670776e-05, 8.612025160752466e-05, 8.69861343467005e-05, 8.786072220487566e-05, 8.87441026831712e-05, 8.963636416192947e-05, 9.05375959095424e-05, 9.144788809136817e-05, 9.236733177873744e-05, 9.329601895804926e-05, 9.423404253995952e-05, 9.518149636866008e-05, 9.613847523125164e-05, 9.710507486721052e-05, 9.808139197795019e-05, 9.906752423647894e-05, 0.00010006357029715341, 0.00010106962980553166, 0.00010208580340832332, 0.00010311219276344018, 0.00010414890055014741, 0.00010519603047931692, 0.00010625368730378206, 0.00010732197682879851, 0.00010840100592260764, 0.00010949088252710708, 0.00011059171566862771, 0.00011170361546881874, 0.00011282669315564224, 0.00011396106107447642, 0.00011510683269933256, 0.00011626412264418216, 0.00011743304667439846, 0.00011861372171831254, 0.00011980626587888534, 0.00012101079844549556, 0.00012222743990584768, 0.00012345631195799723, 0.00012469753752249752, 0.00012595124075466784, 0.00012721754705698443, 0.00012849658309159595, 0.000129788476792963, 0.00013109335738062657, 0.00013241135537210195, 0.00013374260259590303, 0.0001350872322046968, 0.00013644537868858934, 0.00013781717788854535, 0.00013920276700994048, 0.0001406022846362522, 0.00014201587074288491, 0.0001434436667111348, 0.00014488581534229426, 0.00014634246087189746, 0.0001478137489841088, 0.00014929982682625398, 0.00015080084302349905, 0.000152316947693674, 0.0001538482924622458, 0.0001553950304774409, 0.00015695731642551938, 0.00015853530654620185, 0.00016012915864824952, 0.0001617390321252028, 0.00016336508797127467, 0.00016500748879740438, 0.00016666639884747143, 0.00016834198401467196, 0.0001700344118580577, 0.00017174385161924295, 0.00017347047423927597, 0.00017521445237568035, 0.00017697596041966663, 0.0001787551745135164, 0.00018055227256813823, 0.0001823674342808029, 0.0001842008411530522, 0.0001860526765087887, 0.00018792312551254596, 0.00018981237518794119, 0.00019172061443631277, 0.0001936480340555426, 0.0001955948267590695, 0.00019756118719508952, 0.00019954731196594974, 0.00020155339964773555, 0.00020357965081005327, 0.00020562626803601153, 0.00020769345594239956, 0.00020978142120007146, 0.0002118903725545297, 0.00021402052084671684, 0.00021617207903401367, 0.00021834526221144778, 0.00022054028763311397, 0.0002227573747338064, 0.00022499674515087117, 0.00022725862274627258, 0.000229543233628882, 0.0002318508061769888, 0.0002341815710610358, 0.0002365357612665822, 0.0002389136121174934, 0.0002413153612993669, 0.00024374124888318713, 0.00024619151734921874, 0.00024866641161113784, 0.0002511661790404041, 0.0002536910694908761, 0.00025624133532366986, 0.0002588172314322706, 0.0002614190152678894, 0.0002640469468650758, 0.00026670128886758517, 0.0002693823065545022, 0.00027209026786662895, 0.00027482544343313177, 0.0002775881065984559, 0.00028037853344950806, 0.00028319700284310927, 0.00028604379643372294, 0.00028891919870145563, 0.0002918234969803423, 0.0002947569814869085, 0.00029771994534901874, 0.00030071268463501303, 0.00030373549838313247, 0.00030678868863123884, 0.00030987256044682745, 0.0003129874219573442, 0.00031613358438079887, 0.00031931136205668614, 0.0003225210724772137, 0.0003257630363188411, 0.0003290375774741329, 0.00033234502308392654, 0.0003356857035698251, 0.00033905995266700817, 0.00034246810745737185, 0.00034591050840299765, 0.0003493874993799545, 0.00035289942771243616, 0.0003564466442072388, 0.0003600295031885818, 0.00036364836253327337, 0.00036730358370622623, 0.0003709955317963271, 0.00037472457555266, 0.0003784910874210942, 0.00038229544358122974, 0.00038613802398371536, 0.00039001921238793327, 0.0003939393964000602, 0.0003978989675115058, 0.0004018983211377312, 0.00040593785665745687, 0.0004100179774522542, 0.0004141390909465356, 0.00041830160864793706, 0.0004225059461881032, 0.0004267525233638775, 0.0004310417641788988, 0.0004353740968856143, 0.0004397499540277037, 0.00044416977248293, 0.00044863399350641005, 0.00045314306277431703, 0.0004576974304280149, 0.00046229755111862943, 0.0004669438840520625, 0.0004716368930344523, 0.0004763770465180817, 0.0004811648176477432, 0.0004860006843075624, 0.0004908851291682837, 0.0004958186397350278, 0.0005008017083955163, 0.0005058348324687792, 0.00051091851425434, 0.0005160532610818895, 0.0005212395853614507, 0.0005264780046340372, 0.0005317690416228182, 0.0005371132242847821, 0.0005425110858629171, 0.000547963164938903, 0.0005534700054863257, 0.0005590321569244174, 0.0005646501741723252, 0.000570324617703919, 0.0005760560536031393, 0.0005818450536198896, 0.0005876921952264821, 0.000593598061674641, 0.0005995632420530644, 0.0006055883313455605, 0.0006116739304897491, 0.0006178206464363498, 0.0006240290922090484, 0.0006302998869649562, 0.0006366336560556657, 0.0006430310310889034, 0.000649492649990798, 0.0006560191570687513, 0.0006626112030749381, 0.0006692694452704237, 0.0006759945474899168, 0.000682787180207157, 0.000689648020600946, 0.0006965777526218284, 0.0007035770670594303, 0.0007106466616104552, 0.0007177872409473515, 0.000724999516787654, 0.0007322842079640046, 0.000739642040494865, 0.0007470737476559175, 0.0007545800700521734, 0.000762161755690783, 0.0007698195600545634, 0.0007775542461762476, 0.0007853665847134568, 0.0007932573540244171, 0.0008012273402444062, 0.000809277337362961, 0.0008174081473018326, 0.0008256205799937088, 0.0008339154534617076, 0.0008422935938996438, 0.0008507558357530883, 0.0008593030218012164, 0.0008679360032394547, 0.00087665563976294, 0.0008854627996507905, 0.0008943583598512004, 0.0009033432060673713, 0.0009124182328442719, 0.0009215843436562571, 0.0009308424509955327, 0.0009401934764614858, 0.0009496383508508897, 0.0009591780142489808, 0.0009688134161214341, 0.0009785455154072212, 0.0009883752806123865, 0.0009983036899047265, 0.0010083317312093944, 0.0010184604023054352, 0.0010286907109232574, 0.0010390236748430576, 0.0010494603219941934, 0.001060001690555532, 0.0010706488290567644, 0.0010814027964807093, 0.0010922646623666072, 0.0011032355069144155, 0.001114316421090118, 0.0011255085067320566, 0.0011368128766582881, 0.0011482306547749854, 0.0011597629761858873, 0.001171410987302804, 0.0011831758459572034, 0.001195058721512859, 0.0012070607949796043, 0.001219183259128176, 0.0012314273186061684, 0.001243794190055112, 0.0012562851022286728, 0.0012689012961120062, 0.0012816440250422452, 0.0012945145548301658, 0.001307514163883013, 0.001320644143328516, 0.0013339057971400966, 0.0013473004422632762, 0.0013608294087433083, 0.001374494039854034, 0.0013882956922279719, 0.001402235735987662, 0.0014163155548782694, 0.0014305365464014556, 0.0014449001219505465, 0.0014594077069469762, 0.0014740607409780594, 0.001488860677936068, 0.0015038089861586432, 0.001518907148570554, 0.0015341566628268018, 0.0015495590414571088, 0.0015651158120117653, 0.0015808285172088893, 0.0015966987150830766, 0.0016127279791354752, 0.0016289178984852878, 0.0016452700780227145, 0.0016617861385633567, 0.0016784677170040897, 0.0016953164664804093, 0.0017123340565252828, 0.0017295221732295028, 0.0017468825194035603, 0.0017644168147410671, 0.0017821267959837043, 0.001800014217087757, 0.0018180808493922082, 0.0018363284817884305, 0.0018547589208914815, 0.0018733739912130119, 0.0018921755353358198, 0.0019111654140900312, 0.0019303455067309634, 0.0019497177111186491, 0.0019692839438990566, 0.0019890461406870145, 0.0020090062562508537, 0.0020291662646987857, 0.0020495281596670384, 0.0020700939545097424, 0.0020908656824906078, 0.002111845396976393, 0.0021330351716321795, 0.0021544371006184905, 0.002176053298790224, 0.0021978859018974735, 0.002219937066788198, 0.002242208971612796, 0.0022647038160305806, 0.002287423821418169, 0.002310371231079832, 0.0023335483104597655, 0.002356957347356368, 0.002380600652138477, 0.0024044805579636233, 0.002428599420998308, 0.0024529596206403007, 0.0024775635597430227, 0.0025024136648419647, 0.0025275123863832292, 0.0025528621989541526, 0.002578465601516066, 0.002604325117639183, 0.00263044329573967, 0.002656822709318868, 0.002683465957204716, 0.0027103756637954003, 0.002737554479305217, 0.0027650050800126797, 0.0027927301685109185, 0.002820732473960335, 0.0028490147523435785, 0.0028775797867228296, 0.0029064303874994394, 0.0029355693926759203, 0.0029649996681202994, 0.0029947241078328974, 0.003024745634215503, 0.003055067198342972, 0.0030856917802373103, 0.003116622389144201, 0.0031478620638120403, 0.003179413872773461, 0.0032112809146294247, 0.00324346631833583, 0.003275973243492696, 0.003308804880635954, 0.0033419644515318286, 0.0033754552094738535, 0.00340928043958253, 0.0034434434591076716, 0.0034779476177334233, 0.0035127962978859792, 0.0035479929150440586, 0.0035835409180521114, 0.0036194437894362785, 0.003655705045723185, 0.003692328237761504, 0.003729316951046369, 0.0037666748060466264, 0.0038044054585349815, 0.00384251259992102, 0.0038809999575871307, 0.003919871295227399, 0.003959130413189428, 0.003998781148819125, 0.004038827376808528, 0.004079273009546602, 0.004120121997473109, 0.0041613783294355035, 0.00420304603304895, 0.004245129175059411, 0.004287631861709853, 0.004330558239109635, 0.004373912493607022, 0.004417698852164888, 0.004461921582739659, 0.0045065849946634455, 0.004551693439029447, 0.004597251309080608, 0.004643263040601593, 0.004689733112314049, 0.004736666046275201, 0.0047840664082798275, 0.004831938808265587, 0.004880287900721734, 0.004929118385101291, 0.004978435006236619, 0.005028242554758467, 0.005078545867518482, 0.005129349828015255, 0.005180659366823864, 0.0052324794620289316, 0.005284815139661315, 0.00533767147413832, 0.0053910535887075235, 0.005444966655894258, 0.005499415897952696, 0.005554406587320628, 0.005609944047077888, 0.005666033651408538, 0.005722680826066731, 0.005779891048846309, 0.005837669850054217, 0.005896022812987652, 0.005954955574415006, 0.006014473825060677, 0.006074583310093676, 0.006135289829620107, 0.006196599239179503, 0.006258517450245099, 0.0063210504307279775, 0.006384204205485141, 0.006447984856831571, 0.006512398525056217, 0.0065774514089419565, 0.006643149766289608, 0.006709499914445901, 0.00677650823083551, 0.0068441811534971095, 0.0069125251816235375, 0.006981546876105991, 0.007051252860082321, 0.007121649819489484, 0.007192744503620055, 0.007264543725682892, 0.007337054363368001, 0.007410283359415491, 0.007484237722188771, 0.007558924526251873, 0.00763435091295105, 0.00771052409100053, 0.007787451337072505, 0.007865139996391391, 0.007943597483332296, 0.008022831282023756, 0.008102848946954726, 0.008183658103585885, 0.008265266448965186, 0.00834768175234768, 0.008430911855819703, 0.008514964674927314, 0.008599848199309035, 0.008685570493332972, 0.008772139696738183, 0.008859564025280429, 0.008947851771382177, 0.009037011304787053, 0.009127051073218519, 0.009217979603042903, 0.00930980549993685, 0.009402537449559, 0.009496184218226032, 0.0095907546535931, 0.009686257685338514, 0.009782702325852813, 0.009880097670932085, 0.009978452900475715, 0.010077777279188347, 0.010178080157286157, 0.010279370971207506, 0.01038165924432779, 0.010484954587678575, 0.010589266700671073, 0.010694605371823792, 0.010800980479494451, 0.010908401992616121, 0.011016879971437602, 0.011126424568267972, 0.01123704602822527, 0.011348754689989431, 0.011461560986559295, 0.011575475446013695, 0.011690508692276757, 0.011806671445887144, 0.011923974524771423, 0.012042428845021371, 0.01216204542167538, 0.012282835369503727, 0.012404809903797756, 0.01252798034116307, 0.012652358100316454, 0.012777954702886656, 0.012904781774219025, 0.013032851044183785, 0.013162174347988088, 0.013292763626991664, 0.013424630929526183, 0.013557788411718098, 0.013692248338314993, 0.013828023083515537, 0.013965125131802704, 0.014103567078780412, 0.014243361632013514, 0.014384521611870987, 0.014527059952372315, 0.014670989702036985, 0.014816324024737114, 0.014963076200553009, 0.01511125962663161, 0.01526088781804792, 0.015411974408669109, 0.015564533152021297, 0.015718577922159093, 0.015874122714537548, 0.016031181646886647, 0.016189768960088065, 0.01634989901905439, 0.016511586313610375, 0.016674845459376305, 0.016839691198653476, 0.017006138401311457, 0.017174202065677154, 0.017343897319425667, 0.017515239420472596, 0.017688243757867924, 0.017862925852691114, 0.018039301358947643, 0.018217386064466462, 0.018397195891798494, 0.018578746899116077, 0.018762055281112997, 0.018947137369905238, 0.019134009635932033, 0.019322688688857417, 0.019513191278471797, 0.0197055342955935, 0.019899734772970405, 0.020095809886181006, 0.020293776954535162, 0.02049365344197422, 0.020695456957970308, 0.020899205258424664, 0.02110491624656476, 0.021312607973840256, 0.02152229864081731, 0.021734006598071134, 0.02194775034707683, 0.022163548541097984, 0.022381419986072924, 0.02260138364149865, 0.02282345862131182, 0.023047664194766965, 0.02327401978731134, 0.023502544981456642, 0.02373325951764685, 0.02396618329512228, 0.024201336372779637, 0.024438738970027563, 0.024678411467637548, 0.024920374408590167, 0.025164648498915983, 0.025411254608531116, 0.025660213772067075, 0.025911547189694767, 0.026165276227942118, 0.026421422420505103, 0.026680007469052146, 0.026941053244021206, 0.02720458178540933, 0.027470615303554692, 0.027739176179910303, 0.02801028696780938, 0.028283970393221874, 0.02856024935550211, 0.028839146928126697, 0.029120686359422734, 0.029404891073285977, 0.029691784669888303, 0.029981390926374217, 0.03027373379754631, 0.030568837416538805, 0.030866726095479108, 0.031167424326136804, 0.03147095678055995, 0.03177734831169788, 0.03208662395401023, 0.032398808924062064, 0.032713928621104185, 0.0330320086276383, 0.03335307470996704, 0.033677152818727664, 0.03400426908940954, 0.03433444984285451, 0.03466772158574019, 0.035004111011045065, 0.03534364499849525, 0.035686350614992625, 0.036032255115023226, 0.036381385941045785, 0.036733770723860006, 0.03708943728295359, 0.037448413626827846, 0.03781072795330104, 0.03817640864978933, 0.03854548429356424, 0.03891798365198625, 0.039293935682714276, 0.03967336953388985, 0.04005631454429565, 0.04044280024348817, 0.040832856351903014, 0.04122651278093318, 0.04162379963297872, 0.04202474720146817, 0.042429385970850136, 0.042837746616554796, 0.043249860004924943, 0.043665757193115225, 0.04408546942895945, 0.0445090281508048, 0.04493646498731288, 0.045367811757226165, 0.045803100469099446, 0.046242363320995815, 0.04668563270014602, 0.047132941182570345, 0.0475843215326631, 0.04803980670273781, 0.0484994298325332, 0.048963224248678626, 0.049431223464118795, 0.04990346117749626, 0.050379971272491206, 0.050860787817118065, 0.05134594506297752, 0.05183547744446325, 0.05232941957792307, 0.052827806260772874, 0.05333067247056309, 0.05383805336399631, 0.054349984275896004, 0.054866500718124496, 0.05538763837844977, 0.05591343311936069, 0.056443920976828856, 0.05697913815901648, 0.05751912104493018, 0.05806390618301848, 0.058613530289713056, 0.05916803024791224, 0.05972744310540657, 0.060291806073244594, 0.06086115652403833, 0.061435531990208035, 0.062014970162164305, 0.0625995088864271, 0.06318918616368113, 0.0637840401467658, 0.06438410913859935, 0.06498943159003596, 0.06560004609765531, 0.06621599140148288, 0.06683730638264043, 0.06746403006092623, 0.06809620159232295, 0.0687338602664329, 0.06937704550384005, 0.07002579685339688, 0.07068015398943592, 0.07134015670890431, 0.0720058449284215, 0.07267725868125789, 0.07335443811423384, 0.07403742348453905, 0.07472625515646984, 0.07542097359808422, 0.07612161937777409, 0.07682823316075284, 0.07754085570545802, 0.07825952785986764, 0.07898429055773018, 0.07971518481470599, 0.0804522517244201, 0.0811955324544258, 0.08194506824207712, 0.0827009003903099, 0.08346307026333113, 0.08423161928221445, 0.08500658892040228, 0.08578802069911232, 0.08657595618264967, 0.08737043697362148, 0.08817150470805465, 0.08897920105041611, 0.08979356768853383, 0.09061464632841844, 0.09144247868898522, 0.09227710649667484, 0.09311857147997267, 0.09396691536382588, 0.09482217986395829, 0.09568440668108132, 0.09655363749500094, 0.09742991395862088, 0.09831327769184003, 0.09920377027534481, 0.10010143324429507, 0.10100630808190446, 0.10191843621291312, 0.10283785899695333, 0.10376461772180814, 0.10469875359656165, 0.1056403077446409, 0.10658932119675028, 0.1075458348836965, 0.10850988962910522, 0.10948152614202841, 0.11046078500944342, 0.11144770668864239, 0.11244233149951252, 0.11344469961670824, 0.11445485106171346, 0.11547282569479532, 0.1164986632068498, 0.11753240311113829, 0.11857408473491632, 0.11962374721095426, 0.12068142946895094, 0.12174717022684008, 0.12282100798199007, 0.1239029810022976, 0.12499312731717639, 0.1260914847084406, 0.12719809070108454, 0.12831298255395826, 0.12943619725034233, 0.1305677714884192, 0.13170774167164478, 0.13285614389902034, 0.13401301395526563, 0.1351783873008949, 0.13635229906219556, 0.1375347840211142, 0.13872587660504643, 0.13992561087653632, 0.14113402052288415, 0.14235113884566586, 0.14357699875016347, 0.14481163273471226, 0.14605507287996133, 0.1473073508380537, 0.14856849782172526, 0.14983854459332613, 0.1511175214537657, 0.15240545823138305, 0.15370238427074745, 0.15500832842138756, 0.15632331902645494, 0.15764738391132233, 0.15898055037212086, 0.16032284516421752, 0.1616742944906356, 0.16303492399042355, 0.1644047587269707, 0.16578382317627668, 0.16717214121517598, 0.1685697361095209, 0.1699766305023255, 0.171392846401877, 0.17281840516981312, 0.174253327509173, 0.1756976334524231, 0.17715134234946306, 0.17861447285561433, 0.18008704291959474, 0.1815690697714866, 0.18306056991069708, 0.18456155909391875, 0.18607205232309337, 0.18759206383338287, 0.1891216070811525, 0.1906606947319692, 0.19220933864862294, 0.19376754987917102, 0.19533533864501393, 0.1969127143290052, 0.1984996854636015, 0.20009625971905703, 0.2017024438916662, 0.20331824389206368, 0.20494366473358125, 0.20657871052067067, 0.2082233844373967, 0.20987768873600565, 0.211541624725573, 0.21321519276074055, 0.2148983922305421, 0.21659122154732768, 0.2182936781357909, 0.2200057584221042, 0.22172745782316902, 0.22345877073598444, 0.2251996905271442, 0.2269502095224632, 0.2287103189967418, 0.23048000916367442, 0.23225926916590717, 0.2340480870652502, 0.23584644983305172, 0.23765434334074054, 0.23947175235054047, 0.24129866050636475, 0.24313505032489643, 0.24498090318686025, 0.2468361993284911, 0.24870091783320883, 0.25057503662350067, 0.2524585324530205, 0.25435138089891013, 0.2562535563543489, 0.25816503202133734, 0.26008577990371956, 0.2620157708004554, 0.2639549742991404, 0.2659033587697865, 0.2678608913588655, 0.2698275379836227, 0.27180326332666577, 0.2737880308308337, 0.27578180269435537, 0.27778453986629753, 0.27979620204231237, 0.2818167476606875, 0.2838461338987061, 0.28588431666931813, 0.28793125061813507, 0.28998688912074505, 0.2920511842803589, 0.29412408692579045, 0.29620554660977516, 0.2982955116076332, 0.3003939289162784, 0.3025007442535841, 0.30461590205810096, 0.3067393454891393, 0.3088710164272143, 0.3110108554748615, 0.3131588019578245, 0.3153147939266171, 0.3174787681584692, 0.3196506601596512, 0.32183040416818665, 0.32401793315695315, 0.3262131788371755, 0.32841607166231074, 0.33062654083233384, 0.332844514298418, 0.335069918768018, 0.33730267971035516, 0.33954272136230707, 0.3417899667347026, 0.3440443376190221, 0.34630575459450885, 0.34857413703568585, 0.3508494031202825, 0.35313146983757104, 0.3554202529971126, 0.357715667237912, 0.3600176260379813, 0.36232604172431415, 0.3646408254832649, 0.36696188737133606, 0.3692891363263708, 0.37162248017914973, 0.37396182566538966, 0.376307078438141, 0.37865814308058743, 0.38101492311923696, 0.3833773210375073, 0.3857452382897025, 0.3881185753153748, 0.39049723155406946, 0.3928811054604526, 0.39527009451981143, 0.39766409526392815, 0.40006300328732053, 0.402466713263846, 0.40487511896366357, 0.40728811327054754, 0.40970558819955194, 0.41212743491501386, 0.4145535437488949, 0.4169838042194532, 0.41941810505023897, 0.42185633418940893, 0.42429837882934973, 0.42674412542661017, 0.4291934597221264, 0.43164626676173967, 0.43410243091699613, 0.43656183590622244, 0.4390243648158662, 0.4414899001221004, 0.4439583237126742, 0.44642951690900873, 0.4489033604885273, 0.45137973470720966, 0.4538585193223647, 0.456339593615608, 0.4588228364160424, 0.4613081261236228, 0.4637953407327038, 0.4662843578557564, 0.4687750547472449, 0.47126730832765645, 0.4737609952076667, 0.4762559917124426, 0.4787521739060612, 0.48124941761603973, 0.48374759845796683, 0.48624659186022373, 0.48874627308878227, 0.49124651727207624, 0.4937471994259269, 0.49624819447851926, 0.49874937729541374, 0.5012506227045858, 0.5037518055214808, 0.5062528005740732, 0.5087534827279239, 0.5112537269112177, 0.5137534081397762, 0.5162524015420327, 0.5187505823839599, 0.5212478260939388, 0.5237440082875574, 0.5262390047923333, 0.5287326916723435, 0.5312249452527545, 0.5337156421442433, 0.5362046592672962, 0.5386918738763772, 0.5411771635839576, 0.543660406384392, 0.5461414806776352, 0.54862026529279, 0.5510966395114723, 0.5535704830909912, 0.5560416762873258, 0.5585100998778997, 0.5609756351841337, 0.5634381640937776, 0.5658975690830034, 0.5683537332382599, 0.5708065402778736, 0.5732558745733899, 0.5757016211706503, 0.5781436658105911, 0.5805818949497606, 0.5830161957805464, 0.5854464562511047, 0.5878725650849862, 0.5902944118004481, 0.5927118867294525, 0.5951248810363364, 0.5975332867361536, 0.599936996712679, 0.6023359047360718, 0.6047299054801886, 0.6071188945395474, 0.6095027684459305, 0.6118814246846251, 0.614254761710297, 0.6166226789624922, 0.6189850768807631, 0.6213418569194125, 0.623692921561859, 0.6260381743346104, 0.6283775198208499, 0.6307108636736288, 0.6330381126286636, 0.6353591745167351, 0.6376739582756858, 0.6399823739620186, 0.642284332762088, 0.644579747002887, 0.6468685301624285, 0.6491505968797175, 0.6514258629643142, 0.6536942454054911, 0.655955662380978, 0.6582100332652974, 0.6604572786376925, 0.6626973202896445, 0.664930081231982, 0.667155485701582, 0.6693734591676662, 0.6715839283376892, 0.6737868211628245, 0.6759820668430465, 0.6781695958318129, 0.6803493398403488, 0.6825212318415308, 0.6846852060733828, 0.6868411980421755, 0.6889891445251382, 0.6911289835727853, 0.6932606545108607, 0.695384097941899, 0.697499255746416, 0.6996060710837215, 0.7017044883923668, 0.7037944533902244, 0.7058759130742092, 0.7079488157196412, 0.710013110879255, 0.7120687493818649, 0.7141156833306819, 0.716153866101294, 0.7181832523393121, 0.7202037979576873, 0.7222154601337024, 0.7242181973056446, 0.7262119691691663, 0.7281967366733343, 0.730172462016377, 0.7321391086411341, 0.7340966412302135, 0.7360450257008596, 0.7379842291995445, 0.7399142200962804, 0.7418349679786627, 0.7437464436456508, 0.7456486191010895, 0.7475414675469795, 0.7494249633764993, 0.7512990821667911, 0.753163800671509, 0.7550190968131397, 0.7568649496751033, 0.758701339493635, 0.7605282476494595, 0.7623456566592595, 0.7641535501669483, 0.7659519129347497, 0.7677407308340926, 0.7695199908363253, 0.7712896810032579, 0.7730497904775369, 0.7748003094728557, 0.7765412292640156, 0.778272542176831, 0.7799942415778955, 0.7817063218642089, 0.7834087784526723, 0.7851016077694578, 0.7867848072392594, 0.788458375274427, 0.7901223112639943, 0.7917766155626029, 0.7934212894793291, 0.7950563352664187, 0.7966817561079363, 0.7982975561083338, 0.799903740280943, 0.8015003145363983, 0.8030872856709945, 0.8046646613549858, 0.8062324501208289, 0.807790661351377, 0.8093393052680308, 0.8108783929188476, 0.8124079361666169, 0.8139279476769063, 0.8154384409060812, 0.8169394300893029, 0.8184309302285134, 0.8199129570804052, 0.8213855271443857, 0.8228486576505366, 0.8243023665475766, 0.825746672490827, 0.8271815948301868, 0.828607153598123, 0.8300233694976745, 0.8314302638904791, 0.8328278587848238, 0.8342161768237231, 0.8355952412730293, 0.8369650760095765, 0.8383257055093644, 0.8396771548357824, 0.8410194496278789, 0.8423526160886774, 0.8436766809735451, 0.8449916715786124, 0.8462976157292527, 0.847594541768617, 0.8488824785462343, 0.8501614554066738, 0.8514315021782746, 0.8526926491619462, 0.8539449271200388, 0.8551883672652877, 0.8564230012498366, 0.8576488611543341, 0.8588659794771156, 0.8600743891234633, 0.8612741233949536, 0.8624652159788858, 0.8636477009378045, 0.8648216126991051, 0.8659869860447342, 0.8671438561009795, 0.8682922583283552, 0.8694322285115809, 0.8705638027496577, 0.8716870174460417, 0.8728019092989154, 0.8739085152915592, 0.8750068726828235, 0.8760970189977023, 0.87717899201801, 0.8782528297731599, 0.879318570531049, 0.8803762527890457, 0.8814259152650835, 0.8824675968888616, 0.8835013367931501, 0.8845271743052048, 0.8855451489382866, 0.8865553003832918, 0.8875576685004873, 0.8885522933113575, 0.8895392149905564, 0.8905184738579716, 0.8914901103708949, 0.8924541651163035, 0.8934106788032495, 0.894359692255359, 0.8953012464034382, 0.8962353822781918, 0.8971621410030468, 0.8980815637870868, 0.8989936919180955, 0.8998985667557049, 0.9007962297246551, 0.9016867223081597, 0.902570086041379, 0.9034463625049991, 0.9043155933189188, 0.9051778201360415, 0.9060330846361742, 0.9068814285200273, 0.9077228935033249, 0.9085575213110149, 0.9093853536715817, 0.9102064323114661, 0.9110207989495838, 0.9118284952919452, 0.9126295630263784, 0.9134240438173503, 0.9142119793008877, 0.9149934110795978, 0.9157683807177854, 0.9165369297366688, 0.91729909960969, 0.9180549317579229, 0.9188044675455742, 0.9195477482755798, 0.920284815185294, 0.9210157094422698, 0.9217404721401323, 0.9224591442945419, 0.923171766839247, 0.9238783806222259, 0.9245790264019158, 0.9252737448435302, 0.9259625765154609, 0.9266455618857661, 0.9273227413187421, 0.9279941550715785, 0.9286598432910957, 0.929319846010564, 0.9299742031466031, 0.9306229544961598, 0.9312661397335671, 0.9319037984076769, 0.9325359699390738, 0.9331626936173595, 0.9337840085985171, 0.9343999539023445, 0.935010568409964, 0.9356158908614005, 0.936215959853234, 0.9368108138363189, 0.9374004911135728, 0.9379850298378356, 0.938564468009792, 0.9391388434759615, 0.9397081939267554, 0.9402725568945934, 0.9408319697520878, 0.9413864697102869, 0.9419360938169814, 0.9424808789550697, 0.9430208618409835, 0.9435560790231711, 0.9440865668806393, 0.9446123616215503, 0.9451334992818754, 0.9456500157241039, 0.9461619466360037, 0.9466693275294369, 0.9471721937392269, 0.947670580422077, 0.9481645225555368, 0.9486540549370226, 0.9491392121828819, 0.9496200287275087, 0.9500965388225037, 0.950568776535881, 0.9510367757513214, 0.9515005701674668, 0.9519601932972622, 0.9524156784673368, 0.9528670588174297, 0.9533143672998541, 0.9537576366790043, 0.9541968995309005, 0.9546321882427737, 0.955063535012687, 0.9554909718491951, 0.9559145305710405, 0.9563342428068847, 0.9567501399950751, 0.9571622533834453, 0.9575706140291499, 0.9579752527985318, 0.9583762003670212, 0.9587734872190669, 0.959167143648097, 0.9595571997565118, 0.9599436854557043, 0.9603266304661102, 0.9607060643172858, 0.9610820163480137, 0.9614545157064358, 0.9618235913502107, 0.9621892720466989, 0.9625515863731721, 0.9629105627170464, 0.96326622927614, 0.9636186140589541, 0.9639677448849767, 0.9643136493850073, 0.9646563550015048, 0.964995888988955, 0.9653322784142597, 0.9656655501571455, 0.9659957309105904, 0.9663228471812724, 0.9666469252900329, 0.9669679913723618, 0.9672860713788958, 0.967601191075938, 0.9679133760459897, 0.9682226516883021, 0.9685290432194401, 0.9688325756738632, 0.969133273904521, 0.9694311625834612, 0.9697262662024536, 0.9700186090736258, 0.9703082153301118, 0.9705951089267141, 0.9708793136405772, 0.9711608530718733, 0.9714397506444978, 0.971716029606778, 0.9719897130321907, 0.9722608238200896, 0.9725293846964455, 0.9727954182145907, 0.9730589467559788, 0.9733199925309479, 0.973578577579495, 0.9738347237720578, 0.9740884528103053, 0.974339786227933, 0.9745887453914688, 0.974835351501084, 0.9750796255914098, 0.9753215885323625, 0.9755612610299723, 0.9757986636272203, 0.9760338167048778, 0.9762667404823532, 0.9764974550185433, 0.9767259802126886, 0.976952335805233, 0.9771765413786883, 0.9773986163585013, 0.9776185800139271, 0.977836451458902, 0.9780522496529233, 0.9782659934019289, 0.9784777013591828, 0.9786873920261597, 0.9788950837534353, 0.9791007947415754, 0.9793045430420296, 0.9795063465580257, 0.9797062230454647, 0.9799041901138189, 0.9801002652270296, 0.9802944657044066, 0.9804868087215283, 0.9806773113111424, 0.980865990364068, 0.9810528626300947, 0.981237944718887, 0.9814212531008839, 0.9816028041082014, 0.9817826139355336, 0.9819606986410524, 0.9821370741473089, 0.982311756242132, 0.9824847605795274, 0.9826561026805744, 0.9828257979343229, 0.9829938615986885, 0.9831603088013464, 0.9833251545406236, 0.9834884136863896, 0.9836501009809456, 0.9838102310399119, 0.9839688183531133, 0.9841258772854623, 0.984281422077841, 0.9844354668479788, 0.9845880255913307, 0.9847391121819521, 0.9848887403733684, 0.985036923799447, 0.9851836759752629, 0.9853290102979629, 0.9854729400476276, 0.9856154783881289, 0.9857566383679864, 0.9858964329212196, 0.9860348748681972, 0.9861719769164844, 0.9863077516616849, 0.9864422115882818, 0.9865753690704738, 0.9867072363730083, 0.9868378256520118, 0.9869671489558162, 0.987095218225781, 0.9872220452971134, 0.9873476418996835, 0.9874720196588369, 0.9875951900962023, 0.9877171646304962, 0.9878379545783247, 0.9879575711549786, 0.9880760254752285, 0.9881933285541128, 0.9883094913077232, 0.9884245245539862, 0.9885384390134407, 0.9886512453100106, 0.9887629539717748, 0.9888735754317319, 0.9889831200285625, 0.9890915980073839, 0.9891990195205055, 0.9893053946281761, 0.9894107332993289, 0.9895150454123214, 0.9896183407556723, 0.9897206290287925, 0.989821919842714, 0.9899222227208118, 0.9900215470995243, 0.9901199023290678, 0.9902172976741471, 0.9903137423146614, 0.9904092453464068, 0.9905038157817738, 0.990597462550441, 0.9906901945000632, 0.9907820203969572, 0.9908729489267813, 0.9909629886952129, 0.9910521482286179, 0.9911404359747196, 0.9912278603032619, 0.9913144295066669, 0.991400151800691, 0.9914850353250727, 0.9915690881441802, 0.9916523182476523, 0.9917347335510349, 0.9918163418964141, 0.9918971510530452, 0.9919771687179764, 0.9920564025166678, 0.9921348600036086, 0.9922125486629275, 0.9922894759089994, 0.992365649087049, 0.9924410754737482, 0.9925157622778112, 0.9925897166405846, 0.9926629456366319, 0.992735456274317, 0.9928072554963798, 0.9928783501805104, 0.9929487471399177, 0.9930184531238939, 0.9930874748183764, 0.993155818846503, 0.9932234917691645, 0.993290500085554, 0.9933568502337103, 0.993422548591058, 0.9934876014749436, 0.9935520151431685, 0.993615795794515, 0.993678949569272, 0.9937414825497548, 0.9938034007608205, 0.9938647101703799, 0.9939254166899062, 0.9939855261749393, 0.9940450444255848, 0.9941039771870123, 0.9941623301499458, 0.9942201089511536, 0.9942773191739334, 0.9943339663485915, 0.9943900559529221, 0.9944455934126795, 0.9945005841020473, 0.9945550333441057, 0.9946089464112925, 0.9946623285258617, 0.9947151848603387, 0.9947675205379711, 0.9948193406331761, 0.9948706501719847, 0.9949214541324816, 0.9949717574452416, 0.9950215649937634, 0.9950708816148988, 0.9951197120992783, 0.9951680611917344, 0.9952159335917202, 0.9952633339537249, 0.995310266887686, 0.9953567369593983, 0.9954027486909194, 0.9954483065609705, 0.9954934150053366, 0.9955380784172604, 0.9955823011478352, 0.9956260875063929, 0.9956694417608905, 0.9957123681382901, 0.9957548708249406, 0.9957969539669511, 0.9958386216705644, 0.995879878002527, 0.9959207269904534, 0.9959611726231914, 0.9960012188511808, 0.9960408695868105, 0.9960801287047725, 0.9961190000424128, 0.9961574874000789, 0.996195594541465, 0.9962333251939535, 0.9962706830489537, 0.9963076717622386, 0.9963442949542768, 0.9963805562105638, 0.9964164590819479, 0.9964520070849558, 0.996487203702114, 0.9965220523822667, 0.9965565565408923, 0.9965907195604176, 0.9966245447905261, 0.9966580355484681, 0.996691195119364, 0.9967240267565073, 0.9967565336816642, 0.9967887190853706, 0.9968205861272265, 0.996852137936188, 0.9968833776108558, 0.9969143082197628, 0.9969449328016571, 0.9969752543657845, 0.9970052758921671, 0.9970350003318796, 0.9970644306073242, 0.9970935696125005, 0.9971224202132772, 0.9971509852476563, 0.9971792675260396, 0.9972072698314891, 0.9972349949199875, 0.9972624455206949, 0.9972896243362046, 0.9973165340427952, 0.9973431772906811, 0.9973695567042602, 0.9973956748823609, 0.997421534398484, 0.9974471378010458, 0.9974724876136167, 0.997497586335158, 0.997522436440257, 0.9975470403793597, 0.9975714005790018, 0.9975955194420363, 0.9976193993478615, 0.9976430426526437, 0.9976664516895403, 0.9976896287689201, 0.9977125761785819, 0.9977352961839695, 0.9977577910283871, 0.9977800629332118, 0.9978021140981025, 0.9978239467012098, 0.9978455628993815, 0.9978669648283679, 0.9978881546030237, 0.9979091343175094, 0.9979299060454903, 0.9979504718403329, 0.9979708337353013, 0.9979909937437491, 0.998010953859313, 0.9980307160561009, 0.9980502822888813, 0.9980696544932691, 0.99808883458591, 0.9981078244646642, 0.998126626008787, 0.9981452410791084, 0.9981636715182116, 0.9981819191506078, 0.9981999857829122, 0.9982178732040163, 0.998235583185259, 0.9982531174805964, 0.9982704778267706, 0.9982876659434748, 0.9983046835335195, 0.9983215322829958, 0.9983382138614366, 0.9983547299219773, 0.9983710821015146, 0.9983872720208644, 0.9984033012849168, 0.9984191714827911, 0.9984348841879882, 0.998450440958543, 0.9984658433371731, 0.9984810928514295, 0.9984961910138413, 0.998511139322064, 0.998525939259022, 0.998540592293053, 0.9985550998780494, 0.9985694634535986, 0.9985836844451218, 0.9985977642640124, 0.998611704307772, 0.9986255059601461, 0.9986391705912567, 0.9986526995577366, 0.9986660942028599, 0.9986793558566714, 0.998692485836117, 0.9987054854451698, 0.9987183559749577, 0.998731098703888, 0.9987437148977714, 0.9987562058099448, 0.998768572681394, 0.9987808167408718, 0.9987929392050203, 0.9988049412784871, 0.9988168241540428, 0.9988285890126972, 0.9988402370238141, 0.998851769345225, 0.9988631871233417, 0.9988744914932679, 0.9988856835789098, 0.9988967644930855, 0.9989077353376333, 0.9989185972035193, 0.9989293511709432, 0.9989399983094445, 0.9989505396780057, 0.998960976325157, 0.9989713092890767, 0.9989815395976945, 0.9989916682687907, 0.9990016963100954, 0.9990116247193875, 0.9990214544845928, 0.9990311865838787, 0.9990408219857512, 0.9990503616491491, 0.9990598065235385, 0.9990691575490045, 0.9990784156563437, 0.9990875817671557, 0.9990966567939326, 0.9991056416401488, 0.9991145372003492, 0.999123344360237, 0.9991320639967605, 0.9991406969781989, 0.999149244164247, 0.9991577064061004, 0.9991660845465384, 0.9991743794200063, 0.9991825918526982, 0.9991907226626371, 0.9991987726597557, 0.9992067426459756, 0.9992146334152866, 0.9992224457538238, 0.9992301804399454, 0.9992378382443092, 0.999245419929948, 0.9992529262523441, 0.9992603579595052, 0.9992677157920359, 0.9992750004832124, 0.9992822127590525, 0.9992893533383895, 0.9992964229329405, 0.9993034222473782, 0.999310351979399, 0.9993172128197927, 0.9993240054525101, 0.9993307305547297, 0.9993373887969251, 0.9993439808429312, 0.9993505073500091, 0.9993569689689111, 0.9993633663439443, 0.999369700113035, 0.9993759709077908, 0.9993821793535635, 0.9993883260695102, 0.9993944116686545, 0.9994004367579469, 0.9994064019383254, 0.9994123078047735, 0.9994181549463802, 0.9994239439463968, 0.999429675382296, 0.9994353498258277, 0.9994409678430757, 0.9994465299945136, 0.9994520368350611, 0.9994574889141371, 0.9994628867757153, 0.9994682309583771, 0.9994735219953659, 0.9994787604146386, 0.9994839467389182, 0.9994890814857456, 0.9994941651675312, 0.9994991982916046, 0.999504181360265, 0.9995091148708317, 0.9995139993156924, 0.9995188351823522, 0.9995236229534818, 0.9995283631069655, 0.9995330561159479, 0.9995377024488815, 0.9995423025695721, 0.9995468569372258, 0.9995513660064935, 0.9995558302275172, 0.9995602500459724, 0.9995646259031143, 0.9995689582358211, 0.9995732474766362, 0.9995774940538118, 0.999581698391352, 0.9995858609090533, 0.9995899820225477, 0.9995940621433427, 0.9995981016788623, 0.9996021010324884, 0.9996060606035999, 0.999609980787612, 0.9996138619760162, 0.9996177045564187, 0.9996215089125788, 0.9996252754244473, 0.9996290044682036, 0.9996326964162938, 0.9996363516374667, 0.9996399704968114, 0.9996435533557927, 0.9996471005722876, 0.99965061250062, 0.9996540894915971, 0.9996575318925426, 0.999660940047333, 0.9996643142964302, 0.9996676549769161, 0.9996709624225258, 0.9996742369636812, 0.9996774789275228, 0.9996806886379432, 0.9996838664156192, 0.9996870125780426, 0.9996901274395532, 0.9996932113113688, 0.9996962645016169, 0.9996992873153651, 0.999702280054651, 0.9997052430185132, 0.9997081765030196, 0.9997110808012986, 0.9997139562035662, 0.9997168029971568, 0.9997196214665505, 0.9997224118934016, 0.9997251745565667, 0.9997279097321334, 0.9997306176934454, 0.9997332987111324, 0.9997359530531348, 0.999738580984732, 0.9997411827685678, 0.9997437586646762, 0.9997463089305092, 0.9997488338209596, 0.999751333588389, 0.9997538084826507, 0.9997562587511168, 0.9997586846387005, 0.9997610863878825, 0.9997634642387335, 0.999765818428939, 0.999768149193823, 0.999770456766371, 0.9997727413772538, 0.9997750032548491, 0.9997772426252662, 0.9997794597123668, 0.9997816547377886, 0.9997838279209659, 0.9997859794791533, 0.9997881096274454, 0.9997902185787999, 0.9997923065440577, 0.999794373731964, 0.9997964203491899, 0.9997984466003522, 0.9998004526880341, 0.999802438812805, 0.9998044051732409, 0.9998063519659445, 0.9998082793855638, 0.9998101876248121, 0.9998120768744874, 0.9998139473234912, 0.999815799158847, 0.9998176325657193, 0.9998194477274318, 0.9998212448254865, 0.9998230240395803, 0.9998247855476243, 0.9998265295257608, 0.9998282561483807, 0.999829965588142, 0.9998316580159853, 0.9998333336011525, 0.9998349925112026, 0.9998366349120287, 0.9998382609678748, 0.9998398708413516, 0.9998414646934537, 0.9998430426835746, 0.9998446049695224, 0.9998461517075379, 0.9998476830523064, 0.9998491991569766, 0.9998507001731737, 0.9998521862510158, 0.9998536575391281, 0.9998551141846577, 0.999856556333289, 0.9998579841292571, 0.9998593977153638, 0.9998607972329899, 0.9998621828221114, 0.9998635546213114, 0.9998649127677952, 0.9998662573974042, 0.9998675886446279, 0.9998689066426195, 0.9998702115232071, 0.9998715034169084, 0.9998727824529431, 0.9998740487592453, 0.9998753024624774, 0.9998765436880419, 0.9998777725600941, 0.9998789892015545, 0.9998801937341211, 0.9998813862782818, 0.9998825669533256, 0.9998837358773558, 0.9998848931673006, 0.9998860389389256, 0.9998871733068444, 0.9998882963845311, 0.9998894082843314, 0.9998905091174729, 0.9998915989940773, 0.9998926780231713, 0.9998937463126961, 0.9998948039695206, 0.9998958510994498, 0.9998968878072365, 0.9998979141965916, 0.9998989303701944, 0.9998999364297028, 0.9999009324757635, 0.9999019186080221, 0.9999028949251328, 0.9999038615247688, 0.9999048185036313, 0.9999057659574601, 0.999906703981042, 0.9999076326682214, 0.9999085521119087, 0.9999094624040905, 0.9999103636358381, 0.9999112558973168, 0.9999121392777951, 0.9999130138656532, 0.9999138797483924, 0.9999147370126433, 0.9999155857441746, 0.9999164260279019, 0.9999172579478958, 0.9999180815873911, 0.9999188970287939, 0.9999197043536908, 0.9999205036428565, 0.9999212949762621, 0.9999220784330834, 0.9999228540917086, 0.9999236220297452, 0.9999243823240292, 0.9999251350506324, 0.9999258802848687, 0.9999266181013042, 0.9999273485737618, 0.9999280717753305, 0.9999287877783722, 0.9999294966545285, 0.9999301984747284, 0.9999308933091954, 0.9999315812274538, 0.9999322622983365, 0.9999329365899916, 0.999933604169889, 0.9999342651048272, 0.9999349194609399, 0.9999355673037037, 0.9999362086979424, 0.999936843707836, 0.9999374723969249, 0.9999380948281179, 0.9999387110636977, 0.9999393211653274, 0.999939925194056, 0.9999405232103257, 0.9999411152739769, 0.9999417014442548, 0.9999422817798147, 0.9999428563387288, 0.9999434251784911, 0.9999439883560232, 0.999944545927681, 0.9999450979492591, 0.9999456444759973, 0.9999461855625853, 0.9999467212631687, 0.9999472516313547, 0.9999477767202165, 0.9999482965822993, 0.9999488112696259, 0.9999493208337007, 0.9999498253255164, 0.9999503247955571, 0.9999508192938059, 0.9999513088697477, 0.999951793572375, 0.9999522734501929, 0.9999527485512235, 0.9999532189230118, 0.9999536846126289, 0.9999541456666777, 0.9999546021312976]}],\n",
       "                        {\"template\": {\"data\": {\"bar\": [{\"error_x\": {\"color\": \"#2a3f5f\"}, \"error_y\": {\"color\": \"#2a3f5f\"}, \"marker\": {\"line\": {\"color\": \"#E5ECF6\", \"width\": 0.5}}, \"type\": \"bar\"}], \"barpolar\": [{\"marker\": {\"line\": {\"color\": \"#E5ECF6\", \"width\": 0.5}}, \"type\": \"barpolar\"}], \"carpet\": [{\"aaxis\": {\"endlinecolor\": \"#2a3f5f\", \"gridcolor\": \"white\", \"linecolor\": \"white\", \"minorgridcolor\": \"white\", \"startlinecolor\": \"#2a3f5f\"}, \"baxis\": {\"endlinecolor\": \"#2a3f5f\", \"gridcolor\": \"white\", \"linecolor\": \"white\", \"minorgridcolor\": \"white\", \"startlinecolor\": \"#2a3f5f\"}, \"type\": \"carpet\"}], \"choropleth\": [{\"colorbar\": {\"outlinewidth\": 0, \"ticks\": \"\"}, \"type\": \"choropleth\"}], \"contour\": [{\"colorbar\": {\"outlinewidth\": 0, \"ticks\": \"\"}, \"colorscale\": [[0.0, \"#0d0887\"], [0.1111111111111111, \"#46039f\"], [0.2222222222222222, \"#7201a8\"], [0.3333333333333333, \"#9c179e\"], [0.4444444444444444, \"#bd3786\"], [0.5555555555555556, \"#d8576b\"], [0.6666666666666666, \"#ed7953\"], [0.7777777777777778, \"#fb9f3a\"], [0.8888888888888888, \"#fdca26\"], [1.0, \"#f0f921\"]], \"type\": \"contour\"}], \"contourcarpet\": [{\"colorbar\": {\"outlinewidth\": 0, \"ticks\": \"\"}, \"type\": \"contourcarpet\"}], \"heatmap\": [{\"colorbar\": {\"outlinewidth\": 0, \"ticks\": \"\"}, \"colorscale\": [[0.0, \"#0d0887\"], [0.1111111111111111, \"#46039f\"], [0.2222222222222222, \"#7201a8\"], [0.3333333333333333, \"#9c179e\"], [0.4444444444444444, \"#bd3786\"], [0.5555555555555556, \"#d8576b\"], [0.6666666666666666, \"#ed7953\"], [0.7777777777777778, \"#fb9f3a\"], [0.8888888888888888, \"#fdca26\"], [1.0, \"#f0f921\"]], \"type\": \"heatmap\"}], \"heatmapgl\": [{\"colorbar\": {\"outlinewidth\": 0, \"ticks\": \"\"}, \"colorscale\": [[0.0, \"#0d0887\"], [0.1111111111111111, \"#46039f\"], [0.2222222222222222, \"#7201a8\"], [0.3333333333333333, \"#9c179e\"], [0.4444444444444444, \"#bd3786\"], [0.5555555555555556, \"#d8576b\"], [0.6666666666666666, \"#ed7953\"], [0.7777777777777778, \"#fb9f3a\"], [0.8888888888888888, \"#fdca26\"], [1.0, \"#f0f921\"]], \"type\": \"heatmapgl\"}], \"histogram\": [{\"marker\": {\"colorbar\": {\"outlinewidth\": 0, \"ticks\": \"\"}}, \"type\": \"histogram\"}], \"histogram2d\": [{\"colorbar\": {\"outlinewidth\": 0, \"ticks\": \"\"}, \"colorscale\": [[0.0, \"#0d0887\"], [0.1111111111111111, \"#46039f\"], [0.2222222222222222, \"#7201a8\"], [0.3333333333333333, \"#9c179e\"], [0.4444444444444444, \"#bd3786\"], [0.5555555555555556, \"#d8576b\"], [0.6666666666666666, \"#ed7953\"], [0.7777777777777778, \"#fb9f3a\"], [0.8888888888888888, \"#fdca26\"], [1.0, \"#f0f921\"]], \"type\": \"histogram2d\"}], \"histogram2dcontour\": [{\"colorbar\": {\"outlinewidth\": 0, \"ticks\": \"\"}, \"colorscale\": [[0.0, \"#0d0887\"], [0.1111111111111111, \"#46039f\"], [0.2222222222222222, \"#7201a8\"], [0.3333333333333333, \"#9c179e\"], [0.4444444444444444, \"#bd3786\"], [0.5555555555555556, \"#d8576b\"], [0.6666666666666666, \"#ed7953\"], [0.7777777777777778, \"#fb9f3a\"], [0.8888888888888888, \"#fdca26\"], [1.0, \"#f0f921\"]], \"type\": \"histogram2dcontour\"}], \"mesh3d\": [{\"colorbar\": {\"outlinewidth\": 0, \"ticks\": \"\"}, \"type\": \"mesh3d\"}], \"parcoords\": [{\"line\": {\"colorbar\": {\"outlinewidth\": 0, \"ticks\": \"\"}}, \"type\": \"parcoords\"}], \"pie\": [{\"automargin\": true, \"type\": \"pie\"}], \"scatter\": [{\"marker\": {\"colorbar\": {\"outlinewidth\": 0, \"ticks\": \"\"}}, \"type\": \"scatter\"}], \"scatter3d\": [{\"line\": {\"colorbar\": {\"outlinewidth\": 0, \"ticks\": \"\"}}, \"marker\": {\"colorbar\": {\"outlinewidth\": 0, \"ticks\": \"\"}}, \"type\": \"scatter3d\"}], \"scattercarpet\": [{\"marker\": {\"colorbar\": {\"outlinewidth\": 0, \"ticks\": \"\"}}, \"type\": \"scattercarpet\"}], \"scattergeo\": [{\"marker\": {\"colorbar\": {\"outlinewidth\": 0, \"ticks\": \"\"}}, \"type\": \"scattergeo\"}], \"scattergl\": [{\"marker\": {\"colorbar\": {\"outlinewidth\": 0, \"ticks\": \"\"}}, \"type\": \"scattergl\"}], \"scattermapbox\": [{\"marker\": {\"colorbar\": {\"outlinewidth\": 0, \"ticks\": \"\"}}, \"type\": \"scattermapbox\"}], \"scatterpolar\": [{\"marker\": {\"colorbar\": {\"outlinewidth\": 0, \"ticks\": \"\"}}, \"type\": \"scatterpolar\"}], \"scatterpolargl\": [{\"marker\": {\"colorbar\": {\"outlinewidth\": 0, \"ticks\": \"\"}}, \"type\": \"scatterpolargl\"}], \"scatterternary\": [{\"marker\": {\"colorbar\": {\"outlinewidth\": 0, \"ticks\": \"\"}}, \"type\": \"scatterternary\"}], \"surface\": [{\"colorbar\": {\"outlinewidth\": 0, \"ticks\": \"\"}, \"colorscale\": [[0.0, \"#0d0887\"], [0.1111111111111111, \"#46039f\"], [0.2222222222222222, \"#7201a8\"], [0.3333333333333333, \"#9c179e\"], [0.4444444444444444, \"#bd3786\"], [0.5555555555555556, \"#d8576b\"], [0.6666666666666666, \"#ed7953\"], [0.7777777777777778, \"#fb9f3a\"], [0.8888888888888888, \"#fdca26\"], [1.0, \"#f0f921\"]], \"type\": \"surface\"}], \"table\": [{\"cells\": {\"fill\": {\"color\": \"#EBF0F8\"}, \"line\": {\"color\": \"white\"}}, \"header\": {\"fill\": {\"color\": \"#C8D4E3\"}, \"line\": {\"color\": \"white\"}}, \"type\": \"table\"}]}, \"layout\": {\"annotationdefaults\": {\"arrowcolor\": \"#2a3f5f\", \"arrowhead\": 0, \"arrowwidth\": 1}, \"coloraxis\": {\"colorbar\": {\"outlinewidth\": 0, \"ticks\": \"\"}}, \"colorscale\": {\"diverging\": [[0, \"#8e0152\"], [0.1, \"#c51b7d\"], [0.2, \"#de77ae\"], [0.3, \"#f1b6da\"], [0.4, \"#fde0ef\"], [0.5, \"#f7f7f7\"], [0.6, \"#e6f5d0\"], [0.7, \"#b8e186\"], [0.8, \"#7fbc41\"], [0.9, \"#4d9221\"], [1, \"#276419\"]], \"sequential\": [[0.0, \"#0d0887\"], [0.1111111111111111, \"#46039f\"], [0.2222222222222222, \"#7201a8\"], [0.3333333333333333, \"#9c179e\"], [0.4444444444444444, \"#bd3786\"], [0.5555555555555556, \"#d8576b\"], [0.6666666666666666, \"#ed7953\"], [0.7777777777777778, \"#fb9f3a\"], [0.8888888888888888, \"#fdca26\"], [1.0, \"#f0f921\"]], \"sequentialminus\": [[0.0, \"#0d0887\"], [0.1111111111111111, \"#46039f\"], [0.2222222222222222, \"#7201a8\"], [0.3333333333333333, \"#9c179e\"], [0.4444444444444444, \"#bd3786\"], [0.5555555555555556, \"#d8576b\"], [0.6666666666666666, \"#ed7953\"], [0.7777777777777778, \"#fb9f3a\"], [0.8888888888888888, \"#fdca26\"], [1.0, \"#f0f921\"]]}, \"colorway\": [\"#636efa\", \"#EF553B\", \"#00cc96\", \"#ab63fa\", \"#FFA15A\", \"#19d3f3\", \"#FF6692\", \"#B6E880\", \"#FF97FF\", \"#FECB52\"], \"font\": {\"color\": \"#2a3f5f\"}, \"geo\": {\"bgcolor\": \"white\", \"lakecolor\": \"white\", \"landcolor\": \"#E5ECF6\", \"showlakes\": true, \"showland\": true, \"subunitcolor\": \"white\"}, \"hoverlabel\": {\"align\": \"left\"}, \"hovermode\": \"closest\", \"mapbox\": {\"style\": \"light\"}, \"paper_bgcolor\": \"white\", \"plot_bgcolor\": \"#E5ECF6\", \"polar\": {\"angularaxis\": {\"gridcolor\": \"white\", \"linecolor\": \"white\", \"ticks\": \"\"}, \"bgcolor\": \"#E5ECF6\", \"radialaxis\": {\"gridcolor\": \"white\", \"linecolor\": \"white\", \"ticks\": \"\"}}, \"scene\": {\"xaxis\": {\"backgroundcolor\": \"#E5ECF6\", \"gridcolor\": \"white\", \"gridwidth\": 2, \"linecolor\": \"white\", \"showbackground\": true, \"ticks\": \"\", \"zerolinecolor\": \"white\"}, \"yaxis\": {\"backgroundcolor\": \"#E5ECF6\", \"gridcolor\": \"white\", \"gridwidth\": 2, \"linecolor\": \"white\", \"showbackground\": true, \"ticks\": \"\", \"zerolinecolor\": \"white\"}, \"zaxis\": {\"backgroundcolor\": \"#E5ECF6\", \"gridcolor\": \"white\", \"gridwidth\": 2, \"linecolor\": \"white\", \"showbackground\": true, \"ticks\": \"\", \"zerolinecolor\": \"white\"}}, \"shapedefaults\": {\"line\": {\"color\": \"#2a3f5f\"}}, \"ternary\": {\"aaxis\": {\"gridcolor\": \"white\", \"linecolor\": \"white\", \"ticks\": \"\"}, \"baxis\": {\"gridcolor\": \"white\", \"linecolor\": \"white\", \"ticks\": \"\"}, \"bgcolor\": \"#E5ECF6\", \"caxis\": {\"gridcolor\": \"white\", \"linecolor\": \"white\", \"ticks\": \"\"}}, \"title\": {\"x\": 0.05}, \"xaxis\": {\"automargin\": true, \"gridcolor\": \"white\", \"linecolor\": \"white\", \"ticks\": \"\", \"title\": {\"standoff\": 15}, \"zerolinecolor\": \"white\", \"zerolinewidth\": 2}, \"yaxis\": {\"automargin\": true, \"gridcolor\": \"white\", \"linecolor\": \"white\", \"ticks\": \"\", \"title\": {\"standoff\": 15}, \"zerolinecolor\": \"white\", \"zerolinewidth\": 2}}}},\n",
       "                        {\"responsive\": true}\n",
       "                    ).then(function(){\n",
       "                            \n",
       "var gd = document.getElementById('e22ec6e5-c88d-4859-8ac7-7881d193b522');\n",
       "var x = new MutationObserver(function (mutations, observer) {{\n",
       "        var display = window.getComputedStyle(gd).display;\n",
       "        if (!display || display === 'none') {{\n",
       "            console.log([gd, 'removed!']);\n",
       "            Plotly.purge(gd);\n",
       "            observer.disconnect();\n",
       "        }}\n",
       "}});\n",
       "\n",
       "// Listen for the removal of the full notebook cells\n",
       "var notebookContainer = gd.closest('#notebook-container');\n",
       "if (notebookContainer) {{\n",
       "    x.observe(notebookContainer, {childList: true});\n",
       "}}\n",
       "\n",
       "// Listen for the clearing of the current output cell\n",
       "var outputEl = gd.closest('.output');\n",
       "if (outputEl) {{\n",
       "    x.observe(outputEl, {childList: true});\n",
       "}}\n",
       "\n",
       "                        })\n",
       "                };\n",
       "                });\n",
       "            </script>\n",
       "        </div>"
      ]
     },
     "metadata": {},
     "output_type": "display_data"
    }
   ],
   "source": [
    "# 绘制sigmoid图像\n",
    "x = np.linspace(-10, 10, 2000)\n",
    "y = 1 / (1 + np.exp(-x))\n",
    "go.Figure(data=go.Scatter(x=x, y=y))"
   ]
  },
  {
   "cell_type": "code",
   "execution_count": 11,
   "metadata": {},
   "outputs": [],
   "source": [
    "X = data.drop('target', axis=1)\n",
    "y = data['target']\n",
    "X_train, X_test, y_train, y_test = ms.train_test_split(X,\n",
    "                                                       y,\n",
    "                                                       test_size=0.1,\n",
    "                                                       random_state=7)\n",
    "\n",
    "import sklearn.linear_model as lm\n",
    "model = lm.LogisticRegression(solver='liblinear', multi_class='auto')\n",
    "model.fit(X_train, y_train)\n",
    "predictions = model.predict(X_test)"
   ]
  },
  {
   "cell_type": "code",
   "execution_count": 12,
   "metadata": {},
   "outputs": [
    {
     "name": "stdout",
     "output_type": "stream",
     "text": [
      "              precision    recall  f1-score   support\n",
      "\n",
      "           0       1.00      1.00      1.00         5\n",
      "           1       1.00      0.43      0.60         7\n",
      "           2       0.43      1.00      0.60         3\n",
      "\n",
      "    accuracy                           0.73        15\n",
      "   macro avg       0.81      0.81      0.73        15\n",
      "weighted avg       0.89      0.73      0.73        15\n",
      "\n"
     ]
    }
   ],
   "source": [
    "print(sm.classification_report(y_test, predictions))"
   ]
  },
  {
   "cell_type": "code",
   "execution_count": 13,
   "metadata": {
    "scrolled": true
   },
   "outputs": [
    {
     "name": "stdout",
     "output_type": "stream",
     "text": [
      "[[5 0 0]\n",
      " [0 3 4]\n",
      " [0 0 3]]\n"
     ]
    }
   ],
   "source": [
    "print(sm.confusion_matrix(y_test, predictions))"
   ]
  },
  {
   "cell_type": "code",
   "execution_count": 14,
   "metadata": {},
   "outputs": [
    {
     "data": {
      "text/html": [
       "<div>\n",
       "<style scoped>\n",
       "    .dataframe tbody tr th:only-of-type {\n",
       "        vertical-align: middle;\n",
       "    }\n",
       "\n",
       "    .dataframe tbody tr th {\n",
       "        vertical-align: top;\n",
       "    }\n",
       "\n",
       "    .dataframe thead th {\n",
       "        text-align: right;\n",
       "    }\n",
       "</style>\n",
       "<table border=\"1\" class=\"dataframe\">\n",
       "  <thead>\n",
       "    <tr style=\"text-align: right;\">\n",
       "      <th></th>\n",
       "      <th>sepal length (cm)</th>\n",
       "      <th>sepal width (cm)</th>\n",
       "      <th>petal length (cm)</th>\n",
       "      <th>petal width (cm)</th>\n",
       "    </tr>\n",
       "  </thead>\n",
       "  <tbody>\n",
       "    <tr>\n",
       "      <th>84</th>\n",
       "      <td>5.4</td>\n",
       "      <td>3.0</td>\n",
       "      <td>4.5</td>\n",
       "      <td>1.5</td>\n",
       "    </tr>\n",
       "    <tr>\n",
       "      <th>66</th>\n",
       "      <td>5.6</td>\n",
       "      <td>3.0</td>\n",
       "      <td>4.5</td>\n",
       "      <td>1.5</td>\n",
       "    </tr>\n",
       "    <tr>\n",
       "      <th>77</th>\n",
       "      <td>6.7</td>\n",
       "      <td>3.0</td>\n",
       "      <td>5.0</td>\n",
       "      <td>1.7</td>\n",
       "    </tr>\n",
       "    <tr>\n",
       "      <th>85</th>\n",
       "      <td>6.0</td>\n",
       "      <td>3.4</td>\n",
       "      <td>4.5</td>\n",
       "      <td>1.6</td>\n",
       "    </tr>\n",
       "  </tbody>\n",
       "</table>\n",
       "</div>"
      ],
      "text/plain": [
       "    sepal length (cm)  sepal width (cm)  petal length (cm)  petal width (cm)\n",
       "84                5.4               3.0                4.5               1.5\n",
       "66                5.6               3.0                4.5               1.5\n",
       "77                6.7               3.0                5.0               1.7\n",
       "85                6.0               3.4                4.5               1.6"
      ]
     },
     "execution_count": 14,
     "metadata": {},
     "output_type": "execute_result"
    }
   ],
   "source": [
    "X_test[predictions != y_test]"
   ]
  }
 ],
 "metadata": {
  "kernelspec": {
   "display_name": "Python 3",
   "language": "python",
   "name": "python3"
  },
  "language_info": {
   "codemirror_mode": {
    "name": "ipython",
    "version": 3
   },
   "file_extension": ".py",
   "mimetype": "text/x-python",
   "name": "python",
   "nbconvert_exporter": "python",
   "pygments_lexer": "ipython3",
   "version": "3.7.7"
  }
 },
 "nbformat": 4,
 "nbformat_minor": 4
}
