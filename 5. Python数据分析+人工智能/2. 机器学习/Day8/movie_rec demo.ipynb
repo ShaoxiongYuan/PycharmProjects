{
 "cells": [
  {
   "cell_type": "code",
   "execution_count": 1,
   "metadata": {},
   "outputs": [],
   "source": [
    "import warnings\n",
    "warnings.filterwarnings('ignore')"
   ]
  },
  {
   "cell_type": "code",
   "execution_count": 2,
   "metadata": {},
   "outputs": [],
   "source": [
    "import numpy as np\n",
    "import pandas as pd\n",
    "import matplotlib.pyplot as plt\n",
    "import seaborn as sns"
   ]
  },
  {
   "cell_type": "code",
   "execution_count": 3,
   "metadata": {},
   "outputs": [],
   "source": [
    "%matplotlib inline"
   ]
  },
  {
   "cell_type": "code",
   "execution_count": 4,
   "metadata": {},
   "outputs": [
    {
     "data": {
      "text/html": [
       "<div>\n",
       "<style scoped>\n",
       "    .dataframe tbody tr th:only-of-type {\n",
       "        vertical-align: middle;\n",
       "    }\n",
       "\n",
       "    .dataframe tbody tr th {\n",
       "        vertical-align: top;\n",
       "    }\n",
       "\n",
       "    .dataframe thead th {\n",
       "        text-align: right;\n",
       "    }\n",
       "</style>\n",
       "<table border=\"1\" class=\"dataframe\">\n",
       "  <thead>\n",
       "    <tr style=\"text-align: right;\">\n",
       "      <th></th>\n",
       "      <th>John Carson</th>\n",
       "      <th>Michelle Peterson</th>\n",
       "      <th>William Reynolds</th>\n",
       "      <th>Jillian Hobart</th>\n",
       "      <th>Melissa Jones</th>\n",
       "      <th>Alex Roberts</th>\n",
       "      <th>Michael Henry</th>\n",
       "    </tr>\n",
       "  </thead>\n",
       "  <tbody>\n",
       "    <tr>\n",
       "      <th>Inception</th>\n",
       "      <td>2.5</td>\n",
       "      <td>3.0</td>\n",
       "      <td>2.5</td>\n",
       "      <td>NaN</td>\n",
       "      <td>3</td>\n",
       "      <td>3.0</td>\n",
       "      <td>NaN</td>\n",
       "    </tr>\n",
       "    <tr>\n",
       "      <th>Pulp Fiction</th>\n",
       "      <td>3.5</td>\n",
       "      <td>3.5</td>\n",
       "      <td>3.0</td>\n",
       "      <td>3.5</td>\n",
       "      <td>4</td>\n",
       "      <td>4.0</td>\n",
       "      <td>4.5</td>\n",
       "    </tr>\n",
       "    <tr>\n",
       "      <th>Anger Management</th>\n",
       "      <td>3.0</td>\n",
       "      <td>1.5</td>\n",
       "      <td>NaN</td>\n",
       "      <td>3.0</td>\n",
       "      <td>2</td>\n",
       "      <td>NaN</td>\n",
       "      <td>NaN</td>\n",
       "    </tr>\n",
       "    <tr>\n",
       "      <th>Fracture</th>\n",
       "      <td>3.5</td>\n",
       "      <td>5.0</td>\n",
       "      <td>3.5</td>\n",
       "      <td>4.0</td>\n",
       "      <td>3</td>\n",
       "      <td>5.0</td>\n",
       "      <td>4.0</td>\n",
       "    </tr>\n",
       "    <tr>\n",
       "      <th>Serendipity</th>\n",
       "      <td>2.5</td>\n",
       "      <td>3.5</td>\n",
       "      <td>NaN</td>\n",
       "      <td>2.5</td>\n",
       "      <td>2</td>\n",
       "      <td>3.5</td>\n",
       "      <td>1.0</td>\n",
       "    </tr>\n",
       "    <tr>\n",
       "      <th>Jerry Maguire</th>\n",
       "      <td>3.0</td>\n",
       "      <td>3.0</td>\n",
       "      <td>4.0</td>\n",
       "      <td>4.5</td>\n",
       "      <td>3</td>\n",
       "      <td>3.0</td>\n",
       "      <td>NaN</td>\n",
       "    </tr>\n",
       "  </tbody>\n",
       "</table>\n",
       "</div>"
      ],
      "text/plain": [
       "                  John Carson  Michelle Peterson  William Reynolds  \\\n",
       "Inception                 2.5                3.0               2.5   \n",
       "Pulp Fiction              3.5                3.5               3.0   \n",
       "Anger Management          3.0                1.5               NaN   \n",
       "Fracture                  3.5                5.0               3.5   \n",
       "Serendipity               2.5                3.5               NaN   \n",
       "Jerry Maguire             3.0                3.0               4.0   \n",
       "\n",
       "                  Jillian Hobart  Melissa Jones  Alex Roberts  Michael Henry  \n",
       "Inception                    NaN              3           3.0            NaN  \n",
       "Pulp Fiction                 3.5              4           4.0            4.5  \n",
       "Anger Management             3.0              2           NaN            NaN  \n",
       "Fracture                     4.0              3           5.0            4.0  \n",
       "Serendipity                  2.5              2           3.5            1.0  \n",
       "Jerry Maguire                4.5              3           3.0            NaN  "
      ]
     },
     "execution_count": 4,
     "metadata": {},
     "output_type": "execute_result"
    }
   ],
   "source": [
    "data = pd.read_json('ratings.json')\n",
    "data"
   ]
  },
  {
   "cell_type": "markdown",
   "metadata": {},
   "source": [
    "### 相关系数"
   ]
  },
  {
   "cell_type": "code",
   "execution_count": 5,
   "metadata": {},
   "outputs": [
    {
     "data": {
      "text/html": [
       "<div>\n",
       "<style scoped>\n",
       "    .dataframe tbody tr th:only-of-type {\n",
       "        vertical-align: middle;\n",
       "    }\n",
       "\n",
       "    .dataframe tbody tr th {\n",
       "        vertical-align: top;\n",
       "    }\n",
       "\n",
       "    .dataframe thead th {\n",
       "        text-align: right;\n",
       "    }\n",
       "</style>\n",
       "<table border=\"1\" class=\"dataframe\">\n",
       "  <thead>\n",
       "    <tr style=\"text-align: right;\">\n",
       "      <th></th>\n",
       "      <th>John Carson</th>\n",
       "      <th>Michelle Peterson</th>\n",
       "      <th>William Reynolds</th>\n",
       "      <th>Jillian Hobart</th>\n",
       "      <th>Melissa Jones</th>\n",
       "      <th>Alex Roberts</th>\n",
       "      <th>Michael Henry</th>\n",
       "    </tr>\n",
       "  </thead>\n",
       "  <tbody>\n",
       "    <tr>\n",
       "      <th>John Carson</th>\n",
       "      <td>1.000000</td>\n",
       "      <td>0.396059</td>\n",
       "      <td>0.404520</td>\n",
       "      <td>0.566947</td>\n",
       "      <td>0.594089</td>\n",
       "      <td>0.747018</td>\n",
       "      <td>0.991241</td>\n",
       "    </tr>\n",
       "    <tr>\n",
       "      <th>Michelle Peterson</th>\n",
       "      <td>0.396059</td>\n",
       "      <td>1.000000</td>\n",
       "      <td>0.204598</td>\n",
       "      <td>0.314970</td>\n",
       "      <td>0.411765</td>\n",
       "      <td>0.963796</td>\n",
       "      <td>0.381246</td>\n",
       "    </tr>\n",
       "    <tr>\n",
       "      <th>William Reynolds</th>\n",
       "      <td>0.404520</td>\n",
       "      <td>0.204598</td>\n",
       "      <td>1.000000</td>\n",
       "      <td>1.000000</td>\n",
       "      <td>-0.258199</td>\n",
       "      <td>0.134840</td>\n",
       "      <td>-1.000000</td>\n",
       "    </tr>\n",
       "    <tr>\n",
       "      <th>Jillian Hobart</th>\n",
       "      <td>0.566947</td>\n",
       "      <td>0.314970</td>\n",
       "      <td>1.000000</td>\n",
       "      <td>1.000000</td>\n",
       "      <td>0.566947</td>\n",
       "      <td>0.028571</td>\n",
       "      <td>0.893405</td>\n",
       "    </tr>\n",
       "    <tr>\n",
       "      <th>Melissa Jones</th>\n",
       "      <td>0.594089</td>\n",
       "      <td>0.411765</td>\n",
       "      <td>-0.258199</td>\n",
       "      <td>0.566947</td>\n",
       "      <td>1.000000</td>\n",
       "      <td>0.211289</td>\n",
       "      <td>0.924473</td>\n",
       "    </tr>\n",
       "    <tr>\n",
       "      <th>Alex Roberts</th>\n",
       "      <td>0.747018</td>\n",
       "      <td>0.963796</td>\n",
       "      <td>0.134840</td>\n",
       "      <td>0.028571</td>\n",
       "      <td>0.211289</td>\n",
       "      <td>1.000000</td>\n",
       "      <td>0.662849</td>\n",
       "    </tr>\n",
       "    <tr>\n",
       "      <th>Michael Henry</th>\n",
       "      <td>0.991241</td>\n",
       "      <td>0.381246</td>\n",
       "      <td>-1.000000</td>\n",
       "      <td>0.893405</td>\n",
       "      <td>0.924473</td>\n",
       "      <td>0.662849</td>\n",
       "      <td>1.000000</td>\n",
       "    </tr>\n",
       "  </tbody>\n",
       "</table>\n",
       "</div>"
      ],
      "text/plain": [
       "                   John Carson  Michelle Peterson  William Reynolds  \\\n",
       "John Carson           1.000000           0.396059          0.404520   \n",
       "Michelle Peterson     0.396059           1.000000          0.204598   \n",
       "William Reynolds      0.404520           0.204598          1.000000   \n",
       "Jillian Hobart        0.566947           0.314970          1.000000   \n",
       "Melissa Jones         0.594089           0.411765         -0.258199   \n",
       "Alex Roberts          0.747018           0.963796          0.134840   \n",
       "Michael Henry         0.991241           0.381246         -1.000000   \n",
       "\n",
       "                   Jillian Hobart  Melissa Jones  Alex Roberts  Michael Henry  \n",
       "John Carson              0.566947       0.594089      0.747018       0.991241  \n",
       "Michelle Peterson        0.314970       0.411765      0.963796       0.381246  \n",
       "William Reynolds         1.000000      -0.258199      0.134840      -1.000000  \n",
       "Jillian Hobart           1.000000       0.566947      0.028571       0.893405  \n",
       "Melissa Jones            0.566947       1.000000      0.211289       0.924473  \n",
       "Alex Roberts             0.028571       0.211289      1.000000       0.662849  \n",
       "Michael Henry            0.893405       0.924473      0.662849       1.000000  "
      ]
     },
     "execution_count": 5,
     "metadata": {},
     "output_type": "execute_result"
    }
   ],
   "source": [
    "data.corr()"
   ]
  },
  {
   "cell_type": "code",
   "execution_count": 6,
   "metadata": {},
   "outputs": [
    {
     "data": {
      "text/plain": [
       "<matplotlib.axes._subplots.AxesSubplot at 0x2221102a908>"
      ]
     },
     "execution_count": 6,
     "metadata": {},
     "output_type": "execute_result"
    },
    {
     "data": {
      "image/png": "[encoded data removed]",
      "text/plain": [
       "<Figure size 432x288 with 2 Axes>"
      ]
     },
     "metadata": {
      "needs_background": "light"
     },
     "output_type": "display_data"
    }
   ],
   "source": [
    "sns.heatmap(data.corr(), cmap='coolwarm', annot=True)"
   ]
  },
  {
   "cell_type": "markdown",
   "metadata": {},
   "source": [
    "### 欧氏距离"
   ]
  },
  {
   "cell_type": "code",
   "execution_count": 7,
   "metadata": {},
   "outputs": [
    {
     "name": "stdout",
     "output_type": "stream",
     "text": [
      "1.00  0.29  0.47  0.39  0.41  0.34  0.35\n",
      "0.29  1.00  0.34  0.28  0.28  0.67  0.26\n",
      "0.47  0.34  1.00  0.54  0.39  0.32  0.39\n",
      "0.39  0.28  0.54  1.00  0.31  0.32  0.36\n",
      "0.41  0.28  0.39  0.31  1.00  0.29  0.40\n",
      "0.34  0.67  0.32  0.32  0.29  1.00  0.27\n",
      "0.35  0.26  0.39  0.36  0.40  0.27  1.00\n"
     ]
    }
   ],
   "source": [
    "with open('ratings.json', 'r') as f:\n",
    "    ratings = json.loads(f.read())\n",
    "users, scmat = list(ratings.keys()), []\n",
    "for user1 in users:\n",
    "    scrow = []\n",
    "    for user2 in users:\n",
    "        movies = set()\n",
    "        for movie in ratings[user1]:\n",
    "            if movie in ratings[user2]:\n",
    "                movies.add(movie)\n",
    "        if len(movies) == 0:\n",
    "            score = 0\n",
    "        else:\n",
    "            x, y = [], []\n",
    "            for movie in movies:\n",
    "                x.append(ratings[user1][movie])\n",
    "                y.append(ratings[user2][movie])\n",
    "            x = np.array(x)\n",
    "            y = np.array(y)\n",
    "            score = 1 / (1 + np.sqrt(((x - y)**2).sum()))\n",
    "        scrow.append(score)\n",
    "    scmat.append(scrow)\n",
    "users = np.array(users)\n",
    "scmat = np.array(scmat)\n",
    "for scrow in scmat:\n",
    "    print('  '.join('{:.2f}'.format(score) for score in scrow))"
   ]
  },
  {
   "cell_type": "code",
   "execution_count": 8,
   "metadata": {},
   "outputs": [],
   "source": [
    "simmat = data.corr()"
   ]
  },
  {
   "cell_type": "code",
   "execution_count": 9,
   "metadata": {},
   "outputs": [
    {
     "data": {
      "text/plain": [
       "John Carson          0.991241\n",
       "Melissa Jones        0.924473\n",
       "Jillian Hobart       0.893405\n",
       "Alex Roberts         0.662849\n",
       "Michelle Peterson    0.381246\n",
       "Name: Michael Henry, dtype: float64"
      ]
     },
     "execution_count": 9,
     "metadata": {},
     "output_type": "execute_result"
    }
   ],
   "source": [
    "login_user = 'Michael Henry'\n",
    "# 相似矩阵找到相似用户（去掉自己，大小排序，去掉反相关用户）\n",
    "simusers = simmat[login_user].sort_values(ascending=False)\n",
    "simusers = simusers.drop(login_user)\n",
    "simusers = simusers[simusers > 0]\n",
    "simusers"
   ]
  },
  {
   "cell_type": "code",
   "execution_count": 10,
   "metadata": {},
   "outputs": [
    {
     "name": "stdout",
     "output_type": "stream",
     "text": [
      "{'Inception': [[2.5, 3, 3.0, 3.0], [0.9912407071619304, 0.924473451641905, 0.6628489803598702, 0.3812464258315117]], 'Anger Management': [[3.0, 2, 3.0, 1.5], [0.9912407071619304, 0.924473451641905, 0.8934051474415644, 0.3812464258315117]], 'Jerry Maguire': [[3.0, 3, 4.5, 3.0, 3.0], [0.9912407071619304, 0.924473451641905, 0.8934051474415644, 0.6628489803598702, 0.3812464258315117]]}\n"
     ]
    }
   ],
   "source": [
    "reco_movies = {}\n",
    "for simuser, simscore in simusers.items():\n",
    "    # 找到simuser看过的而登录用户没有看过的\n",
    "    movies = data[simuser].dropna()\n",
    "    for movie, score in movies.items():\n",
    "        if pd.isna(data[login_user][movie]):\n",
    "            if movie not in reco_movies:\n",
    "                reco_movies[movie] = [[], []]\n",
    "            reco_movies[movie][0].append(score)\n",
    "            reco_movies[movie][1].append(simscore)\n",
    "print(reco_movies)"
   ]
  },
  {
   "cell_type": "code",
   "execution_count": 11,
   "metadata": {},
   "outputs": [
    {
     "name": "stdout",
     "output_type": "stream",
     "text": [
      "Movie name: Jerry Maguire\n",
      "Movie name: Inception\n",
      "Movie name: Anger Management\n"
     ]
    }
   ],
   "source": [
    "sorted_movie_list = sorted(reco_movies.items(),\n",
    "                           key=lambda x: np.average(x[1][0], weights=x[1][1]),\n",
    "                           reverse=True)\n",
    "for info in sorted_movie_list:\n",
    "    print('Movie name:', info[0])"
   ]
  }
 ],
 "metadata": {
  "kernelspec": {
   "display_name": "Python 3",
   "language": "python",
   "name": "python3"
  },
  "language_info": {
   "codemirror_mode": {
    "name": "ipython",
    "version": 3
   },
   "file_extension": ".py",
   "mimetype": "text/x-python",
   "name": "python",
   "nbconvert_exporter": "python",
   "pygments_lexer": "ipython3",
   "version": "3.7.7"
  }
 },
 "nbformat": 4,
 "nbformat_minor": 4
}
