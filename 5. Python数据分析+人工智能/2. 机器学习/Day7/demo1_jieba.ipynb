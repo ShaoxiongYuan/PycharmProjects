{
 "cells": [
  {
   "cell_type": "code",
   "execution_count": 1,
   "metadata": {},
   "outputs": [],
   "source": [
    "import jieba"
   ]
  },
  {
   "cell_type": "code",
   "execution_count": 2,
   "metadata": {},
   "outputs": [
    {
     "name": "stderr",
     "output_type": "stream",
     "text": [
      "Building prefix dict from the default dictionary ...\n",
      "Loading model from cache C:\\Users\\HP\\AppData\\Local\\Temp\\jieba.cache\n",
      "Loading model cost 0.822 seconds.\n",
      "Prefix dict has been built successfully.\n"
     ]
    }
   ],
   "source": [
    "jieba.load_userdict('userdict.txt')"
   ]
  },
  {
   "cell_type": "code",
   "execution_count": 3,
   "metadata": {},
   "outputs": [
    {
     "data": {
      "text/plain": [
       "'商务/大床房/，/房间/很大/，/床有/2M/宽/，/整体/感觉/经济实惠/不错/!'"
      ]
     },
     "execution_count": 3,
     "metadata": {},
     "output_type": "execute_result"
    }
   ],
   "source": [
    "words = jieba.cut('商务大床房，房间很大，床有2M宽，整体感觉经济实惠不错!')\n",
    "'/'.join(words)"
   ]
  },
  {
   "cell_type": "code",
   "execution_count": 4,
   "metadata": {},
   "outputs": [
    {
     "data": {
      "text/plain": [
       "'小明/硕士/毕业/于/中国/科学/学院/科学院/中国科学院/计算/计算所/，/后/在/日本/京都/大学/日本京都大学/深造'"
      ]
     },
     "execution_count": 4,
     "metadata": {},
     "output_type": "execute_result"
    }
   ],
   "source": [
    "words = jieba.cut_for_search('小明硕士毕业于中国科学院计算所，后在日本京都大学深造')\n",
    "'/'.join(words)"
   ]
  },
  {
   "cell_type": "code",
   "execution_count": 5,
   "metadata": {},
   "outputs": [
    {
     "data": {
      "text/plain": [
       "'乒乓球拍 / 卖完 / 了'"
      ]
     },
     "execution_count": 5,
     "metadata": {},
     "output_type": "execute_result"
    }
   ],
   "source": [
    "words = jieba.cut('乒乓球拍卖完了')\n",
    "' / '.join(words)"
   ]
  },
  {
   "cell_type": "code",
   "execution_count": 6,
   "metadata": {},
   "outputs": [
    {
     "data": {
      "text/plain": [
       "['香港',\n",
       " '国家',\n",
       " '安全',\n",
       " '法律',\n",
       " '香港特区',\n",
       " '维护',\n",
       " '立法',\n",
       " '势力',\n",
       " '香港市民',\n",
       " '一国两制',\n",
       " '事务',\n",
       " '基本法',\n",
       " '严重危害',\n",
       " '市民',\n",
       " '全国人民代表大会',\n",
       " '公然',\n",
       " '行为',\n",
       " '中央',\n",
       " '各位',\n",
       " '切实']"
      ]
     },
     "execution_count": 6,
     "metadata": {},
     "output_type": "execute_result"
    }
   ],
   "source": [
    "import jieba.analyse as ja\n",
    "doc = \"\"\"各位香港市民:\n",
    "\n",
    "狮子山下,同舟共济,大家放开彼此矛盾,一起追求理想,是我们珍惜的香港;自回归以来,香港是中华人民共和国一个享有高度自治、直辖于中央人民政府的特别行政区,拥有“一国两制”的独特优势。\n",
    "\n",
    "过去一年,香港社会饱受创伤,暴徒的暴力不断升级,私藏枪械及弹药,制造爆炸物品,构成恐怖主义风险。反对势力及鼓吹“港独”、“自决”等组织公然挑战中央和特区政府的政权,乞求境外势力干预香港事务,甚至制裁,罔顾国家和港人利益。同时,外部势力介入香港事务变本加厉,通过关于香港的法律,并公然美化激进份子的违法行为,严重危害国家主权安全和发展利益。香港已经成为国家安全的缺口,自身的繁荣稳定亦岌岌可危。\n",
    "\n",
    "可惜的是,目前香港维护国家安全的法律制度和执行机制并不完备,甚至是处于“不设防”的状况;香港回归祖国23年,仍未能按《基本法》第二十三条自行立法禁止危害国家安全的行为。以目前的政治形势和社会状况,香港特区的行政和立法机关将难以在可见时间内完成维护国家安全的立法工作。现在全国人民代表大会根据《中华人民共和国宪法》和《基本法》,从国家层面建立健全香港特区维护国家安全的法律制度和执行机制,是切实履行中央的权力和责任,也是对准确贯彻落实“一国两制”的担当和对香港市民的关爱。立法既有必要性,也有紧迫性,其合宪、合法、合情、合理的基础无可置疑。\n",
    "\n",
    "立法的目的是切实防范、制止和惩治任何分裂国家、颠覆国家政权、组织实施恐怖活动等严重危害国家安全的行为和活动,以及外国和境外势力干预香港特区事务的活动。打击的是极少数的违法犯罪行为和活动,保护的是绝大多数市民的生命财产、基本权利和自由。市民可继续依法享有言论、新闻、集会、示威、游行、出入境等自由,任何有关的执法,都必须严格依照法律规定,符合法定职权,遵循法定程序。\n",
    "\n",
    "各位市民,每个国家都需要有维护国家安全的法律,才能确保长治久安和人民生活稳定。现在中央制定特区维护国家安全法律,就是要让香港社会早日回复安定,重拾经济民生发展,走出困局。\n",
    "\n",
    "我呼吁大家充分理解及坚定支持全国人民代表大会通过的《决定》!\n",
    "\n",
    "林郑月娥\n",
    "\n",
    "香港特别行政区行政长官\"\"\"\n",
    "\n",
    "topK = ja.extract_tags(doc, topK=20)\n",
    "topK"
   ]
  },
  {
   "cell_type": "code",
   "execution_count": 7,
   "metadata": {},
   "outputs": [
    {
     "data": {
      "text/plain": [
       "['国家',\n",
       " '香港',\n",
       " '法律',\n",
       " '维护',\n",
       " '势力',\n",
       " '中央',\n",
       " '香港市民',\n",
       " '享有',\n",
       " '事务',\n",
       " '香港特区',\n",
       " '社会',\n",
       " '组织',\n",
       " '理解',\n",
       " '大家',\n",
       " '政权',\n",
       " '发展',\n",
       " '市民',\n",
       " '干预',\n",
       " '机制',\n",
       " '活动']"
      ]
     },
     "execution_count": 7,
     "metadata": {},
     "output_type": "execute_result"
    }
   ],
   "source": [
    "topK = ja.textrank(doc, topK=20)\n",
    "topK"
   ]
  },
  {
   "cell_type": "code",
   "execution_count": null,
   "metadata": {},
   "outputs": [],
   "source": []
  }
 ],
 "metadata": {
  "kernelspec": {
   "display_name": "Python 3",
   "language": "python",
   "name": "python3"
  },
  "language_info": {
   "codemirror_mode": {
    "name": "ipython",
    "version": 3
   },
   "file_extension": ".py",
   "mimetype": "text/x-python",
   "name": "python",
   "nbconvert_exporter": "python",
   "pygments_lexer": "ipython3",
   "version": "3.7.7"
  }
 },
 "nbformat": 4,
 "nbformat_minor": 4
}
