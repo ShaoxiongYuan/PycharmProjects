{
 "cells": [
  {
   "cell_type": "code",
   "execution_count": 1,
   "metadata": {},
   "outputs": [],
   "source": [
    "import numpy as np\n",
    "import pandas as pd\n",
    "import matplotlib.pyplot as plt\n",
    "import seaborn as sns"
   ]
  },
  {
   "cell_type": "code",
   "execution_count": 2,
   "metadata": {},
   "outputs": [],
   "source": [
    "%matplotlib inline"
   ]
  },
  {
   "cell_type": "code",
   "execution_count": 3,
   "metadata": {},
   "outputs": [],
   "source": [
    "import sklearn.datasets as sd\n",
    "import sklearn.utils as su\n",
    "import sklearn.metrics as sm\n",
    "import sklearn.model_selection as ms\n",
    "import sklearn.preprocessing as sp\n",
    "import sklearn.pipeline as pl\n",
    "import sklearn.tree as st\n",
    "import sklearn.ensemble as se\n",
    "import sklearn.linear_model as lm\n",
    "import sklearn.svm as svm\n",
    "import sklearn.naive_bayes as nb\n",
    "import sklearn.cluster as sc"
   ]
  },
  {
   "cell_type": "code",
   "execution_count": 6,
   "metadata": {},
   "outputs": [
    {
     "data": {
      "text/html": [
       "<div>\n",
       "<style scoped>\n",
       "    .dataframe tbody tr th:only-of-type {\n",
       "        vertical-align: middle;\n",
       "    }\n",
       "\n",
       "    .dataframe tbody tr th {\n",
       "        vertical-align: top;\n",
       "    }\n",
       "\n",
       "    .dataframe thead th {\n",
       "        text-align: right;\n",
       "    }\n",
       "</style>\n",
       "<table border=\"1\" class=\"dataframe\">\n",
       "  <thead>\n",
       "    <tr style=\"text-align: right;\">\n",
       "      <th></th>\n",
       "      <th>Date(UTC)</th>\n",
       "      <th>Latitude</th>\n",
       "      <th>Longitude</th>\n",
       "      <th>Depth</th>\n",
       "      <th>Magnitude</th>\n",
       "    </tr>\n",
       "  </thead>\n",
       "  <tbody>\n",
       "    <tr>\n",
       "      <th>0</th>\n",
       "      <td>2018-10-14 15:08:32</td>\n",
       "      <td>36.8578</td>\n",
       "      <td>44.4161</td>\n",
       "      <td>16.97</td>\n",
       "      <td>4.0</td>\n",
       "    </tr>\n",
       "    <tr>\n",
       "      <th>1</th>\n",
       "      <td>2018-10-10 09:08:24</td>\n",
       "      <td>37.4341</td>\n",
       "      <td>35.8520</td>\n",
       "      <td>7.02</td>\n",
       "      <td>4.1</td>\n",
       "    </tr>\n",
       "    <tr>\n",
       "      <th>2</th>\n",
       "      <td>2018-10-02 15:29:03</td>\n",
       "      <td>37.6878</td>\n",
       "      <td>37.4016</td>\n",
       "      <td>10.27</td>\n",
       "      <td>4.4</td>\n",
       "    </tr>\n",
       "    <tr>\n",
       "      <th>3</th>\n",
       "      <td>2018-09-28 00:26:32</td>\n",
       "      <td>37.2003</td>\n",
       "      <td>30.4376</td>\n",
       "      <td>78.07</td>\n",
       "      <td>4.0</td>\n",
       "    </tr>\n",
       "    <tr>\n",
       "      <th>4</th>\n",
       "      <td>2018-09-26 02:52:21</td>\n",
       "      <td>35.6846</td>\n",
       "      <td>26.7266</td>\n",
       "      <td>42.77</td>\n",
       "      <td>4.5</td>\n",
       "    </tr>\n",
       "  </tbody>\n",
       "</table>\n",
       "</div>"
      ],
      "text/plain": [
       "             Date(UTC)  Latitude  Longitude  Depth  Magnitude\n",
       "0  2018-10-14 15:08:32   36.8578    44.4161  16.97        4.0\n",
       "1  2018-10-10 09:08:24   37.4341    35.8520   7.02        4.1\n",
       "2  2018-10-02 15:29:03   37.6878    37.4016  10.27        4.4\n",
       "3  2018-09-28 00:26:32   37.2003    30.4376  78.07        4.0\n",
       "4  2018-09-26 02:52:21   35.6846    26.7266  42.77        4.5"
      ]
     },
     "execution_count": 6,
     "metadata": {},
     "output_type": "execute_result"
    }
   ],
   "source": [
    "data = pd.read_csv(\n",
    "    'Earthquakes.csv',\n",
    "    usecols=['Date(UTC)', 'Latitude', 'Longitude', 'Depth', 'Magnitude'])\n",
    "data.head()"
   ]
  },
  {
   "cell_type": "code",
   "execution_count": 7,
   "metadata": {},
   "outputs": [
    {
     "data": {
      "text/html": [
       "<div>\n",
       "<style scoped>\n",
       "    .dataframe tbody tr th:only-of-type {\n",
       "        vertical-align: middle;\n",
       "    }\n",
       "\n",
       "    .dataframe tbody tr th {\n",
       "        vertical-align: top;\n",
       "    }\n",
       "\n",
       "    .dataframe thead th {\n",
       "        text-align: right;\n",
       "    }\n",
       "</style>\n",
       "<table border=\"1\" class=\"dataframe\">\n",
       "  <thead>\n",
       "    <tr style=\"text-align: right;\">\n",
       "      <th></th>\n",
       "      <th>Latitude</th>\n",
       "      <th>Longitude</th>\n",
       "      <th>Depth</th>\n",
       "      <th>Magnitude</th>\n",
       "    </tr>\n",
       "  </thead>\n",
       "  <tbody>\n",
       "    <tr>\n",
       "      <th>count</th>\n",
       "      <td>6574.000000</td>\n",
       "      <td>6574.000000</td>\n",
       "      <td>6574.000000</td>\n",
       "      <td>6574.000000</td>\n",
       "    </tr>\n",
       "    <tr>\n",
       "      <th>mean</th>\n",
       "      <td>38.461697</td>\n",
       "      <td>33.084180</td>\n",
       "      <td>24.983027</td>\n",
       "      <td>4.467600</td>\n",
       "    </tr>\n",
       "    <tr>\n",
       "      <th>std</th>\n",
       "      <td>1.634089</td>\n",
       "      <td>6.280525</td>\n",
       "      <td>27.758711</td>\n",
       "      <td>0.485719</td>\n",
       "    </tr>\n",
       "    <tr>\n",
       "      <th>min</th>\n",
       "      <td>35.670000</td>\n",
       "      <td>25.850000</td>\n",
       "      <td>0.000000</td>\n",
       "      <td>4.000000</td>\n",
       "    </tr>\n",
       "    <tr>\n",
       "      <th>25%</th>\n",
       "      <td>36.992250</td>\n",
       "      <td>27.805475</td>\n",
       "      <td>10.000000</td>\n",
       "      <td>4.100000</td>\n",
       "    </tr>\n",
       "    <tr>\n",
       "      <th>50%</th>\n",
       "      <td>38.621150</td>\n",
       "      <td>30.159500</td>\n",
       "      <td>13.000000</td>\n",
       "      <td>4.300000</td>\n",
       "    </tr>\n",
       "    <tr>\n",
       "      <th>75%</th>\n",
       "      <td>39.565500</td>\n",
       "      <td>39.256775</td>\n",
       "      <td>33.000000</td>\n",
       "      <td>4.700000</td>\n",
       "    </tr>\n",
       "    <tr>\n",
       "      <th>max</th>\n",
       "      <td>42.386900</td>\n",
       "      <td>45.149500</td>\n",
       "      <td>212.000000</td>\n",
       "      <td>7.900000</td>\n",
       "    </tr>\n",
       "  </tbody>\n",
       "</table>\n",
       "</div>"
      ],
      "text/plain": [
       "          Latitude    Longitude        Depth    Magnitude\n",
       "count  6574.000000  6574.000000  6574.000000  6574.000000\n",
       "mean     38.461697    33.084180    24.983027     4.467600\n",
       "std       1.634089     6.280525    27.758711     0.485719\n",
       "min      35.670000    25.850000     0.000000     4.000000\n",
       "25%      36.992250    27.805475    10.000000     4.100000\n",
       "50%      38.621150    30.159500    13.000000     4.300000\n",
       "75%      39.565500    39.256775    33.000000     4.700000\n",
       "max      42.386900    45.149500   212.000000     7.900000"
      ]
     },
     "execution_count": 7,
     "metadata": {},
     "output_type": "execute_result"
    }
   ],
   "source": [
    "data.describe()"
   ]
  },
  {
   "cell_type": "code",
   "execution_count": 15,
   "metadata": {},
   "outputs": [
    {
     "data": {
      "text/plain": [
       "<matplotlib.axes._subplots.AxesSubplot at 0x1e2daf647c8>"
      ]
     },
     "execution_count": 15,
     "metadata": {},
     "output_type": "execute_result"
    },
    {
     "data": {
      "image/png": "[encoded data removed]",
      "text/plain": [
       "<Figure size 432x288 with 1 Axes>"
      ]
     },
     "metadata": {
      "needs_background": "light"
     },
     "output_type": "display_data"
    }
   ],
   "source": [
    "mask = data['Magnitude'] > 5.5\n",
    "data = data[mask]\n",
    "data.plot.scatter(x='Longitude', y='Latitude', s=50)"
   ]
  },
  {
   "cell_type": "code",
   "execution_count": 24,
   "metadata": {},
   "outputs": [
    {
     "data": {
      "text/plain": [
       "<matplotlib.axes._subplots.AxesSubplot at 0x1e2da9ee408>"
      ]
     },
     "execution_count": 24,
     "metadata": {},
     "output_type": "execute_result"
    },
    {
     "data": {
      "image/png": "[encoded data removed]",
      "text/plain": [
       "<Figure size 432x288 with 2 Axes>"
      ]
     },
     "metadata": {
      "needs_background": "light"
     },
     "output_type": "display_data"
    }
   ],
   "source": [
    "train_data = data[['Latitude', 'Longitude']]\n",
    "eps = np.arange(0.2, 2.0, 0.1)\n",
    "for epsilon in eps:\n",
    "    model = sc.DBSCAN(eps=epsilon, min_samples=5)\n",
    "    model.fit(train_data)\n",
    "    labels = model.labels_\n",
    "    score = sm.silhouette_score(train_data,\n",
    "                                labels,\n",
    "                                sample_size=len(train_data),\n",
    "                                metric='euclidean')\n",
    "#     print(epsilon, score)\n",
    "\n",
    "model = sc.DBSCAN(eps=1.3, min_samples=5)\n",
    "model.fit(train_data)\n",
    "labels = model.labels_\n",
    "train_data.plot.scatter('Longitude', 'Latitude', s=50, c=labels, cmap='brg')"
   ]
  },
  {
   "cell_type": "code",
   "execution_count": null,
   "metadata": {},
   "outputs": [],
   "source": []
  }
 ],
 "metadata": {
  "kernelspec": {
   "display_name": "Python 3",
   "language": "python",
   "name": "python3"
  },
  "language_info": {
   "codemirror_mode": {
    "name": "ipython",
    "version": 3
   },
   "file_extension": ".py",
   "mimetype": "text/x-python",
   "name": "python",
   "nbconvert_exporter": "python",
   "pygments_lexer": "ipython3",
   "version": "3.7.7"
  }
 },
 "nbformat": 4,
 "nbformat_minor": 4
}
